{
 "cells": [
  {
   "cell_type": "code",
   "execution_count": 6,
   "id": "db88002d-8fd0-4469-86f1-497c9b8a896b",
   "metadata": {
    "tags": []
   },
   "outputs": [],
   "source": [
    "import io\n",
    "import matplotlib.pyplot as plt\n",
    "import tensorflow as tf\n",
    "from tensorflow import keras\n",
    "from tensorflow.keras import layers"
   ]
  },
  {
   "cell_type": "code",
   "execution_count": 9,
   "id": "751c1652-b98c-4da9-8bbe-b8a35ede222c",
   "metadata": {
    "tags": []
   },
   "outputs": [],
   "source": [
    "import pandas as pd\n",
    "import numpy as np"
   ]
  },
  {
   "cell_type": "code",
   "execution_count": 10,
   "id": "a94328cf-d124-4f9a-a741-e13c3a477568",
   "metadata": {
    "tags": []
   },
   "outputs": [],
   "source": [
    "data = pd.read_csv(\"IMDB Dataset.csv\")"
   ]
  },
  {
   "cell_type": "code",
   "execution_count": 11,
   "id": "8bd7e93f-afd1-4c59-b309-fa50420e0de1",
   "metadata": {
    "tags": []
   },
   "outputs": [
    {
     "data": {
      "text/html": [
       "<div>\n",
       "<style scoped>\n",
       "    .dataframe tbody tr th:only-of-type {\n",
       "        vertical-align: middle;\n",
       "    }\n",
       "\n",
       "    .dataframe tbody tr th {\n",
       "        vertical-align: top;\n",
       "    }\n",
       "\n",
       "    .dataframe thead th {\n",
       "        text-align: right;\n",
       "    }\n",
       "</style>\n",
       "<table border=\"1\" class=\"dataframe\">\n",
       "  <thead>\n",
       "    <tr style=\"text-align: right;\">\n",
       "      <th></th>\n",
       "      <th>review</th>\n",
       "      <th>sentiment</th>\n",
       "    </tr>\n",
       "  </thead>\n",
       "  <tbody>\n",
       "    <tr>\n",
       "      <th>0</th>\n",
       "      <td>One of the other reviewers has mentioned that ...</td>\n",
       "      <td>positive</td>\n",
       "    </tr>\n",
       "    <tr>\n",
       "      <th>1</th>\n",
       "      <td>A wonderful little production. &lt;br /&gt;&lt;br /&gt;The...</td>\n",
       "      <td>positive</td>\n",
       "    </tr>\n",
       "    <tr>\n",
       "      <th>2</th>\n",
       "      <td>I thought this was a wonderful way to spend ti...</td>\n",
       "      <td>positive</td>\n",
       "    </tr>\n",
       "    <tr>\n",
       "      <th>3</th>\n",
       "      <td>Basically there's a family where a little boy ...</td>\n",
       "      <td>negative</td>\n",
       "    </tr>\n",
       "    <tr>\n",
       "      <th>4</th>\n",
       "      <td>Petter Mattei's \"Love in the Time of Money\" is...</td>\n",
       "      <td>positive</td>\n",
       "    </tr>\n",
       "    <tr>\n",
       "      <th>...</th>\n",
       "      <td>...</td>\n",
       "      <td>...</td>\n",
       "    </tr>\n",
       "    <tr>\n",
       "      <th>49995</th>\n",
       "      <td>I thought this movie did a down right good job...</td>\n",
       "      <td>positive</td>\n",
       "    </tr>\n",
       "    <tr>\n",
       "      <th>49996</th>\n",
       "      <td>Bad plot, bad dialogue, bad acting, idiotic di...</td>\n",
       "      <td>negative</td>\n",
       "    </tr>\n",
       "    <tr>\n",
       "      <th>49997</th>\n",
       "      <td>I am a Catholic taught in parochial elementary...</td>\n",
       "      <td>negative</td>\n",
       "    </tr>\n",
       "    <tr>\n",
       "      <th>49998</th>\n",
       "      <td>I'm going to have to disagree with the previou...</td>\n",
       "      <td>negative</td>\n",
       "    </tr>\n",
       "    <tr>\n",
       "      <th>49999</th>\n",
       "      <td>No one expects the Star Trek movies to be high...</td>\n",
       "      <td>negative</td>\n",
       "    </tr>\n",
       "  </tbody>\n",
       "</table>\n",
       "<p>50000 rows × 2 columns</p>\n",
       "</div>"
      ],
      "text/plain": [
       "                                                  review sentiment\n",
       "0      One of the other reviewers has mentioned that ...  positive\n",
       "1      A wonderful little production. <br /><br />The...  positive\n",
       "2      I thought this was a wonderful way to spend ti...  positive\n",
       "3      Basically there's a family where a little boy ...  negative\n",
       "4      Petter Mattei's \"Love in the Time of Money\" is...  positive\n",
       "...                                                  ...       ...\n",
       "49995  I thought this movie did a down right good job...  positive\n",
       "49996  Bad plot, bad dialogue, bad acting, idiotic di...  negative\n",
       "49997  I am a Catholic taught in parochial elementary...  negative\n",
       "49998  I'm going to have to disagree with the previou...  negative\n",
       "49999  No one expects the Star Trek movies to be high...  negative\n",
       "\n",
       "[50000 rows x 2 columns]"
      ]
     },
     "execution_count": 11,
     "metadata": {},
     "output_type": "execute_result"
    }
   ],
   "source": [
    "data"
   ]
  },
  {
   "cell_type": "code",
   "execution_count": 12,
   "id": "aee7b942-5793-4def-9226-d8ea85d85dbe",
   "metadata": {
    "tags": []
   },
   "outputs": [
    {
     "data": {
      "text/plain": [
       "positive    25000\n",
       "negative    25000\n",
       "Name: sentiment, dtype: int64"
      ]
     },
     "execution_count": 12,
     "metadata": {},
     "output_type": "execute_result"
    }
   ],
   "source": [
    "data.sentiment.value_counts()"
   ]
  },
  {
   "cell_type": "code",
   "execution_count": 15,
   "id": "e66d232b-38d6-4644-a5e5-6d75814169cb",
   "metadata": {
    "tags": []
   },
   "outputs": [],
   "source": [
    "from sklearn.preprocessing import LabelEncoder\n",
    "le = LabelEncoder()"
   ]
  },
  {
   "cell_type": "code",
   "execution_count": 16,
   "id": "d8e29c1f-01ba-4dbe-85d0-521765e3445a",
   "metadata": {
    "tags": []
   },
   "outputs": [],
   "source": [
    "data.sentiment = le.fit_transform(data.sentiment)"
   ]
  },
  {
   "cell_type": "code",
   "execution_count": 17,
   "id": "069600a0-d55d-4227-812e-764e596607e5",
   "metadata": {
    "tags": []
   },
   "outputs": [
    {
     "data": {
      "text/html": [
       "<div>\n",
       "<style scoped>\n",
       "    .dataframe tbody tr th:only-of-type {\n",
       "        vertical-align: middle;\n",
       "    }\n",
       "\n",
       "    .dataframe tbody tr th {\n",
       "        vertical-align: top;\n",
       "    }\n",
       "\n",
       "    .dataframe thead th {\n",
       "        text-align: right;\n",
       "    }\n",
       "</style>\n",
       "<table border=\"1\" class=\"dataframe\">\n",
       "  <thead>\n",
       "    <tr style=\"text-align: right;\">\n",
       "      <th></th>\n",
       "      <th>review</th>\n",
       "      <th>sentiment</th>\n",
       "    </tr>\n",
       "  </thead>\n",
       "  <tbody>\n",
       "    <tr>\n",
       "      <th>0</th>\n",
       "      <td>One of the other reviewers has mentioned that ...</td>\n",
       "      <td>1</td>\n",
       "    </tr>\n",
       "    <tr>\n",
       "      <th>1</th>\n",
       "      <td>A wonderful little production. &lt;br /&gt;&lt;br /&gt;The...</td>\n",
       "      <td>1</td>\n",
       "    </tr>\n",
       "    <tr>\n",
       "      <th>2</th>\n",
       "      <td>I thought this was a wonderful way to spend ti...</td>\n",
       "      <td>1</td>\n",
       "    </tr>\n",
       "    <tr>\n",
       "      <th>3</th>\n",
       "      <td>Basically there's a family where a little boy ...</td>\n",
       "      <td>0</td>\n",
       "    </tr>\n",
       "    <tr>\n",
       "      <th>4</th>\n",
       "      <td>Petter Mattei's \"Love in the Time of Money\" is...</td>\n",
       "      <td>1</td>\n",
       "    </tr>\n",
       "    <tr>\n",
       "      <th>...</th>\n",
       "      <td>...</td>\n",
       "      <td>...</td>\n",
       "    </tr>\n",
       "    <tr>\n",
       "      <th>49995</th>\n",
       "      <td>I thought this movie did a down right good job...</td>\n",
       "      <td>1</td>\n",
       "    </tr>\n",
       "    <tr>\n",
       "      <th>49996</th>\n",
       "      <td>Bad plot, bad dialogue, bad acting, idiotic di...</td>\n",
       "      <td>0</td>\n",
       "    </tr>\n",
       "    <tr>\n",
       "      <th>49997</th>\n",
       "      <td>I am a Catholic taught in parochial elementary...</td>\n",
       "      <td>0</td>\n",
       "    </tr>\n",
       "    <tr>\n",
       "      <th>49998</th>\n",
       "      <td>I'm going to have to disagree with the previou...</td>\n",
       "      <td>0</td>\n",
       "    </tr>\n",
       "    <tr>\n",
       "      <th>49999</th>\n",
       "      <td>No one expects the Star Trek movies to be high...</td>\n",
       "      <td>0</td>\n",
       "    </tr>\n",
       "  </tbody>\n",
       "</table>\n",
       "<p>50000 rows × 2 columns</p>\n",
       "</div>"
      ],
      "text/plain": [
       "                                                  review  sentiment\n",
       "0      One of the other reviewers has mentioned that ...          1\n",
       "1      A wonderful little production. <br /><br />The...          1\n",
       "2      I thought this was a wonderful way to spend ti...          1\n",
       "3      Basically there's a family where a little boy ...          0\n",
       "4      Petter Mattei's \"Love in the Time of Money\" is...          1\n",
       "...                                                  ...        ...\n",
       "49995  I thought this movie did a down right good job...          1\n",
       "49996  Bad plot, bad dialogue, bad acting, idiotic di...          0\n",
       "49997  I am a Catholic taught in parochial elementary...          0\n",
       "49998  I'm going to have to disagree with the previou...          0\n",
       "49999  No one expects the Star Trek movies to be high...          0\n",
       "\n",
       "[50000 rows x 2 columns]"
      ]
     },
     "execution_count": 17,
     "metadata": {},
     "output_type": "execute_result"
    }
   ],
   "source": [
    "data"
   ]
  },
  {
   "cell_type": "code",
   "execution_count": 39,
   "id": "db28ba48-c0ac-4a32-bd3b-e0301b51d651",
   "metadata": {
    "tags": []
   },
   "outputs": [],
   "source": [
    "from sklearn.model_selection import train_test_split\n",
    "train_sen ,val_sen ,train_lab ,val_lab  = train_test_split(data.review.to_numpy(),\n",
    "                                                           data.sentiment.to_numpy(),\n",
    "                                                           test_size=0.3, random_state=42)"
   ]
  },
  {
   "cell_type": "code",
   "execution_count": 40,
   "id": "62256570-b5d1-460b-a906-269f450dd89e",
   "metadata": {
    "tags": []
   },
   "outputs": [
    {
     "data": {
      "text/plain": [
       "35000"
      ]
     },
     "execution_count": 40,
     "metadata": {},
     "output_type": "execute_result"
    }
   ],
   "source": [
    "len(train_sen)"
   ]
  },
  {
   "cell_type": "code",
   "execution_count": 41,
   "id": "ae2d89f0-0267-4797-b733-07d0635beda9",
   "metadata": {
    "tags": []
   },
   "outputs": [],
   "source": [
    "import tensorflow as tf\n",
    "from tensorflow.keras.layers.experimental.preprocessing import TextVectorization"
   ]
  },
  {
   "cell_type": "code",
   "execution_count": 42,
   "id": "3ee34727-3025-48f4-8f3e-8dcba9400bee",
   "metadata": {
    "tags": []
   },
   "outputs": [],
   "source": [
    "text_vectorizer = TextVectorization(max_tokens=12000, \n",
    "                                    standardize=\"lower_and_strip_punctuation\",\n",
    "                                    split = \"whitespace\",\n",
    "                                    ngrams=None,output_mode = \"int\", output_sequence_length = None, pad_to_max_tokens=True)"
   ]
  },
  {
   "cell_type": "code",
   "execution_count": 43,
   "id": "386b4290-2068-492b-83c7-704eb4a8e496",
   "metadata": {
    "tags": []
   },
   "outputs": [],
   "source": [
    "text_vectorizer.adapt(train_sen)"
   ]
  },
  {
   "cell_type": "code",
   "execution_count": 44,
   "id": "af028dbe-15db-4204-8751-ed3a7c525c32",
   "metadata": {
    "tags": []
   },
   "outputs": [
    {
     "data": {
      "text/plain": [
       "array(['As much as I love trains, I couldn\\'t stomach this movie. The premise that one could steal a locomotive and \"drive\" from Arkansas to Chicago without hitting another train along the way has to be right up there on the Impossible Plot lines hit board. Imagine two disgruntled NASA employees stealing the \"crawler\" that totes the shuttles to and fro and driving it to New York and you get the idea.<br /><br />Having said all that, it\\'s a nice try. Wilford Brimely is at his Quaker Oats best, and Levon Helm turns a good performance as his dimwitted but well-meaning sidekick. Bob Balaban is suitably wormy as the Corporate Guy, and the \"little guy takes on Goliath\" story gets another airing.',\n",
       "       \"This was a very good PPV, but like Wrestlemania XX some 14 years later, the WWE crammed so many matches on it, some of the matches were useless. I'm not going to go through every match on the card because it would take forever to do.<br /><br />However major highlights included the HUGE pop for Demolition winning the tag team belts from Haku and Andre the Giant, The first ever mixed tag match featuring Randy Savage and Sensational Queen Sherri vs Dusty Rhodes and the late Sapphire and the first ever clash between The Ultimate Warrior and Hulk Hogan.<br /><br />Some matches were a complete waste of time. Like The Bolsheviks vs The Hart Foundation was only about 40 seconds long, Koko B Ware vs Rick Martel was short and Big Bossman vs Akeem was too short.<br /><br />Mr Perfect vs Brutus Beefcake and Ted DiBiase vs Jake 'the snake' Roberts were very good indeed.<br /><br />Overall Grade - B\",\n",
       "       'Not finding the right words is everybody\\'s problem in this vaudeville-type urban comedy. They don\\'t know what to say, and they don\\'t know how to say it, which is why they embark on the potentially humiliating enterprise of pre-arranged speed dating. Unfortunately, they all come across as cardboard characters rather than real people. The story follows a conventional three-act structure: getting to know the sizable cast in their sorry single lives, the actual dating circuit, and a final stretch of romantic fallout, showcasing some of the new-found couples\\' follies. Because it\\'s all so predictable, I\\'d say that as a narrative, \"Shoppen\" is a failure. As a comedy, most of the time it\\'s too goofy to be really funny. Thumbs up to Kathrin von Steinburg. She stands out from the soap opera crowd as the aloof, independently wealthy Miriam. Great makeup on her too (Verena Weißert): Heavy eye shadow meets skin-tone lip gloss, creating a brooding and bohemian, yet girlish effect. Thumbs up also to Stefan Zinner as the Bavarian love machine and Tanja Schleiff as the hot nutritionist. They bypass the communication challenge by way of the timeless body language of copulation.',\n",
       "       ...,\n",
       "       \"Avoid this one! It is a terrible movie. So what if it is very exciting? All it is is just pointless murders. And the whole thing with Thorn and Michael's curse, that was the absolute worst thing they could possibly do to the series! Why couldn't they leave Michael's story a mystery? He's supposed to be the Boogeyman, not part of some stupid cult!! Ugh! Thank God for Halloween H20, which wiped out Halloween 3-6! They all sucked! But anyway, if you see this movie, please expect no more than pointless murders and gore.\",\n",
       "       \"This production was quite a surprise for me. I absolutely love obscure early 30s movies, but I wasn't prepared for the last 25 minutes of this story. If, by any chance, you're not convinced in the first half, hang in there for the finale. Of course, you must look at the blatant racism as being purely topical. A fascinating viewing experience, but I think THE CAT'S PAW is not available on video/DVD yet. Watch your PBS listings!\",\n",
       "       'This is a decent movie. Although little bit short in time for me, it packs a lot of action, grit, commonsense and emotions in that time frame. Matt Dillon and the other main character does a great job in this movie. The emotions and intensity were convincing and tense throughout the movie. It is not typical fancy expensive Hollywood CGI action movie, but it was a very satisfying movie indeed for the price. My evening was great because of this movie. This movie is straight traditional action movie with great acting, story and directing. I would recommend this movie. The character development of the characters were good and makes you believe that were are actually seeing a real event taking place. Because this movie I believe was made with cheaper budget, the acting and quality were much higher.'],\n",
       "      dtype=object)"
      ]
     },
     "execution_count": 44,
     "metadata": {},
     "output_type": "execute_result"
    }
   ],
   "source": [
    "train_sen"
   ]
  },
  {
   "cell_type": "code",
   "execution_count": 45,
   "id": "5c7238ca-ef9a-433c-a569-a50ad786bb46",
   "metadata": {
    "tags": []
   },
   "outputs": [],
   "source": [
    "words_in_vocab = text_vectorizer.get_vocabulary()\n",
    "top_5_words = words_in_vocab[:5]\n",
    "bottom_5_words = words_in_vocab[-6:]"
   ]
  },
  {
   "cell_type": "code",
   "execution_count": 46,
   "id": "4c835986-f3cf-43c2-857e-776de743fcf7",
   "metadata": {
    "tags": []
   },
   "outputs": [
    {
     "data": {
      "text/plain": [
       "(['', '[UNK]', 'the', 'and', 'a'],\n",
       " ['mattei', 'mathieu', 'mastery', 'massively', 'masquerading', 'lubitsch'],\n",
       " 12000)"
      ]
     },
     "execution_count": 46,
     "metadata": {},
     "output_type": "execute_result"
    }
   ],
   "source": [
    "top_5_words, bottom_5_words, len(words_in_vocab)"
   ]
  },
  {
   "cell_type": "code",
   "execution_count": 47,
   "id": "49e237f5-3dcf-46ff-a22b-645082eae110",
   "metadata": {
    "tags": []
   },
   "outputs": [],
   "source": [
    "#Embedding\n",
    "from tensorflow.keras import layers\n",
    "\n",
    "embedding = layers.Embedding(input_dim=12000, # set the input shape\n",
    "                             output_dim=128, # set the size of the embedding vector\n",
    "                             embeddings_initializer=\"uniform\", # default, initialize embedding vectors randomly\n",
    "                             input_length=15 # how long is each input\n",
    "                             )"
   ]
  },
  {
   "cell_type": "code",
   "execution_count": 48,
   "id": "122510ce-4c1d-4e70-9a76-4808473bcc51",
   "metadata": {
    "tags": []
   },
   "outputs": [
    {
     "data": {
      "text/html": [
       "<style>#sk-container-id-2 {color: black;}#sk-container-id-2 pre{padding: 0;}#sk-container-id-2 div.sk-toggleable {background-color: white;}#sk-container-id-2 label.sk-toggleable__label {cursor: pointer;display: block;width: 100%;margin-bottom: 0;padding: 0.3em;box-sizing: border-box;text-align: center;}#sk-container-id-2 label.sk-toggleable__label-arrow:before {content: \"▸\";float: left;margin-right: 0.25em;color: #696969;}#sk-container-id-2 label.sk-toggleable__label-arrow:hover:before {color: black;}#sk-container-id-2 div.sk-estimator:hover label.sk-toggleable__label-arrow:before {color: black;}#sk-container-id-2 div.sk-toggleable__content {max-height: 0;max-width: 0;overflow: hidden;text-align: left;background-color: #f0f8ff;}#sk-container-id-2 div.sk-toggleable__content pre {margin: 0.2em;color: black;border-radius: 0.25em;background-color: #f0f8ff;}#sk-container-id-2 input.sk-toggleable__control:checked~div.sk-toggleable__content {max-height: 200px;max-width: 100%;overflow: auto;}#sk-container-id-2 input.sk-toggleable__control:checked~label.sk-toggleable__label-arrow:before {content: \"▾\";}#sk-container-id-2 div.sk-estimator input.sk-toggleable__control:checked~label.sk-toggleable__label {background-color: #d4ebff;}#sk-container-id-2 div.sk-label input.sk-toggleable__control:checked~label.sk-toggleable__label {background-color: #d4ebff;}#sk-container-id-2 input.sk-hidden--visually {border: 0;clip: rect(1px 1px 1px 1px);clip: rect(1px, 1px, 1px, 1px);height: 1px;margin: -1px;overflow: hidden;padding: 0;position: absolute;width: 1px;}#sk-container-id-2 div.sk-estimator {font-family: monospace;background-color: #f0f8ff;border: 1px dotted black;border-radius: 0.25em;box-sizing: border-box;margin-bottom: 0.5em;}#sk-container-id-2 div.sk-estimator:hover {background-color: #d4ebff;}#sk-container-id-2 div.sk-parallel-item::after {content: \"\";width: 100%;border-bottom: 1px solid gray;flex-grow: 1;}#sk-container-id-2 div.sk-label:hover label.sk-toggleable__label {background-color: #d4ebff;}#sk-container-id-2 div.sk-serial::before {content: \"\";position: absolute;border-left: 1px solid gray;box-sizing: border-box;top: 0;bottom: 0;left: 50%;z-index: 0;}#sk-container-id-2 div.sk-serial {display: flex;flex-direction: column;align-items: center;background-color: white;padding-right: 0.2em;padding-left: 0.2em;position: relative;}#sk-container-id-2 div.sk-item {position: relative;z-index: 1;}#sk-container-id-2 div.sk-parallel {display: flex;align-items: stretch;justify-content: center;background-color: white;position: relative;}#sk-container-id-2 div.sk-item::before, #sk-container-id-2 div.sk-parallel-item::before {content: \"\";position: absolute;border-left: 1px solid gray;box-sizing: border-box;top: 0;bottom: 0;left: 50%;z-index: -1;}#sk-container-id-2 div.sk-parallel-item {display: flex;flex-direction: column;z-index: 1;position: relative;background-color: white;}#sk-container-id-2 div.sk-parallel-item:first-child::after {align-self: flex-end;width: 50%;}#sk-container-id-2 div.sk-parallel-item:last-child::after {align-self: flex-start;width: 50%;}#sk-container-id-2 div.sk-parallel-item:only-child::after {width: 0;}#sk-container-id-2 div.sk-dashed-wrapped {border: 1px dashed gray;margin: 0 0.4em 0.5em 0.4em;box-sizing: border-box;padding-bottom: 0.4em;background-color: white;}#sk-container-id-2 div.sk-label label {font-family: monospace;font-weight: bold;display: inline-block;line-height: 1.2em;}#sk-container-id-2 div.sk-label-container {text-align: center;}#sk-container-id-2 div.sk-container {/* jupyter's `normalize.less` sets `[hidden] { display: none; }` but bootstrap.min.css set `[hidden] { display: none !important; }` so we also need the `!important` here to be able to override the default hidden behavior on the sphinx rendered scikit-learn.org. See: https://github.com/scikit-learn/scikit-learn/issues/21755 */display: inline-block !important;position: relative;}#sk-container-id-2 div.sk-text-repr-fallback {display: none;}</style><div id=\"sk-container-id-2\" class=\"sk-top-container\"><div class=\"sk-text-repr-fallback\"><pre>Pipeline(steps=[(&#x27;tfidf&#x27;, TfidfVectorizer()), (&#x27;clf&#x27;, MultinomialNB())])</pre><b>In a Jupyter environment, please rerun this cell to show the HTML representation or trust the notebook. <br />On GitHub, the HTML representation is unable to render, please try loading this page with nbviewer.org.</b></div><div class=\"sk-container\" hidden><div class=\"sk-item sk-dashed-wrapped\"><div class=\"sk-label-container\"><div class=\"sk-label sk-toggleable\"><input class=\"sk-toggleable__control sk-hidden--visually\" id=\"sk-estimator-id-4\" type=\"checkbox\" ><label for=\"sk-estimator-id-4\" class=\"sk-toggleable__label sk-toggleable__label-arrow\">Pipeline</label><div class=\"sk-toggleable__content\"><pre>Pipeline(steps=[(&#x27;tfidf&#x27;, TfidfVectorizer()), (&#x27;clf&#x27;, MultinomialNB())])</pre></div></div></div><div class=\"sk-serial\"><div class=\"sk-item\"><div class=\"sk-estimator sk-toggleable\"><input class=\"sk-toggleable__control sk-hidden--visually\" id=\"sk-estimator-id-5\" type=\"checkbox\" ><label for=\"sk-estimator-id-5\" class=\"sk-toggleable__label sk-toggleable__label-arrow\">TfidfVectorizer</label><div class=\"sk-toggleable__content\"><pre>TfidfVectorizer()</pre></div></div></div><div class=\"sk-item\"><div class=\"sk-estimator sk-toggleable\"><input class=\"sk-toggleable__control sk-hidden--visually\" id=\"sk-estimator-id-6\" type=\"checkbox\" ><label for=\"sk-estimator-id-6\" class=\"sk-toggleable__label sk-toggleable__label-arrow\">MultinomialNB</label><div class=\"sk-toggleable__content\"><pre>MultinomialNB()</pre></div></div></div></div></div></div></div>"
      ],
      "text/plain": [
       "Pipeline(steps=[('tfidf', TfidfVectorizer()), ('clf', MultinomialNB())])"
      ]
     },
     "execution_count": 48,
     "metadata": {},
     "output_type": "execute_result"
    }
   ],
   "source": [
    "from sklearn.feature_extraction.text import TfidfVectorizer\n",
    "from sklearn.naive_bayes import MultinomialNB\n",
    "from sklearn.pipeline import Pipeline\n",
    "\n",
    "model_0 = Pipeline([\n",
    "    (\"tfidf\",TfidfVectorizer()),\n",
    "    (\"clf\", MultinomialNB())\n",
    "])\n",
    "\n",
    "model_0.fit(train_sen, train_lab )"
   ]
  },
  {
   "cell_type": "code",
   "execution_count": 49,
   "id": "d39c64ae-4d40-4c13-92c9-bd9a15915dcd",
   "metadata": {
    "tags": []
   },
   "outputs": [
    {
     "data": {
      "text/plain": [
       "0.8608666666666667"
      ]
     },
     "execution_count": 49,
     "metadata": {},
     "output_type": "execute_result"
    }
   ],
   "source": [
    "model_0.score(val_sen,  val_lab)"
   ]
  },
  {
   "cell_type": "code",
   "execution_count": null,
   "id": "de1d9104-9409-4429-8fde-21c94c915f5d",
   "metadata": {
    "tags": []
   },
   "outputs": [],
   "source": []
  },
  {
   "cell_type": "code",
   "execution_count": null,
   "id": "8b5f80e3-e358-4f54-ae6d-1eea9f7ff054",
   "metadata": {
    "tags": []
   },
   "outputs": [],
   "source": []
  },
  {
   "cell_type": "code",
   "execution_count": 50,
   "id": "edd712ca-5e71-4625-a13e-91c69e54959c",
   "metadata": {
    "tags": []
   },
   "outputs": [
    {
     "name": "stdout",
     "output_type": "stream",
     "text": [
      "Epoch 1/5\n",
      "1094/1094 [==============================] - 244s 221ms/step - loss: 0.4238 - accuracy: 0.8056 - val_loss: 0.2943 - val_accuracy: 0.8774\n",
      "Epoch 2/5\n",
      "1094/1094 [==============================] - 245s 224ms/step - loss: 0.2386 - accuracy: 0.9108 - val_loss: 0.2617 - val_accuracy: 0.9078\n",
      "Epoch 3/5\n",
      "1094/1094 [==============================] - 246s 225ms/step - loss: 0.1648 - accuracy: 0.9419 - val_loss: 0.2583 - val_accuracy: 0.9031\n",
      "Epoch 4/5\n",
      "1094/1094 [==============================] - 246s 225ms/step - loss: 0.1165 - accuracy: 0.9606 - val_loss: 0.2733 - val_accuracy: 0.9016\n",
      "Epoch 5/5\n",
      "1094/1094 [==============================] - 249s 227ms/step - loss: 0.0792 - accuracy: 0.9735 - val_loss: 0.3454 - val_accuracy: 0.8996\n"
     ]
    }
   ],
   "source": [
    "inputs = layers.Input(shape=(1,),dtype=tf.string)\n",
    "x = text_vectorizer(inputs)\n",
    "x = embedding(x)\n",
    "x = layers.GRU(64,return_sequences=True)(x)\n",
    "#x = layers.LSTM(42,return_sequences=True)(x)\n",
    "#x = layers.GRU(99)(x)\n",
    "#x = layers.Dense(64,activation=\"relu\")(x)\n",
    "x = layers.GlobalAveragePooling1D()(x)\n",
    "outputs = layers.Dense(1,activation=\"sigmoid\")(x)\n",
    "model_3 = tf.keras.Model(inputs, outputs, name=\"model_3_GRU\")\n",
    "\n",
    "model_3.compile(loss=\"binary_crossentropy\",\n",
    "               optimizer = \"Adam\",\n",
    "               metrics=[\"accuracy\"])\n",
    "\n",
    "model_3_history = model_3.fit(train_sen,train_lab,epochs=5, validation_data = (val_sen,val_lab))"
   ]
  },
  {
   "cell_type": "code",
   "execution_count": 52,
   "id": "56cec2e3-ae51-458a-984b-c31239814a70",
   "metadata": {
    "tags": []
   },
   "outputs": [
    {
     "name": "stdout",
     "output_type": "stream",
     "text": [
      "Epoch 1/4\n",
      "1094/1094 [==============================] - 345s 313ms/step - loss: 0.2853 - accuracy: 0.8868 - val_loss: 0.2746 - val_accuracy: 0.8941\n",
      "Epoch 2/4\n",
      "1094/1094 [==============================] - 384s 351ms/step - loss: 0.1182 - accuracy: 0.9594 - val_loss: 0.2972 - val_accuracy: 0.8994\n",
      "Epoch 3/4\n",
      "1094/1094 [==============================] - 506s 463ms/step - loss: 0.0668 - accuracy: 0.9797 - val_loss: 0.3584 - val_accuracy: 0.8997\n",
      "Epoch 4/4\n",
      "1094/1094 [==============================] - 403s 368ms/step - loss: 0.0376 - accuracy: 0.9896 - val_loss: 0.3950 - val_accuracy: 0.8957\n"
     ]
    }
   ],
   "source": [
    "#MODEL4 BiDirectional\n",
    "inputs = layers.Input(shape=(1,),dtype=\"string\")\n",
    "x = text_vectorizer(inputs)\n",
    "x = embedding(x)\n",
    "#x = layers.Bidirectional(layers.LSTM(64, return_sequences=True))(x)\n",
    "x = layers.Bidirectional(layers.GRU(64))(x)\n",
    "outputs = layers.Dense(1,activation=\"sigmoid\")(x)\n",
    "model_4 = tf.keras.Model(inputs, outputs,name=\"model_4_bidirectional\")\n",
    "\n",
    "model_4.compile(loss=\"binary_crossentropy\",\n",
    "               optimizer = \"Adam\",\n",
    "               metrics=[\"accuracy\"])\n",
    "\n",
    "model_4_history = model_4.fit(train_sen,train_lab,epochs=4, validation_data=(val_sen,val_lab))"
   ]
  },
  {
   "cell_type": "code",
   "execution_count": null,
   "id": "ef7904b5-b016-4dcf-a5fc-eb6b7d0f03a4",
   "metadata": {
    "tags": []
   },
   "outputs": [],
   "source": []
  },
  {
   "cell_type": "code",
   "execution_count": null,
   "id": "06286660-ced8-4b52-9ec5-a9867b2e23b9",
   "metadata": {},
   "outputs": [],
   "source": []
  }
 ],
 "metadata": {
  "kernelspec": {
   "display_name": "Python 3 (ipykernel)",
   "language": "python",
   "name": "python3"
  },
  "language_info": {
   "codemirror_mode": {
    "name": "ipython",
    "version": 3
   },
   "file_extension": ".py",
   "mimetype": "text/x-python",
   "name": "python",
   "nbconvert_exporter": "python",
   "pygments_lexer": "ipython3",
   "version": "3.11.4"
  }
 },
 "nbformat": 4,
 "nbformat_minor": 5
}
