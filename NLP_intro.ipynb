{
 "cells": [
  {
   "cell_type": "code",
   "execution_count": 1,
   "id": "221ba87d-c843-4baf-a423-118adb994c50",
   "metadata": {
    "tags": []
   },
   "outputs": [],
   "source": [
    "from helper_functions import unzip_data, create_tensorboard_callback, plot_loss_curves, compare_historys"
   ]
  },
  {
   "cell_type": "code",
   "execution_count": 2,
   "id": "477ab9a8-9703-4d67-b712-d57dce05c2f1",
   "metadata": {
    "tags": []
   },
   "outputs": [],
   "source": [
    "unzip_data(\"nlp_getting_started.zip\")"
   ]
  },
  {
   "cell_type": "code",
   "execution_count": 3,
   "id": "7da7d4c8-27b9-4734-ac5c-eacfb43a71d7",
   "metadata": {
    "tags": []
   },
   "outputs": [
    {
     "data": {
      "text/html": [
       "<div>\n",
       "<style scoped>\n",
       "    .dataframe tbody tr th:only-of-type {\n",
       "        vertical-align: middle;\n",
       "    }\n",
       "\n",
       "    .dataframe tbody tr th {\n",
       "        vertical-align: top;\n",
       "    }\n",
       "\n",
       "    .dataframe thead th {\n",
       "        text-align: right;\n",
       "    }\n",
       "</style>\n",
       "<table border=\"1\" class=\"dataframe\">\n",
       "  <thead>\n",
       "    <tr style=\"text-align: right;\">\n",
       "      <th></th>\n",
       "      <th>id</th>\n",
       "      <th>keyword</th>\n",
       "      <th>location</th>\n",
       "      <th>text</th>\n",
       "      <th>target</th>\n",
       "    </tr>\n",
       "  </thead>\n",
       "  <tbody>\n",
       "    <tr>\n",
       "      <th>0</th>\n",
       "      <td>1</td>\n",
       "      <td>NaN</td>\n",
       "      <td>NaN</td>\n",
       "      <td>Our Deeds are the Reason of this #earthquake M...</td>\n",
       "      <td>1</td>\n",
       "    </tr>\n",
       "    <tr>\n",
       "      <th>1</th>\n",
       "      <td>4</td>\n",
       "      <td>NaN</td>\n",
       "      <td>NaN</td>\n",
       "      <td>Forest fire near La Ronge Sask. Canada</td>\n",
       "      <td>1</td>\n",
       "    </tr>\n",
       "    <tr>\n",
       "      <th>2</th>\n",
       "      <td>5</td>\n",
       "      <td>NaN</td>\n",
       "      <td>NaN</td>\n",
       "      <td>All residents asked to 'shelter in place' are ...</td>\n",
       "      <td>1</td>\n",
       "    </tr>\n",
       "    <tr>\n",
       "      <th>3</th>\n",
       "      <td>6</td>\n",
       "      <td>NaN</td>\n",
       "      <td>NaN</td>\n",
       "      <td>13,000 people receive #wildfires evacuation or...</td>\n",
       "      <td>1</td>\n",
       "    </tr>\n",
       "    <tr>\n",
       "      <th>4</th>\n",
       "      <td>7</td>\n",
       "      <td>NaN</td>\n",
       "      <td>NaN</td>\n",
       "      <td>Just got sent this photo from Ruby #Alaska as ...</td>\n",
       "      <td>1</td>\n",
       "    </tr>\n",
       "    <tr>\n",
       "      <th>...</th>\n",
       "      <td>...</td>\n",
       "      <td>...</td>\n",
       "      <td>...</td>\n",
       "      <td>...</td>\n",
       "      <td>...</td>\n",
       "    </tr>\n",
       "    <tr>\n",
       "      <th>7608</th>\n",
       "      <td>10869</td>\n",
       "      <td>NaN</td>\n",
       "      <td>NaN</td>\n",
       "      <td>Two giant cranes holding a bridge collapse int...</td>\n",
       "      <td>1</td>\n",
       "    </tr>\n",
       "    <tr>\n",
       "      <th>7609</th>\n",
       "      <td>10870</td>\n",
       "      <td>NaN</td>\n",
       "      <td>NaN</td>\n",
       "      <td>@aria_ahrary @TheTawniest The out of control w...</td>\n",
       "      <td>1</td>\n",
       "    </tr>\n",
       "    <tr>\n",
       "      <th>7610</th>\n",
       "      <td>10871</td>\n",
       "      <td>NaN</td>\n",
       "      <td>NaN</td>\n",
       "      <td>M1.94 [01:04 UTC]?5km S of Volcano Hawaii. htt...</td>\n",
       "      <td>1</td>\n",
       "    </tr>\n",
       "    <tr>\n",
       "      <th>7611</th>\n",
       "      <td>10872</td>\n",
       "      <td>NaN</td>\n",
       "      <td>NaN</td>\n",
       "      <td>Police investigating after an e-bike collided ...</td>\n",
       "      <td>1</td>\n",
       "    </tr>\n",
       "    <tr>\n",
       "      <th>7612</th>\n",
       "      <td>10873</td>\n",
       "      <td>NaN</td>\n",
       "      <td>NaN</td>\n",
       "      <td>The Latest: More Homes Razed by Northern Calif...</td>\n",
       "      <td>1</td>\n",
       "    </tr>\n",
       "  </tbody>\n",
       "</table>\n",
       "<p>7613 rows × 5 columns</p>\n",
       "</div>"
      ],
      "text/plain": [
       "         id keyword location  \\\n",
       "0         1     NaN      NaN   \n",
       "1         4     NaN      NaN   \n",
       "2         5     NaN      NaN   \n",
       "3         6     NaN      NaN   \n",
       "4         7     NaN      NaN   \n",
       "...     ...     ...      ...   \n",
       "7608  10869     NaN      NaN   \n",
       "7609  10870     NaN      NaN   \n",
       "7610  10871     NaN      NaN   \n",
       "7611  10872     NaN      NaN   \n",
       "7612  10873     NaN      NaN   \n",
       "\n",
       "                                                   text  target  \n",
       "0     Our Deeds are the Reason of this #earthquake M...       1  \n",
       "1                Forest fire near La Ronge Sask. Canada       1  \n",
       "2     All residents asked to 'shelter in place' are ...       1  \n",
       "3     13,000 people receive #wildfires evacuation or...       1  \n",
       "4     Just got sent this photo from Ruby #Alaska as ...       1  \n",
       "...                                                 ...     ...  \n",
       "7608  Two giant cranes holding a bridge collapse int...       1  \n",
       "7609  @aria_ahrary @TheTawniest The out of control w...       1  \n",
       "7610  M1.94 [01:04 UTC]?5km S of Volcano Hawaii. htt...       1  \n",
       "7611  Police investigating after an e-bike collided ...       1  \n",
       "7612  The Latest: More Homes Razed by Northern Calif...       1  \n",
       "\n",
       "[7613 rows x 5 columns]"
      ]
     },
     "execution_count": 3,
     "metadata": {},
     "output_type": "execute_result"
    }
   ],
   "source": [
    "# Visualiizng the dataset\n",
    "import pandas as pd\n",
    "train_df = pd.read_csv(\"train.csv\")\n",
    "test_df = pd.read_csv(\"test.csv\")\n",
    "train_df"
   ]
  },
  {
   "cell_type": "code",
   "execution_count": 4,
   "id": "7d73ac58-d33c-4e9f-bf6f-b9f5d0362608",
   "metadata": {
    "tags": []
   },
   "outputs": [
    {
     "data": {
      "text/html": [
       "<div>\n",
       "<style scoped>\n",
       "    .dataframe tbody tr th:only-of-type {\n",
       "        vertical-align: middle;\n",
       "    }\n",
       "\n",
       "    .dataframe tbody tr th {\n",
       "        vertical-align: top;\n",
       "    }\n",
       "\n",
       "    .dataframe thead th {\n",
       "        text-align: right;\n",
       "    }\n",
       "</style>\n",
       "<table border=\"1\" class=\"dataframe\">\n",
       "  <thead>\n",
       "    <tr style=\"text-align: right;\">\n",
       "      <th></th>\n",
       "      <th>id</th>\n",
       "      <th>keyword</th>\n",
       "      <th>location</th>\n",
       "      <th>text</th>\n",
       "      <th>target</th>\n",
       "    </tr>\n",
       "  </thead>\n",
       "  <tbody>\n",
       "    <tr>\n",
       "      <th>2644</th>\n",
       "      <td>3796</td>\n",
       "      <td>destruction</td>\n",
       "      <td>NaN</td>\n",
       "      <td>So you have a new weapon that can cause un-ima...</td>\n",
       "      <td>1</td>\n",
       "    </tr>\n",
       "    <tr>\n",
       "      <th>2227</th>\n",
       "      <td>3185</td>\n",
       "      <td>deluge</td>\n",
       "      <td>NaN</td>\n",
       "      <td>The f$&amp;amp;@ing things I do for #GISHWHES Just...</td>\n",
       "      <td>0</td>\n",
       "    </tr>\n",
       "    <tr>\n",
       "      <th>5448</th>\n",
       "      <td>7769</td>\n",
       "      <td>police</td>\n",
       "      <td>UK</td>\n",
       "      <td>DT @georgegalloway: RT @Galloway4Mayor: ÛÏThe...</td>\n",
       "      <td>1</td>\n",
       "    </tr>\n",
       "    <tr>\n",
       "      <th>132</th>\n",
       "      <td>191</td>\n",
       "      <td>aftershock</td>\n",
       "      <td>NaN</td>\n",
       "      <td>Aftershock back to school kick off was great. ...</td>\n",
       "      <td>0</td>\n",
       "    </tr>\n",
       "    <tr>\n",
       "      <th>6845</th>\n",
       "      <td>9810</td>\n",
       "      <td>trauma</td>\n",
       "      <td>Montgomery County, MD</td>\n",
       "      <td>in response to trauma Children of Addicts deve...</td>\n",
       "      <td>0</td>\n",
       "    </tr>\n",
       "    <tr>\n",
       "      <th>...</th>\n",
       "      <td>...</td>\n",
       "      <td>...</td>\n",
       "      <td>...</td>\n",
       "      <td>...</td>\n",
       "      <td>...</td>\n",
       "    </tr>\n",
       "    <tr>\n",
       "      <th>5226</th>\n",
       "      <td>7470</td>\n",
       "      <td>obliteration</td>\n",
       "      <td>Merica!</td>\n",
       "      <td>@Eganator2000 There aren't many Obliteration s...</td>\n",
       "      <td>0</td>\n",
       "    </tr>\n",
       "    <tr>\n",
       "      <th>5390</th>\n",
       "      <td>7691</td>\n",
       "      <td>panic</td>\n",
       "      <td>NaN</td>\n",
       "      <td>just had a panic attack bc I don't have enough...</td>\n",
       "      <td>0</td>\n",
       "    </tr>\n",
       "    <tr>\n",
       "      <th>860</th>\n",
       "      <td>1242</td>\n",
       "      <td>blood</td>\n",
       "      <td>NaN</td>\n",
       "      <td>Omron HEM-712C Automatic Blood Pressure Monito...</td>\n",
       "      <td>0</td>\n",
       "    </tr>\n",
       "    <tr>\n",
       "      <th>7603</th>\n",
       "      <td>10862</td>\n",
       "      <td>NaN</td>\n",
       "      <td>NaN</td>\n",
       "      <td>Officials say a quarantine is in place at an A...</td>\n",
       "      <td>1</td>\n",
       "    </tr>\n",
       "    <tr>\n",
       "      <th>7270</th>\n",
       "      <td>10409</td>\n",
       "      <td>whirlwind</td>\n",
       "      <td>Stamford &amp; Cork (&amp; Shropshire)</td>\n",
       "      <td>I moved to England five years ago today. What ...</td>\n",
       "      <td>1</td>\n",
       "    </tr>\n",
       "  </tbody>\n",
       "</table>\n",
       "<p>7613 rows × 5 columns</p>\n",
       "</div>"
      ],
      "text/plain": [
       "         id       keyword                        location  \\\n",
       "2644   3796   destruction                             NaN   \n",
       "2227   3185        deluge                             NaN   \n",
       "5448   7769        police                              UK   \n",
       "132     191    aftershock                             NaN   \n",
       "6845   9810        trauma           Montgomery County, MD   \n",
       "...     ...           ...                             ...   \n",
       "5226   7470  obliteration                         Merica!   \n",
       "5390   7691         panic                             NaN   \n",
       "860    1242         blood                             NaN   \n",
       "7603  10862           NaN                             NaN   \n",
       "7270  10409     whirlwind  Stamford & Cork (& Shropshire)   \n",
       "\n",
       "                                                   text  target  \n",
       "2644  So you have a new weapon that can cause un-ima...       1  \n",
       "2227  The f$&amp;@ing things I do for #GISHWHES Just...       0  \n",
       "5448  DT @georgegalloway: RT @Galloway4Mayor: ÛÏThe...       1  \n",
       "132   Aftershock back to school kick off was great. ...       0  \n",
       "6845  in response to trauma Children of Addicts deve...       0  \n",
       "...                                                 ...     ...  \n",
       "5226  @Eganator2000 There aren't many Obliteration s...       0  \n",
       "5390  just had a panic attack bc I don't have enough...       0  \n",
       "860   Omron HEM-712C Automatic Blood Pressure Monito...       0  \n",
       "7603  Officials say a quarantine is in place at an A...       1  \n",
       "7270  I moved to England five years ago today. What ...       1  \n",
       "\n",
       "[7613 rows x 5 columns]"
      ]
     },
     "execution_count": 4,
     "metadata": {},
     "output_type": "execute_result"
    }
   ],
   "source": [
    "train_df_shuffled = train_df.sample(frac=1, random_state=42)\n",
    "train_df_shuffled"
   ]
  },
  {
   "cell_type": "code",
   "execution_count": 5,
   "id": "34ac7ebe-ca96-4b2a-9c72-e15239297d56",
   "metadata": {
    "tags": []
   },
   "outputs": [
    {
     "data": {
      "text/html": [
       "<div>\n",
       "<style scoped>\n",
       "    .dataframe tbody tr th:only-of-type {\n",
       "        vertical-align: middle;\n",
       "    }\n",
       "\n",
       "    .dataframe tbody tr th {\n",
       "        vertical-align: top;\n",
       "    }\n",
       "\n",
       "    .dataframe thead th {\n",
       "        text-align: right;\n",
       "    }\n",
       "</style>\n",
       "<table border=\"1\" class=\"dataframe\">\n",
       "  <thead>\n",
       "    <tr style=\"text-align: right;\">\n",
       "      <th></th>\n",
       "      <th>id</th>\n",
       "      <th>keyword</th>\n",
       "      <th>location</th>\n",
       "      <th>text</th>\n",
       "    </tr>\n",
       "  </thead>\n",
       "  <tbody>\n",
       "    <tr>\n",
       "      <th>0</th>\n",
       "      <td>0</td>\n",
       "      <td>NaN</td>\n",
       "      <td>NaN</td>\n",
       "      <td>Just happened a terrible car crash</td>\n",
       "    </tr>\n",
       "    <tr>\n",
       "      <th>1</th>\n",
       "      <td>2</td>\n",
       "      <td>NaN</td>\n",
       "      <td>NaN</td>\n",
       "      <td>Heard about #earthquake is different cities, s...</td>\n",
       "    </tr>\n",
       "    <tr>\n",
       "      <th>2</th>\n",
       "      <td>3</td>\n",
       "      <td>NaN</td>\n",
       "      <td>NaN</td>\n",
       "      <td>there is a forest fire at spot pond, geese are...</td>\n",
       "    </tr>\n",
       "    <tr>\n",
       "      <th>3</th>\n",
       "      <td>9</td>\n",
       "      <td>NaN</td>\n",
       "      <td>NaN</td>\n",
       "      <td>Apocalypse lighting. #Spokane #wildfires</td>\n",
       "    </tr>\n",
       "    <tr>\n",
       "      <th>4</th>\n",
       "      <td>11</td>\n",
       "      <td>NaN</td>\n",
       "      <td>NaN</td>\n",
       "      <td>Typhoon Soudelor kills 28 in China and Taiwan</td>\n",
       "    </tr>\n",
       "  </tbody>\n",
       "</table>\n",
       "</div>"
      ],
      "text/plain": [
       "   id keyword location                                               text\n",
       "0   0     NaN      NaN                 Just happened a terrible car crash\n",
       "1   2     NaN      NaN  Heard about #earthquake is different cities, s...\n",
       "2   3     NaN      NaN  there is a forest fire at spot pond, geese are...\n",
       "3   9     NaN      NaN           Apocalypse lighting. #Spokane #wildfires\n",
       "4  11     NaN      NaN      Typhoon Soudelor kills 28 in China and Taiwan"
      ]
     },
     "execution_count": 5,
     "metadata": {},
     "output_type": "execute_result"
    }
   ],
   "source": [
    "test_df.head()"
   ]
  },
  {
   "cell_type": "code",
   "execution_count": 6,
   "id": "f28259c0-fae6-4197-bb8b-6260a971c0bd",
   "metadata": {
    "tags": []
   },
   "outputs": [
    {
     "data": {
      "text/plain": [
       "0    4342\n",
       "1    3271\n",
       "Name: target, dtype: int64"
      ]
     },
     "execution_count": 6,
     "metadata": {},
     "output_type": "execute_result"
    }
   ],
   "source": [
    "train_df.target.value_counts()"
   ]
  },
  {
   "cell_type": "code",
   "execution_count": 7,
   "id": "0b59fb56-e2f0-4588-bac8-9e520471e1d1",
   "metadata": {
    "tags": []
   },
   "outputs": [
    {
     "data": {
      "text/plain": [
       "(7613, 3263)"
      ]
     },
     "execution_count": 7,
     "metadata": {},
     "output_type": "execute_result"
    }
   ],
   "source": [
    "len(train_df), len(test_df)"
   ]
  },
  {
   "cell_type": "code",
   "execution_count": 8,
   "id": "fe5ec055-e000-4446-a3fd-39706cee79ad",
   "metadata": {
    "tags": []
   },
   "outputs": [
    {
     "name": "stdout",
     "output_type": "stream",
     "text": [
      "Target: 1 (real disaster)\n",
      "Text :\n",
      "Violent Storm Causes Damage Flooding in Watertown - http://t.co/3ZASZ6wxjJ\n",
      "\n",
      "---\n",
      "\n",
      "Target: 1 (real disaster)\n",
      "Text :\n",
      "Why did I come to work today.. Literally wanna collapse of exhaustion\n",
      "\n",
      "---\n",
      "\n",
      "Target: 0 (not real disaster)\n",
      "Text :\n",
      "@emmerdale I'll be devastated if it's cain...such a great character ??\n",
      "\n",
      "---\n",
      "\n",
      "Target: 1 (real disaster)\n",
      "Text :\n",
      "@2for1Lapdances For the people who died in Human Experiments by Unit 731 of Japanese military http://t.co/vVPLFQv58P http://t.co/yOMPxJpPTV\n",
      "\n",
      "---\n",
      "\n",
      "Target: 0 (not real disaster)\n",
      "Text :\n",
      "#bigbrother #ch4 The X-37b's big brother revealed: Boeing bags $6.6m contract to design ... - Daily Mail http://t.co/0migwcmtJe\n",
      "\n",
      "---\n",
      "\n"
     ]
    }
   ],
   "source": [
    "import random\n",
    "random_index = random.randint(0, len(train_df)-5)\n",
    "for row in train_df_shuffled[[\"text\",\"target\"]][random_index:random_index+5].itertuples():\n",
    "    _,text,target = row\n",
    "    print(f\"Target: {target}\",\"(real disaster)\" if target >0 else \"(not real disaster)\")\n",
    "    print(f\"Text :\\n{text}\\n\")\n",
    "    print(\"---\\n\")"
   ]
  },
  {
   "cell_type": "code",
   "execution_count": 9,
   "id": "b91acf93-b422-443a-91d8-b23f42d6d096",
   "metadata": {
    "tags": []
   },
   "outputs": [],
   "source": [
    "#split data into training and validation data\n",
    "from sklearn.model_selection import train_test_split"
   ]
  },
  {
   "cell_type": "code",
   "execution_count": 10,
   "id": "ebad166a-d906-46d4-b6bb-d125aab2c9e1",
   "metadata": {
    "tags": []
   },
   "outputs": [],
   "source": [
    "train_sen ,val_sen ,train_lab ,val_lab  = train_test_split(train_df_shuffled[\"text\"].to_numpy(),\n",
    "                                                           train_df_shuffled[\"target\"].to_numpy(),\n",
    "                                                           test_size=0.1, random_state=42)"
   ]
  },
  {
   "cell_type": "code",
   "execution_count": 12,
   "id": "8066e28d-a2e4-4022-bc60-81352114b664",
   "metadata": {
    "tags": []
   },
   "outputs": [
    {
     "data": {
      "text/plain": [
       "6851"
      ]
     },
     "execution_count": 12,
     "metadata": {},
     "output_type": "execute_result"
    }
   ],
   "source": [
    "len(train_sen)"
   ]
  },
  {
   "cell_type": "code",
   "execution_count": 13,
   "id": "7e49e93d-05f7-4363-8bee-578c87baf9ff",
   "metadata": {
    "tags": []
   },
   "outputs": [
    {
     "data": {
      "text/plain": [
       "(array(['@mogacola @zamtriossu i screamed after hitting tweet',\n",
       "        'Imagine getting flattened by Kurt Zouma',\n",
       "        '@Gurmeetramrahim #MSGDoing111WelfareWorks Green S welfare force ke appx 65000 members har time disaster victim ki help ke liye tyar hai....',\n",
       "        \"@shakjn @C7 @Magnums im shaking in fear he's gonna hack the planet\",\n",
       "        'Somehow find you and I collide http://t.co/Ee8RpOahPk',\n",
       "        '@EvaHanderek @MarleyKnysh great times until the bus driver held us hostage in the mall parking lot lmfao',\n",
       "        'destroy the free fandom honestly',\n",
       "        'Weapons stolen from National Guard Armory in New Albany still missing #Gunsense http://t.co/lKNU8902JE',\n",
       "        '@wfaaweather Pete when will the heat wave pass? Is it really going to be mid month? Frisco Boy Scouts have a canoe trip in Okla.',\n",
       "        'Patient-reported outcomes in long-term survivors of metastatic colorectal cancer - British Journal of Surgery http://t.co/5Yl4DC1Tqt'],\n",
       "       dtype=object),\n",
       " array([0, 0, 1, 0, 0, 1, 1, 0, 1, 1], dtype=int64))"
      ]
     },
     "execution_count": 13,
     "metadata": {},
     "output_type": "execute_result"
    }
   ],
   "source": [
    "train_sen[:10],train_lab[:10]"
   ]
  },
  {
   "cell_type": "code",
   "execution_count": 14,
   "id": "fe7f6913-d296-4a4f-83e8-e6d483bcdd91",
   "metadata": {
    "tags": []
   },
   "outputs": [],
   "source": [
    "#converting text to numbers\n",
    "import tensorflow as tf\n",
    "from tensorflow.keras.layers.experimental.preprocessing import TextVectorization"
   ]
  },
  {
   "cell_type": "code",
   "execution_count": 15,
   "id": "ef455de8-b6a7-4f26-a1b5-7d0af6b3c842",
   "metadata": {
    "tags": []
   },
   "outputs": [],
   "source": [
    "text_vectorizer = TextVectorization(max_tokens=10000, \n",
    "                                    standardize=\"lower_and_strip_punctuation\",\n",
    "                                    split = \"whitespace\",\n",
    "                                    ngrams=None,output_mode = \"int\", output_sequence_length = None, pad_to_max_tokens=True)"
   ]
  },
  {
   "cell_type": "code",
   "execution_count": 16,
   "id": "6f397eae-5149-463e-8bb3-c070d6d42461",
   "metadata": {
    "tags": []
   },
   "outputs": [
    {
     "data": {
      "text/plain": [
       "15"
      ]
     },
     "execution_count": 16,
     "metadata": {},
     "output_type": "execute_result"
    }
   ],
   "source": [
    "# Find the average number of tokens (words) in the training \n",
    "round(sum([len(i.split()) for i in train_sen])/(len(train_sen)))"
   ]
  },
  {
   "cell_type": "code",
   "execution_count": 17,
   "id": "d0690dce-d843-44d9-80d2-33e80f9ff25f",
   "metadata": {
    "tags": []
   },
   "outputs": [],
   "source": [
    "max_vocab_length = 10000\n",
    "max_length=15\n",
    "\n",
    "text_vectorizer = TextVectorization(max_tokens=max_vocab_length,\n",
    "                                   output_mode=\"int\",\n",
    "                                   output_sequence_length=max_length)"
   ]
  },
  {
   "cell_type": "code",
   "execution_count": 18,
   "id": "681a6015-279d-4a08-8717-f11223bf8760",
   "metadata": {
    "tags": []
   },
   "outputs": [],
   "source": [
    "#Fit the text vectorizer to the training text\n",
    "text_vectorizer.adapt(train_sen)"
   ]
  },
  {
   "cell_type": "code",
   "execution_count": 19,
   "id": "338c1062-dc24-4a11-9302-88d4b8ebcfb5",
   "metadata": {
    "tags": []
   },
   "outputs": [
    {
     "data": {
      "text/plain": [
       "<tf.Tensor: shape=(1, 15), dtype=int64, numpy=\n",
       "array([[ 264,    3,  232,    4,   13,  698,    7, 1693, 1552,    0,    0,\n",
       "           0,    0,    0,    0]], dtype=int64)>"
      ]
     },
     "execution_count": 19,
     "metadata": {},
     "output_type": "execute_result"
    }
   ],
   "source": [
    "#create a sample sentence and tokenie it\n",
    "sample = \"There's a flood in my street and crying babies!\"\n",
    "text_vectorizer([sample])"
   ]
  },
  {
   "cell_type": "code",
   "execution_count": 20,
   "id": "2121c6b4-3568-4f70-8ba6-fa14efcafe09",
   "metadata": {
    "tags": []
   },
   "outputs": [
    {
     "name": "stdout",
     "output_type": "stream",
     "text": [
      "Original text:  950. If a landslide tumbles down todayI'm on your side\n",
      "\n",
      "And if a twister sweeps it all away-\n",
      "\n",
      "YOU'RE ON YOUR OWN BITCH!*runs into distance*\n",
      "\n",
      "Vetorized version: [[   1   47    3  374 7313  134 7516   11   33  668    7   47    3  358\n",
      "  7871]]\n"
     ]
    }
   ],
   "source": [
    "random_sen = random.choice(train_sen)\n",
    "print(f\"Original text:  {random_sen}\\n\\nVetorized version: {text_vectorizer([random_sen])}\")"
   ]
  },
  {
   "cell_type": "code",
   "execution_count": 21,
   "id": "adf603eb-4ef6-4c78-ae1d-c50ae7839e01",
   "metadata": {
    "tags": []
   },
   "outputs": [],
   "source": [
    "words_in_vocab = text_vectorizer.get_vocabulary()\n",
    "top_5_words = words_in_vocab[:5]\n",
    "bottom_5_words = words_in_vocab[-6:]"
   ]
  },
  {
   "cell_type": "code",
   "execution_count": 22,
   "id": "6ab890cb-2cdb-4aa6-9d2a-3a2c1be7f1ef",
   "metadata": {
    "tags": []
   },
   "outputs": [
    {
     "data": {
      "text/plain": [
       "(['', '[UNK]', 'the', 'a', 'in'],\n",
       " ['pageshi', 'pages', 'paeds', 'pads', 'padres', 'paddytomlinson1'],\n",
       " 10000)"
      ]
     },
     "execution_count": 22,
     "metadata": {},
     "output_type": "execute_result"
    }
   ],
   "source": [
    "top_5_words, bottom_5_words, len(words_in_vocab)"
   ]
  },
  {
   "cell_type": "code",
   "execution_count": 23,
   "id": "0e69c258-b2b9-4bf6-bfbe-d28ac0325c4c",
   "metadata": {
    "tags": []
   },
   "outputs": [
    {
     "data": {
      "text/plain": [
       "<keras.src.layers.core.embedding.Embedding at 0x222b9c6e310>"
      ]
     },
     "execution_count": 23,
     "metadata": {},
     "output_type": "execute_result"
    }
   ],
   "source": [
    "#Embedding\n",
    "from tensorflow.keras import layers\n",
    "\n",
    "embedding = layers.Embedding(input_dim=max_vocab_length, # set the input shape\n",
    "                             output_dim=128, # set the size of the embedding vector\n",
    "                             embeddings_initializer=\"uniform\", # default, initialize embedding vectors randomly\n",
    "                             input_length=max_length # how long is each input\n",
    "                             )\n",
    "\n",
    "embedding"
   ]
  },
  {
   "cell_type": "code",
   "execution_count": 28,
   "id": "c5470461-b839-40a7-afe4-1f336c17c9d0",
   "metadata": {
    "tags": []
   },
   "outputs": [
    {
     "name": "stdout",
     "output_type": "stream",
     "text": [
      "OG : Vanessa's game has officially blown up. LADIES AND GENTLEMEN...the real show is about to begin. #BB17\n",
      "\n",
      " Embedded version [[[ 0.02114853 -0.01716919  0.02854658 ... -0.02847395 -0.00321012\n",
      "    0.01920824]\n",
      "  [ 0.0480498  -0.01387738  0.03236241 ... -0.03914816  0.0086089\n",
      "    0.03506294]\n",
      "  [ 0.01261474 -0.03703045 -0.02447871 ... -0.03156354  0.01787206\n",
      "   -0.03412212]\n",
      "  ...\n",
      "  [ 0.03636995  0.02491469 -0.03919793 ...  0.03557464 -0.00642558\n",
      "   -0.01553101]\n",
      "  [ 0.01500777 -0.03212347 -0.00874083 ...  0.00442946  0.00128595\n",
      "   -0.02040151]\n",
      "  [ 0.04707149  0.03702844 -0.03769959 ... -0.00366423 -0.00658206\n",
      "   -0.02770127]]]\n"
     ]
    }
   ],
   "source": [
    "#get a sandom sentence\n",
    "random_sentences = random.choice(train_sen)\n",
    "print(f\"OG : {random_sentences}\\n\\n Embedded version {embedding(text_vectorizer([random_sentences]))}\")"
   ]
  },
  {
   "cell_type": "code",
   "execution_count": 29,
   "id": "efe10738-c834-4806-9db6-e453730ba157",
   "metadata": {
    "tags": []
   },
   "outputs": [
    {
     "data": {
      "text/plain": [
       "<tf.Tensor: shape=(1, 15, 128), dtype=float32, numpy=\n",
       "array([[[ 0.02114853, -0.01716919,  0.02854658, ..., -0.02847395,\n",
       "         -0.00321012,  0.01920824],\n",
       "        [ 0.0480498 , -0.01387738,  0.03236241, ..., -0.03914816,\n",
       "          0.0086089 ,  0.03506294],\n",
       "        [ 0.01261474, -0.03703045, -0.02447871, ..., -0.03156354,\n",
       "          0.01787206, -0.03412212],\n",
       "        ...,\n",
       "        [ 0.03636995,  0.02491469, -0.03919793, ...,  0.03557464,\n",
       "         -0.00642558, -0.01553101],\n",
       "        [ 0.01500777, -0.03212347, -0.00874083, ...,  0.00442946,\n",
       "          0.00128595, -0.02040151],\n",
       "        [ 0.04707149,  0.03702844, -0.03769959, ..., -0.00366423,\n",
       "         -0.00658206, -0.02770127]]], dtype=float32)>"
      ]
     },
     "execution_count": 29,
     "metadata": {},
     "output_type": "execute_result"
    }
   ],
   "source": [
    "sample_embed = embedding(text_vectorizer([random_sentences]))\n",
    "sample_embed"
   ]
  },
  {
   "cell_type": "code",
   "execution_count": 30,
   "id": "e0f4976a-92dd-42ad-a602-46f9ab391c37",
   "metadata": {
    "tags": []
   },
   "outputs": [
    {
     "data": {
      "text/plain": [
       "<tf.Tensor: shape=(128,), dtype=float32, numpy=\n",
       "array([ 0.02114853, -0.01716919,  0.02854658, -0.02548515,  0.02353642,\n",
       "        0.01796193,  0.03615484, -0.04391557, -0.02428354,  0.02686692,\n",
       "        0.04612448,  0.02146241,  0.03267963,  0.03867053,  0.03792075,\n",
       "        0.01608707, -0.0020406 , -0.0479168 , -0.0051725 , -0.04579569,\n",
       "       -0.01714941,  0.0051432 , -0.00495577, -0.01212855, -0.03420444,\n",
       "       -0.03071332, -0.01338337,  0.01596732, -0.02651415, -0.01987622,\n",
       "        0.00541102, -0.00190752,  0.02519445,  0.03437883,  0.01931479,\n",
       "       -0.02650642,  0.00724127,  0.04098669, -0.01283176,  0.00601544,\n",
       "       -0.00425624, -0.00079735, -0.01419212,  0.00849004, -0.00331774,\n",
       "        0.04298745, -0.00362196, -0.00447987, -0.00722032, -0.03485271,\n",
       "        0.02625649,  0.00483822, -0.03224083, -0.00594584,  0.02697195,\n",
       "       -0.04998155, -0.04683535, -0.04412025,  0.03694171, -0.04075827,\n",
       "        0.01918197, -0.02517774,  0.00776281,  0.04077   , -0.01101736,\n",
       "        0.04167904, -0.0355351 , -0.0215186 ,  0.03267293,  0.03145034,\n",
       "        0.02374249, -0.01699283,  0.02953717,  0.02093342, -0.048951  ,\n",
       "       -0.04392825, -0.01276221, -0.03439685,  0.01730654, -0.04517628,\n",
       "       -0.03547376,  0.02570755,  0.0309988 ,  0.01404098,  0.0029161 ,\n",
       "        0.01252016, -0.00840486,  0.02558937, -0.01281703,  0.00203989,\n",
       "       -0.02510029, -0.03017851,  0.01079233, -0.02960017, -0.03840401,\n",
       "       -0.03340339,  0.03526122, -0.01875309, -0.03794557, -0.04525989,\n",
       "        0.04560694,  0.02847291,  0.03481958,  0.01373965, -0.00928628,\n",
       "       -0.02302618,  0.02341826,  0.03669688,  0.0069325 ,  0.02394983,\n",
       "        0.01398135,  0.02936075,  0.02589737,  0.00401051, -0.03741048,\n",
       "        0.03249616,  0.01281277, -0.00972507,  0.04253621, -0.00771881,\n",
       "        0.0024438 , -0.0435094 ,  0.03801848, -0.00293215, -0.00993043,\n",
       "       -0.02847395, -0.00321012,  0.01920824], dtype=float32)>"
      ]
     },
     "execution_count": 30,
     "metadata": {},
     "output_type": "execute_result"
    }
   ],
   "source": [
    "sample_embed[0][0]"
   ]
  },
  {
   "cell_type": "markdown",
   "id": "77c851c3-a3db-476b-ba21-2c84e46dd2a9",
   "metadata": {},
   "source": [
    "# MODELLING "
   ]
  },
  {
   "cell_type": "code",
   "execution_count": 31,
   "id": "30ac4301-2c4c-4d0f-b187-d6a52c0072c9",
   "metadata": {
    "tags": []
   },
   "outputs": [
    {
     "data": {
      "text/html": [
       "<style>#sk-container-id-1 {color: black;}#sk-container-id-1 pre{padding: 0;}#sk-container-id-1 div.sk-toggleable {background-color: white;}#sk-container-id-1 label.sk-toggleable__label {cursor: pointer;display: block;width: 100%;margin-bottom: 0;padding: 0.3em;box-sizing: border-box;text-align: center;}#sk-container-id-1 label.sk-toggleable__label-arrow:before {content: \"▸\";float: left;margin-right: 0.25em;color: #696969;}#sk-container-id-1 label.sk-toggleable__label-arrow:hover:before {color: black;}#sk-container-id-1 div.sk-estimator:hover label.sk-toggleable__label-arrow:before {color: black;}#sk-container-id-1 div.sk-toggleable__content {max-height: 0;max-width: 0;overflow: hidden;text-align: left;background-color: #f0f8ff;}#sk-container-id-1 div.sk-toggleable__content pre {margin: 0.2em;color: black;border-radius: 0.25em;background-color: #f0f8ff;}#sk-container-id-1 input.sk-toggleable__control:checked~div.sk-toggleable__content {max-height: 200px;max-width: 100%;overflow: auto;}#sk-container-id-1 input.sk-toggleable__control:checked~label.sk-toggleable__label-arrow:before {content: \"▾\";}#sk-container-id-1 div.sk-estimator input.sk-toggleable__control:checked~label.sk-toggleable__label {background-color: #d4ebff;}#sk-container-id-1 div.sk-label input.sk-toggleable__control:checked~label.sk-toggleable__label {background-color: #d4ebff;}#sk-container-id-1 input.sk-hidden--visually {border: 0;clip: rect(1px 1px 1px 1px);clip: rect(1px, 1px, 1px, 1px);height: 1px;margin: -1px;overflow: hidden;padding: 0;position: absolute;width: 1px;}#sk-container-id-1 div.sk-estimator {font-family: monospace;background-color: #f0f8ff;border: 1px dotted black;border-radius: 0.25em;box-sizing: border-box;margin-bottom: 0.5em;}#sk-container-id-1 div.sk-estimator:hover {background-color: #d4ebff;}#sk-container-id-1 div.sk-parallel-item::after {content: \"\";width: 100%;border-bottom: 1px solid gray;flex-grow: 1;}#sk-container-id-1 div.sk-label:hover label.sk-toggleable__label {background-color: #d4ebff;}#sk-container-id-1 div.sk-serial::before {content: \"\";position: absolute;border-left: 1px solid gray;box-sizing: border-box;top: 0;bottom: 0;left: 50%;z-index: 0;}#sk-container-id-1 div.sk-serial {display: flex;flex-direction: column;align-items: center;background-color: white;padding-right: 0.2em;padding-left: 0.2em;position: relative;}#sk-container-id-1 div.sk-item {position: relative;z-index: 1;}#sk-container-id-1 div.sk-parallel {display: flex;align-items: stretch;justify-content: center;background-color: white;position: relative;}#sk-container-id-1 div.sk-item::before, #sk-container-id-1 div.sk-parallel-item::before {content: \"\";position: absolute;border-left: 1px solid gray;box-sizing: border-box;top: 0;bottom: 0;left: 50%;z-index: -1;}#sk-container-id-1 div.sk-parallel-item {display: flex;flex-direction: column;z-index: 1;position: relative;background-color: white;}#sk-container-id-1 div.sk-parallel-item:first-child::after {align-self: flex-end;width: 50%;}#sk-container-id-1 div.sk-parallel-item:last-child::after {align-self: flex-start;width: 50%;}#sk-container-id-1 div.sk-parallel-item:only-child::after {width: 0;}#sk-container-id-1 div.sk-dashed-wrapped {border: 1px dashed gray;margin: 0 0.4em 0.5em 0.4em;box-sizing: border-box;padding-bottom: 0.4em;background-color: white;}#sk-container-id-1 div.sk-label label {font-family: monospace;font-weight: bold;display: inline-block;line-height: 1.2em;}#sk-container-id-1 div.sk-label-container {text-align: center;}#sk-container-id-1 div.sk-container {/* jupyter's `normalize.less` sets `[hidden] { display: none; }` but bootstrap.min.css set `[hidden] { display: none !important; }` so we also need the `!important` here to be able to override the default hidden behavior on the sphinx rendered scikit-learn.org. See: https://github.com/scikit-learn/scikit-learn/issues/21755 */display: inline-block !important;position: relative;}#sk-container-id-1 div.sk-text-repr-fallback {display: none;}</style><div id=\"sk-container-id-1\" class=\"sk-top-container\"><div class=\"sk-text-repr-fallback\"><pre>Pipeline(steps=[(&#x27;tfidf&#x27;, TfidfVectorizer()), (&#x27;clf&#x27;, MultinomialNB())])</pre><b>In a Jupyter environment, please rerun this cell to show the HTML representation or trust the notebook. <br />On GitHub, the HTML representation is unable to render, please try loading this page with nbviewer.org.</b></div><div class=\"sk-container\" hidden><div class=\"sk-item sk-dashed-wrapped\"><div class=\"sk-label-container\"><div class=\"sk-label sk-toggleable\"><input class=\"sk-toggleable__control sk-hidden--visually\" id=\"sk-estimator-id-1\" type=\"checkbox\" ><label for=\"sk-estimator-id-1\" class=\"sk-toggleable__label sk-toggleable__label-arrow\">Pipeline</label><div class=\"sk-toggleable__content\"><pre>Pipeline(steps=[(&#x27;tfidf&#x27;, TfidfVectorizer()), (&#x27;clf&#x27;, MultinomialNB())])</pre></div></div></div><div class=\"sk-serial\"><div class=\"sk-item\"><div class=\"sk-estimator sk-toggleable\"><input class=\"sk-toggleable__control sk-hidden--visually\" id=\"sk-estimator-id-2\" type=\"checkbox\" ><label for=\"sk-estimator-id-2\" class=\"sk-toggleable__label sk-toggleable__label-arrow\">TfidfVectorizer</label><div class=\"sk-toggleable__content\"><pre>TfidfVectorizer()</pre></div></div></div><div class=\"sk-item\"><div class=\"sk-estimator sk-toggleable\"><input class=\"sk-toggleable__control sk-hidden--visually\" id=\"sk-estimator-id-3\" type=\"checkbox\" ><label for=\"sk-estimator-id-3\" class=\"sk-toggleable__label sk-toggleable__label-arrow\">MultinomialNB</label><div class=\"sk-toggleable__content\"><pre>MultinomialNB()</pre></div></div></div></div></div></div></div>"
      ],
      "text/plain": [
       "Pipeline(steps=[('tfidf', TfidfVectorizer()), ('clf', MultinomialNB())])"
      ]
     },
     "execution_count": 31,
     "metadata": {},
     "output_type": "execute_result"
    }
   ],
   "source": [
    "#Model 0 - baseline model\n",
    "from sklearn.feature_extraction.text import TfidfVectorizer\n",
    "from sklearn.naive_bayes import MultinomialNB\n",
    "from sklearn.pipeline import Pipeline\n",
    "\n",
    "model_0 = Pipeline([\n",
    "    (\"tfidf\",TfidfVectorizer()),\n",
    "    (\"clf\", MultinomialNB())\n",
    "])\n",
    "\n",
    "model_0.fit(train_sen, train_lab )"
   ]
  },
  {
   "cell_type": "code",
   "execution_count": 33,
   "id": "b1c8df65-90b5-4fb5-b6d7-ae64f62a0da8",
   "metadata": {
    "tags": []
   },
   "outputs": [
    {
     "data": {
      "text/plain": [
       "79.26509186351706"
      ]
     },
     "execution_count": 33,
     "metadata": {},
     "output_type": "execute_result"
    }
   ],
   "source": [
    "baseline_score = model_0.score(val_sen,  val_lab)\n",
    "baseline_score*100"
   ]
  },
  {
   "cell_type": "code",
   "execution_count": 35,
   "id": "f2a2066f-9269-44dc-b314-f2bc98fc5232",
   "metadata": {
    "tags": []
   },
   "outputs": [
    {
     "data": {
      "text/plain": [
       "array([1, 1, 1, 0, 0, 1, 1, 1, 1, 0, 0, 1, 0, 0, 0, 0, 0, 0, 0, 1],\n",
       "      dtype=int64)"
      ]
     },
     "execution_count": 35,
     "metadata": {},
     "output_type": "execute_result"
    }
   ],
   "source": [
    "baseline_preds = model_0.predict(val_sen)\n",
    "baseline_preds[:20]"
   ]
  },
  {
   "cell_type": "code",
   "execution_count": 37,
   "id": "ad796b08-6b12-46e5-8f75-db1801a690bc",
   "metadata": {
    "tags": []
   },
   "outputs": [
    {
     "data": {
      "text/plain": [
       "array([0, 0, 1, 0, 0, 1, 1, 0, 1, 1, 0, 0, 1, 0, 1, 0, 0, 0, 1, 0],\n",
       "      dtype=int64)"
      ]
     },
     "execution_count": 37,
     "metadata": {},
     "output_type": "execute_result"
    }
   ],
   "source": [
    "train_lab[:20]"
   ]
  },
  {
   "cell_type": "code",
   "execution_count": 38,
   "id": "5d7dea60-fef2-4da6-abf3-d89956312deb",
   "metadata": {
    "tags": []
   },
   "outputs": [],
   "source": [
    "from sklearn.metrics import accuracy_score,precision_recall_fscore_support\n",
    "\n",
    "def calculate_resuts(y_true,y_pred):\n",
    "    model_accuracy = accuracy_score(y_true, y_pred) *100\n",
    "    model_precision, model_recall, model_fscore , _ = precision_recall_fscore_support(y_true,y_pred,average=\"weighted\")\n",
    "    \n",
    "    model_results = {\"accuracy\": model_accuracy,\n",
    "                    \"precision\" : model_precision,\n",
    "                    \"recall\": model_recall,\n",
    "                     \"f1\" : model_fscore}\n",
    "    return model_results"
   ]
  },
  {
   "cell_type": "code",
   "execution_count": 39,
   "id": "72f8f224-b5c1-4499-b88d-7ecba4952d8e",
   "metadata": {
    "tags": []
   },
   "outputs": [
    {
     "data": {
      "text/plain": [
       "{'accuracy': 79.26509186351706,\n",
       " 'precision': 0.8111390004213173,\n",
       " 'recall': 0.7926509186351706,\n",
       " 'f1': 0.7862189758049549}"
      ]
     },
     "execution_count": 39,
     "metadata": {},
     "output_type": "execute_result"
    }
   ],
   "source": [
    "baseline_results = calculate_resuts(val_lab,baseline_preds)\n",
    "baseline_results"
   ]
  },
  {
   "cell_type": "code",
   "execution_count": 40,
   "id": "abfbf639-5db6-4e76-a056-470a5e37e3ef",
   "metadata": {
    "tags": []
   },
   "outputs": [],
   "source": [
    "#MODEL 1 - Dense Model\n",
    "\n",
    "#create a tensorboard callback\n",
    "from helper_functions import create_tensorboard_callback\n",
    "\n",
    "SAVE_DIR = \"model_logs\""
   ]
  },
  {
   "cell_type": "code",
   "execution_count": 41,
   "id": "736d103f-81b7-428c-8ee2-7a0adaf8d825",
   "metadata": {
    "tags": []
   },
   "outputs": [],
   "source": [
    "from tensorflow.keras import layers\n",
    "inputs = layers.Input(shape=(1,), dtype=tf.string)\n",
    "x = text_vectorizer(inputs)\n",
    "x = embedding(x)\n",
    "#x = layers.GlobalAveragePooling1D()(x)\n",
    "x = layers.GlobalMaxPooling1D()(x)\n",
    "outputs = layers.Dense(1, activation=\"sigmoid\")(x)\n",
    "\n",
    "model_1 = tf.keras.Model(inputs,outputs, name=\"model_1_dense\")"
   ]
  },
  {
   "cell_type": "code",
   "execution_count": 42,
   "id": "3c1dd712-5af0-43f9-a3bf-20583bc200e0",
   "metadata": {
    "tags": []
   },
   "outputs": [
    {
     "name": "stdout",
     "output_type": "stream",
     "text": [
      "Model: \"model_1_dense\"\n",
      "_________________________________________________________________\n",
      " Layer (type)                Output Shape              Param #   \n",
      "=================================================================\n",
      " input_1 (InputLayer)        [(None, 1)]               0         \n",
      "                                                                 \n",
      " text_vectorization_1 (Text  (None, 15)                0         \n",
      " Vectorization)                                                  \n",
      "                                                                 \n",
      " embedding (Embedding)       (None, 15, 128)           1280000   \n",
      "                                                                 \n",
      " global_max_pooling1d (Glob  (None, 128)               0         \n",
      " alMaxPooling1D)                                                 \n",
      "                                                                 \n",
      " dense (Dense)               (None, 1)                 129       \n",
      "                                                                 \n",
      "=================================================================\n",
      "Total params: 1280129 (4.88 MB)\n",
      "Trainable params: 1280129 (4.88 MB)\n",
      "Non-trainable params: 0 (0.00 Byte)\n",
      "_________________________________________________________________\n"
     ]
    }
   ],
   "source": [
    "model_1.summary()"
   ]
  },
  {
   "cell_type": "code",
   "execution_count": 43,
   "id": "ae773ccc-6b6d-44aa-8845-78c7618c667f",
   "metadata": {
    "tags": []
   },
   "outputs": [],
   "source": [
    "model_1.compile(loss=\"binary_crossentropy\",\n",
    "               optimizer = tf.keras.optimizers.Adam(),\n",
    "               metrics=[\"accuracy\"])"
   ]
  },
  {
   "cell_type": "code",
   "execution_count": 44,
   "id": "31205f98-5e69-47f1-bf47-e39dd7045b03",
   "metadata": {
    "tags": []
   },
   "outputs": [
    {
     "name": "stdout",
     "output_type": "stream",
     "text": [
      "Saving TensorBoard log files to: model_logs/model_1_Dense/20230920-133635\n",
      "Epoch 1/5\n",
      "215/215 [==============================] - 7s 25ms/step - loss: 0.6368 - accuracy: 0.6452 - val_loss: 0.5733 - val_accuracy: 0.7625\n",
      "Epoch 2/5\n",
      "215/215 [==============================] - 5s 22ms/step - loss: 0.4722 - accuracy: 0.8264 - val_loss: 0.4768 - val_accuracy: 0.7808\n",
      "Epoch 3/5\n",
      "215/215 [==============================] - 5s 22ms/step - loss: 0.3444 - accuracy: 0.8737 - val_loss: 0.4525 - val_accuracy: 0.7900\n",
      "Epoch 4/5\n",
      "215/215 [==============================] - 5s 22ms/step - loss: 0.2607 - accuracy: 0.9088 - val_loss: 0.4538 - val_accuracy: 0.7887\n",
      "Epoch 5/5\n",
      "215/215 [==============================] - 5s 23ms/step - loss: 0.2005 - accuracy: 0.9320 - val_loss: 0.4613 - val_accuracy: 0.8005\n"
     ]
    },
    {
     "data": {
      "text/plain": [
       "<keras.src.callbacks.History at 0x222bb352190>"
      ]
     },
     "execution_count": 44,
     "metadata": {},
     "output_type": "execute_result"
    }
   ],
   "source": [
    "model_1.fit(x=train_sen,y=train_lab,epochs=5,\n",
    "           validation_data=(val_sen,val_lab),callbacks=[create_tensorboard_callback(SAVE_DIR,\"model_1_Dense\")])"
   ]
  },
  {
   "cell_type": "code",
   "execution_count": 45,
   "id": "62e73ab2-c31c-44ae-9df6-f5aa8cec00db",
   "metadata": {
    "tags": []
   },
   "outputs": [
    {
     "name": "stdout",
     "output_type": "stream",
     "text": [
      "24/24 [==============================] - 0s 1ms/step - loss: 0.4613 - accuracy: 0.8005\n"
     ]
    },
    {
     "data": {
      "text/plain": [
       "[0.46131521463394165, 0.8005249500274658]"
      ]
     },
     "execution_count": 45,
     "metadata": {},
     "output_type": "execute_result"
    }
   ],
   "source": [
    "model_1.evaluate(val_sen,val_lab)"
   ]
  },
  {
   "cell_type": "code",
   "execution_count": 46,
   "id": "a13c73e2-47da-4c95-ac3a-4f0d5f364816",
   "metadata": {
    "tags": []
   },
   "outputs": [
    {
     "name": "stdout",
     "output_type": "stream",
     "text": [
      "24/24 [==============================] - 0s 1ms/step\n"
     ]
    },
    {
     "data": {
      "text/plain": [
       "((762, 1), array([0.4601638], dtype=float32))"
      ]
     },
     "execution_count": 46,
     "metadata": {},
     "output_type": "execute_result"
    }
   ],
   "source": [
    "model_1_pred_probs = model_1.predict(val_sen)\n",
    "model_1_pred_probs.shape, model_1_pred_probs[0]"
   ]
  },
  {
   "cell_type": "code",
   "execution_count": 47,
   "id": "734e0c24-a289-4a74-9317-0c66a9d5c3bc",
   "metadata": {
    "tags": []
   },
   "outputs": [
    {
     "data": {
      "text/plain": [
       "<tf.Tensor: shape=(762,), dtype=float32, numpy=\n",
       "array([0., 1., 1., 0., 0., 1., 1., 1., 1., 0., 0., 1., 0., 0., 0., 0., 0.,\n",
       "       0., 0., 1., 1., 0., 1., 0., 1., 1., 0., 0., 0., 0., 1., 0., 0., 0.,\n",
       "       1., 0., 1., 0., 0., 1., 0., 0., 1., 0., 1., 1., 0., 1., 0., 1., 0.,\n",
       "       1., 0., 0., 0., 0., 0., 1., 0., 0., 0., 1., 1., 0., 1., 1., 1., 1.,\n",
       "       0., 0., 0., 0., 1., 0., 0., 0., 0., 1., 0., 1., 0., 0., 1., 0., 0.,\n",
       "       0., 0., 0., 1., 1., 1., 0., 0., 0., 1., 1., 1., 1., 1., 1., 1., 0.,\n",
       "       0., 1., 1., 0., 1., 1., 0., 0., 1., 0., 0., 0., 0., 0., 0., 1., 1.,\n",
       "       0., 1., 0., 0., 1., 0., 0., 1., 0., 0., 1., 0., 1., 1., 1., 1., 0.,\n",
       "       1., 0., 0., 0., 1., 0., 0., 1., 0., 1., 0., 0., 0., 1., 0., 0., 1.,\n",
       "       0., 0., 1., 1., 0., 1., 0., 1., 0., 0., 1., 0., 0., 1., 0., 1., 0.,\n",
       "       1., 1., 1., 0., 1., 0., 0., 0., 1., 1., 0., 1., 1., 1., 1., 1., 0.,\n",
       "       1., 0., 0., 0., 1., 0., 0., 0., 0., 0., 0., 1., 0., 0., 1., 1., 0.,\n",
       "       0., 1., 0., 1., 1., 1., 0., 1., 0., 0., 0., 0., 1., 1., 1., 0., 1.,\n",
       "       0., 0., 0., 1., 0., 0., 1., 1., 1., 0., 0., 1., 0., 1., 0., 0., 0.,\n",
       "       0., 0., 0., 0., 1., 1., 0., 0., 1., 0., 0., 0., 0., 1., 0., 1., 1.,\n",
       "       0., 1., 1., 0., 0., 1., 0., 0., 1., 1., 1., 1., 0., 0., 0., 0., 0.,\n",
       "       1., 0., 0., 1., 0., 0., 1., 0., 0., 0., 1., 1., 1., 1., 1., 0., 1.,\n",
       "       0., 1., 1., 0., 0., 0., 1., 0., 1., 0., 1., 0., 0., 0., 1., 0., 0.,\n",
       "       0., 0., 0., 0., 0., 1., 0., 0., 1., 0., 1., 0., 0., 0., 0., 0., 1.,\n",
       "       0., 1., 0., 0., 1., 0., 1., 0., 0., 1., 0., 0., 1., 0., 0., 1., 1.,\n",
       "       0., 0., 1., 1., 1., 0., 1., 0., 0., 0., 0., 1., 0., 1., 0., 0., 1.,\n",
       "       1., 1., 0., 0., 0., 1., 1., 0., 0., 0., 0., 0., 0., 0., 0., 0., 0.,\n",
       "       0., 0., 0., 0., 0., 1., 1., 1., 1., 0., 0., 1., 1., 0., 1., 0., 1.,\n",
       "       0., 0., 1., 1., 1., 0., 0., 0., 0., 1., 0., 1., 1., 0., 1., 0., 0.,\n",
       "       0., 1., 1., 0., 0., 0., 1., 1., 0., 0., 1., 0., 1., 1., 1., 1., 0.,\n",
       "       1., 0., 1., 1., 0., 0., 0., 0., 0., 0., 0., 0., 0., 1., 1., 0., 1.,\n",
       "       0., 0., 0., 1., 0., 0., 0., 1., 0., 1., 1., 1., 1., 1., 0., 0., 1.,\n",
       "       1., 1., 0., 0., 0., 1., 1., 0., 0., 1., 0., 0., 1., 0., 0., 1., 0.,\n",
       "       1., 1., 0., 0., 0., 0., 0., 1., 0., 1., 0., 0., 0., 0., 0., 1., 1.,\n",
       "       0., 0., 0., 0., 1., 0., 1., 1., 0., 1., 1., 0., 0., 0., 1., 0., 0.,\n",
       "       0., 0., 0., 0., 1., 0., 1., 1., 1., 1., 0., 0., 1., 0., 0., 0., 0.,\n",
       "       0., 1., 1., 1., 1., 0., 0., 1., 0., 0., 0., 0., 0., 0., 0., 1., 0.,\n",
       "       0., 0., 0., 1., 1., 0., 1., 1., 0., 1., 0., 1., 0., 0., 0., 0., 0.,\n",
       "       0., 1., 0., 1., 0., 1., 1., 0., 0., 1., 1., 1., 0., 0., 0., 0., 0.,\n",
       "       1., 0., 0., 0., 1., 0., 0., 1., 0., 0., 0., 0., 0., 0., 0., 0., 0.,\n",
       "       1., 0., 1., 1., 0., 0., 0., 1., 1., 1., 0., 1., 0., 0., 1., 0., 1.,\n",
       "       0., 0., 1., 0., 0., 0., 0., 1., 1., 0., 1., 0., 1., 0., 0., 0., 1.,\n",
       "       0., 0., 1., 1., 1., 1., 0., 0., 0., 0., 0., 1., 0., 1., 0., 0., 0.,\n",
       "       0., 0., 0., 1., 1., 0., 0., 0., 0., 0., 0., 1., 0., 0., 0., 0., 1.,\n",
       "       0., 1., 0., 0., 0., 1., 1., 0., 0., 0., 0., 1., 0., 1., 0., 0., 1.,\n",
       "       0., 0., 1., 0., 0., 1., 0., 0., 0., 0., 1., 1., 0., 0., 1., 0., 1.,\n",
       "       0., 1., 0., 0., 0., 1., 0., 1., 0., 0., 0., 0., 0., 0., 0., 1., 0.,\n",
       "       0., 0., 0., 0., 1., 0., 1., 0., 1., 1., 0., 0., 0., 0., 1., 0., 0.,\n",
       "       1., 1., 1., 1., 1., 0., 0., 0., 0., 1., 0., 0., 1., 1., 0., 0., 0.,\n",
       "       1., 0., 0., 1., 1., 0., 1., 1., 0., 0., 0., 1., 1., 0.],\n",
       "      dtype=float32)>"
      ]
     },
     "execution_count": 47,
     "metadata": {},
     "output_type": "execute_result"
    }
   ],
   "source": [
    "model_1_preds = tf.squeeze(tf.round(model_1_pred_probs))\n",
    "model_1_preds"
   ]
  },
  {
   "cell_type": "code",
   "execution_count": 48,
   "id": "e950ebb8-6662-4fef-9470-f690275e08a4",
   "metadata": {
    "tags": []
   },
   "outputs": [
    {
     "data": {
      "text/plain": [
       "{'accuracy': 80.0524934383202,\n",
       " 'precision': 0.8035781807215083,\n",
       " 'recall': 0.800524934383202,\n",
       " 'f1': 0.798485125042071}"
      ]
     },
     "execution_count": 48,
     "metadata": {},
     "output_type": "execute_result"
    }
   ],
   "source": [
    "model_1_results = calculate_resuts(val_lab,model_1_preds)\n",
    "model_1_results"
   ]
  },
  {
   "cell_type": "code",
   "execution_count": 49,
   "id": "e830d27b-1ed5-426a-87b4-639910fd6f38",
   "metadata": {
    "tags": []
   },
   "outputs": [
    {
     "data": {
      "text/plain": [
       "{'accuracy': 79.26509186351706,\n",
       " 'precision': 0.8111390004213173,\n",
       " 'recall': 0.7926509186351706,\n",
       " 'f1': 0.7862189758049549}"
      ]
     },
     "execution_count": 49,
     "metadata": {},
     "output_type": "execute_result"
    }
   ],
   "source": [
    "baseline_results"
   ]
  },
  {
   "cell_type": "code",
   "execution_count": 50,
   "id": "7078d014-7c33-4bf1-9d42-ff5b8f255882",
   "metadata": {
    "tags": []
   },
   "outputs": [
    {
     "data": {
      "text/plain": [
       "['', '[UNK]', 'the', 'a', 'in', 'to', 'of', 'and', 'i', 'is']"
      ]
     },
     "execution_count": 50,
     "metadata": {},
     "output_type": "execute_result"
    }
   ],
   "source": [
    "words_in_vocab = text_vectorizer.get_vocabulary()\n",
    "words_in_vocab[:10]"
   ]
  },
  {
   "cell_type": "code",
   "execution_count": 51,
   "id": "63c83bfa-0b30-4f64-b3f4-9a73971f484e",
   "metadata": {
    "tags": []
   },
   "outputs": [
    {
     "name": "stdout",
     "output_type": "stream",
     "text": [
      "Model: \"model_1_dense\"\n",
      "_________________________________________________________________\n",
      " Layer (type)                Output Shape              Param #   \n",
      "=================================================================\n",
      " input_1 (InputLayer)        [(None, 1)]               0         \n",
      "                                                                 \n",
      " text_vectorization_1 (Text  (None, 15)                0         \n",
      " Vectorization)                                                  \n",
      "                                                                 \n",
      " embedding (Embedding)       (None, 15, 128)           1280000   \n",
      "                                                                 \n",
      " global_max_pooling1d (Glob  (None, 128)               0         \n",
      " alMaxPooling1D)                                                 \n",
      "                                                                 \n",
      " dense (Dense)               (None, 1)                 129       \n",
      "                                                                 \n",
      "=================================================================\n",
      "Total params: 1280129 (4.88 MB)\n",
      "Trainable params: 1280129 (4.88 MB)\n",
      "Non-trainable params: 0 (0.00 Byte)\n",
      "_________________________________________________________________\n"
     ]
    }
   ],
   "source": [
    "model_1.summary()"
   ]
  },
  {
   "cell_type": "code",
   "execution_count": 53,
   "id": "bdcc4f28-5dd5-48ad-909f-f379650c72a4",
   "metadata": {
    "tags": []
   },
   "outputs": [],
   "source": [
    "embed_weights = model_1.get_layer(\"embedding\").get_weights()"
   ]
  },
  {
   "cell_type": "code",
   "execution_count": 61,
   "id": "76ec2af1-1ec8-40f5-a993-55133a504a21",
   "metadata": {
    "tags": []
   },
   "outputs": [
    {
     "data": {
      "text/plain": [
       "(10000, 128)"
      ]
     },
     "execution_count": 61,
     "metadata": {},
     "output_type": "execute_result"
    }
   ],
   "source": [
    "embed_weights[0].shape"
   ]
  },
  {
   "cell_type": "code",
   "execution_count": 69,
   "id": "9f13895a-ec84-4215-91b2-ab08d45aa7de",
   "metadata": {
    "tags": []
   },
   "outputs": [],
   "source": [
    "import io\n",
    "\n",
    "# Code to save trained embeddings to file - we got this from here: https://www.tensorflow.org/tutorials/text/word_embeddings#retrieve_the_trained_word_embeddings_and_save_them_to_disk\n",
    "out_v = io.open('vectors.tsv', 'w', encoding='utf-8')\n",
    "out_m = io.open('metadata.tsv', 'w', encoding='utf-8')\n",
    "\n",
    "for index, word in enumerate(words_in_vocab):\n",
    "    #print(index)\n",
    "    if index == 0:\n",
    "        continue  # skip 0, it's padding.\n",
    "    vec = embed_weights[0][index]\n",
    "    out_v.write('\\t'.join([str(x) for x in vec]) + \"\\n\")\n",
    "    out_m.write(word + \"\\n\")\n",
    "out_v.close()\n",
    "out_m.close()"
   ]
  },
  {
   "cell_type": "code",
   "execution_count": 66,
   "id": "57ac6fb8-8876-4997-8e31-68993759bd41",
   "metadata": {
    "tags": []
   },
   "outputs": [
    {
     "data": {
      "text/plain": [
       "['', '[UNK]', 'the', 'a', 'in', 'to', 'of', 'and', 'i', 'is']"
      ]
     },
     "execution_count": 66,
     "metadata": {},
     "output_type": "execute_result"
    }
   ],
   "source": [
    "words_in_vocab[:10]"
   ]
  },
  {
   "cell_type": "code",
   "execution_count": 68,
   "id": "e921e59b-9cb6-4299-909d-4b02d971041e",
   "metadata": {
    "tags": []
   },
   "outputs": [],
   "source": [
    "try:\n",
    "    from google.colab import files\n",
    "    files.download('vectors.tsv')\n",
    "    files.download('metadata.tsv')\n",
    "except Exception:\n",
    "    pass"
   ]
  },
  {
   "cell_type": "code",
   "execution_count": 70,
   "id": "3d58451b-3d92-4cd9-b382-4c2e991d4245",
   "metadata": {
    "tags": []
   },
   "outputs": [],
   "source": [
    "#RNN - Recurrent Neural Network"
   ]
  },
  {
   "cell_type": "code",
   "execution_count": 74,
   "id": "ce361bd4-555a-425f-aa45-ed48b3648305",
   "metadata": {
    "tags": []
   },
   "outputs": [
    {
     "name": "stdout",
     "output_type": "stream",
     "text": [
      "(None, 15)\n",
      "(None, 15, 128)\n",
      "(None, 15, 64)\n",
      "(None, 64)\n"
     ]
    }
   ],
   "source": [
    "#MODEL 2 LSTM - Long Short Term Memory\n",
    "from tensorflow.keras import layers\n",
    "inputs = layers.Input(shape=(1,),dtype=\"string\")\n",
    "x = text_vectorizer(inputs)\n",
    "print(x.shape)\n",
    "x = embedding(x)\n",
    "print(x.shape)\n",
    "x = layers.LSTM(units=64,return_sequences=True)(x)\n",
    "print(x.shape)\n",
    "x = layers.LSTM(64)(x)\n",
    "print(x.shape)\n",
    "#x = layers.Dense(64, activation=\"relu\")(x)\n",
    "outputs = layers.Dense(1,activation = \"sigmoid\")(x)\n",
    "model_2 = tf.keras.Model(inputs, outputs, name=\"model_2_LSTM\")"
   ]
  },
  {
   "cell_type": "code",
   "execution_count": 75,
   "id": "c69750b5-341a-4c59-9236-3d45729c34f0",
   "metadata": {
    "tags": []
   },
   "outputs": [
    {
     "name": "stdout",
     "output_type": "stream",
     "text": [
      "Model: \"model_2_LSTM\"\n",
      "_________________________________________________________________\n",
      " Layer (type)                Output Shape              Param #   \n",
      "=================================================================\n",
      " input_4 (InputLayer)        [(None, 1)]               0         \n",
      "                                                                 \n",
      " text_vectorization_1 (Text  (None, 15)                0         \n",
      " Vectorization)                                                  \n",
      "                                                                 \n",
      " embedding (Embedding)       (None, 15, 128)           1280000   \n",
      "                                                                 \n",
      " lstm_4 (LSTM)               (None, 15, 64)            49408     \n",
      "                                                                 \n",
      " lstm_5 (LSTM)               (None, 64)                33024     \n",
      "                                                                 \n",
      " dense_5 (Dense)             (None, 1)                 65        \n",
      "                                                                 \n",
      "=================================================================\n",
      "Total params: 1362497 (5.20 MB)\n",
      "Trainable params: 1362497 (5.20 MB)\n",
      "Non-trainable params: 0 (0.00 Byte)\n",
      "_________________________________________________________________\n"
     ]
    }
   ],
   "source": [
    "model_2.summary()"
   ]
  },
  {
   "cell_type": "code",
   "execution_count": 78,
   "id": "4eb435ed-b2c7-4a11-b74d-3a2e8c5a17bf",
   "metadata": {
    "tags": []
   },
   "outputs": [],
   "source": [
    "model_2.compile(loss=\"binary_crossentropy\",\n",
    "               optimizer = tf.keras.optimizers.Adam(),\n",
    "               metrics = [\"accuracy\"])"
   ]
  },
  {
   "cell_type": "code",
   "execution_count": 79,
   "id": "f6e9b529-566a-4ca1-9855-75eaad47c81a",
   "metadata": {
    "tags": []
   },
   "outputs": [
    {
     "name": "stdout",
     "output_type": "stream",
     "text": [
      "Saving TensorBoard log files to: model_logs/model_2_LSTM/20230920-143131\n",
      "Epoch 1/5\n",
      "215/215 [==============================] - 12s 40ms/step - loss: 0.3737 - accuracy: 0.8326 - val_loss: 0.4738 - val_accuracy: 0.7940\n",
      "Epoch 2/5\n",
      "215/215 [==============================] - 9s 44ms/step - loss: 0.2476 - accuracy: 0.9026 - val_loss: 0.5340 - val_accuracy: 0.7769\n",
      "Epoch 3/5\n",
      "215/215 [==============================] - 10s 47ms/step - loss: 0.1780 - accuracy: 0.9355 - val_loss: 0.5444 - val_accuracy: 0.7743\n",
      "Epoch 4/5\n",
      "215/215 [==============================] - 10s 48ms/step - loss: 0.1378 - accuracy: 0.9545 - val_loss: 0.6352 - val_accuracy: 0.7808\n",
      "Epoch 5/5\n",
      "215/215 [==============================] - 10s 47ms/step - loss: 0.1112 - accuracy: 0.9600 - val_loss: 0.8312 - val_accuracy: 0.7677\n"
     ]
    }
   ],
   "source": [
    "model_2_history = model_2.fit(train_sen,train_lab,epochs=5,\n",
    "                             validation_data=(val_sen,val_lab),callbacks = [create_tensorboard_callback(SAVE_DIR,\"model_2_LSTM\")])"
   ]
  },
  {
   "cell_type": "code",
   "execution_count": 80,
   "id": "9252728a-69bc-45af-bce9-7c235fa48fa9",
   "metadata": {
    "tags": []
   },
   "outputs": [
    {
     "name": "stdout",
     "output_type": "stream",
     "text": [
      "24/24 [==============================] - 1s 4ms/step\n"
     ]
    },
    {
     "data": {
      "text/plain": [
       "array([[ 0.8077557 ],\n",
       "       [95.14631   ],\n",
       "       [99.79685   ],\n",
       "       [ 0.45730025],\n",
       "       [ 0.54192203],\n",
       "       [99.81753   ],\n",
       "       [53.001385  ],\n",
       "       [99.957085  ],\n",
       "       [99.94677   ],\n",
       "       [ 4.5288687 ]], dtype=float32)"
      ]
     },
     "execution_count": 80,
     "metadata": {},
     "output_type": "execute_result"
    }
   ],
   "source": [
    "#make predictions \n",
    "model_2_pred_probs = model_2.predict(val_sen)\n",
    "model_2_pred_probs[:10]*100"
   ]
  },
  {
   "cell_type": "code",
   "execution_count": 82,
   "id": "c562e304-6766-46dd-a5e1-46318f2e2854",
   "metadata": {
    "tags": []
   },
   "outputs": [
    {
     "data": {
      "text/plain": [
       "array([0, 0, 1, 1, 1, 1, 1, 1, 1, 0], dtype=int64)"
      ]
     },
     "execution_count": 82,
     "metadata": {},
     "output_type": "execute_result"
    }
   ],
   "source": [
    "val_lab[:10]"
   ]
  },
  {
   "cell_type": "code",
   "execution_count": 87,
   "id": "c84d6b49-c090-400a-ba94-58bb886c9ecf",
   "metadata": {
    "tags": []
   },
   "outputs": [],
   "source": [
    "model_2_preds = tf.squeeze(tf.round(model_2_pred_probs))\n",
    "model_2_results = calculate_resuts(val_lab,model_2_preds)"
   ]
  },
  {
   "cell_type": "code",
   "execution_count": 90,
   "id": "8e9c9b89-efc2-4439-a146-aac2ee6db3fd",
   "metadata": {
    "tags": []
   },
   "outputs": [
    {
     "data": {
      "text/plain": [
       "{'accuracy': 76.77165354330708,\n",
       " 'precision': 0.7823170011167755,\n",
       " 'recall': 0.7677165354330708,\n",
       " 'f1': 0.7608603371570797}"
      ]
     },
     "execution_count": 90,
     "metadata": {},
     "output_type": "execute_result"
    }
   ],
   "source": [
    "model_2_results"
   ]
  },
  {
   "cell_type": "code",
   "execution_count": 111,
   "id": "22167bc5-f88f-4672-98a1-aefbbb33f82b",
   "metadata": {
    "tags": []
   },
   "outputs": [],
   "source": [
    "from tensorflow.keras import layers\n",
    "inputs = layers.Input(shape=(1,),dtype=\"string\")\n",
    "x = text_vectorizer(inputs)\n",
    "x = embedding(x)\n",
    "#x = layers.LSTM(units=128,return_sequences=True)(x)\n",
    "#x = layers.LSTM(units=64,return_sequences=True)(x)\n",
    "#x = layers.LSTM(64)(x)\n",
    "#x = layers.Dense(64, activation=\"tanh\")(x)\n",
    "outputs = layers.Dense(1,activation = \"sigmoid\")(x)\n",
    "model_2_1 = tf.keras.Model(inputs, outputs, name=\"model_2_LSTM\")"
   ]
  },
  {
   "cell_type": "code",
   "execution_count": 114,
   "id": "e195bae1-8214-44ab-ab4d-27825e225041",
   "metadata": {
    "tags": []
   },
   "outputs": [],
   "source": [
    "model_2_1.compile(loss=\"binary_crossentropy\",\n",
    "               optimizer = tf.keras.optimizers.Adam(),\n",
    "               metrics = [\"accuracy\"])"
   ]
  },
  {
   "cell_type": "code",
   "execution_count": 115,
   "id": "b6868a75-41f4-4530-bd45-ff54f42eb6ff",
   "metadata": {
    "tags": []
   },
   "outputs": [
    {
     "name": "stdout",
     "output_type": "stream",
     "text": [
      "Saving TensorBoard log files to: model_logs/model_2_LSTM/20230920-144541\n",
      "Epoch 1/5\n",
      "215/215 [==============================] - 6s 27ms/step - loss: 0.0245 - accuracy: 0.9863 - val_loss: 2.0054 - val_accuracy: 0.7467\n",
      "Epoch 2/5\n",
      "215/215 [==============================] - 6s 27ms/step - loss: 0.0243 - accuracy: 0.9861 - val_loss: 1.9984 - val_accuracy: 0.7336\n",
      "Epoch 3/5\n",
      "215/215 [==============================] - 6s 26ms/step - loss: 0.0238 - accuracy: 0.9867 - val_loss: 2.1265 - val_accuracy: 0.7454\n",
      "Epoch 4/5\n",
      "215/215 [==============================] - 6s 27ms/step - loss: 0.0239 - accuracy: 0.9869 - val_loss: 2.1647 - val_accuracy: 0.7454\n",
      "Epoch 5/5\n",
      "215/215 [==============================] - 6s 26ms/step - loss: 0.0237 - accuracy: 0.9860 - val_loss: 2.2086 - val_accuracy: 0.7428\n"
     ]
    }
   ],
   "source": [
    "model_2_1_history = model_2.fit(train_sen,train_lab,epochs=5,\n",
    "                             validation_data=(val_sen,val_lab),callbacks = [create_tensorboard_callback(SAVE_DIR,\"model_2_LSTM\")])"
   ]
  },
  {
   "cell_type": "code",
   "execution_count": 117,
   "id": "44a6ab83-fb14-4805-97db-5f9ed8d4e7c0",
   "metadata": {
    "tags": []
   },
   "outputs": [],
   "source": [
    "#MODEL 3 GRU - Gated Recurrent Unit\n",
    "\n",
    "inputs = layers.Input(shape=(1,),dtype=tf.string)\n",
    "x = text_vectorizer(inputs)\n",
    "x = embedding(x)\n",
    "x = layers.GRU(64,return_sequences=True)(x)\n",
    "#x = layers.LSTM(42,return_sequences=True)(x)\n",
    "#x = layers.GRU(99)(x)\n",
    "#x = layers.Dense(64,activation=\"relu\")(x)\n",
    "x = layers.GlobalAveragePooling1D()(x)\n",
    "outputs = layers.Dense(1,activation=\"sigmoid\")(x)\n",
    "model_3 = tf.keras.Model(inputs, outputs, name=\"model_3_GRU\")"
   ]
  },
  {
   "cell_type": "code",
   "execution_count": 118,
   "id": "60603416-33a0-4264-b2e3-8e04609d92f5",
   "metadata": {
    "tags": []
   },
   "outputs": [
    {
     "name": "stdout",
     "output_type": "stream",
     "text": [
      "Model: \"model_3_GRU\"\n",
      "_________________________________________________________________\n",
      " Layer (type)                Output Shape              Param #   \n",
      "=================================================================\n",
      " input_12 (InputLayer)       [(None, 1)]               0         \n",
      "                                                                 \n",
      " text_vectorization_1 (Text  (None, 15)                0         \n",
      " Vectorization)                                                  \n",
      "                                                                 \n",
      " embedding (Embedding)       (None, 15, 128)           1280000   \n",
      "                                                                 \n",
      " gru_2 (GRU)                 (None, 15, 64)            37248     \n",
      "                                                                 \n",
      " global_average_pooling1d (  (None, 64)                0         \n",
      " GlobalAveragePooling1D)                                         \n",
      "                                                                 \n",
      " dense_19 (Dense)            (None, 1)                 65        \n",
      "                                                                 \n",
      "=================================================================\n",
      "Total params: 1317313 (5.03 MB)\n",
      "Trainable params: 1317313 (5.03 MB)\n",
      "Non-trainable params: 0 (0.00 Byte)\n",
      "_________________________________________________________________\n"
     ]
    }
   ],
   "source": [
    "model_3.summary()"
   ]
  },
  {
   "cell_type": "code",
   "execution_count": 119,
   "id": "f2c7e158-a837-4d7d-bf70-ccbb6419e028",
   "metadata": {
    "tags": []
   },
   "outputs": [],
   "source": [
    "model_3.compile(loss=\"binary_crossentropy\",\n",
    "               optimizer = \"Adam\",\n",
    "               metrics=[\"accuracy\"])"
   ]
  },
  {
   "cell_type": "code",
   "execution_count": 120,
   "id": "9675fafb-d5bd-4b7d-9b8d-17a9fd72d9bf",
   "metadata": {
    "tags": []
   },
   "outputs": [
    {
     "name": "stdout",
     "output_type": "stream",
     "text": [
      "Epoch 1/5\n",
      "215/215 [==============================] - 11s 40ms/step - loss: 0.1944 - accuracy: 0.9277 - val_loss: 0.7633 - val_accuracy: 0.7572\n",
      "Epoch 2/5\n",
      "215/215 [==============================] - 9s 42ms/step - loss: 0.0766 - accuracy: 0.9734 - val_loss: 1.0645 - val_accuracy: 0.7533\n",
      "Epoch 3/5\n",
      "215/215 [==============================] - 9s 41ms/step - loss: 0.0528 - accuracy: 0.9775 - val_loss: 1.2272 - val_accuracy: 0.7336\n",
      "Epoch 4/5\n",
      "215/215 [==============================] - 9s 44ms/step - loss: 0.0434 - accuracy: 0.9806 - val_loss: 1.2067 - val_accuracy: 0.7362\n",
      "Epoch 5/5\n",
      "215/215 [==============================] - 9s 43ms/step - loss: 0.0390 - accuracy: 0.9823 - val_loss: 1.4833 - val_accuracy: 0.7520\n"
     ]
    }
   ],
   "source": [
    "model_3_history = model_3.fit(train_sen,train_lab,epochs=5, validation_data = (val_sen,val_lab))"
   ]
  },
  {
   "cell_type": "code",
   "execution_count": 121,
   "id": "10aae1af-bbc2-4207-bcc8-feef52387c93",
   "metadata": {
    "tags": []
   },
   "outputs": [
    {
     "name": "stdout",
     "output_type": "stream",
     "text": [
      "24/24 [==============================] - 1s 4ms/step\n"
     ]
    },
    {
     "data": {
      "text/plain": [
       "array([[1.6292954e-04],\n",
       "       [6.0934973e-01],\n",
       "       [9.9887830e-01],\n",
       "       [3.7152380e-02],\n",
       "       [2.3947605e-04],\n",
       "       [9.9999529e-01],\n",
       "       [9.9817419e-01],\n",
       "       [9.9999416e-01],\n",
       "       [9.9999291e-01],\n",
       "       [7.2866991e-02]], dtype=float32)"
      ]
     },
     "execution_count": 121,
     "metadata": {},
     "output_type": "execute_result"
    }
   ],
   "source": [
    "model_3_pred_prob = model_3.predict(val_sen)\n",
    "model_3_pred_prob[:10]"
   ]
  },
  {
   "cell_type": "code",
   "execution_count": 125,
   "id": "cd5c163e-13dc-41a5-b49b-5c6a62d4c423",
   "metadata": {
    "tags": []
   },
   "outputs": [
    {
     "data": {
      "text/plain": [
       "<tf.Tensor: shape=(10,), dtype=float32, numpy=array([0., 1., 1., 0., 0., 1., 1., 1., 1., 0.], dtype=float32)>"
      ]
     },
     "execution_count": 125,
     "metadata": {},
     "output_type": "execute_result"
    }
   ],
   "source": [
    "model_3_pred = tf.squeeze(tf.round(model_3_pred_prob))\n",
    "model_3_pred[:10]"
   ]
  },
  {
   "cell_type": "code",
   "execution_count": 127,
   "id": "6c88f6f7-034c-4930-a07f-b8ddd76bf49b",
   "metadata": {
    "tags": []
   },
   "outputs": [],
   "source": [
    "model_3_results = calculate_resuts(val_lab, model_3_pred)"
   ]
  },
  {
   "cell_type": "code",
   "execution_count": 129,
   "id": "9941a24a-17ae-414d-99ef-f01a6c49ba17",
   "metadata": {
    "tags": []
   },
   "outputs": [
    {
     "data": {
      "text/plain": [
       "{'accuracy': 75.19685039370079,\n",
       " 'precision': 0.7575330533748617,\n",
       " 'recall': 0.7519685039370079,\n",
       " 'f1': 0.747484854432977}"
      ]
     },
     "execution_count": 129,
     "metadata": {},
     "output_type": "execute_result"
    }
   ],
   "source": [
    "model_3_results"
   ]
  },
  {
   "cell_type": "code",
   "execution_count": 133,
   "id": "b735d4b2-a58c-43df-9654-6454dcb5b3b5",
   "metadata": {
    "tags": []
   },
   "outputs": [],
   "source": [
    "#MODEL4 BiDirectional\n",
    "inputs = layers.Input(shape=(1,),dtype=\"string\")\n",
    "x = text_vectorizer(inputs)\n",
    "x = embedding(x)\n",
    "#x = layers.Bidirectional(layers.LSTM(64, return_sequences=True))(x)\n",
    "x = layers.Bidirectional(layers.GRU(64))(x)\n",
    "outputs = layers.Dense(1,activation=\"sigmoid\")(x)\n",
    "model_4 = tf.keras.Model(inputs, outputs,name=\"model_4_bidirectional\")"
   ]
  },
  {
   "cell_type": "code",
   "execution_count": 134,
   "id": "a5864446-cf56-4598-8b65-4893c449e24e",
   "metadata": {
    "tags": []
   },
   "outputs": [
    {
     "name": "stdout",
     "output_type": "stream",
     "text": [
      "Model: \"model_4_bidirectional\"\n",
      "_________________________________________________________________\n",
      " Layer (type)                Output Shape              Param #   \n",
      "=================================================================\n",
      " input_15 (InputLayer)       [(None, 1)]               0         \n",
      "                                                                 \n",
      " text_vectorization_1 (Text  (None, 15)                0         \n",
      " Vectorization)                                                  \n",
      "                                                                 \n",
      " embedding (Embedding)       (None, 15, 128)           1280000   \n",
      "                                                                 \n",
      " bidirectional_4 (Bidirecti  (None, 128)               74496     \n",
      " onal)                                                           \n",
      "                                                                 \n",
      " dense_22 (Dense)            (None, 1)                 129       \n",
      "                                                                 \n",
      "=================================================================\n",
      "Total params: 1354625 (5.17 MB)\n",
      "Trainable params: 1354625 (5.17 MB)\n",
      "Non-trainable params: 0 (0.00 Byte)\n",
      "_________________________________________________________________\n"
     ]
    }
   ],
   "source": [
    "model_4.summary()"
   ]
  },
  {
   "cell_type": "code",
   "execution_count": 136,
   "id": "735b66f9-1d40-4a5e-a6fa-bc144504754f",
   "metadata": {
    "tags": []
   },
   "outputs": [],
   "source": [
    "model_4.compile(loss=\"binary_crossentropy\",\n",
    "               optimizer = \"Adam\",\n",
    "               metrics=[\"accuracy\"])"
   ]
  },
  {
   "cell_type": "code",
   "execution_count": 138,
   "id": "ee8b2188-be88-4e27-91dd-c64dfda02d5b",
   "metadata": {
    "tags": []
   },
   "outputs": [
    {
     "name": "stdout",
     "output_type": "stream",
     "text": [
      "Epoch 1/6\n",
      "215/215 [==============================] - 13s 44ms/step - loss: 0.1335 - accuracy: 0.9502 - val_loss: 1.0766 - val_accuracy: 0.7651\n",
      "Epoch 2/6\n",
      "215/215 [==============================] - 10s 45ms/step - loss: 0.0462 - accuracy: 0.9784 - val_loss: 1.0101 - val_accuracy: 0.7454\n",
      "Epoch 3/6\n",
      "215/215 [==============================] - 10s 45ms/step - loss: 0.0371 - accuracy: 0.9813 - val_loss: 1.3225 - val_accuracy: 0.7493\n",
      "Epoch 4/6\n",
      "215/215 [==============================] - 10s 46ms/step - loss: 0.0323 - accuracy: 0.9823 - val_loss: 1.4053 - val_accuracy: 0.7520\n",
      "Epoch 5/6\n",
      "215/215 [==============================] - 10s 46ms/step - loss: 0.0307 - accuracy: 0.9819 - val_loss: 1.3060 - val_accuracy: 0.7415\n",
      "Epoch 6/6\n",
      "215/215 [==============================] - 10s 47ms/step - loss: 0.0376 - accuracy: 0.9815 - val_loss: 1.4293 - val_accuracy: 0.7507\n"
     ]
    }
   ],
   "source": [
    "model_4_history = model_4.fit(train_sen,train_lab,epochs=6, validation_data=(val_sen,val_lab))"
   ]
  },
  {
   "cell_type": "code",
   "execution_count": 139,
   "id": "40962940-bcc5-42ae-a9da-c45791026ff0",
   "metadata": {
    "tags": []
   },
   "outputs": [
    {
     "name": "stdout",
     "output_type": "stream",
     "text": [
      "24/24 [==============================] - 1s 4ms/step\n"
     ]
    },
    {
     "data": {
      "text/plain": [
       "array([[3.5633839e-04],\n",
       "       [9.5224088e-01],\n",
       "       [9.9994653e-01],\n",
       "       [1.1921198e-01],\n",
       "       [1.1720209e-04],\n",
       "       [9.9981481e-01],\n",
       "       [9.9765605e-01],\n",
       "       [9.9999213e-01],\n",
       "       [9.9998957e-01],\n",
       "       [7.9106176e-01]], dtype=float32)"
      ]
     },
     "execution_count": 139,
     "metadata": {},
     "output_type": "execute_result"
    }
   ],
   "source": [
    "model_4_pred_probs = model_4.predict(val_sen)\n",
    "model_4_pred_probs[:10]"
   ]
  },
  {
   "cell_type": "code",
   "execution_count": 143,
   "id": "f6883bc0-2bce-4d48-a6d9-e7a47e43d4b8",
   "metadata": {
    "tags": []
   },
   "outputs": [
    {
     "data": {
      "text/plain": [
       "<tf.Tensor: shape=(10,), dtype=float32, numpy=array([0., 1., 1., 0., 0., 1., 1., 1., 1., 1.], dtype=float32)>"
      ]
     },
     "execution_count": 143,
     "metadata": {},
     "output_type": "execute_result"
    }
   ],
   "source": [
    "model_4_pred = tf.squeeze(tf.round(model_4_pred_probs))\n",
    "model_4_pred[:10]"
   ]
  },
  {
   "cell_type": "code",
   "execution_count": 144,
   "id": "9887ec6a-af05-43ab-9629-147127b6303f",
   "metadata": {
    "tags": []
   },
   "outputs": [],
   "source": [
    "model_4_results = calculate_resuts(val_lab,model_4_pred)"
   ]
  },
  {
   "cell_type": "code",
   "execution_count": 145,
   "id": "b6582e51-db75-410e-9b8b-388c71609db2",
   "metadata": {
    "tags": []
   },
   "outputs": [
    {
     "data": {
      "text/plain": [
       "{'accuracy': 75.06561679790026,\n",
       " 'precision': 0.7511704709318223,\n",
       " 'recall': 0.7506561679790026,\n",
       " 'f1': 0.7487994714665389}"
      ]
     },
     "execution_count": 145,
     "metadata": {},
     "output_type": "execute_result"
    }
   ],
   "source": [
    "model_4_results"
   ]
  },
  {
   "cell_type": "code",
   "execution_count": 146,
   "id": "3b01d71b-62cb-47d9-a931-154d72a71595",
   "metadata": {
    "tags": []
   },
   "outputs": [
    {
     "data": {
      "text/plain": [
       "(TensorShape([1, 15, 128]), TensorShape([1, 11, 32]), TensorShape([1, 32]))"
      ]
     },
     "execution_count": 146,
     "metadata": {},
     "output_type": "execute_result"
    }
   ],
   "source": [
    "#MODEL 5 Conv1D\n",
    "\n",
    "embedding_test = embedding(text_vectorizer([\"this is a test sentence\"]))\n",
    "conv_1d = layers.Conv1D(filters=32,kernel_size=5,activation=\"relu\",padding=\"valid\")\n",
    "conv_1d_output = conv_1d(embedding_test)\n",
    "max_pool = layers.GlobalMaxPool1D()\n",
    "max_pool_output = max_pool(conv_1d_output)\n",
    "\n",
    "embedding_test.shape, conv_1d_output.shape, max_pool_output.shape"
   ]
  },
  {
   "cell_type": "code",
   "execution_count": 147,
   "id": "884c475c-8e81-47cd-929e-29a346207c57",
   "metadata": {
    "tags": []
   },
   "outputs": [
    {
     "data": {
      "text/plain": [
       "(<tf.Tensor: shape=(1, 15, 128), dtype=float32, numpy=\n",
       " array([[[-0.06314449, -0.12392423,  0.04029237, ..., -0.05040809,\n",
       "          -0.08832544, -0.14402828],\n",
       "         [-0.05903536, -0.15985551,  0.03025048, ..., -0.06139763,\n",
       "          -0.03200936, -0.08880804],\n",
       "         [-0.11328594, -0.11914556, -0.06083946, ..., -0.00295749,\n",
       "          -0.08070169, -0.19928318],\n",
       "         ...,\n",
       "         [-0.04981161, -0.1416941 ,  0.07250482, ..., -0.03215808,\n",
       "          -0.08027259, -0.13103412],\n",
       "         [-0.04981161, -0.1416941 ,  0.07250482, ..., -0.03215808,\n",
       "          -0.08027259, -0.13103412],\n",
       "         [-0.04981161, -0.1416941 ,  0.07250482, ..., -0.03215808,\n",
       "          -0.08027259, -0.13103412]]], dtype=float32)>,\n",
       " <tf.Tensor: shape=(1, 11, 32), dtype=float32, numpy=\n",
       " array([[[0.        , 0.        , 0.        , 0.25098237, 0.        ,\n",
       "          0.        , 0.        , 0.02643723, 0.12282584, 0.        ,\n",
       "          0.        , 0.        , 0.        , 0.        , 0.0522891 ,\n",
       "          0.        , 0.        , 0.        , 0.11780321, 0.1184326 ,\n",
       "          0.        , 0.        , 0.        , 0.        , 0.34855455,\n",
       "          0.        , 0.02135151, 0.        , 0.        , 0.        ,\n",
       "          0.1278513 , 0.03693749],\n",
       "         [0.        , 0.        , 0.06618609, 0.330285  , 0.04569506,\n",
       "          0.        , 0.05989286, 0.        , 0.        , 0.05152114,\n",
       "          0.01401857, 0.        , 0.16327487, 0.        , 0.09904996,\n",
       "          0.        , 0.        , 0.        , 0.09944789, 0.07693099,\n",
       "          0.        , 0.0104955 , 0.12239903, 0.        , 0.0543494 ,\n",
       "          0.        , 0.02896409, 0.07801261, 0.        , 0.11829185,\n",
       "          0.        , 0.09325042],\n",
       "         [0.        , 0.        , 0.08063778, 0.05697323, 0.1325504 ,\n",
       "          0.        , 0.11875253, 0.        , 0.        , 0.08233066,\n",
       "          0.04809965, 0.        , 0.14748517, 0.        , 0.01108404,\n",
       "          0.09017541, 0.02845905, 0.        , 0.        , 0.22063673,\n",
       "          0.        , 0.        , 0.04041956, 0.        , 0.09341511,\n",
       "          0.        , 0.0284934 , 0.09830931, 0.        , 0.1464827 ,\n",
       "          0.05256579, 0.00780044],\n",
       "         [0.        , 0.        , 0.08034918, 0.29507032, 0.21384487,\n",
       "          0.        , 0.08967827, 0.        , 0.        , 0.        ,\n",
       "          0.        , 0.06065242, 0.        , 0.        , 0.        ,\n",
       "          0.06178849, 0.03447337, 0.        , 0.01374887, 0.01229584,\n",
       "          0.14790449, 0.        , 0.        , 0.        , 0.24334347,\n",
       "          0.        , 0.04979353, 0.1361377 , 0.        , 0.16878608,\n",
       "          0.04770108, 0.01559128],\n",
       "         [0.        , 0.        , 0.02422813, 0.25299883, 0.19607767,\n",
       "          0.        , 0.01193642, 0.01604342, 0.        , 0.05730661,\n",
       "          0.        , 0.        , 0.        , 0.        , 0.        ,\n",
       "          0.        , 0.        , 0.        , 0.06350768, 0.03209671,\n",
       "          0.        , 0.        , 0.        , 0.        , 0.18078758,\n",
       "          0.        , 0.        , 0.04130241, 0.        , 0.2052573 ,\n",
       "          0.06053953, 0.1614002 ],\n",
       "         [0.        , 0.        , 0.00560348, 0.2069661 , 0.14606619,\n",
       "          0.        , 0.16934192, 0.04144725, 0.        , 0.05765118,\n",
       "          0.        , 0.03623739, 0.04685206, 0.        , 0.        ,\n",
       "          0.        , 0.        , 0.        , 0.07295733, 0.12849644,\n",
       "          0.        , 0.01097773, 0.        , 0.        , 0.16354357,\n",
       "          0.        , 0.        , 0.07426596, 0.        , 0.16562256,\n",
       "          0.03169437, 0.11255729],\n",
       "         [0.        , 0.        , 0.00560348, 0.2069661 , 0.14606619,\n",
       "          0.        , 0.16934192, 0.04144725, 0.        , 0.05765118,\n",
       "          0.        , 0.03623739, 0.04685206, 0.        , 0.        ,\n",
       "          0.        , 0.        , 0.        , 0.07295733, 0.12849644,\n",
       "          0.        , 0.01097773, 0.        , 0.        , 0.16354357,\n",
       "          0.        , 0.        , 0.07426596, 0.        , 0.16562256,\n",
       "          0.03169437, 0.11255729],\n",
       "         [0.        , 0.        , 0.00560348, 0.2069661 , 0.14606619,\n",
       "          0.        , 0.16934192, 0.04144725, 0.        , 0.05765118,\n",
       "          0.        , 0.03623739, 0.04685206, 0.        , 0.        ,\n",
       "          0.        , 0.        , 0.        , 0.07295733, 0.12849644,\n",
       "          0.        , 0.01097773, 0.        , 0.        , 0.16354357,\n",
       "          0.        , 0.        , 0.07426596, 0.        , 0.16562256,\n",
       "          0.03169437, 0.11255729],\n",
       "         [0.        , 0.        , 0.00560348, 0.2069661 , 0.14606619,\n",
       "          0.        , 0.16934192, 0.04144725, 0.        , 0.05765118,\n",
       "          0.        , 0.03623739, 0.04685206, 0.        , 0.        ,\n",
       "          0.        , 0.        , 0.        , 0.07295733, 0.12849644,\n",
       "          0.        , 0.01097773, 0.        , 0.        , 0.16354357,\n",
       "          0.        , 0.        , 0.07426596, 0.        , 0.16562256,\n",
       "          0.03169437, 0.11255729],\n",
       "         [0.        , 0.        , 0.00560348, 0.2069661 , 0.14606619,\n",
       "          0.        , 0.16934192, 0.04144725, 0.        , 0.05765118,\n",
       "          0.        , 0.03623739, 0.04685206, 0.        , 0.        ,\n",
       "          0.        , 0.        , 0.        , 0.07295733, 0.12849644,\n",
       "          0.        , 0.01097773, 0.        , 0.        , 0.16354357,\n",
       "          0.        , 0.        , 0.07426596, 0.        , 0.16562256,\n",
       "          0.03169437, 0.11255729],\n",
       "         [0.        , 0.        , 0.00560348, 0.2069661 , 0.14606619,\n",
       "          0.        , 0.16934192, 0.04144725, 0.        , 0.05765118,\n",
       "          0.        , 0.03623739, 0.04685206, 0.        , 0.        ,\n",
       "          0.        , 0.        , 0.        , 0.07295733, 0.12849644,\n",
       "          0.        , 0.01097773, 0.        , 0.        , 0.16354357,\n",
       "          0.        , 0.        , 0.07426596, 0.        , 0.16562256,\n",
       "          0.03169437, 0.11255729]]], dtype=float32)>)"
      ]
     },
     "execution_count": 147,
     "metadata": {},
     "output_type": "execute_result"
    }
   ],
   "source": [
    "embedding_test, conv_1d_output"
   ]
  },
  {
   "cell_type": "code",
   "execution_count": null,
   "id": "c20dfe86-d0ae-4d64-bff9-560e58f768f8",
   "metadata": {},
   "outputs": [],
   "source": []
  }
 ],
 "metadata": {
  "kernelspec": {
   "display_name": "Python 3 (ipykernel)",
   "language": "python",
   "name": "python3"
  },
  "language_info": {
   "codemirror_mode": {
    "name": "ipython",
    "version": 3
   },
   "file_extension": ".py",
   "mimetype": "text/x-python",
   "name": "python",
   "nbconvert_exporter": "python",
   "pygments_lexer": "ipython3",
   "version": "3.11.4"
  }
 },
 "nbformat": 4,
 "nbformat_minor": 5
}
