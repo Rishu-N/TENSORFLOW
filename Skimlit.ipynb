{
 "cells": [
  {
   "cell_type": "code",
   "execution_count": 1,
   "id": "a6bcfe7e-9514-4e16-ba7e-c940eab643a4",
   "metadata": {
    "tags": []
   },
   "outputs": [],
   "source": [
    "#Get the data (20K dataset with numbers replaced with @)\n",
    "data_dir = \"pubmed-rct-master/PubMed_20k_RCT_numbers_replaced_with_at_sign/\""
   ]
  },
  {
   "cell_type": "code",
   "execution_count": 2,
   "id": "0277a811-1baa-4479-b9d4-5fc46fff7f50",
   "metadata": {
    "tags": []
   },
   "outputs": [
    {
     "data": {
      "text/plain": [
       "['pubmed-rct-master/PubMed_20k_RCT_numbers_replaced_with_at_sign/dev.txt',\n",
       " 'pubmed-rct-master/PubMed_20k_RCT_numbers_replaced_with_at_sign/test.txt',\n",
       " 'pubmed-rct-master/PubMed_20k_RCT_numbers_replaced_with_at_sign/train.txt']"
      ]
     },
     "execution_count": 2,
     "metadata": {},
     "output_type": "execute_result"
    }
   ],
   "source": [
    "import os \n",
    "filenames = [data_dir + filename for filename in os.listdir(data_dir)]\n",
    "filenames"
   ]
  },
  {
   "cell_type": "code",
   "execution_count": 3,
   "id": "100ab55f-94b2-4ccd-817d-171034cbe49c",
   "metadata": {
    "tags": []
   },
   "outputs": [],
   "source": [
    "def get_lines(filename):\n",
    "    \n",
    "    with open(filename,\"r\") as f:\n",
    "        return f.readlines()"
   ]
  },
  {
   "cell_type": "code",
   "execution_count": 4,
   "id": "a3d55881-dc7c-4b0d-ba1e-eb84b8e8c1df",
   "metadata": {
    "tags": []
   },
   "outputs": [
    {
     "data": {
      "text/plain": [
       "['###24293578\\n',\n",
       " 'OBJECTIVE\\tTo investigate the efficacy of @ weeks of daily low-dose oral prednisolone in improving pain , mobility , and systemic low-grade inflammation in the short term and whether the effect would be sustained at @ weeks in older adults with moderate to severe knee osteoarthritis ( OA ) .\\n',\n",
       " 'METHODS\\tA total of @ patients with primary knee OA were randomized @:@ ; @ received @ mg/day of prednisolone and @ received placebo for @ weeks .\\n',\n",
       " 'METHODS\\tOutcome measures included pain reduction and improvement in function scores and systemic inflammation markers .\\n',\n",
       " 'METHODS\\tPain was assessed using the visual analog pain scale ( @-@ mm ) .\\n',\n",
       " 'METHODS\\tSecondary outcome measures included the Western Ontario and McMaster Universities Osteoarthritis Index scores , patient global assessment ( PGA ) of the severity of knee OA , and @-min walk distance ( @MWD ) .\\n',\n",
       " 'METHODS\\tSerum levels of interleukin @ ( IL-@ ) , IL-@ , tumor necrosis factor ( TNF ) - , and high-sensitivity C-reactive protein ( hsCRP ) were measured .\\n',\n",
       " 'RESULTS\\tThere was a clinically relevant reduction in the intervention group compared to the placebo group for knee pain , physical function , PGA , and @MWD at @ weeks .\\n',\n",
       " 'RESULTS\\tThe mean difference between treatment arms ( @ % CI ) was @ ( @-@ @ ) , p < @ ; @ ( @-@ @ ) , p < @ ; @ ( @-@ @ ) , p < @ ; and @ ( @-@ @ ) , p < @ , respectively .\\n',\n",
       " 'RESULTS\\tFurther , there was a clinically relevant reduction in the serum levels of IL-@ , IL-@ , TNF - , and hsCRP at @ weeks in the intervention group when compared to the placebo group .\\n',\n",
       " 'RESULTS\\tThese differences remained significant at @ weeks .\\n',\n",
       " 'RESULTS\\tThe Outcome Measures in Rheumatology Clinical Trials-Osteoarthritis Research Society International responder rate was @ % in the intervention group and @ % in the placebo group ( p < @ ) .\\n',\n",
       " 'CONCLUSIONS\\tLow-dose oral prednisolone had both a short-term and a longer sustained effect resulting in less knee pain , better physical function , and attenuation of systemic inflammation in older patients with knee OA ( ClinicalTrials.gov identifier NCT@ ) .\\n',\n",
       " '\\n',\n",
       " '###24854809\\n',\n",
       " 'BACKGROUND\\tEmotional eating is associated with overeating and the development of obesity .\\n',\n",
       " 'BACKGROUND\\tYet , empirical evidence for individual ( trait ) differences in emotional eating and cognitive mechanisms that contribute to eating during sad mood remain equivocal .\\n',\n",
       " 'OBJECTIVE\\tThe aim of this study was to test if attention bias for food moderates the effect of self-reported emotional eating during sad mood ( vs neutral mood ) on actual food intake .\\n',\n",
       " 'OBJECTIVE\\tIt was expected that emotional eating is predictive of elevated attention for food and higher food intake after an experimentally induced sad mood and that attentional maintenance on food predicts food intake during a sad versus a neutral mood .\\n',\n",
       " 'METHODS\\tParticipants ( N = @ ) were randomly assigned to one of the two experimental mood induction conditions ( sad/neutral ) .\\n']"
      ]
     },
     "execution_count": 4,
     "metadata": {},
     "output_type": "execute_result"
    }
   ],
   "source": [
    "train_lines = get_lines(data_dir+\"train.txt\")\n",
    "train_lines[:20]"
   ]
  },
  {
   "cell_type": "code",
   "execution_count": 5,
   "id": "36c141b8-0079-486d-ae1c-8e9339775312",
   "metadata": {
    "tags": []
   },
   "outputs": [
    {
     "data": {
      "text/plain": [
       "210040"
      ]
     },
     "execution_count": 5,
     "metadata": {},
     "output_type": "execute_result"
    }
   ],
   "source": [
    "len(train_lines)"
   ]
  },
  {
   "cell_type": "code",
   "execution_count": 6,
   "id": "8f380a70-fe8d-4471-ab39-4dafa2859b42",
   "metadata": {
    "tags": []
   },
   "outputs": [],
   "source": [
    "def preprocess(filename):\n",
    "    #returns dictionaries\n",
    "    input_lines = get_lines(filename)\n",
    "    abstract_lines = \"\"\n",
    "    abstract_samples = []\n",
    "    \n",
    "    for line in input_lines:\n",
    "        if line.startswith(\"###\"):\n",
    "            abstract_is = line\n",
    "            abstract_lines = \"\"\n",
    "        elif line.isspace():\n",
    "            abstract_line_split = abstract_lines.splitlines()\n",
    "            \n",
    "            for abstract_line_number, abstract_line in enumerate(abstract_line_split):\n",
    "                line_data = {}\n",
    "                target_text_split = abstract_line.split(\"\\t\")\n",
    "                line_data[\"line_number\"] = abstract_line_number\n",
    "                line_data[\"target\"] = target_text_split[0]\n",
    "                line_data[\"text\"] = target_text_split[1].lower()\n",
    "                \n",
    "                line_data[\"total_lines\"] = len(abstract_line_split) - 1\n",
    "                abstract_samples.append(line_data)\n",
    "        else:\n",
    "            abstract_lines+=line\n",
    "            \n",
    "    return abstract_samples"
   ]
  },
  {
   "cell_type": "code",
   "execution_count": 7,
   "id": "f29c8e8e-a87a-4583-8e2b-dbda533ddde5",
   "metadata": {
    "tags": []
   },
   "outputs": [],
   "source": [
    "#get sata\n",
    "train_samples = preprocess(data_dir + \"train.txt\")\n",
    "val_samples = preprocess(data_dir + \"dev.txt\")\n",
    "test_samples = preprocess(data_dir + \"test.txt\")"
   ]
  },
  {
   "cell_type": "code",
   "execution_count": 8,
   "id": "77a3d411-69c0-4e06-b639-d25ca59485ed",
   "metadata": {
    "tags": []
   },
   "outputs": [
    {
     "data": {
      "text/plain": [
       "[{'line_number': 0,\n",
       "  'target': 'OBJECTIVE',\n",
       "  'text': 'to investigate the efficacy of @ weeks of daily low-dose oral prednisolone in improving pain , mobility , and systemic low-grade inflammation in the short term and whether the effect would be sustained at @ weeks in older adults with moderate to severe knee osteoarthritis ( oa ) .',\n",
       "  'total_lines': 11},\n",
       " {'line_number': 1,\n",
       "  'target': 'METHODS',\n",
       "  'text': 'a total of @ patients with primary knee oa were randomized @:@ ; @ received @ mg/day of prednisolone and @ received placebo for @ weeks .',\n",
       "  'total_lines': 11},\n",
       " {'line_number': 2,\n",
       "  'target': 'METHODS',\n",
       "  'text': 'outcome measures included pain reduction and improvement in function scores and systemic inflammation markers .',\n",
       "  'total_lines': 11},\n",
       " {'line_number': 3,\n",
       "  'target': 'METHODS',\n",
       "  'text': 'pain was assessed using the visual analog pain scale ( @-@ mm ) .',\n",
       "  'total_lines': 11},\n",
       " {'line_number': 4,\n",
       "  'target': 'METHODS',\n",
       "  'text': 'secondary outcome measures included the western ontario and mcmaster universities osteoarthritis index scores , patient global assessment ( pga ) of the severity of knee oa , and @-min walk distance ( @mwd ) .',\n",
       "  'total_lines': 11},\n",
       " {'line_number': 5,\n",
       "  'target': 'METHODS',\n",
       "  'text': 'serum levels of interleukin @ ( il-@ ) , il-@ , tumor necrosis factor ( tnf ) - , and high-sensitivity c-reactive protein ( hscrp ) were measured .',\n",
       "  'total_lines': 11},\n",
       " {'line_number': 6,\n",
       "  'target': 'RESULTS',\n",
       "  'text': 'there was a clinically relevant reduction in the intervention group compared to the placebo group for knee pain , physical function , pga , and @mwd at @ weeks .',\n",
       "  'total_lines': 11},\n",
       " {'line_number': 7,\n",
       "  'target': 'RESULTS',\n",
       "  'text': 'the mean difference between treatment arms ( @ % ci ) was @ ( @-@ @ ) , p < @ ; @ ( @-@ @ ) , p < @ ; @ ( @-@ @ ) , p < @ ; and @ ( @-@ @ ) , p < @ , respectively .',\n",
       "  'total_lines': 11},\n",
       " {'line_number': 8,\n",
       "  'target': 'RESULTS',\n",
       "  'text': 'further , there was a clinically relevant reduction in the serum levels of il-@ , il-@ , tnf - , and hscrp at @ weeks in the intervention group when compared to the placebo group .',\n",
       "  'total_lines': 11},\n",
       " {'line_number': 9,\n",
       "  'target': 'RESULTS',\n",
       "  'text': 'these differences remained significant at @ weeks .',\n",
       "  'total_lines': 11},\n",
       " {'line_number': 10,\n",
       "  'target': 'RESULTS',\n",
       "  'text': 'the outcome measures in rheumatology clinical trials-osteoarthritis research society international responder rate was @ % in the intervention group and @ % in the placebo group ( p < @ ) .',\n",
       "  'total_lines': 11},\n",
       " {'line_number': 11,\n",
       "  'target': 'CONCLUSIONS',\n",
       "  'text': 'low-dose oral prednisolone had both a short-term and a longer sustained effect resulting in less knee pain , better physical function , and attenuation of systemic inflammation in older patients with knee oa ( clinicaltrials.gov identifier nct@ ) .',\n",
       "  'total_lines': 11},\n",
       " {'line_number': 0,\n",
       "  'target': 'BACKGROUND',\n",
       "  'text': 'emotional eating is associated with overeating and the development of obesity .',\n",
       "  'total_lines': 10},\n",
       " {'line_number': 1,\n",
       "  'target': 'BACKGROUND',\n",
       "  'text': 'yet , empirical evidence for individual ( trait ) differences in emotional eating and cognitive mechanisms that contribute to eating during sad mood remain equivocal .',\n",
       "  'total_lines': 10},\n",
       " {'line_number': 2,\n",
       "  'target': 'OBJECTIVE',\n",
       "  'text': 'the aim of this study was to test if attention bias for food moderates the effect of self-reported emotional eating during sad mood ( vs neutral mood ) on actual food intake .',\n",
       "  'total_lines': 10}]"
      ]
     },
     "execution_count": 8,
     "metadata": {},
     "output_type": "execute_result"
    }
   ],
   "source": [
    "train_samples[:15]"
   ]
  },
  {
   "cell_type": "code",
   "execution_count": 9,
   "id": "58813934-9b92-4631-915e-e780eec98918",
   "metadata": {
    "tags": []
   },
   "outputs": [],
   "source": [
    "import pandas as pd\n",
    "import numpy as np\n",
    "\n",
    "train_df = pd.DataFrame(train_samples)\n",
    "test_df = pd.DataFrame(test_samples)\n",
    "val_df = pd.DataFrame(val_samples)"
   ]
  },
  {
   "cell_type": "code",
   "execution_count": 10,
   "id": "838ed1a6-632d-437c-80fb-6b247dfa6d8c",
   "metadata": {
    "tags": []
   },
   "outputs": [
    {
     "data": {
      "text/html": [
       "<div>\n",
       "<style scoped>\n",
       "    .dataframe tbody tr th:only-of-type {\n",
       "        vertical-align: middle;\n",
       "    }\n",
       "\n",
       "    .dataframe tbody tr th {\n",
       "        vertical-align: top;\n",
       "    }\n",
       "\n",
       "    .dataframe thead th {\n",
       "        text-align: right;\n",
       "    }\n",
       "</style>\n",
       "<table border=\"1\" class=\"dataframe\">\n",
       "  <thead>\n",
       "    <tr style=\"text-align: right;\">\n",
       "      <th></th>\n",
       "      <th>line_number</th>\n",
       "      <th>target</th>\n",
       "      <th>text</th>\n",
       "      <th>total_lines</th>\n",
       "    </tr>\n",
       "  </thead>\n",
       "  <tbody>\n",
       "    <tr>\n",
       "      <th>0</th>\n",
       "      <td>0</td>\n",
       "      <td>OBJECTIVE</td>\n",
       "      <td>to investigate the efficacy of @ weeks of dail...</td>\n",
       "      <td>11</td>\n",
       "    </tr>\n",
       "    <tr>\n",
       "      <th>1</th>\n",
       "      <td>1</td>\n",
       "      <td>METHODS</td>\n",
       "      <td>a total of @ patients with primary knee oa wer...</td>\n",
       "      <td>11</td>\n",
       "    </tr>\n",
       "    <tr>\n",
       "      <th>2</th>\n",
       "      <td>2</td>\n",
       "      <td>METHODS</td>\n",
       "      <td>outcome measures included pain reduction and i...</td>\n",
       "      <td>11</td>\n",
       "    </tr>\n",
       "    <tr>\n",
       "      <th>3</th>\n",
       "      <td>3</td>\n",
       "      <td>METHODS</td>\n",
       "      <td>pain was assessed using the visual analog pain...</td>\n",
       "      <td>11</td>\n",
       "    </tr>\n",
       "    <tr>\n",
       "      <th>4</th>\n",
       "      <td>4</td>\n",
       "      <td>METHODS</td>\n",
       "      <td>secondary outcome measures included the wester...</td>\n",
       "      <td>11</td>\n",
       "    </tr>\n",
       "    <tr>\n",
       "      <th>...</th>\n",
       "      <td>...</td>\n",
       "      <td>...</td>\n",
       "      <td>...</td>\n",
       "      <td>...</td>\n",
       "    </tr>\n",
       "    <tr>\n",
       "      <th>180035</th>\n",
       "      <td>7</td>\n",
       "      <td>RESULTS</td>\n",
       "      <td>for the absolute change in percent atheroma vo...</td>\n",
       "      <td>11</td>\n",
       "    </tr>\n",
       "    <tr>\n",
       "      <th>180036</th>\n",
       "      <td>8</td>\n",
       "      <td>RESULTS</td>\n",
       "      <td>for pav , a significantly greater percentage o...</td>\n",
       "      <td>11</td>\n",
       "    </tr>\n",
       "    <tr>\n",
       "      <th>180037</th>\n",
       "      <td>9</td>\n",
       "      <td>RESULTS</td>\n",
       "      <td>both strategies had acceptable side effect pro...</td>\n",
       "      <td>11</td>\n",
       "    </tr>\n",
       "    <tr>\n",
       "      <th>180038</th>\n",
       "      <td>10</td>\n",
       "      <td>CONCLUSIONS</td>\n",
       "      <td>compared with standard statin monotherapy , th...</td>\n",
       "      <td>11</td>\n",
       "    </tr>\n",
       "    <tr>\n",
       "      <th>180039</th>\n",
       "      <td>11</td>\n",
       "      <td>CONCLUSIONS</td>\n",
       "      <td>( plaque regression with cholesterol absorptio...</td>\n",
       "      <td>11</td>\n",
       "    </tr>\n",
       "  </tbody>\n",
       "</table>\n",
       "<p>180040 rows × 4 columns</p>\n",
       "</div>"
      ],
      "text/plain": [
       "        line_number       target  \\\n",
       "0                 0    OBJECTIVE   \n",
       "1                 1      METHODS   \n",
       "2                 2      METHODS   \n",
       "3                 3      METHODS   \n",
       "4                 4      METHODS   \n",
       "...             ...          ...   \n",
       "180035            7      RESULTS   \n",
       "180036            8      RESULTS   \n",
       "180037            9      RESULTS   \n",
       "180038           10  CONCLUSIONS   \n",
       "180039           11  CONCLUSIONS   \n",
       "\n",
       "                                                     text  total_lines  \n",
       "0       to investigate the efficacy of @ weeks of dail...           11  \n",
       "1       a total of @ patients with primary knee oa wer...           11  \n",
       "2       outcome measures included pain reduction and i...           11  \n",
       "3       pain was assessed using the visual analog pain...           11  \n",
       "4       secondary outcome measures included the wester...           11  \n",
       "...                                                   ...          ...  \n",
       "180035  for the absolute change in percent atheroma vo...           11  \n",
       "180036  for pav , a significantly greater percentage o...           11  \n",
       "180037  both strategies had acceptable side effect pro...           11  \n",
       "180038  compared with standard statin monotherapy , th...           11  \n",
       "180039  ( plaque regression with cholesterol absorptio...           11  \n",
       "\n",
       "[180040 rows x 4 columns]"
      ]
     },
     "execution_count": 10,
     "metadata": {},
     "output_type": "execute_result"
    }
   ],
   "source": [
    "train_df"
   ]
  },
  {
   "cell_type": "code",
   "execution_count": 11,
   "id": "387607e4-c2d4-4b65-ad0d-68cd0521316f",
   "metadata": {
    "tags": []
   },
   "outputs": [
    {
     "data": {
      "text/plain": [
       "METHODS        59353\n",
       "RESULTS        57953\n",
       "CONCLUSIONS    27168\n",
       "BACKGROUND     21727\n",
       "OBJECTIVE      13839\n",
       "Name: target, dtype: int64"
      ]
     },
     "execution_count": 11,
     "metadata": {},
     "output_type": "execute_result"
    }
   ],
   "source": [
    "train_df.target.value_counts()"
   ]
  },
  {
   "cell_type": "code",
   "execution_count": 12,
   "id": "7d51ebd0-3015-46c0-91ce-fa55ae5a0e9d",
   "metadata": {
    "tags": []
   },
   "outputs": [
    {
     "data": {
      "image/png": "[encoded data removed]",
      "text/plain": [
       "<Figure size 640x480 with 1 Axes>"
      ]
     },
     "metadata": {},
     "output_type": "display_data"
    }
   ],
   "source": [
    "import matplotlib.pyplot as plt\n",
    "train_df.total_lines.plot.hist(bins=12)\n",
    "plt.yscale(\"log\")"
   ]
  },
  {
   "cell_type": "code",
   "execution_count": 13,
   "id": "6e0bee08-135f-4185-9fe1-48846caf04fe",
   "metadata": {
    "tags": []
   },
   "outputs": [
    {
     "data": {
      "text/html": [
       "<div>\n",
       "<style scoped>\n",
       "    .dataframe tbody tr th:only-of-type {\n",
       "        vertical-align: middle;\n",
       "    }\n",
       "\n",
       "    .dataframe tbody tr th {\n",
       "        vertical-align: top;\n",
       "    }\n",
       "\n",
       "    .dataframe thead th {\n",
       "        text-align: right;\n",
       "    }\n",
       "</style>\n",
       "<table border=\"1\" class=\"dataframe\">\n",
       "  <thead>\n",
       "    <tr style=\"text-align: right;\">\n",
       "      <th></th>\n",
       "      <th>line_number</th>\n",
       "      <th>target</th>\n",
       "      <th>text</th>\n",
       "      <th>total_lines</th>\n",
       "    </tr>\n",
       "  </thead>\n",
       "  <tbody>\n",
       "    <tr>\n",
       "      <th>0</th>\n",
       "      <td>0</td>\n",
       "      <td>BACKGROUND</td>\n",
       "      <td>this study analyzed liver function abnormaliti...</td>\n",
       "      <td>8</td>\n",
       "    </tr>\n",
       "    <tr>\n",
       "      <th>1</th>\n",
       "      <td>1</td>\n",
       "      <td>RESULTS</td>\n",
       "      <td>a post hoc analysis was conducted with the use...</td>\n",
       "      <td>8</td>\n",
       "    </tr>\n",
       "    <tr>\n",
       "      <th>2</th>\n",
       "      <td>2</td>\n",
       "      <td>RESULTS</td>\n",
       "      <td>liver function tests ( lfts ) were measured at...</td>\n",
       "      <td>8</td>\n",
       "    </tr>\n",
       "    <tr>\n",
       "      <th>3</th>\n",
       "      <td>3</td>\n",
       "      <td>RESULTS</td>\n",
       "      <td>survival analyses were used to assess the asso...</td>\n",
       "      <td>8</td>\n",
       "    </tr>\n",
       "    <tr>\n",
       "      <th>4</th>\n",
       "      <td>4</td>\n",
       "      <td>RESULTS</td>\n",
       "      <td>the percentage of patients with abnormal lfts ...</td>\n",
       "      <td>8</td>\n",
       "    </tr>\n",
       "    <tr>\n",
       "      <th>5</th>\n",
       "      <td>5</td>\n",
       "      <td>RESULTS</td>\n",
       "      <td>when mean hemodynamic profiles were compared i...</td>\n",
       "      <td>8</td>\n",
       "    </tr>\n",
       "    <tr>\n",
       "      <th>6</th>\n",
       "      <td>6</td>\n",
       "      <td>RESULTS</td>\n",
       "      <td>multivariable analyses revealed that patients ...</td>\n",
       "      <td>8</td>\n",
       "    </tr>\n",
       "    <tr>\n",
       "      <th>7</th>\n",
       "      <td>7</td>\n",
       "      <td>CONCLUSIONS</td>\n",
       "      <td>abnormal lfts are common in the adhf populatio...</td>\n",
       "      <td>8</td>\n",
       "    </tr>\n",
       "    <tr>\n",
       "      <th>8</th>\n",
       "      <td>8</td>\n",
       "      <td>CONCLUSIONS</td>\n",
       "      <td>elevated meld-xi scores are associated with po...</td>\n",
       "      <td>8</td>\n",
       "    </tr>\n",
       "    <tr>\n",
       "      <th>9</th>\n",
       "      <td>0</td>\n",
       "      <td>BACKGROUND</td>\n",
       "      <td>minimally invasive endovascular aneurysm repai...</td>\n",
       "      <td>12</td>\n",
       "    </tr>\n",
       "  </tbody>\n",
       "</table>\n",
       "</div>"
      ],
      "text/plain": [
       "   line_number       target  \\\n",
       "0            0   BACKGROUND   \n",
       "1            1      RESULTS   \n",
       "2            2      RESULTS   \n",
       "3            3      RESULTS   \n",
       "4            4      RESULTS   \n",
       "5            5      RESULTS   \n",
       "6            6      RESULTS   \n",
       "7            7  CONCLUSIONS   \n",
       "8            8  CONCLUSIONS   \n",
       "9            0   BACKGROUND   \n",
       "\n",
       "                                                text  total_lines  \n",
       "0  this study analyzed liver function abnormaliti...            8  \n",
       "1  a post hoc analysis was conducted with the use...            8  \n",
       "2  liver function tests ( lfts ) were measured at...            8  \n",
       "3  survival analyses were used to assess the asso...            8  \n",
       "4  the percentage of patients with abnormal lfts ...            8  \n",
       "5  when mean hemodynamic profiles were compared i...            8  \n",
       "6  multivariable analyses revealed that patients ...            8  \n",
       "7  abnormal lfts are common in the adhf populatio...            8  \n",
       "8  elevated meld-xi scores are associated with po...            8  \n",
       "9  minimally invasive endovascular aneurysm repai...           12  "
      ]
     },
     "execution_count": 13,
     "metadata": {},
     "output_type": "execute_result"
    }
   ],
   "source": [
    "test_df[:10]"
   ]
  },
  {
   "cell_type": "code",
   "execution_count": 14,
   "id": "b5fce664-abe7-4cf2-b84b-0c6e6a2e0ca6",
   "metadata": {
    "tags": []
   },
   "outputs": [],
   "source": [
    "train_sentences = train_df[\"text\"].tolist()\n",
    "val_sentences = val_df[\"text\"].tolist()\n",
    "test_sentences = test_df['text'].tolist()"
   ]
  },
  {
   "cell_type": "code",
   "execution_count": 15,
   "id": "6dec730f-7fbc-4dca-bef8-3c14a325d0df",
   "metadata": {
    "tags": []
   },
   "outputs": [
    {
     "data": {
      "text/plain": [
       "['to investigate the efficacy of @ weeks of daily low-dose oral prednisolone in improving pain , mobility , and systemic low-grade inflammation in the short term and whether the effect would be sustained at @ weeks in older adults with moderate to severe knee osteoarthritis ( oa ) .',\n",
       " 'a total of @ patients with primary knee oa were randomized @:@ ; @ received @ mg/day of prednisolone and @ received placebo for @ weeks .',\n",
       " 'outcome measures included pain reduction and improvement in function scores and systemic inflammation markers .',\n",
       " 'pain was assessed using the visual analog pain scale ( @-@ mm ) .',\n",
       " 'secondary outcome measures included the western ontario and mcmaster universities osteoarthritis index scores , patient global assessment ( pga ) of the severity of knee oa , and @-min walk distance ( @mwd ) .',\n",
       " 'serum levels of interleukin @ ( il-@ ) , il-@ , tumor necrosis factor ( tnf ) - , and high-sensitivity c-reactive protein ( hscrp ) were measured .',\n",
       " 'there was a clinically relevant reduction in the intervention group compared to the placebo group for knee pain , physical function , pga , and @mwd at @ weeks .',\n",
       " 'the mean difference between treatment arms ( @ % ci ) was @ ( @-@ @ ) , p < @ ; @ ( @-@ @ ) , p < @ ; @ ( @-@ @ ) , p < @ ; and @ ( @-@ @ ) , p < @ , respectively .',\n",
       " 'further , there was a clinically relevant reduction in the serum levels of il-@ , il-@ , tnf - , and hscrp at @ weeks in the intervention group when compared to the placebo group .',\n",
       " 'these differences remained significant at @ weeks .']"
      ]
     },
     "execution_count": 15,
     "metadata": {},
     "output_type": "execute_result"
    }
   ],
   "source": [
    "train_sentences[:10]"
   ]
  },
  {
   "cell_type": "code",
   "execution_count": 16,
   "id": "b27d46b8-e7c1-4504-83b4-9d008346d968",
   "metadata": {
    "tags": []
   },
   "outputs": [
    {
     "data": {
      "text/plain": [
       "array([[0., 0., 0., 1., 0.],\n",
       "       [0., 0., 1., 0., 0.],\n",
       "       [0., 0., 1., 0., 0.],\n",
       "       ...,\n",
       "       [0., 0., 0., 0., 1.],\n",
       "       [0., 1., 0., 0., 0.],\n",
       "       [0., 1., 0., 0., 0.]])"
      ]
     },
     "execution_count": 16,
     "metadata": {},
     "output_type": "execute_result"
    }
   ],
   "source": [
    "#Making nymberic labels\n",
    "from sklearn.preprocessing import OneHotEncoder\n",
    "one_hot_encoder = OneHotEncoder(sparse_output=False) # we want non-sparse matrix\n",
    "train_labels_one_hot = one_hot_encoder.fit_transform(train_df[\"target\"].to_numpy().reshape(-1, 1))\n",
    "val_labels_one_hot = one_hot_encoder.transform(val_df[\"target\"].to_numpy().reshape(-1, 1))\n",
    "test_labels_one_hot = one_hot_encoder.transform(test_df[\"target\"].to_numpy().reshape(-1, 1))\n",
    "\n",
    "# check what one hot encoded labels look like\n",
    "train_labels_one_hot"
   ]
  },
  {
   "cell_type": "code",
   "execution_count": 17,
   "id": "21c67c5e-7639-4cd7-b686-6d443d1c3131",
   "metadata": {
    "tags": []
   },
   "outputs": [
    {
     "data": {
      "text/plain": [
       "array([3, 2, 2, ..., 4, 1, 1])"
      ]
     },
     "execution_count": 17,
     "metadata": {},
     "output_type": "execute_result"
    }
   ],
   "source": [
    "from sklearn.preprocessing import LabelEncoder\n",
    "label_encoder = LabelEncoder()\n",
    "\n",
    "train_labels_encoded = label_encoder.fit_transform(train_df[\"target\"].to_numpy())\n",
    "val_labels_encoded = label_encoder.transform(val_df[\"target\"].to_numpy())\n",
    "test_label_encoded = label_encoder.transform(test_df[\"target\"].to_numpy())\n",
    "\n",
    "# check what training labels look like\n",
    "train_labels_encoded"
   ]
  },
  {
   "cell_type": "code",
   "execution_count": 18,
   "id": "92539e98-2f89-44d5-93bf-d8b89f4bdc3f",
   "metadata": {
    "tags": []
   },
   "outputs": [],
   "source": [
    "import tensorflow as tf"
   ]
  },
  {
   "cell_type": "code",
   "execution_count": 19,
   "id": "a9d08dd8-fdef-4b27-a4bf-c95ed33f3807",
   "metadata": {
    "tags": []
   },
   "outputs": [
    {
     "data": {
      "text/plain": [
       "array(['BACKGROUND', 'CONCLUSIONS', 'METHODS', 'OBJECTIVE', 'RESULTS'],\n",
       "      dtype=object)"
      ]
     },
     "execution_count": 19,
     "metadata": {},
     "output_type": "execute_result"
    }
   ],
   "source": [
    "#Get class\n",
    "num_class = len(label_encoder.classes_)\n",
    "class_names = label_encoder.classes_\n",
    "class_names"
   ]
  },
  {
   "cell_type": "markdown",
   "id": "97fb5874-f60d-4136-b058-57233ec1027f",
   "metadata": {},
   "source": [
    "## MODEL 0"
   ]
  },
  {
   "cell_type": "code",
   "execution_count": 20,
   "id": "06e8798f-2baa-4ec5-ad9f-10687126bee7",
   "metadata": {
    "tags": []
   },
   "outputs": [
    {
     "data": {
      "text/html": [
       "<style>#sk-container-id-1 {color: black;}#sk-container-id-1 pre{padding: 0;}#sk-container-id-1 div.sk-toggleable {background-color: white;}#sk-container-id-1 label.sk-toggleable__label {cursor: pointer;display: block;width: 100%;margin-bottom: 0;padding: 0.3em;box-sizing: border-box;text-align: center;}#sk-container-id-1 label.sk-toggleable__label-arrow:before {content: \"▸\";float: left;margin-right: 0.25em;color: #696969;}#sk-container-id-1 label.sk-toggleable__label-arrow:hover:before {color: black;}#sk-container-id-1 div.sk-estimator:hover label.sk-toggleable__label-arrow:before {color: black;}#sk-container-id-1 div.sk-toggleable__content {max-height: 0;max-width: 0;overflow: hidden;text-align: left;background-color: #f0f8ff;}#sk-container-id-1 div.sk-toggleable__content pre {margin: 0.2em;color: black;border-radius: 0.25em;background-color: #f0f8ff;}#sk-container-id-1 input.sk-toggleable__control:checked~div.sk-toggleable__content {max-height: 200px;max-width: 100%;overflow: auto;}#sk-container-id-1 input.sk-toggleable__control:checked~label.sk-toggleable__label-arrow:before {content: \"▾\";}#sk-container-id-1 div.sk-estimator input.sk-toggleable__control:checked~label.sk-toggleable__label {background-color: #d4ebff;}#sk-container-id-1 div.sk-label input.sk-toggleable__control:checked~label.sk-toggleable__label {background-color: #d4ebff;}#sk-container-id-1 input.sk-hidden--visually {border: 0;clip: rect(1px 1px 1px 1px);clip: rect(1px, 1px, 1px, 1px);height: 1px;margin: -1px;overflow: hidden;padding: 0;position: absolute;width: 1px;}#sk-container-id-1 div.sk-estimator {font-family: monospace;background-color: #f0f8ff;border: 1px dotted black;border-radius: 0.25em;box-sizing: border-box;margin-bottom: 0.5em;}#sk-container-id-1 div.sk-estimator:hover {background-color: #d4ebff;}#sk-container-id-1 div.sk-parallel-item::after {content: \"\";width: 100%;border-bottom: 1px solid gray;flex-grow: 1;}#sk-container-id-1 div.sk-label:hover label.sk-toggleable__label {background-color: #d4ebff;}#sk-container-id-1 div.sk-serial::before {content: \"\";position: absolute;border-left: 1px solid gray;box-sizing: border-box;top: 0;bottom: 0;left: 50%;z-index: 0;}#sk-container-id-1 div.sk-serial {display: flex;flex-direction: column;align-items: center;background-color: white;padding-right: 0.2em;padding-left: 0.2em;position: relative;}#sk-container-id-1 div.sk-item {position: relative;z-index: 1;}#sk-container-id-1 div.sk-parallel {display: flex;align-items: stretch;justify-content: center;background-color: white;position: relative;}#sk-container-id-1 div.sk-item::before, #sk-container-id-1 div.sk-parallel-item::before {content: \"\";position: absolute;border-left: 1px solid gray;box-sizing: border-box;top: 0;bottom: 0;left: 50%;z-index: -1;}#sk-container-id-1 div.sk-parallel-item {display: flex;flex-direction: column;z-index: 1;position: relative;background-color: white;}#sk-container-id-1 div.sk-parallel-item:first-child::after {align-self: flex-end;width: 50%;}#sk-container-id-1 div.sk-parallel-item:last-child::after {align-self: flex-start;width: 50%;}#sk-container-id-1 div.sk-parallel-item:only-child::after {width: 0;}#sk-container-id-1 div.sk-dashed-wrapped {border: 1px dashed gray;margin: 0 0.4em 0.5em 0.4em;box-sizing: border-box;padding-bottom: 0.4em;background-color: white;}#sk-container-id-1 div.sk-label label {font-family: monospace;font-weight: bold;display: inline-block;line-height: 1.2em;}#sk-container-id-1 div.sk-label-container {text-align: center;}#sk-container-id-1 div.sk-container {/* jupyter's `normalize.less` sets `[hidden] { display: none; }` but bootstrap.min.css set `[hidden] { display: none !important; }` so we also need the `!important` here to be able to override the default hidden behavior on the sphinx rendered scikit-learn.org. See: https://github.com/scikit-learn/scikit-learn/issues/21755 */display: inline-block !important;position: relative;}#sk-container-id-1 div.sk-text-repr-fallback {display: none;}</style><div id=\"sk-container-id-1\" class=\"sk-top-container\"><div class=\"sk-text-repr-fallback\"><pre>Pipeline(steps=[(&#x27;tf-idf&#x27;, TfidfVectorizer()), (&#x27;clf&#x27;, MultinomialNB())])</pre><b>In a Jupyter environment, please rerun this cell to show the HTML representation or trust the notebook. <br />On GitHub, the HTML representation is unable to render, please try loading this page with nbviewer.org.</b></div><div class=\"sk-container\" hidden><div class=\"sk-item sk-dashed-wrapped\"><div class=\"sk-label-container\"><div class=\"sk-label sk-toggleable\"><input class=\"sk-toggleable__control sk-hidden--visually\" id=\"sk-estimator-id-1\" type=\"checkbox\" ><label for=\"sk-estimator-id-1\" class=\"sk-toggleable__label sk-toggleable__label-arrow\">Pipeline</label><div class=\"sk-toggleable__content\"><pre>Pipeline(steps=[(&#x27;tf-idf&#x27;, TfidfVectorizer()), (&#x27;clf&#x27;, MultinomialNB())])</pre></div></div></div><div class=\"sk-serial\"><div class=\"sk-item\"><div class=\"sk-estimator sk-toggleable\"><input class=\"sk-toggleable__control sk-hidden--visually\" id=\"sk-estimator-id-2\" type=\"checkbox\" ><label for=\"sk-estimator-id-2\" class=\"sk-toggleable__label sk-toggleable__label-arrow\">TfidfVectorizer</label><div class=\"sk-toggleable__content\"><pre>TfidfVectorizer()</pre></div></div></div><div class=\"sk-item\"><div class=\"sk-estimator sk-toggleable\"><input class=\"sk-toggleable__control sk-hidden--visually\" id=\"sk-estimator-id-3\" type=\"checkbox\" ><label for=\"sk-estimator-id-3\" class=\"sk-toggleable__label sk-toggleable__label-arrow\">MultinomialNB</label><div class=\"sk-toggleable__content\"><pre>MultinomialNB()</pre></div></div></div></div></div></div></div>"
      ],
      "text/plain": [
       "Pipeline(steps=[('tf-idf', TfidfVectorizer()), ('clf', MultinomialNB())])"
      ]
     },
     "execution_count": 20,
     "metadata": {},
     "output_type": "execute_result"
    }
   ],
   "source": [
    "from sklearn.feature_extraction.text import TfidfVectorizer\n",
    "from sklearn.naive_bayes import MultinomialNB\n",
    "from sklearn.pipeline import Pipeline\n",
    "\n",
    "#create a pipeline\n",
    "model_0 = Pipeline([\n",
    "    (\"tf-idf\", TfidfVectorizer()),\n",
    "    (\"clf\", MultinomialNB())\n",
    "])\n",
    "\n",
    "model_0.fit(X=train_sentences,y=train_labels_encoded)"
   ]
  },
  {
   "cell_type": "code",
   "execution_count": 21,
   "id": "7a8e2976-5a02-4add-a45b-f0df33e5dfd3",
   "metadata": {
    "tags": []
   },
   "outputs": [
    {
     "data": {
      "text/plain": [
       "0.7218323844829869"
      ]
     },
     "execution_count": 21,
     "metadata": {},
     "output_type": "execute_result"
    }
   ],
   "source": [
    "#evaluate\n",
    "model_0.score(X=val_sentences,y=val_labels_encoded)\n",
    "#val_sentences[:10], len(val_labels_encoded)"
   ]
  },
  {
   "cell_type": "code",
   "execution_count": 22,
   "id": "21789a9f-391b-47b6-9348-b3ec0040a0a8",
   "metadata": {
    "tags": []
   },
   "outputs": [],
   "source": [
    "baseline_preds = model_0.predict(val_sentences)"
   ]
  },
  {
   "cell_type": "code",
   "execution_count": 23,
   "id": "9821efb6-b5e8-4d0d-976b-5b642eefce3c",
   "metadata": {
    "tags": []
   },
   "outputs": [
    {
     "name": "stdout",
     "output_type": "stream",
     "text": [
      "              precision    recall  f1-score   support\n",
      "\n",
      "           0       0.66      0.49      0.56      3449\n",
      "           1       0.65      0.59      0.61      4582\n",
      "           2       0.72      0.87      0.79      9964\n",
      "           3       0.75      0.14      0.23      2376\n",
      "           4       0.76      0.86      0.81      9841\n",
      "\n",
      "    accuracy                           0.72     30212\n",
      "   macro avg       0.71      0.59      0.60     30212\n",
      "weighted avg       0.72      0.72      0.70     30212\n",
      "\n"
     ]
    }
   ],
   "source": [
    "from sklearn.metrics import classification_report\n",
    "print(classification_report(val_labels_encoded,baseline_preds))"
   ]
  },
  {
   "cell_type": "code",
   "execution_count": 24,
   "id": "1b091bee-cfe1-4299-ade5-c50cf844cbe6",
   "metadata": {
    "tags": []
   },
   "outputs": [],
   "source": [
    "from helper_functions import calculate_results"
   ]
  },
  {
   "cell_type": "code",
   "execution_count": 25,
   "id": "89c601a7-704b-4315-bf04-f34f5e511398",
   "metadata": {
    "tags": []
   },
   "outputs": [
    {
     "data": {
      "text/plain": [
       "{'accuracy': 72.1832384482987,\n",
       " 'precision': 0.7186466952323352,\n",
       " 'recall': 0.7218323844829869,\n",
       " 'f1': 0.6989250353450294}"
      ]
     },
     "execution_count": 25,
     "metadata": {},
     "output_type": "execute_result"
    }
   ],
   "source": [
    "baseline_results = calculate_results(val_labels_encoded,baseline_preds)\n",
    "baseline_results"
   ]
  },
  {
   "cell_type": "markdown",
   "id": "853c92c8-21e2-4ad5-9c91-a30db7f94a9f",
   "metadata": {},
   "source": [
    "## Model 1"
   ]
  },
  {
   "cell_type": "code",
   "execution_count": 26,
   "id": "9fc4ca8e-abc6-465c-a2e4-7be810f5c569",
   "metadata": {
    "tags": []
   },
   "outputs": [],
   "source": [
    "from tensorflow.keras import layers"
   ]
  },
  {
   "cell_type": "code",
   "execution_count": 27,
   "id": "9693dd47-8c63-4bea-9ac1-b24fae28b3d9",
   "metadata": {
    "tags": []
   },
   "outputs": [
    {
     "data": {
      "text/plain": [
       "26.338269273494777"
      ]
     },
     "execution_count": 27,
     "metadata": {},
     "output_type": "execute_result"
    }
   ],
   "source": [
    "#How long is each sentence on average?\n",
    "sent_len = [len(sentence.split()) for sentence in train_sentences]\n",
    "avg_sent_len = np.mean(sent_len)\n",
    "avg_sent_len"
   ]
  },
  {
   "cell_type": "code",
   "execution_count": 28,
   "id": "2969ce55-763e-493b-ab99-c9693aca2c8e",
   "metadata": {
    "tags": []
   },
   "outputs": [
    {
     "data": {
      "text/plain": [
       "(array([4.2075e+04, 8.3771e+04, 3.6877e+04, 1.0945e+04, 3.9310e+03,\n",
       "        1.4450e+03, 5.6000e+02, 2.2600e+02, 1.0100e+02, 4.5000e+01,\n",
       "        2.0000e+01, 1.2000e+01, 9.0000e+00, 1.0000e+01, 6.0000e+00,\n",
       "        2.0000e+00, 3.0000e+00, 0.0000e+00, 1.0000e+00, 1.0000e+00]),\n",
       " array([  1.  ,  15.75,  30.5 ,  45.25,  60.  ,  74.75,  89.5 , 104.25,\n",
       "        119.  , 133.75, 148.5 , 163.25, 178.  , 192.75, 207.5 , 222.25,\n",
       "        237.  , 251.75, 266.5 , 281.25, 296.  ]),\n",
       " <BarContainer object of 20 artists>)"
      ]
     },
     "execution_count": 28,
     "metadata": {},
     "output_type": "execute_result"
    },
    {
     "data": {
      "image/png": "[encoded data removed]",
      "text/plain": [
       "<Figure size 640x480 with 1 Axes>"
      ]
     },
     "metadata": {},
     "output_type": "display_data"
    }
   ],
   "source": [
    "plt.hist(sent_len,bins=20)"
   ]
  },
  {
   "cell_type": "code",
   "execution_count": 29,
   "id": "ddfb0d55-427c-4128-bff6-896af335c13a",
   "metadata": {
    "tags": []
   },
   "outputs": [
    {
     "data": {
      "text/plain": [
       "65"
      ]
     },
     "execution_count": 29,
     "metadata": {},
     "output_type": "execute_result"
    }
   ],
   "source": [
    "#percentiles\n",
    "output_seq_len = int(np.percentile(sent_len,97.5))\n",
    "output_seq_len"
   ]
  },
  {
   "cell_type": "code",
   "execution_count": 30,
   "id": "f6a4652f-982b-4797-9861-10fe37cab7c8",
   "metadata": {
    "tags": []
   },
   "outputs": [],
   "source": [
    "#text vectorizer\n",
    "max_tokens = 68000\n",
    "\n",
    "from tensorflow.keras.layers.experimental.preprocessing import TextVectorization\n",
    "text_vectorizer = TextVectorization(max_tokens = max_tokens, output_sequence_length = output_seq_len)"
   ]
  },
  {
   "cell_type": "code",
   "execution_count": 31,
   "id": "1afdc861-3b68-4269-a4e7-16a19b3f016c",
   "metadata": {
    "tags": []
   },
   "outputs": [],
   "source": [
    "text_vectorizer.adapt(train_sentences)"
   ]
  },
  {
   "cell_type": "code",
   "execution_count": 32,
   "id": "d4accf49-a9ca-495e-b1b8-0aa36c6e5f2d",
   "metadata": {
    "tags": []
   },
   "outputs": [
    {
     "name": "stdout",
     "output_type": "stream",
     "text": [
      "Text:\n",
      "based upon the emerging role of radiotherapy as an immunologic modifier , we designed a randomized phase ii trial adding radiotherapy and/or preleukapheresis ifn - to our dc vaccine in metastatic melanoma patients .\n",
      "\n",
      "Length of text: 34\n",
      "\n",
      "Vectorized text: [[  261  1864     2  4036   546     4  1053    25    26  6184 18358    43\n",
      "    560     8    29   209   378    32  1697  1053   727 35368  2655     6\n",
      "    246  4792   497     5  1321  2706    12     0     0     0     0     0\n",
      "      0     0     0     0     0     0     0     0     0     0     0     0\n",
      "      0     0     0     0     0     0     0     0     0     0     0     0\n",
      "      0     0     0     0     0]]\n"
     ]
    }
   ],
   "source": [
    "import random\n",
    "target_sentence = random.choice(train_sentences)\n",
    "print(f\"Text:\\n{target_sentence}\")\n",
    "print(f\"\\nLength of text: {len(target_sentence.split())}\")\n",
    "print(f\"\\nVectorized text: {text_vectorizer([target_sentence])}\")"
   ]
  },
  {
   "cell_type": "code",
   "execution_count": 33,
   "id": "cdfc6eeb-1a30-4e39-b55f-6d0639da57c5",
   "metadata": {
    "tags": []
   },
   "outputs": [
    {
     "name": "stdout",
     "output_type": "stream",
     "text": [
      "Number of words in vocab: 64841\n",
      "Most common words in the vocab: ['', '[UNK]', 'the', 'and', 'of']\n",
      "Least common words in the vocab: ['aainduced', 'aaigroup', 'aachener', 'aachen', 'aaacp']\n"
     ]
    }
   ],
   "source": [
    "# How many words in our training vocabulary\n",
    "rct_20k_text_vocab = text_vectorizer.get_vocabulary()\n",
    "print(f\"Number of words in vocab: {len(rct_20k_text_vocab)}\")\n",
    "print(f\"Most common words in the vocab: {rct_20k_text_vocab[:5]}\")\n",
    "print(f\"Least common words in the vocab: {rct_20k_text_vocab[-5:]}\")"
   ]
  },
  {
   "cell_type": "code",
   "execution_count": 34,
   "id": "bd8c2c83-62b6-4c48-8b57-0a835eaec258",
   "metadata": {
    "tags": []
   },
   "outputs": [
    {
     "data": {
      "text/plain": [
       "{'name': 'text_vectorization',\n",
       " 'trainable': True,\n",
       " 'dtype': 'string',\n",
       " 'batch_input_shape': (None,),\n",
       " 'max_tokens': 68000,\n",
       " 'standardize': 'lower_and_strip_punctuation',\n",
       " 'split': 'whitespace',\n",
       " 'ngrams': None,\n",
       " 'output_mode': 'int',\n",
       " 'output_sequence_length': 65,\n",
       " 'pad_to_max_tokens': False,\n",
       " 'sparse': False,\n",
       " 'ragged': False,\n",
       " 'vocabulary': None,\n",
       " 'idf_weights': None,\n",
       " 'encoding': 'utf-8',\n",
       " 'vocabulary_size': 64841}"
      ]
     },
     "execution_count": 34,
     "metadata": {},
     "output_type": "execute_result"
    }
   ],
   "source": [
    "text_vectorizer.get_config()"
   ]
  },
  {
   "cell_type": "code",
   "execution_count": 35,
   "id": "efbe6a56-1eed-414b-b610-31f40b2acf15",
   "metadata": {
    "tags": []
   },
   "outputs": [],
   "source": [
    "#token_embedding\n",
    "token_embed = layers.Embedding(input_dim=len(rct_20k_text_vocab),\n",
    "                              output_dim=128,\n",
    "                              mask_zero=True,\n",
    "                              name=\"Token_Embedding\")"
   ]
  },
  {
   "cell_type": "code",
   "execution_count": 36,
   "id": "ba41970c-4e80-4b71-a3c5-5a55186cece7",
   "metadata": {
    "tags": []
   },
   "outputs": [
    {
     "name": "stdout",
     "output_type": "stream",
     "text": [
      "Sentence before vectorization:\n",
      " based upon the emerging role of radiotherapy as an immunologic modifier , we designed a randomized phase ii trial adding radiotherapy and/or preleukapheresis ifn - to our dc vaccine in metastatic melanoma patients .\n",
      "\n",
      "Sentence after vectorization (before embedding):\n",
      " [[  261  1864     2  4036   546     4  1053    25    26  6184 18358    43\n",
      "    560     8    29   209   378    32  1697  1053   727 35368  2655     6\n",
      "    246  4792   497     5  1321  2706    12     0     0     0     0     0\n",
      "      0     0     0     0     0     0     0     0     0     0     0     0\n",
      "      0     0     0     0     0     0     0     0     0     0     0     0\n",
      "      0     0     0     0     0]]\n",
      "\n",
      "Sentence after embedding:\n",
      " [[[-4.8636854e-02  4.4222582e-02  3.4637515e-02 ...  2.0977024e-02\n",
      "    4.7334421e-02  3.8786005e-02]\n",
      "  [ 6.7138448e-03 -8.6482540e-03  7.3531643e-03 ...  2.0731475e-02\n",
      "   -2.3376048e-02 -1.8222690e-02]\n",
      "  [ 1.8299054e-02 -1.5759096e-03 -2.6499499e-02 ...  1.5853230e-02\n",
      "   -3.7516035e-02  2.2907529e-02]\n",
      "  ...\n",
      "  [-3.1227816e-02  3.2298267e-06  9.3892701e-03 ...  1.8574480e-02\n",
      "    3.1618621e-02  1.7945897e-02]\n",
      "  [-3.1227816e-02  3.2298267e-06  9.3892701e-03 ...  1.8574480e-02\n",
      "    3.1618621e-02  1.7945897e-02]\n",
      "  [-3.1227816e-02  3.2298267e-06  9.3892701e-03 ...  1.8574480e-02\n",
      "    3.1618621e-02  1.7945897e-02]]]\n",
      "\n",
      "Embedded sentence shape: (1, 65, 128)\n"
     ]
    }
   ],
   "source": [
    "# Show example embedding\n",
    "print(f\"Sentence before vectorization:\\n {target_sentence}\\n\")\n",
    "vectorized_sentence = text_vectorizer([target_sentence])\n",
    "print(f\"Sentence after vectorization (before embedding):\\n {vectorized_sentence}\\n\")\n",
    "embedded_sentence = token_embed(vectorized_sentence)\n",
    "print(f\"Sentence after embedding:\\n {embedded_sentence}\\n\")\n",
    "print(f\"Embedded sentence shape: {embedded_sentence.shape}\")"
   ]
  },
  {
   "cell_type": "code",
   "execution_count": 37,
   "id": "fc8b0680-ea08-4ae3-8f80-a73d51557ba5",
   "metadata": {
    "tags": []
   },
   "outputs": [],
   "source": [
    "#creating fast loading datasets\n",
    "train_dataset = tf.data.Dataset.from_tensor_slices((train_sentences,train_labels_one_hot))\n",
    "valid_dataset = tf.data.Dataset.from_tensor_slices((val_sentences,val_labels_one_hot))\n",
    "test_dataset = tf.data.Dataset.from_tensor_slices((test_sentences,test_labels_one_hot))"
   ]
  },
  {
   "cell_type": "code",
   "execution_count": 38,
   "id": "633112c0-38e8-4b0e-8ad0-df73d88d1885",
   "metadata": {
    "tags": []
   },
   "outputs": [
    {
     "data": {
      "text/plain": [
       "(<_PrefetchDataset element_spec=(TensorSpec(shape=(None,), dtype=tf.string, name=None), TensorSpec(shape=(None, 5), dtype=tf.float64, name=None))>,\n",
       " <_PrefetchDataset element_spec=(TensorSpec(shape=(None,), dtype=tf.string, name=None), TensorSpec(shape=(None, 5), dtype=tf.float64, name=None))>)"
      ]
     },
     "execution_count": 38,
     "metadata": {},
     "output_type": "execute_result"
    }
   ],
   "source": [
    "train_dataset = train_dataset.batch(32).prefetch(tf.data.AUTOTUNE)\n",
    "test_dataset = test_dataset.batch(32).prefetch(tf.data.AUTOTUNE)\n",
    "valid_dataset = valid_dataset.batch(32).prefetch(tf.data.AUTOTUNE)\n",
    "\n",
    "train_dataset,valid_dataset"
   ]
  },
  {
   "cell_type": "code",
   "execution_count": 39,
   "id": "7ba2cc4f-180c-438f-b031-53b4b2070b57",
   "metadata": {
    "tags": []
   },
   "outputs": [
    {
     "name": "stdout",
     "output_type": "stream",
     "text": [
      "Epoch 1/3\n",
      "562/562 [==============================] - 85s 150ms/step - loss: 0.9529 - accuracy: 0.6161 - val_loss: 0.7046 - val_accuracy: 0.7274\n",
      "Epoch 2/3\n",
      "562/562 [==============================] - 84s 149ms/step - loss: 0.6667 - accuracy: 0.7516 - val_loss: 0.6387 - val_accuracy: 0.7630\n",
      "Epoch 3/3\n",
      "562/562 [==============================] - 84s 149ms/step - loss: 0.6266 - accuracy: 0.7706 - val_loss: 0.6044 - val_accuracy: 0.7849\n"
     ]
    }
   ],
   "source": [
    "#Create Model\n",
    "inputs = layers.Input(shape=(1,), dtype=tf.string)\n",
    "text_vectors = text_vectorizer(inputs) \n",
    "token_embeddings = token_embed(text_vectors)\n",
    "x = layers.Conv1D(64,kernel_size=5, padding=\"same\", activation=\"relu\")(token_embeddings)\n",
    "x=layers.GlobalAveragePooling1D()(x)\n",
    "outputs = layers.Dense(num_class, activation=\"softmax\")(x)\n",
    "model_1 = tf.keras.Model(inputs,outputs)\n",
    "\n",
    "#compile\n",
    "model_1.compile(loss = \"categorical_crossentropy\",\n",
    "               optimizer = tf.keras.optimizers.Adam(),\n",
    "               metrics=['accuracy'])\n",
    "\n",
    "history_1 = model_1.fit(train_dataset,steps_per_epoch=int(0.1*len(train_dataset)),epochs=3,validation_data=valid_dataset,validation_steps=int(0.1*len(valid_dataset)))"
   ]
  },
  {
   "cell_type": "code",
   "execution_count": 40,
   "id": "543a3da6-88b1-41c0-98fd-6ac088b10631",
   "metadata": {
    "tags": []
   },
   "outputs": [
    {
     "name": "stdout",
     "output_type": "stream",
     "text": [
      "945/945 [==============================] - 2s 2ms/step - loss: 0.6073 - accuracy: 0.7827\n"
     ]
    },
    {
     "data": {
      "text/plain": [
       "[0.6072903275489807, 0.7827022671699524]"
      ]
     },
     "execution_count": 40,
     "metadata": {},
     "output_type": "execute_result"
    }
   ],
   "source": [
    "model_1.evaluate(valid_dataset)"
   ]
  },
  {
   "cell_type": "code",
   "execution_count": 41,
   "id": "0a0bd307-0d12-4933-90e9-14e566ac9d9e",
   "metadata": {
    "tags": []
   },
   "outputs": [
    {
     "name": "stdout",
     "output_type": "stream",
     "text": [
      "945/945 [==============================] - 2s 2ms/step\n"
     ]
    },
    {
     "data": {
      "text/plain": [
       "({'accuracy': 78.27022375215145,\n",
       "  'precision': 0.779131713421474,\n",
       "  'recall': 0.7827022375215146,\n",
       "  'f1': 0.7801932590665215},\n",
       " {'accuracy': 72.1832384482987,\n",
       "  'precision': 0.7186466952323352,\n",
       "  'recall': 0.7218323844829869,\n",
       "  'f1': 0.6989250353450294})"
      ]
     },
     "execution_count": 41,
     "metadata": {},
     "output_type": "execute_result"
    }
   ],
   "source": [
    "model_1_results = calculate_results(val_labels_encoded,tf.argmax(model_1.predict(valid_dataset),axis=1))\n",
    "model_1_results, baseline_results"
   ]
  },
  {
   "cell_type": "code",
   "execution_count": 42,
   "id": "3a259bf4-df77-4fea-8e56-e76383b7a49e",
   "metadata": {
    "tags": []
   },
   "outputs": [
    {
     "name": "stdout",
     "output_type": "stream",
     "text": [
      "942/942 [==============================] - 2s 2ms/step\n"
     ]
    },
    {
     "data": {
      "text/plain": [
       "{'accuracy': 77.7335324373652,\n",
       " 'precision': 0.7742009047204188,\n",
       " 'recall': 0.7773353243736519,\n",
       " 'f1': 0.7749304957932187}"
      ]
     },
     "execution_count": 42,
     "metadata": {},
     "output_type": "execute_result"
    }
   ],
   "source": [
    " calculate_results(test_label_encoded,tf.argmax(model_1.predict(test_dataset),axis=1))"
   ]
  },
  {
   "cell_type": "markdown",
   "id": "4a9d7050-46f9-4bbd-800c-44502125bea3",
   "metadata": {},
   "source": [
    "## MODEL 2"
   ]
  },
  {
   "cell_type": "code",
   "execution_count": 43,
   "id": "528ddbda-ddc4-40df-8ec8-974f73bc9a06",
   "metadata": {
    "tags": []
   },
   "outputs": [],
   "source": [
    "import tensorflow_hub as hub\n",
    "tf_hub_embedding_layer = hub.KerasLayer(\"https://tfhub.dev/google/universal-sentence-encoder/4\",\n",
    "                                        trainable=False,\n",
    "                                        name=\"universal_sentence_encoder\")"
   ]
  },
  {
   "cell_type": "code",
   "execution_count": 44,
   "id": "d1387974-81bb-4f17-9b5c-fd0de6a306aa",
   "metadata": {
    "tags": []
   },
   "outputs": [
    {
     "name": "stdout",
     "output_type": "stream",
     "text": [
      "Random sentence:\n",
      " from @ to @ , @ patients met eligibility criteria and were randomized to receive particle ( @ patients ) or plaque therapy ( @ patients ) .\n",
      "Setence after embedding:\n",
      "[-0.00884503 -0.02342355 -0.03521188  0.03528324 -0.02533549  0.00077\n",
      "  0.03184127  0.0279984  -0.07169804 -0.06387898  0.08121885 -0.01833499\n",
      "  0.01899286  0.02412535  0.01314767 -0.02413074 -0.0812833  -0.05448632\n",
      " -0.07902768 -0.05026059  0.07404968  0.06412547  0.01120124  0.0421464\n",
      "  0.00981113 -0.04302451 -0.01835581  0.00196225  0.07127485  0.04149493]\n",
      "\n",
      "Length of sentence embedding: 512\n"
     ]
    }
   ],
   "source": [
    "\n",
    "\n",
    "# Test out the pretrained embedding on a random sentence \n",
    "random_train_sentence = random.choice(train_sentences)\n",
    "print(f\"Random sentence:\\n {random_train_sentence}\")\n",
    "use_embedded_sentence = tf_hub_embedding_layer([random_train_sentence])\n",
    "print(f\"Setence after embedding:\\n{use_embedded_sentence[0][:30]}\\n\")\n",
    "print(f\"Length of sentence embedding: {len(use_embedded_sentence[0])}\")\n",
    "     \n"
   ]
  },
  {
   "cell_type": "code",
   "execution_count": 45,
   "id": "c6bd7ff9-9faf-4af2-81e7-2ee02af04445",
   "metadata": {
    "tags": []
   },
   "outputs": [],
   "source": [
    "# Define feature extraction model using TF Hub layer\n",
    "inputs = layers.Input(shape=[], dtype=tf.string)\n",
    "pretrained_embedding = tf_hub_embedding_layer(inputs) # tokenize text and create embedding of each sequence (512 long vector)\n",
    "x = layers.Dense(128, activation=\"relu\")(pretrained_embedding)\n",
    "# Note: you could add more layers here if you wanted to\n",
    "outputs = layers.Dense(num_class, activation=\"softmax\")(x) # create the output layer\n",
    "model_2 = tf.keras.Model(inputs=inputs,\n",
    "                         outputs=outputs,\n",
    "                         name=\"model_2_USE_feature_extractor\")\n",
    "\n",
    "# Compile the model\n",
    "model_2.compile(loss=\"categorical_crossentropy\",\n",
    "                optimizer=tf.keras.optimizers.Adam(),\n",
    "                metrics=[\"accuracy\"])"
   ]
  },
  {
   "cell_type": "code",
   "execution_count": 46,
   "id": "df6a2d10-bad2-4065-876c-a95952295905",
   "metadata": {
    "tags": []
   },
   "outputs": [
    {
     "name": "stdout",
     "output_type": "stream",
     "text": [
      "Epoch 1/3\n",
      "5627/5627 [==============================] - 45s 7ms/step - loss: 0.7276 - accuracy: 0.7215 - val_loss: 0.6558 - val_accuracy: 0.7498\n",
      "Epoch 2/3\n",
      "5627/5627 [==============================] - 41s 7ms/step - loss: 0.6345 - accuracy: 0.7595 - val_loss: 0.6193 - val_accuracy: 0.7634\n",
      "Epoch 3/3\n",
      "5627/5627 [==============================] - 41s 7ms/step - loss: 0.5999 - accuracy: 0.7725 - val_loss: 0.6042 - val_accuracy: 0.7706\n"
     ]
    }
   ],
   "source": [
    "history_model_2 = model_2.fit(train_dataset,\n",
    "                              epochs=3,\n",
    "                              #steps_per_epoch=int(0.1 * len(train_dataset)),\n",
    "                              validation_data=valid_dataset)\n",
    "                              #,validation_steps=int(0.1 * len(valid_dataset)))"
   ]
  },
  {
   "cell_type": "code",
   "execution_count": 47,
   "id": "a18fbd9b-7688-4c41-a132-8bb0ff799ec6",
   "metadata": {
    "tags": []
   },
   "outputs": [
    {
     "name": "stdout",
     "output_type": "stream",
     "text": [
      "Epoch 1/3\n",
      "5627/5627 [==============================] - 46s 8ms/step - loss: 0.6785 - accuracy: 0.7392 - val_loss: 0.6138 - val_accuracy: 0.7649\n",
      "Epoch 2/3\n",
      "5627/5627 [==============================] - 42s 8ms/step - loss: 0.5855 - accuracy: 0.7773 - val_loss: 0.5990 - val_accuracy: 0.7705\n",
      "Epoch 3/3\n",
      "5627/5627 [==============================] - 43s 8ms/step - loss: 0.5419 - accuracy: 0.7954 - val_loss: 0.6015 - val_accuracy: 0.7731\n"
     ]
    }
   ],
   "source": [
    "# Define feature extraction model using TF Hub layer\n",
    "inputs = layers.Input(shape=[], dtype=tf.string)\n",
    "pretrained_embedding = tf_hub_embedding_layer(inputs) # tokenize text and create embedding of each sequence (512 long vector)\n",
    "x = layers.Dense(256, activation=\"relu\")(pretrained_embedding)\n",
    "x = layers.Dense(128, activation=\"relu\")(x)\n",
    "x = layers.Dense(64, activation=\"relu\")(x)\n",
    "# Note: you could add more layers here if you wanted to\n",
    "outputs = layers.Dense(num_class, activation=\"softmax\")(x) # create the output layer\n",
    "model_2_1 = tf.keras.Model(inputs=inputs,\n",
    "                         outputs=outputs,\n",
    "                         name=\"model_2_USE_feature_extractor\")\n",
    "\n",
    "# Compile the model\n",
    "model_2_1.compile(loss=\"categorical_crossentropy\",\n",
    "                optimizer=tf.keras.optimizers.Adam(),\n",
    "                metrics=[\"accuracy\"])\n",
    "\n",
    "history_model_2_1 = model_2_1.fit(train_dataset,\n",
    "                              epochs=3,\n",
    "                              #steps_per_epoch=int(0.1 * len(train_dataset)),\n",
    "                              validation_data=valid_dataset)\n",
    "                              #,validation_steps=int(0.1 * len(valid_dataset)))"
   ]
  },
  {
   "cell_type": "code",
   "execution_count": 48,
   "id": "74649493-2d36-40ba-b5ea-6708a44f6349",
   "metadata": {
    "tags": []
   },
   "outputs": [
    {
     "name": "stdout",
     "output_type": "stream",
     "text": [
      "945/945 [==============================] - 6s 6ms/step\n"
     ]
    },
    {
     "data": {
      "text/plain": [
       "{'accuracy': 77.05878458890507,\n",
       " 'precision': 0.7680950027005905,\n",
       " 'recall': 0.7705878458890507,\n",
       " 'f1': 0.7665439486434662}"
      ]
     },
     "execution_count": 48,
     "metadata": {},
     "output_type": "execute_result"
    }
   ],
   "source": [
    "model_2_pred_probs = model_2.predict(valid_dataset)\n",
    "model_2_preds = tf.argmax(model_2_pred_probs, axis=1)\n",
    "model_2_results = calculate_results(y_true=val_labels_encoded,\n",
    "                                   y_pred=model_2_preds)\n",
    "model_2_results"
   ]
  },
  {
   "cell_type": "markdown",
   "id": "e9284d58-88d3-47fd-b6ca-c34e39278e41",
   "metadata": {},
   "source": [
    "## MODEL 3 CHARACTER LEVEL TOKENIZER"
   ]
  },
  {
   "cell_type": "code",
   "execution_count": 49,
   "id": "2ecd3c25-27b0-4db6-904f-852446be75bc",
   "metadata": {
    "tags": []
   },
   "outputs": [
    {
     "data": {
      "text/plain": [
       "'f r o m   @   t o   @   ,   @   p a t i e n t s   m e t   e l i g i b i l i t y   c r i t e r i a   a n d   w e r e   r a n d o m i z e d   t o   r e c e i v e   p a r t i c l e   (   @   p a t i e n t s   )   o r   p l a q u e   t h e r a p y   (   @   p a t i e n t s   )   .'"
      ]
     },
     "execution_count": 49,
     "metadata": {},
     "output_type": "execute_result"
    }
   ],
   "source": [
    "def split_chars(text):\n",
    "    return \" \".join(list(text))\n",
    "\n",
    "split_chars(random_train_sentence)"
   ]
  },
  {
   "cell_type": "code",
   "execution_count": 50,
   "id": "8284fe67-5577-4e13-9642-46caba70b9b4",
   "metadata": {
    "tags": []
   },
   "outputs": [],
   "source": [
    "train_chars = [split_chars(sentence) for sentence in train_sentences]\n",
    "val_chars = [split_chars(sentence) for sentence in val_sentences]\n",
    "test_chars = [split_chars(sentence) for sentence in test_sentences]"
   ]
  },
  {
   "cell_type": "code",
   "execution_count": 51,
   "id": "b4c2a699-bd6e-4cc6-b002-7e6ac736679d",
   "metadata": {
    "tags": []
   },
   "outputs": [
    {
     "data": {
      "text/plain": [
       "149.3662574983337"
      ]
     },
     "execution_count": 51,
     "metadata": {},
     "output_type": "execute_result"
    }
   ],
   "source": [
    "char_lens = [len(sentence) for sentence in train_sentences]\n",
    "mean_char_len = np.mean(char_lens)\n",
    "mean_char_len"
   ]
  },
  {
   "cell_type": "code",
   "execution_count": 52,
   "id": "6d0b0a4e-2d8c-445b-a3aa-8bff0274acda",
   "metadata": {
    "tags": []
   },
   "outputs": [
    {
     "data": {
      "image/png": "[encoded data removed]",
      "text/plain": [
       "<Figure size 640x480 with 1 Axes>"
      ]
     },
     "metadata": {},
     "output_type": "display_data"
    }
   ],
   "source": [
    "plt.hist(char_lens,bins=7)\n",
    "plt.yscale(\"log\")"
   ]
  },
  {
   "cell_type": "code",
   "execution_count": 53,
   "id": "d83966d4-0d52-4823-834d-58367c4508b1",
   "metadata": {
    "tags": []
   },
   "outputs": [
    {
     "data": {
      "text/plain": [
       "304"
      ]
     },
     "execution_count": 53,
     "metadata": {},
     "output_type": "execute_result"
    }
   ],
   "source": [
    "output_seq_char_len = int(np.percentile(char_lens, 96))\n",
    "output_seq_char_len"
   ]
  },
  {
   "cell_type": "code",
   "execution_count": 54,
   "id": "f75eb569-04bb-4399-b0a6-2c568c5b4963",
   "metadata": {
    "tags": []
   },
   "outputs": [
    {
     "data": {
      "text/plain": [
       "'abcdefghijklmnopqrstuvwxyz0123456789!\"#$%&\\'()*+,-./:;<=>?@[\\\\]^_`{|}~'"
      ]
     },
     "execution_count": 54,
     "metadata": {},
     "output_type": "execute_result"
    }
   ],
   "source": [
    "#get all keyboard values\n",
    "import string\n",
    "alphabet = string.ascii_lowercase + string.digits + string.punctuation\n",
    "alphabet"
   ]
  },
  {
   "cell_type": "code",
   "execution_count": 55,
   "id": "ea3bca13-17b2-415a-bf96-71e6c3a39177",
   "metadata": {
    "tags": []
   },
   "outputs": [],
   "source": [
    "NUM_CHAR_TOKENS = len(alphabet) + 2\n",
    "char_vectorizer = TextVectorization(max_tokens = NUM_CHAR_TOKENS,output_sequence_length= output_seq_char_len, name = \"char_vectorizer\")"
   ]
  },
  {
   "cell_type": "code",
   "execution_count": 56,
   "id": "88f8a8b7-bae0-45c4-8a23-80192ef27741",
   "metadata": {
    "tags": []
   },
   "outputs": [],
   "source": [
    "char_vectorizer.adapt(train_chars)"
   ]
  },
  {
   "cell_type": "code",
   "execution_count": 57,
   "id": "b5381bfa-d66e-441d-9ba4-d771da4e92cd",
   "metadata": {
    "tags": []
   },
   "outputs": [
    {
     "name": "stdout",
     "output_type": "stream",
     "text": [
      "Number of different characters in character vocab: 28\n",
      "5 most common characters: ['', '[UNK]', 'e', 't', 'i']\n",
      "5 least common characters: ['k', 'x', 'z', 'q', 'j']\n"
     ]
    }
   ],
   "source": [
    "char_vocab = char_vectorizer.get_vocabulary()\n",
    "print(f\"Number of different characters in character vocab: {len(char_vocab)}\")\n",
    "print(f\"5 most common characters: {char_vocab[:5]}\")\n",
    "print(f\"5 least common characters: {char_vocab[-5:]}\")"
   ]
  },
  {
   "cell_type": "code",
   "execution_count": 58,
   "id": "f7a1e52c-b9dd-4792-a376-7a0044fb2e50",
   "metadata": {
    "tags": []
   },
   "outputs": [
    {
     "name": "stdout",
     "output_type": "stream",
     "text": [
      "Charified text:\n",
      " c h r o n i c   h e p a t i t i s   b   p a t i e n t s   r e f r a c t o r y   t o   l a m i v u d i n e   c o m b i n e d   w i t h   a d v   h a v e   a   g o o d   r e s p o n s e   t o   i n f - @ b   m o n o t h e r a p y   a n d   c o m b i n e d   t h e r a p y   w i t h   e n t e c a v i r   a n d   a d v   ,   a n d   i n t e r f e r o n   t r e a t m e n t   i s   p r e f e r r e d   t o   r e d u c e   p o t e n t i a l   d r u g   r e s i s t a n c e   g e n e   m u t a t i o n s   .\n",
      "\n",
      "Length of random_train_chars: 214\n",
      "\n",
      "Vectorized chars:\n",
      " [[11 13  8  7  6  4 11 13  2 14  5  3  4  3  4  9 22 14  5  3  4  2  6  3\n",
      "   9  8  2 17  8  5 11  3  7  8 19  3  7 12  5 15  4 21 16 10  4  6  2 11\n",
      "   7 15 22  4  6  2 10 20  4  3 13  5 10 21 13  5 21  2  5 18  7  7 10  8\n",
      "   2  9 14  7  6  9  2  3  7  4  6 17 22 15  7  6  7  3 13  2  8  5 14 19\n",
      "   5  6 10 11  7 15 22  4  6  2 10  3 13  2  8  5 14 19 20  4  3 13  2  6\n",
      "   3  2 11  5 21  4  8  5  6 10  5 10 21  5  6 10  4  6  3  2  8 17  2  8\n",
      "   7  6  3  8  2  5  3 15  2  6  3  4  9 14  8  2 17  2  8  8  2 10  3  7\n",
      "   8  2 10 16 11  2 14  7  3  2  6  3  4  5 12 10  8 16 18  8  2  9  4  9\n",
      "   3  5  6 11  2 18  2  6  2 15 16  3  5  3  4  7  6  9  0  0  0  0  0  0\n",
      "   0  0  0  0  0  0  0  0  0  0  0  0  0  0  0  0  0  0  0  0  0  0  0  0\n",
      "   0  0  0  0  0  0  0  0  0  0  0  0  0  0  0  0  0  0  0  0  0  0  0  0\n",
      "   0  0  0  0  0  0  0  0  0  0  0  0  0  0  0  0  0  0  0  0  0  0  0  0\n",
      "   0  0  0  0  0  0  0  0  0  0  0  0  0  0  0  0]]\n",
      "\n",
      "Length of vectorized chars: 304\n"
     ]
    }
   ],
   "source": [
    "random_train_chars = random.choice(train_chars)\n",
    "print(f\"Charified text:\\n {random_train_chars}\")\n",
    "print(f\"\\nLength of random_train_chars: {len(random_train_chars.split())}\")\n",
    "vectorized_chars = char_vectorizer([random_train_chars])\n",
    "print(f\"\\nVectorized chars:\\n {vectorized_chars}\")\n",
    "print(f\"\\nLength of vectorized chars: {len(vectorized_chars[0])}\")"
   ]
  },
  {
   "cell_type": "code",
   "execution_count": 59,
   "id": "66eff2d7-ae69-4a76-b51e-357329c50920",
   "metadata": {
    "tags": []
   },
   "outputs": [],
   "source": [
    "char_embed = layers.Embedding(input_dim=len(char_vocab), # number of different characters\n",
    "                              output_dim=25, # this is the size of the char embedding in the paper: https://arxiv.org/pdf/1612.05251.pdf (Figure 1)\n",
    "                              mask_zero=True,\n",
    "                              name=\"char_embed\")"
   ]
  },
  {
   "cell_type": "code",
   "execution_count": 60,
   "id": "e25a336d-21fb-4fdf-8394-e76dc70dcf8f",
   "metadata": {
    "tags": []
   },
   "outputs": [
    {
     "data": {
      "text/plain": [
       "<_PrefetchDataset element_spec=(TensorSpec(shape=(None,), dtype=tf.string, name=None), TensorSpec(shape=(None, 5), dtype=tf.float64, name=None))>"
      ]
     },
     "execution_count": 60,
     "metadata": {},
     "output_type": "execute_result"
    }
   ],
   "source": [
    "train_char_dataset = tf.data.Dataset.from_tensor_slices((train_chars, train_labels_one_hot)).batch(32).prefetch(tf.data.AUTOTUNE)\n",
    "val_char_dataset = tf.data.Dataset.from_tensor_slices((val_chars, val_labels_one_hot)).batch(32).prefetch(tf.data.AUTOTUNE)\n",
    "test_char_dataset = tf.data.Dataset.from_tensor_slices((test_chars, test_labels_one_hot)).batch(32).prefetch(tf.data.AUTOTUNE)\n",
    "\n",
    "train_char_dataset"
   ]
  },
  {
   "cell_type": "code",
   "execution_count": 61,
   "id": "136c6dba-dee4-49f7-bc86-39d180e46efe",
   "metadata": {
    "tags": []
   },
   "outputs": [
    {
     "name": "stdout",
     "output_type": "stream",
     "text": [
      "Epoch 1/3\n",
      "562/562 [==============================] - 7s 9ms/step - loss: 1.4593 - accuracy: 0.3483 - val_loss: 1.4091 - val_accuracy: 0.3983\n",
      "Epoch 2/3\n",
      "562/562 [==============================] - 6s 10ms/step - loss: 1.3754 - accuracy: 0.4138 - val_loss: 1.3472 - val_accuracy: 0.4355\n",
      "Epoch 3/3\n",
      "562/562 [==============================] - 5s 10ms/step - loss: 1.3357 - accuracy: 0.4455 - val_loss: 1.3195 - val_accuracy: 0.4418\n"
     ]
    }
   ],
   "source": [
    "#Create Model\n",
    "inputs = layers.Input(shape=(1,), dtype=tf.string)\n",
    "char_vectors = char_vectorizer(inputs) \n",
    "token_embeddings = char_embed(char_vectors)\n",
    "x = layers.Conv1D(64,kernel_size=5, padding=\"same\", activation=\"relu\")(token_embeddings)\n",
    "x=layers.GlobalAveragePooling1D()(x)\n",
    "outputs = layers.Dense(num_class, activation=\"softmax\")(x)\n",
    "model_3 = tf.keras.Model(inputs,outputs)\n",
    "\n",
    "#compile\n",
    "model_3.compile(loss = \"categorical_crossentropy\",\n",
    "               optimizer = tf.keras.optimizers.Adam(),\n",
    "               metrics=['accuracy'])\n",
    "\n",
    "history_3 = model_3.fit(train_char_dataset,\n",
    "                        steps_per_epoch=int(0.1*len(train_dataset)),\n",
    "                        epochs=3,\n",
    "                        validation_data=val_char_dataset\n",
    "                        ,validation_steps=int(0.1*len(valid_dataset)))"
   ]
  },
  {
   "cell_type": "code",
   "execution_count": 62,
   "id": "97c51bf9-5888-4790-8983-67b16d424f2a",
   "metadata": {
    "tags": []
   },
   "outputs": [
    {
     "name": "stdout",
     "output_type": "stream",
     "text": [
      "945/945 [==============================] - 3s 3ms/step\n"
     ]
    },
    {
     "name": "stderr",
     "output_type": "stream",
     "text": [
      "C:\\Users\\rishu.nand\\AppData\\Local\\anaconda3\\Lib\\site-packages\\sklearn\\metrics\\_classification.py:1469: UndefinedMetricWarning: Precision and F-score are ill-defined and being set to 0.0 in labels with no predicted samples. Use `zero_division` parameter to control this behavior.\n",
      "  _warn_prf(average, modifier, msg_start, len(result))\n"
     ]
    },
    {
     "data": {
      "text/plain": [
       "{'accuracy': 44.34330729511453,\n",
       " 'precision': 0.37654887627685163,\n",
       " 'recall': 0.44343307295114526,\n",
       " 'f1': 0.3876458637159499}"
      ]
     },
     "execution_count": 62,
     "metadata": {},
     "output_type": "execute_result"
    }
   ],
   "source": [
    "model_3_results = calculate_results(y_true=val_labels_encoded,\n",
    "                                    y_pred=tf.argmax(model_3.predict(val_char_dataset), axis=1))\n",
    "model_3_results"
   ]
  },
  {
   "cell_type": "code",
   "execution_count": 63,
   "id": "e8e3bb9a-bb91-4ab8-844e-413f009c7c64",
   "metadata": {
    "tags": []
   },
   "outputs": [
    {
     "name": "stdout",
     "output_type": "stream",
     "text": [
      "Epoch 1/3\n",
      "562/562 [==============================] - 7s 10ms/step - loss: 1.2547 - accuracy: 0.4857 - val_loss: 1.1162 - val_accuracy: 0.5462\n",
      "Epoch 2/3\n",
      "562/562 [==============================] - 6s 10ms/step - loss: 1.0821 - accuracy: 0.5618 - val_loss: 1.0204 - val_accuracy: 0.5888\n",
      "Epoch 3/3\n",
      "562/562 [==============================] - 5s 10ms/step - loss: 1.0085 - accuracy: 0.6000 - val_loss: 0.9626 - val_accuracy: 0.6144\n"
     ]
    }
   ],
   "source": [
    "inputs = layers.Input(shape=(1,), dtype=tf.string)\n",
    "char_vectors = char_vectorizer(inputs) \n",
    "token_embeddings = char_embed(char_vectors)\n",
    "x = layers.Conv1D(64,kernel_size=5, padding=\"same\", activation=\"relu\")(token_embeddings)\n",
    "x=layers.GlobalMaxPooling1D()(x)\n",
    "outputs = layers.Dense(num_class, activation=\"softmax\")(x)\n",
    "model_3 = tf.keras.Model(inputs,outputs)\n",
    "\n",
    "#compile\n",
    "model_3.compile(loss = \"categorical_crossentropy\",\n",
    "               optimizer = tf.keras.optimizers.Adam(),\n",
    "               metrics=['accuracy'])\n",
    "\n",
    "history_3 = model_3.fit(train_char_dataset,\n",
    "                        steps_per_epoch=int(0.1*len(train_dataset)),\n",
    "                        epochs=3,\n",
    "                        validation_data=val_char_dataset\n",
    "                        ,validation_steps=int(0.1*len(valid_dataset)))"
   ]
  },
  {
   "cell_type": "code",
   "execution_count": 64,
   "id": "5eb4e07b-6749-4c2d-a4ad-0a2871ef0efe",
   "metadata": {
    "tags": []
   },
   "outputs": [
    {
     "name": "stdout",
     "output_type": "stream",
     "text": [
      "Epoch 1/3\n",
      "562/562 [==============================] - 85s 150ms/step - loss: 0.5855 - accuracy: 0.7895 - val_loss: 0.5578 - val_accuracy: 0.7985\n",
      "Epoch 2/3\n",
      "562/562 [==============================] - 84s 150ms/step - loss: 0.4889 - accuracy: 0.8243 - val_loss: 0.5469 - val_accuracy: 0.7962\n",
      "Epoch 3/3\n",
      "562/562 [==============================] - 84s 149ms/step - loss: 0.4649 - accuracy: 0.8330 - val_loss: 0.5440 - val_accuracy: 0.7995\n"
     ]
    }
   ],
   "source": [
    "#Create Model\n",
    "inputs = layers.Input(shape=(1,), dtype=tf.string)\n",
    "text_vectors = text_vectorizer(inputs) \n",
    "token_embeddings = token_embed(text_vectors)\n",
    "x = layers.Conv1D(64,kernel_size=5, padding=\"same\", activation=\"relu\")(token_embeddings)\n",
    "x=layers.GlobalMaxPooling1D()(x)\n",
    "outputs = layers.Dense(num_class, activation=\"softmax\")(x)\n",
    "model_1_1 = tf.keras.Model(inputs,outputs)\n",
    "\n",
    "#compile\n",
    "model_1_1.compile(loss = \"categorical_crossentropy\",\n",
    "               optimizer = tf.keras.optimizers.Adam(),\n",
    "               metrics=['accuracy'])\n",
    "\n",
    "history_1_1 = model_1_1.fit(train_dataset,steps_per_epoch=int(0.1*len(train_dataset)),epochs=3,validation_data=valid_dataset,validation_steps=int(0.1*len(valid_dataset)))"
   ]
  },
  {
   "cell_type": "code",
   "execution_count": 65,
   "id": "92a77ebb-fc1a-4b79-8dbd-29413da13c80",
   "metadata": {
    "tags": []
   },
   "outputs": [
    {
     "name": "stdout",
     "output_type": "stream",
     "text": [
      "945/945 [==============================] - 2s 2ms/step - loss: 0.5497 - accuracy: 0.7977\n"
     ]
    },
    {
     "data": {
      "text/plain": [
       "[0.5496786236763, 0.7976962924003601]"
      ]
     },
     "execution_count": 65,
     "metadata": {},
     "output_type": "execute_result"
    }
   ],
   "source": [
    "model_1_1.evaluate(valid_dataset)"
   ]
  },
  {
   "cell_type": "markdown",
   "id": "dc2c744b-cccd-4f40-8deb-176f53935a7f",
   "metadata": {
    "tags": []
   },
   "source": [
    "## Model 4"
   ]
  },
  {
   "cell_type": "code",
   "execution_count": 66,
   "id": "7a1e8003-cd43-46e2-9440-ead8c2214937",
   "metadata": {
    "tags": []
   },
   "outputs": [],
   "source": [
    "#setup token inputs/model\n",
    "token_inputs = layers.Input(shape=[], dtype=tf.string, name=\"token_input\")\n",
    "token_embeddings = tf_hub_embedding_layer(token_inputs)\n",
    "token_outputs = layers.Dense(128,activation=\"relu\")(token_embeddings)\n",
    "token_model = tf.keras.Model(inputs = token_inputs, outputs = token_outputs)\n",
    "\n",
    "#setup char inputs/model\n",
    "char_inputs = layers.Input(shape=(1,),dtype = tf.string , name=\"char_input\")\n",
    "char_vectors = char_vectorizer(char_inputs)\n",
    "char_embeddings= char_embed(char_vectors)\n",
    "char_bi_lstm = layers.Bidirectional(layers.LSTM(24))(char_embeddings) #Bi - LSTM\n",
    "char_model = tf.keras.Model(inputs= char_inputs, outputs=char_bi_lstm)\n",
    "\n",
    "#concatenate\n",
    "token_char_concat = layers.Concatenate(name=\"token_char_hybrid\")([token_model.output,char_model.output])\n",
    "\n",
    "#create output layers\n",
    "combined_dropout = layers.Dropout(0.5)(token_char_concat)\n",
    "combined_Dense = layers.Dense(128, activation=\"relu\")(combined_dropout)\n",
    "final_dropout = layers.Dropout(0.5)(combined_Dense)\n",
    "output_layer = layers.Dense(num_class,activation=\"softmax\")(final_dropout)\n",
    "\n",
    "#construct model with char and token input\n",
    "model_4 = tf.keras.Model(inputs=[token_model.input,char_model.input],\n",
    "                        outputs = output_layer,\n",
    "                        name = \"model_4_token_And-char_embedding\")"
   ]
  },
  {
   "cell_type": "code",
   "execution_count": 67,
   "id": "58d69edb-266e-4f3e-8222-4668a1fcd6d9",
   "metadata": {
    "tags": []
   },
   "outputs": [
    {
     "data": {
      "image/png": "[encoded data removed]",
      "text/plain": [
       "<IPython.core.display.Image object>"
      ]
     },
     "execution_count": 67,
     "metadata": {},
     "output_type": "execute_result"
    }
   ],
   "source": [
    "tf.keras.utils.plot_model(model_4,show_shapes=True)"
   ]
  },
  {
   "cell_type": "code",
   "execution_count": 68,
   "id": "339926f5-2e50-40f1-a20e-f67183d6d40d",
   "metadata": {
    "tags": []
   },
   "outputs": [],
   "source": [
    "model_4.compile(loss = \"categorical_crossentropy\",\n",
    "               optimizer=tf.keras.optimizers.Adam(),\n",
    "               metrics=[\"Accuracy\"])"
   ]
  },
  {
   "cell_type": "code",
   "execution_count": 69,
   "id": "44d40d56-f136-4125-b6f6-b58d84febd20",
   "metadata": {
    "tags": []
   },
   "outputs": [],
   "source": [
    "#combine thw dataset\n",
    "train_char_token_data = tf.data.Dataset.from_tensor_slices((train_sentences, train_chars))\n",
    "train_char_token_label = tf.data.Dataset.from_tensor_slices(train_labels_one_hot)\n",
    "train_char_token_dataset = tf.data.Dataset.zip((train_char_token_data,train_char_token_label))\n",
    "\n",
    "train_char_token_dataset = train_char_token_dataset.batch(32).prefetch(tf.data.AUTOTUNE)"
   ]
  },
  {
   "cell_type": "code",
   "execution_count": 70,
   "id": "0d9772ac-7bc7-41c5-83c0-760c09616ebd",
   "metadata": {
    "tags": []
   },
   "outputs": [],
   "source": [
    "val_char_token_data = tf.data.Dataset.from_tensor_slices((val_sentences, val_chars))\n",
    "val_char_token_label = tf.data.Dataset.from_tensor_slices(val_labels_one_hot)\n",
    "val_char_token_dataset = tf.data.Dataset.zip((val_char_token_data,val_char_token_label))\n",
    "val_char_token_dataset = val_char_token_dataset.batch(32).prefetch(tf.data.AUTOTUNE)"
   ]
  },
  {
   "cell_type": "code",
   "execution_count": 71,
   "id": "fc422e61-b8c9-4158-8c56-1fdb97ae8ecb",
   "metadata": {
    "tags": []
   },
   "outputs": [
    {
     "data": {
      "text/plain": [
       "(<_PrefetchDataset element_spec=((TensorSpec(shape=(None,), dtype=tf.string, name=None), TensorSpec(shape=(None,), dtype=tf.string, name=None)), TensorSpec(shape=(None, 5), dtype=tf.float64, name=None))>,\n",
       " <_PrefetchDataset element_spec=((TensorSpec(shape=(None,), dtype=tf.string, name=None), TensorSpec(shape=(None,), dtype=tf.string, name=None)), TensorSpec(shape=(None, 5), dtype=tf.float64, name=None))>)"
      ]
     },
     "execution_count": 71,
     "metadata": {},
     "output_type": "execute_result"
    }
   ],
   "source": [
    "train_char_token_dataset, val_char_token_dataset"
   ]
  },
  {
   "cell_type": "code",
   "execution_count": 72,
   "id": "bc6a6097-149d-4b47-bb26-79b99f397cde",
   "metadata": {
    "tags": []
   },
   "outputs": [
    {
     "name": "stdout",
     "output_type": "stream",
     "text": [
      "Epoch 1/3\n",
      "562/562 [==============================] - 54s 79ms/step - loss: 0.9846 - Accuracy: 0.6111 - val_loss: 0.7735 - val_Accuracy: 0.7041\n",
      "Epoch 2/3\n",
      "562/562 [==============================] - 41s 73ms/step - loss: 0.8011 - Accuracy: 0.6930 - val_loss: 0.7153 - val_Accuracy: 0.7304\n",
      "Epoch 3/3\n",
      "562/562 [==============================] - 41s 74ms/step - loss: 0.7745 - Accuracy: 0.7047 - val_loss: 0.6943 - val_Accuracy: 0.7394\n"
     ]
    },
    {
     "data": {
      "text/plain": [
       "<keras.src.callbacks.History at 0x25bf9875c50>"
      ]
     },
     "execution_count": 72,
     "metadata": {},
     "output_type": "execute_result"
    }
   ],
   "source": [
    "model_4.fit(train_char_token_dataset,steps_per_epoch=int(0.1*len(train_char_token_dataset)),epochs=3,validation_data=val_char_token_dataset,validation_steps=int(0.1*len(val_char_token_dataset)))"
   ]
  },
  {
   "cell_type": "markdown",
   "id": "906e0b64-458c-4d8d-b1b6-6a0086114d6f",
   "metadata": {},
   "source": [
    "## MODEL 5 = model4 +  Positional embedding"
   ]
  },
  {
   "cell_type": "code",
   "execution_count": 73,
   "id": "6a50a3ca-69af-41a1-8aee-e36b600b647b",
   "metadata": {
    "tags": []
   },
   "outputs": [
    {
     "data": {
      "text/plain": [
       "<seaborn.axisgrid.FacetGrid at 0x25c8a443b50>"
      ]
     },
     "execution_count": 73,
     "metadata": {},
     "output_type": "execute_result"
    },
    {
     "data": {
      "image/png": "[encoded data removed]",
      "text/plain": [
       "<Figure size 500x500 with 1 Axes>"
      ]
     },
     "metadata": {},
     "output_type": "display_data"
    }
   ],
   "source": [
    "import seaborn as sns\n",
    "sns.displot(train_df.line_number)"
   ]
  },
  {
   "cell_type": "code",
   "execution_count": 74,
   "id": "f7a5eb21-ee39-4b3f-ac38-7e466f53964f",
   "metadata": {
    "tags": []
   },
   "outputs": [
    {
     "data": {
      "text/plain": [
       "(<tf.Tensor: shape=(10, 20), dtype=float32, numpy=\n",
       " array([[1., 0., 0., 0., 0., 0., 0., 0., 0., 0., 0., 0., 0., 0., 0., 0.,\n",
       "         0., 0., 0., 0.],\n",
       "        [0., 1., 0., 0., 0., 0., 0., 0., 0., 0., 0., 0., 0., 0., 0., 0.,\n",
       "         0., 0., 0., 0.],\n",
       "        [0., 0., 1., 0., 0., 0., 0., 0., 0., 0., 0., 0., 0., 0., 0., 0.,\n",
       "         0., 0., 0., 0.],\n",
       "        [0., 0., 0., 1., 0., 0., 0., 0., 0., 0., 0., 0., 0., 0., 0., 0.,\n",
       "         0., 0., 0., 0.],\n",
       "        [0., 0., 0., 0., 1., 0., 0., 0., 0., 0., 0., 0., 0., 0., 0., 0.,\n",
       "         0., 0., 0., 0.],\n",
       "        [0., 0., 0., 0., 0., 1., 0., 0., 0., 0., 0., 0., 0., 0., 0., 0.,\n",
       "         0., 0., 0., 0.],\n",
       "        [0., 0., 0., 0., 0., 0., 1., 0., 0., 0., 0., 0., 0., 0., 0., 0.,\n",
       "         0., 0., 0., 0.],\n",
       "        [0., 0., 0., 0., 0., 0., 0., 1., 0., 0., 0., 0., 0., 0., 0., 0.,\n",
       "         0., 0., 0., 0.],\n",
       "        [0., 0., 0., 0., 0., 0., 0., 0., 1., 0., 0., 0., 0., 0., 0., 0.,\n",
       "         0., 0., 0., 0.],\n",
       "        [0., 0., 0., 0., 0., 0., 0., 0., 0., 1., 0., 0., 0., 0., 0., 0.,\n",
       "         0., 0., 0., 0.]], dtype=float32)>,\n",
       " TensorShape([180040, 20]))"
      ]
     },
     "execution_count": 74,
     "metadata": {},
     "output_type": "execute_result"
    }
   ],
   "source": [
    "#one hot encoding\n",
    "train_line_numbers_one_hot = tf.one_hot(train_df.line_number.to_numpy(),depth=20)\n",
    "val_line_numbers_one_hot = tf.one_hot(val_df.line_number.to_numpy(),depth=20)\n",
    "test_line_numbers_one_hot = tf.one_hot(test_df.line_number.to_numpy(),depth=20)\n",
    "train_line_numbers_one_hot[:10],train_line_numbers_one_hot.shape"
   ]
  },
  {
   "cell_type": "code",
   "execution_count": 75,
   "id": "b36b6462-034d-4dff-b32c-2dc2cbaa100c",
   "metadata": {
    "tags": []
   },
   "outputs": [
    {
     "data": {
      "text/plain": [
       "<seaborn.axisgrid.FacetGrid at 0x25c891a30d0>"
      ]
     },
     "execution_count": 75,
     "metadata": {},
     "output_type": "execute_result"
    },
    {
     "data": {
      "image/png": "[encoded data removed]",
      "text/plain": [
       "<Figure size 500x500 with 1 Axes>"
      ]
     },
     "metadata": {},
     "output_type": "display_data"
    }
   ],
   "source": [
    "sns.displot(train_df.total_lines)"
   ]
  },
  {
   "cell_type": "code",
   "execution_count": 76,
   "id": "05fbe7ec-97ae-4ecb-8dc9-9d82e4e99331",
   "metadata": {
    "tags": []
   },
   "outputs": [
    {
     "data": {
      "text/plain": [
       "20.0"
      ]
     },
     "execution_count": 76,
     "metadata": {},
     "output_type": "execute_result"
    }
   ],
   "source": [
    "np.percentile(train_df.total_lines,98.6)"
   ]
  },
  {
   "cell_type": "code",
   "execution_count": 77,
   "id": "9e240a95-8740-4d7a-892e-3147cfb9df9e",
   "metadata": {
    "tags": []
   },
   "outputs": [
    {
     "data": {
      "text/plain": [
       "(TensorShape([180040, 20]),\n",
       " <tf.Tensor: shape=(10, 20), dtype=float32, numpy=\n",
       " array([[0., 0., 0., 0., 0., 0., 0., 0., 0., 0., 0., 1., 0., 0., 0., 0.,\n",
       "         0., 0., 0., 0.],\n",
       "        [0., 0., 0., 0., 0., 0., 0., 0., 0., 0., 0., 1., 0., 0., 0., 0.,\n",
       "         0., 0., 0., 0.],\n",
       "        [0., 0., 0., 0., 0., 0., 0., 0., 0., 0., 0., 1., 0., 0., 0., 0.,\n",
       "         0., 0., 0., 0.],\n",
       "        [0., 0., 0., 0., 0., 0., 0., 0., 0., 0., 0., 1., 0., 0., 0., 0.,\n",
       "         0., 0., 0., 0.],\n",
       "        [0., 0., 0., 0., 0., 0., 0., 0., 0., 0., 0., 1., 0., 0., 0., 0.,\n",
       "         0., 0., 0., 0.],\n",
       "        [0., 0., 0., 0., 0., 0., 0., 0., 0., 0., 0., 1., 0., 0., 0., 0.,\n",
       "         0., 0., 0., 0.],\n",
       "        [0., 0., 0., 0., 0., 0., 0., 0., 0., 0., 0., 1., 0., 0., 0., 0.,\n",
       "         0., 0., 0., 0.],\n",
       "        [0., 0., 0., 0., 0., 0., 0., 0., 0., 0., 0., 1., 0., 0., 0., 0.,\n",
       "         0., 0., 0., 0.],\n",
       "        [0., 0., 0., 0., 0., 0., 0., 0., 0., 0., 0., 1., 0., 0., 0., 0.,\n",
       "         0., 0., 0., 0.],\n",
       "        [0., 0., 0., 0., 0., 0., 0., 0., 0., 0., 0., 1., 0., 0., 0., 0.,\n",
       "         0., 0., 0., 0.]], dtype=float32)>)"
      ]
     },
     "execution_count": 77,
     "metadata": {},
     "output_type": "execute_result"
    }
   ],
   "source": [
    "train_total_lines_one_hot = tf.one_hot(train_df.total_lines.to_numpy(),depth=20)\n",
    "val_total_lines_one_hot = tf.one_hot(val_df.total_lines.to_numpy(),depth=20)\n",
    "test_total_lines_one_hot = tf.one_hot(test_df.total_lines.to_numpy(),depth=20)\n",
    "\n",
    "train_total_lines_one_hot.shape, train_total_lines_one_hot[:10]"
   ]
  },
  {
   "cell_type": "code",
   "execution_count": 78,
   "id": "43d015a3-afc9-4d4c-ac25-28f4f7ccd7f5",
   "metadata": {
    "tags": []
   },
   "outputs": [],
   "source": [
    "# 1. token input\n",
    "token_inputs = layers.Input(shape=[],dtype=\"string\",name=\"token_inputs\")\n",
    "token_embeddings = tf_hub_embedding_layer(token_inputs)\n",
    "token_outputs = layers.Dense(128,activation=\"relu\")(token_embeddings)\n",
    "token_model = tf.keras.Model(inputs = token_inputs,outputs=token_outputs)\n",
    "\n",
    "#2.Char inputs\n",
    "char_inputs = layers.Input(shape = (1,),dtype=\"string\",name=\"char_inputs\")\n",
    "char_vectors = char_vectorizer(char_inputs)\n",
    "char_embeddings = char_embed(char_vectors)\n",
    "char_bi_lstm = layers.Bidirectional(layers.LSTM(24))(char_embeddings)\n",
    "char_model = tf.keras.Model(inputs = char_inputs, outputs = char_bi_lstm)\n",
    "\n",
    "#3.Line number model\n",
    "number_inputs = layers.Input(shape=(20,),dtype=tf.float32, name=\"line_number_inputs\")\n",
    "number_outputs = layers.Dense(32,activation=\"relu\")(number_inputs)\n",
    "number_model=tf.keras.Model(inputs=number_inputs,outputs=number_outputs)\n",
    "\n",
    "#4. total lines model\n",
    "total_inputs = layers.Input(shape=(20,),dtype=tf.float32, name=\"total_line_inputs\")\n",
    "total_outputs = layers.Dense(32,activation=\"relu\")(total_inputs)\n",
    "total_model=tf.keras.Model(inputs=total_inputs,outputs=total_outputs)\n",
    "\n",
    "#5. concatenate\n",
    "combined_embeddings = layers.Concatenate(name=\"chat_token_hybrid_embedding\")([token_model.output,char_model.output])\n",
    "\n",
    "z = layers.Dense(256, activation=\"relu\")(combined_embeddings)\n",
    "z = layers.Dropout(0.5)(z)\n",
    "\n",
    "#6. Combine postional with 5 \n",
    "tribrid_embeddings = layers.Concatenate(name = \"char_token_positional_embedding\")([number_model.output,total_model.output,z])\n",
    "\n",
    "\n",
    "#7. Create output layers\n",
    "output_layer = layers.Dense(5,activation = \"softmax\",name=\"output_layer\")(tribrid_embeddings)\n",
    "\n",
    "#8. Put everything together\n",
    "model_5 = tf.keras.Model(inputs = [number_model.input,total_model.input,token_model.input,char_model.input],outputs=output_layer\n",
    "                        ,name=\"tribrid_model_5\")"
   ]
  },
  {
   "cell_type": "code",
   "execution_count": 79,
   "id": "a38679b2-68cb-4695-abf1-8fb439b6d90e",
   "metadata": {
    "tags": []
   },
   "outputs": [
    {
     "name": "stdout",
     "output_type": "stream",
     "text": [
      "Model: \"tribrid_model_5\"\n",
      "__________________________________________________________________________________________________\n",
      " Layer (type)                Output Shape                 Param #   Connected to                  \n",
      "==================================================================================================\n",
      " char_inputs (InputLayer)    [(None, 1)]                  0         []                            \n",
      "                                                                                                  \n",
      " token_inputs (InputLayer)   [(None,)]                    0         []                            \n",
      "                                                                                                  \n",
      " char_vectorizer (TextVecto  (None, 304)                  0         ['char_inputs[0][0]']         \n",
      " rization)                                                                                        \n",
      "                                                                                                  \n",
      " universal_sentence_encoder  (None, 512)                  2567978   ['token_inputs[0][0]']        \n",
      "  (KerasLayer)                                            24                                      \n",
      "                                                                                                  \n",
      " char_embed (Embedding)      (None, 304, 25)              700       ['char_vectorizer[3][0]']     \n",
      "                                                                                                  \n",
      " dense_13 (Dense)            (None, 128)                  65664     ['universal_sentence_encoder[3\n",
      "                                                                    ][0]']                        \n",
      "                                                                                                  \n",
      " bidirectional_1 (Bidirecti  (None, 48)                   9600      ['char_embed[3][0]']          \n",
      " onal)                                                                                            \n",
      "                                                                                                  \n",
      " chat_token_hybrid_embeddin  (None, 176)                  0         ['dense_13[0][0]',            \n",
      " g (Concatenate)                                                     'bidirectional_1[0][0]']     \n",
      "                                                                                                  \n",
      " line_number_inputs (InputL  [(None, 20)]                 0         []                            \n",
      " ayer)                                                                                            \n",
      "                                                                                                  \n",
      " total_line_inputs (InputLa  [(None, 20)]                 0         []                            \n",
      " yer)                                                                                             \n",
      "                                                                                                  \n",
      " dense_16 (Dense)            (None, 256)                  45312     ['chat_token_hybrid_embedding[\n",
      "                                                                    0][0]']                       \n",
      "                                                                                                  \n",
      " dense_14 (Dense)            (None, 32)                   672       ['line_number_inputs[0][0]']  \n",
      "                                                                                                  \n",
      " dense_15 (Dense)            (None, 32)                   672       ['total_line_inputs[0][0]']   \n",
      "                                                                                                  \n",
      " dropout_2 (Dropout)         (None, 256)                  0         ['dense_16[0][0]']            \n",
      "                                                                                                  \n",
      " char_token_positional_embe  (None, 320)                  0         ['dense_14[0][0]',            \n",
      " dding (Concatenate)                                                 'dense_15[0][0]',            \n",
      "                                                                     'dropout_2[0][0]']           \n",
      "                                                                                                  \n",
      " output_layer (Dense)        (None, 5)                    1605      ['char_token_positional_embedd\n",
      "                                                                    ing[0][0]']                   \n",
      "                                                                                                  \n",
      "==================================================================================================\n",
      "Total params: 256922049 (980.08 MB)\n",
      "Trainable params: 124225 (485.25 KB)\n",
      "Non-trainable params: 256797824 (979.61 MB)\n",
      "__________________________________________________________________________________________________\n"
     ]
    }
   ],
   "source": [
    "model_5.summary()"
   ]
  },
  {
   "cell_type": "code",
   "execution_count": 80,
   "id": "8901ec4f-2a2f-4324-8434-0e509f59ee73",
   "metadata": {
    "tags": []
   },
   "outputs": [
    {
     "data": {
      "image/png": "[encoded data removed]",
      "text/plain": [
       "<IPython.core.display.Image object>"
      ]
     },
     "execution_count": 80,
     "metadata": {},
     "output_type": "execute_result"
    }
   ],
   "source": [
    "tf.keras.utils.plot_model(model_5,show_shapes=True)"
   ]
  },
  {
   "cell_type": "code",
   "execution_count": 81,
   "id": "c7328b6b-6049-42e4-90e8-6e5f7f5f10e6",
   "metadata": {
    "tags": []
   },
   "outputs": [],
   "source": [
    "#compile model 5\n",
    "model_5.compile(loss=tf.keras.losses.CategoricalCrossentropy(label_smoothing=0.2),\n",
    "               optimizer = tf.keras.optimizers.Adam(),\n",
    "               metrics=[\"accuracy\"])"
   ]
  },
  {
   "cell_type": "code",
   "execution_count": 82,
   "id": "7ceb336d-8d5c-48d4-9583-edbe7bf130ff",
   "metadata": {
    "tags": []
   },
   "outputs": [],
   "source": [
    "train_char_token_pos_data = tf.data.Dataset.from_tensor_slices((train_line_numbers_one_hot,train_total_lines_one_hot,\n",
    "                                                                     train_sentences, train_chars))\n",
    "train_char_token_pos_label = tf.data.Dataset.from_tensor_slices(train_labels_one_hot)\n",
    "train_char_token_pos_dataset = tf.data.Dataset.zip((train_char_token_pos_data,train_char_token_pos_label))\n",
    "\n",
    "train_char_token_pos_dataset = train_char_token_pos_dataset.batch(32).prefetch(tf.data.AUTOTUNE)"
   ]
  },
  {
   "cell_type": "code",
   "execution_count": 83,
   "id": "178dc49d-8a94-4f25-8532-73bf677ec134",
   "metadata": {
    "tags": []
   },
   "outputs": [],
   "source": [
    "val_char_token_pos_data = tf.data.Dataset.from_tensor_slices((val_line_numbers_one_hot,val_total_lines_one_hot,\n",
    "                                                                     val_sentences, val_chars))\n",
    "val_char_token_pos_label = tf.data.Dataset.from_tensor_slices(val_labels_one_hot)\n",
    "val_char_token_pos_dataset = tf.data.Dataset.zip((val_char_token_pos_data,val_char_token_pos_label))\n",
    "\n",
    "val_char_token_pos_dataset = val_char_token_pos_dataset.batch(32).prefetch(tf.data.AUTOTUNE)"
   ]
  },
  {
   "cell_type": "code",
   "execution_count": 84,
   "id": "f6c18b85-4c47-4240-a8f1-0520da3f1047",
   "metadata": {
    "tags": []
   },
   "outputs": [],
   "source": [
    "test_char_token_pos_data = tf.data.Dataset.from_tensor_slices((test_line_numbers_one_hot,test_total_lines_one_hot,\n",
    "                                                                     test_sentences, test_chars))\n",
    "test_char_token_pos_label = tf.data.Dataset.from_tensor_slices(test_labels_one_hot)\n",
    "test_char_token_pos_dataset = tf.data.Dataset.zip((test_char_token_pos_data,test_char_token_pos_label))\n",
    "\n",
    "test_char_token_pos_dataset = test_char_token_pos_dataset.batch(32).prefetch(tf.data.AUTOTUNE)"
   ]
  },
  {
   "cell_type": "code",
   "execution_count": 85,
   "id": "76df3f61-088c-4035-b0bd-487b9d859085",
   "metadata": {
    "tags": []
   },
   "outputs": [
    {
     "data": {
      "text/plain": [
       "(<_PrefetchDataset element_spec=((TensorSpec(shape=(None, 20), dtype=tf.float32, name=None), TensorSpec(shape=(None, 20), dtype=tf.float32, name=None), TensorSpec(shape=(None,), dtype=tf.string, name=None), TensorSpec(shape=(None,), dtype=tf.string, name=None)), TensorSpec(shape=(None, 5), dtype=tf.float64, name=None))>,\n",
       " <_PrefetchDataset element_spec=((TensorSpec(shape=(None, 20), dtype=tf.float32, name=None), TensorSpec(shape=(None, 20), dtype=tf.float32, name=None), TensorSpec(shape=(None,), dtype=tf.string, name=None), TensorSpec(shape=(None,), dtype=tf.string, name=None)), TensorSpec(shape=(None, 5), dtype=tf.float64, name=None))>)"
      ]
     },
     "execution_count": 85,
     "metadata": {},
     "output_type": "execute_result"
    }
   ],
   "source": [
    "train_char_token_pos_dataset, val_char_token_pos_dataset"
   ]
  },
  {
   "cell_type": "code",
   "execution_count": 86,
   "id": "0e926efd-7143-4b71-82e4-9bdd27b62555",
   "metadata": {
    "tags": []
   },
   "outputs": [
    {
     "name": "stdout",
     "output_type": "stream",
     "text": [
      "Epoch 1/3\n",
      "562/562 [==============================] - 53s 78ms/step - loss: 1.0918 - accuracy: 0.7297 - val_loss: 0.9799 - val_accuracy: 0.8072\n",
      "Epoch 2/3\n",
      "562/562 [==============================] - 40s 72ms/step - loss: 0.9650 - accuracy: 0.8169 - val_loss: 0.9485 - val_accuracy: 0.8328\n",
      "Epoch 3/3\n",
      "562/562 [==============================] - 41s 72ms/step - loss: 0.9463 - accuracy: 0.8266 - val_loss: 0.9376 - val_accuracy: 0.8311\n"
     ]
    }
   ],
   "source": [
    "#fit\n",
    "history_model_5 = model_5.fit(train_char_token_pos_dataset,steps_per_epoch = int(0.1*len(train_char_token_pos_dataset)),epochs=3,\n",
    "                             validation_data=val_char_token_pos_dataset, validation_steps=int(0.1*len(val_char_token_pos_dataset)))"
   ]
  },
  {
   "cell_type": "code",
   "execution_count": 87,
   "id": "28c67c7a-397e-4920-8372-fdccd5a7fbd5",
   "metadata": {
    "tags": []
   },
   "outputs": [
    {
     "name": "stdout",
     "output_type": "stream",
     "text": [
      "945/945 [==============================] - 22s 20ms/step\n"
     ]
    },
    {
     "data": {
      "text/plain": [
       "{'accuracy': 83.5661326625182,\n",
       " 'precision': 0.8347831646337993,\n",
       " 'recall': 0.835661326625182,\n",
       " 'f1': 0.8347509126015227}"
      ]
     },
     "execution_count": 87,
     "metadata": {},
     "output_type": "execute_result"
    }
   ],
   "source": [
    "model_5_results = calculate_results(y_true=val_labels_encoded,\n",
    "                                    y_pred= tf.argmax(model_5.predict(val_char_token_pos_dataset, verbose=1), axis=1))\n",
    "model_5_results"
   ]
  },
  {
   "cell_type": "code",
   "execution_count": 88,
   "id": "2c15cce2-9b08-4034-b067-d2d78c8f15e4",
   "metadata": {
    "tags": []
   },
   "outputs": [
    {
     "name": "stdout",
     "output_type": "stream",
     "text": [
      "945/945 [==============================] - 22s 20ms/step\n"
     ]
    },
    {
     "data": {
      "text/plain": [
       "{'accuracy': 73.15305176750961,\n",
       " 'precision': 0.7315796365595717,\n",
       " 'recall': 0.731530517675096,\n",
       " 'f1': 0.7297443757680103}"
      ]
     },
     "execution_count": 88,
     "metadata": {},
     "output_type": "execute_result"
    }
   ],
   "source": [
    "model_4_results = calculate_results(y_true=val_labels_encoded,\n",
    "                                    y_pred= tf.argmax(model_4.predict(val_char_token_dataset, verbose=1), axis=1))\n",
    "model_4_results"
   ]
  },
  {
   "cell_type": "code",
   "execution_count": 89,
   "id": "eda0fdf9-60c4-40a4-b463-c1311f7783ec",
   "metadata": {
    "tags": []
   },
   "outputs": [
    {
     "data": {
      "text/html": [
       "<div>\n",
       "<style scoped>\n",
       "    .dataframe tbody tr th:only-of-type {\n",
       "        vertical-align: middle;\n",
       "    }\n",
       "\n",
       "    .dataframe tbody tr th {\n",
       "        vertical-align: top;\n",
       "    }\n",
       "\n",
       "    .dataframe thead th {\n",
       "        text-align: right;\n",
       "    }\n",
       "</style>\n",
       "<table border=\"1\" class=\"dataframe\">\n",
       "  <thead>\n",
       "    <tr style=\"text-align: right;\">\n",
       "      <th></th>\n",
       "      <th>accuracy</th>\n",
       "      <th>precision</th>\n",
       "      <th>recall</th>\n",
       "      <th>f1</th>\n",
       "    </tr>\n",
       "  </thead>\n",
       "  <tbody>\n",
       "    <tr>\n",
       "      <th>model_0_baseline</th>\n",
       "      <td>72.183238</td>\n",
       "      <td>0.718647</td>\n",
       "      <td>0.721832</td>\n",
       "      <td>0.698925</td>\n",
       "    </tr>\n",
       "    <tr>\n",
       "      <th>model_1_custom_token_embedding</th>\n",
       "      <td>78.270224</td>\n",
       "      <td>0.779132</td>\n",
       "      <td>0.782702</td>\n",
       "      <td>0.780193</td>\n",
       "    </tr>\n",
       "    <tr>\n",
       "      <th>model_2_pretrained_token_embedding</th>\n",
       "      <td>77.058785</td>\n",
       "      <td>0.768095</td>\n",
       "      <td>0.770588</td>\n",
       "      <td>0.766544</td>\n",
       "    </tr>\n",
       "    <tr>\n",
       "      <th>model_3_custom_char_embedding</th>\n",
       "      <td>44.343307</td>\n",
       "      <td>0.376549</td>\n",
       "      <td>0.443433</td>\n",
       "      <td>0.387646</td>\n",
       "    </tr>\n",
       "    <tr>\n",
       "      <th>model_4_hybrid_char_token_embedding</th>\n",
       "      <td>73.153052</td>\n",
       "      <td>0.731580</td>\n",
       "      <td>0.731531</td>\n",
       "      <td>0.729744</td>\n",
       "    </tr>\n",
       "    <tr>\n",
       "      <th>model_5_pos_char_token_embedding</th>\n",
       "      <td>83.566133</td>\n",
       "      <td>0.834783</td>\n",
       "      <td>0.835661</td>\n",
       "      <td>0.834751</td>\n",
       "    </tr>\n",
       "  </tbody>\n",
       "</table>\n",
       "</div>"
      ],
      "text/plain": [
       "                                      accuracy  precision    recall        f1\n",
       "model_0_baseline                     72.183238   0.718647  0.721832  0.698925\n",
       "model_1_custom_token_embedding       78.270224   0.779132  0.782702  0.780193\n",
       "model_2_pretrained_token_embedding   77.058785   0.768095  0.770588  0.766544\n",
       "model_3_custom_char_embedding        44.343307   0.376549  0.443433  0.387646\n",
       "model_4_hybrid_char_token_embedding  73.153052   0.731580  0.731531  0.729744\n",
       "model_5_pos_char_token_embedding     83.566133   0.834783  0.835661  0.834751"
      ]
     },
     "execution_count": 89,
     "metadata": {},
     "output_type": "execute_result"
    }
   ],
   "source": [
    "# Combine model results into a dataframe\n",
    "all_model_results = pd.DataFrame({\"model_0_baseline\": baseline_results,\n",
    "                                  \"model_1_custom_token_embedding\": model_1_results,\n",
    "                                  \"model_2_pretrained_token_embedding\": model_2_results,\n",
    "                                  \"model_3_custom_char_embedding\": model_3_results,\n",
    "                                  \"model_4_hybrid_char_token_embedding\": model_4_results,\n",
    "                                  \"model_5_pos_char_token_embedding\": model_5_results})\n",
    "all_model_results = all_model_results.transpose()\n",
    "all_model_results"
   ]
  },
  {
   "cell_type": "code",
   "execution_count": 90,
   "id": "0d4ba623-efa9-4fd5-ab6e-85fbac2ca80a",
   "metadata": {
    "tags": []
   },
   "outputs": [
    {
     "data": {
      "image/png": "[encoded data removed]",
      "text/plain": [
       "<Figure size 1000x700 with 1 Axes>"
      ]
     },
     "metadata": {},
     "output_type": "display_data"
    }
   ],
   "source": [
    "all_model_results[\"accuracy\"] = all_model_results[\"accuracy\"]/100\n",
    "(all_model_results).plot(kind=\"bar\", figsize=(10, 7)).legend(bbox_to_anchor=(1.0, 1.0));"
   ]
  },
  {
   "cell_type": "code",
   "execution_count": 91,
   "id": "71eb1198-cc58-4ec9-bbbb-1aca34f45411",
   "metadata": {
    "tags": []
   },
   "outputs": [
    {
     "data": {
      "image/png": "[encoded data removed]",
      "text/plain": [
       "<Figure size 1000x700 with 1 Axes>"
      ]
     },
     "metadata": {},
     "output_type": "display_data"
    }
   ],
   "source": [
    "all_model_results.sort_values(\"f1\", ascending=True)[\"f1\"].plot(kind=\"bar\", figsize=(10, 7));"
   ]
  },
  {
   "cell_type": "code",
   "execution_count": 92,
   "id": "5867dc79-b230-466d-bb5f-b3fb8b5aea73",
   "metadata": {
    "tags": []
   },
   "outputs": [],
   "source": [
    "#model_5.save(\"skimlit_model_5\")"
   ]
  },
  {
   "cell_type": "code",
   "execution_count": 93,
   "id": "908a3b91-0cf3-481d-a69a-3115263574ac",
   "metadata": {
    "tags": []
   },
   "outputs": [],
   "source": [
    "loaded_model = tf.keras.models.load_model(\"skimlit_model_5\")\n"
   ]
  },
  {
   "cell_type": "code",
   "execution_count": 94,
   "id": "c73942a9-5984-4764-be76-dfd5dc5720c8",
   "metadata": {
    "tags": []
   },
   "outputs": [
    {
     "name": "stdout",
     "output_type": "stream",
     "text": [
      "945/945 [==============================] - 23s 21ms/step\n"
     ]
    },
    {
     "data": {
      "text/plain": [
       "{'accuracy': 83.44035482589699,\n",
       " 'precision': 0.8334749324734098,\n",
       " 'recall': 0.8344035482589699,\n",
       " 'f1': 0.8336408129751621}"
      ]
     },
     "execution_count": 94,
     "metadata": {},
     "output_type": "execute_result"
    }
   ],
   "source": [
    "loaded_model_results = calculate_results(y_true=val_labels_encoded,\n",
    "                                    y_pred= tf.argmax(loaded_model.predict(val_char_token_pos_dataset, verbose=1), axis=1))\n",
    "loaded_model_results"
   ]
  },
  {
   "cell_type": "code",
   "execution_count": 95,
   "id": "c163a79f-05a9-4abb-b65b-b3f907a947c1",
   "metadata": {
    "tags": []
   },
   "outputs": [
    {
     "data": {
      "text/plain": [
       "False"
      ]
     },
     "execution_count": 95,
     "metadata": {},
     "output_type": "execute_result"
    }
   ],
   "source": [
    "model_5_results == loaded_model_results"
   ]
  },
  {
   "cell_type": "code",
   "execution_count": 96,
   "id": "1d89aa75-0876-470b-9f80-f10cf75dd13d",
   "metadata": {
    "tags": []
   },
   "outputs": [
    {
     "data": {
      "text/plain": [
       "{'accuracy': 83.5661326625182,\n",
       " 'precision': 0.8347831646337993,\n",
       " 'recall': 0.835661326625182,\n",
       " 'f1': 0.8347509126015227}"
      ]
     },
     "execution_count": 96,
     "metadata": {},
     "output_type": "execute_result"
    }
   ],
   "source": [
    "model_5_results"
   ]
  },
  {
   "cell_type": "markdown",
   "id": "3d14ed05-9bc0-4090-a26c-04bd9bc16c8a",
   "metadata": {},
   "source": [
    "## Model 6"
   ]
  },
  {
   "cell_type": "code",
   "execution_count": 97,
   "id": "58d9452b-80d4-43d0-9d13-e1ef748d9bd0",
   "metadata": {
    "tags": []
   },
   "outputs": [],
   "source": [
    "# 1. token input\n",
    "token_inputs = layers.Input(shape=[], dtype=tf.string)\n",
    "text_vectors = text_vectorizer(token_inputs)\n",
    "token_embeddings = token_embed(text_vectors)\n",
    "#token_outputs = layers.Dense(128,activation=\"relu\")(token_embeddings)\n",
    "x = layers.Conv1D(64, kernel_size=5, padding=\"same\", activation=\"relu\")(token_embeddings)\n",
    "x = layers.GlobalAveragePooling1D()(x) # condense the output of our feature vector from conv layer\n",
    "token_outputs = layers.Dense(num_class, activation=\"softmax\")(x)\n",
    "token_model = tf.keras.Model(inputs = token_inputs,outputs=token_outputs)\n",
    "\n",
    "#2.Char inputs\n",
    "char_inputs = layers.Input(shape = (1,),dtype=\"string\",name=\"char_inputs\")\n",
    "char_vectors = char_vectorizer(char_inputs)\n",
    "char_embeddings = char_embed(char_vectors)\n",
    "char_bi_lstm = layers.Bidirectional(layers.LSTM(24))(char_embeddings)\n",
    "char_model = tf.keras.Model(inputs = char_inputs, outputs = char_bi_lstm)\n",
    "\n",
    "#3.Line number model\n",
    "number_inputs = layers.Input(shape=(20,),dtype=tf.float32, name=\"line_number_inputs\")\n",
    "number_outputs = layers.Dense(32,activation=\"relu\")(number_inputs)\n",
    "number_model=tf.keras.Model(inputs=number_inputs,outputs=number_outputs)\n",
    "\n",
    "#4. total lines model\n",
    "total_inputs = layers.Input(shape=(20,),dtype=tf.float32, name=\"total_line_inputs\")\n",
    "total_outputs = layers.Dense(32,activation=\"relu\")(total_inputs)\n",
    "total_model=tf.keras.Model(inputs=total_inputs,outputs=total_outputs)\n",
    "\n",
    "#5. concatenate\n",
    "combined_embeddings = layers.Concatenate(name=\"chat_token_hybrid_embedding\")([token_model.output,char_model.output])\n",
    "\n",
    "z = layers.Dense(256, activation=\"relu\")(combined_embeddings)\n",
    "z = layers.Dropout(0.5)(z)\n",
    "\n",
    "#6. Combine postional with 5 \n",
    "tribrid_embeddings = layers.Concatenate(name = \"char_token_positional_embedding\")([number_model.output,total_model.output,z])\n",
    "\n",
    "\n",
    "#7. Create output layers\n",
    "output_layer = layers.Dense(5,activation = \"softmax\",name=\"output_layer\")(tribrid_embeddings)\n",
    "\n",
    "#8. Put everything together\n",
    "model_6 = tf.keras.Model(inputs = [number_model.input,total_model.input,token_model.input,char_model.input],outputs=output_layer\n",
    "                        ,name=\"tribrid_model_5\")"
   ]
  },
  {
   "cell_type": "code",
   "execution_count": 99,
   "id": "700aea81-bb24-4743-ac11-e175500e8db0",
   "metadata": {
    "tags": []
   },
   "outputs": [],
   "source": [
    "model_6.compile(loss=tf.keras.losses.CategoricalCrossentropy(label_smoothing=0.2),\n",
    "               optimizer = tf.keras.optimizers.Adam(),\n",
    "               metrics=[\"accuracy\"])"
   ]
  },
  {
   "cell_type": "code",
   "execution_count": 100,
   "id": "c466e686-10eb-41c0-8aa3-589aa922ab4d",
   "metadata": {
    "tags": []
   },
   "outputs": [
    {
     "name": "stdout",
     "output_type": "stream",
     "text": [
      "Epoch 1/3\n",
      "562/562 [==============================] - 116s 190ms/step - loss: 1.0332 - accuracy: 0.7630 - val_loss: 0.9417 - val_accuracy: 0.8178\n",
      "Epoch 2/3\n",
      "562/562 [==============================] - 105s 186ms/step - loss: 0.8864 - accuracy: 0.8659 - val_loss: 0.9292 - val_accuracy: 0.8142\n",
      "Epoch 3/3\n",
      "562/562 [==============================] - 105s 187ms/step - loss: 0.8697 - accuracy: 0.8723 - val_loss: 0.9196 - val_accuracy: 0.8318\n"
     ]
    }
   ],
   "source": [
    "history_model_6 = model_6.fit(train_char_token_pos_dataset,steps_per_epoch = int(0.1*len(train_char_token_pos_dataset)),epochs=3,\n",
    "                             validation_data=val_char_token_pos_dataset, validation_steps=int(0.1*len(val_char_token_pos_dataset)))"
   ]
  },
  {
   "cell_type": "code",
   "execution_count": 102,
   "id": "bfee4773-b01b-4f98-95af-11308ed855f7",
   "metadata": {
    "tags": []
   },
   "outputs": [
    {
     "name": "stdout",
     "output_type": "stream",
     "text": [
      "945/945 [==============================] - 21s 19ms/step\n"
     ]
    },
    {
     "data": {
      "text/plain": [
       "{'accuracy': 82.6923076923077,\n",
       " 'precision': 0.8274653549741268,\n",
       " 'recall': 0.8269230769230769,\n",
       " 'f1': 0.8260559364080001}"
      ]
     },
     "execution_count": 102,
     "metadata": {},
     "output_type": "execute_result"
    }
   ],
   "source": [
    "calculate_results(y_true=val_labels_encoded,\n",
    "                                    y_pred= tf.argmax(model_6.predict(val_char_token_pos_dataset, verbose=1), axis=1))"
   ]
  },
  {
   "cell_type": "code",
   "execution_count": 103,
   "id": "27bcf9b3-3b3d-49e7-abc7-5084f9bd0ffb",
   "metadata": {},
   "outputs": [
    {
     "name": "stdout",
     "output_type": "stream",
     "text": [
      "Epoch 1/3\n",
      "5627/5627 [==============================] - 1047s 186ms/step - loss: 0.8831 - accuracy: 0.8676 - val_loss: 0.8823 - val_accuracy: 0.8627\n",
      "Epoch 2/3\n",
      "5627/5627 [==============================] - 1047s 186ms/step - loss: 0.8516 - accuracy: 0.8904 - val_loss: 0.8852 - val_accuracy: 0.8589\n",
      "Epoch 3/3\n",
      "5627/5627 [==============================] - 1012s 180ms/step - loss: 0.8250 - accuracy: 0.9104 - val_loss: 0.8965 - val_accuracy: 0.8507\n"
     ]
    },
    {
     "data": {
      "text/plain": [
       "<keras.src.callbacks.History at 0x25cca7dde10>"
      ]
     },
     "execution_count": 103,
     "metadata": {},
     "output_type": "execute_result"
    }
   ],
   "source": [
    "model_6.fit(train_char_token_pos_dataset,steps_per_epoch = len(train_char_token_pos_dataset),epochs=3,\n",
    "                             validation_data=val_char_token_pos_dataset, validation_steps=len(val_char_token_pos_dataset))"
   ]
  },
  {
   "cell_type": "code",
   "execution_count": 104,
   "id": "c377597b-6d9b-474b-a0b9-9780891ca732",
   "metadata": {
    "tags": []
   },
   "outputs": [
    {
     "name": "stdout",
     "output_type": "stream",
     "text": [
      "945/945 [==============================] - 17s 18ms/step\n"
     ]
    },
    {
     "data": {
      "text/plain": [
       "{'accuracy': 85.06884681583476,\n",
       " 'precision': 0.8512449645570652,\n",
       " 'recall': 0.8506884681583476,\n",
       " 'f1': 0.849228757588506}"
      ]
     },
     "execution_count": 104,
     "metadata": {},
     "output_type": "execute_result"
    }
   ],
   "source": [
    "calculate_results(y_true=val_labels_encoded,\n",
    "                                    y_pred= tf.argmax(model_6.predict(val_char_token_pos_dataset, verbose=1), axis=1))"
   ]
  },
  {
   "cell_type": "code",
   "execution_count": 105,
   "id": "133cf642-b515-414f-b727-c2b5f2b68b8c",
   "metadata": {
    "tags": []
   },
   "outputs": [
    {
     "name": "stdout",
     "output_type": "stream",
     "text": [
      "Epoch 1/3\n",
      "5627/5627 [==============================] - 433s 77ms/step - loss: 0.9234 - accuracy: 0.8453 - val_loss: 0.9048 - val_accuracy: 0.8520\n",
      "Epoch 2/3\n",
      "5627/5627 [==============================] - 443s 79ms/step - loss: 0.9043 - accuracy: 0.8584 - val_loss: 0.8978 - val_accuracy: 0.8551\n",
      "Epoch 3/3\n",
      "5627/5627 [==============================] - 439s 78ms/step - loss: 0.8938 - accuracy: 0.8656 - val_loss: 0.8965 - val_accuracy: 0.8559\n"
     ]
    },
    {
     "data": {
      "text/plain": [
       "<keras.src.callbacks.History at 0x25cbfb57710>"
      ]
     },
     "execution_count": 105,
     "metadata": {},
     "output_type": "execute_result"
    }
   ],
   "source": [
    "model_5.fit(train_char_token_pos_dataset,steps_per_epoch = len(train_char_token_pos_dataset),epochs=3,\n",
    "                             validation_data=val_char_token_pos_dataset, validation_steps=len(val_char_token_pos_dataset))"
   ]
  },
  {
   "cell_type": "code",
   "execution_count": 106,
   "id": "20a4cc65-f053-4609-97f0-020f79395bab",
   "metadata": {
    "tags": []
   },
   "outputs": [
    {
     "name": "stdout",
     "output_type": "stream",
     "text": [
      "945/945 [==============================] - 20s 21ms/step\n"
     ]
    },
    {
     "data": {
      "text/plain": [
       "{'accuracy': 85.58519793459553,\n",
       " 'precision': 0.8583001820066707,\n",
       " 'recall': 0.8558519793459552,\n",
       " 'f1': 0.8529075223261382}"
      ]
     },
     "execution_count": 106,
     "metadata": {},
     "output_type": "execute_result"
    }
   ],
   "source": [
    "model_5_results = calculate_results(y_true=val_labels_encoded,\n",
    "                                    y_pred= tf.argmax(model_5.predict(val_char_token_pos_dataset, verbose=1), axis=1))\n",
    "model_5_results"
   ]
  },
  {
   "cell_type": "code",
   "execution_count": 107,
   "id": "f50aa1c6-bd79-41d5-99b0-adceb2e5343c",
   "metadata": {
    "tags": []
   },
   "outputs": [
    {
     "name": "stdout",
     "output_type": "stream",
     "text": [
      "INFO:tensorflow:Assets written to: SKIMLIT_FINAL\\assets\n"
     ]
    },
    {
     "name": "stderr",
     "output_type": "stream",
     "text": [
      "INFO:tensorflow:Assets written to: SKIMLIT_FINAL\\assets\n"
     ]
    }
   ],
   "source": [
    "model_5.save('SKIMLIT_FINAL')"
   ]
  },
  {
   "cell_type": "code",
   "execution_count": null,
   "id": "91c95991-689c-4b87-ae22-46f9e92ae4aa",
   "metadata": {},
   "outputs": [],
   "source": []
  }
 ],
 "metadata": {
  "kernelspec": {
   "display_name": "Python 3 (ipykernel)",
   "language": "python",
   "name": "python3"
  },
  "language_info": {
   "codemirror_mode": {
    "name": "ipython",
    "version": 3
   },
   "file_extension": ".py",
   "mimetype": "text/x-python",
   "name": "python",
   "nbconvert_exporter": "python",
   "pygments_lexer": "ipython3",
   "version": "3.11.4"
  }
 },
 "nbformat": 4,
 "nbformat_minor": 5
}
