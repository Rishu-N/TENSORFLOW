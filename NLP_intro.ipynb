{
 "cells": [
  {
   "cell_type": "code",
   "execution_count": 1,
   "id": "221ba87d-c843-4baf-a423-118adb994c50",
   "metadata": {
    "tags": []
   },
   "outputs": [],
   "source": [
    "from helper_functions import unzip_data, create_tensorboard_callback, plot_loss_curves, compare_historys"
   ]
  },
  {
   "cell_type": "code",
   "execution_count": 2,
   "id": "477ab9a8-9703-4d67-b712-d57dce05c2f1",
   "metadata": {
    "tags": []
   },
   "outputs": [],
   "source": [
    "unzip_data(\"nlp_getting_started.zip\")"
   ]
  },
  {
   "cell_type": "code",
   "execution_count": 3,
   "id": "7da7d4c8-27b9-4734-ac5c-eacfb43a71d7",
   "metadata": {
    "tags": []
   },
   "outputs": [
    {
     "data": {
      "text/html": [
       "<div>\n",
       "<style scoped>\n",
       "    .dataframe tbody tr th:only-of-type {\n",
       "        vertical-align: middle;\n",
       "    }\n",
       "\n",
       "    .dataframe tbody tr th {\n",
       "        vertical-align: top;\n",
       "    }\n",
       "\n",
       "    .dataframe thead th {\n",
       "        text-align: right;\n",
       "    }\n",
       "</style>\n",
       "<table border=\"1\" class=\"dataframe\">\n",
       "  <thead>\n",
       "    <tr style=\"text-align: right;\">\n",
       "      <th></th>\n",
       "      <th>id</th>\n",
       "      <th>keyword</th>\n",
       "      <th>location</th>\n",
       "      <th>text</th>\n",
       "      <th>target</th>\n",
       "    </tr>\n",
       "  </thead>\n",
       "  <tbody>\n",
       "    <tr>\n",
       "      <th>0</th>\n",
       "      <td>1</td>\n",
       "      <td>NaN</td>\n",
       "      <td>NaN</td>\n",
       "      <td>Our Deeds are the Reason of this #earthquake M...</td>\n",
       "      <td>1</td>\n",
       "    </tr>\n",
       "    <tr>\n",
       "      <th>1</th>\n",
       "      <td>4</td>\n",
       "      <td>NaN</td>\n",
       "      <td>NaN</td>\n",
       "      <td>Forest fire near La Ronge Sask. Canada</td>\n",
       "      <td>1</td>\n",
       "    </tr>\n",
       "    <tr>\n",
       "      <th>2</th>\n",
       "      <td>5</td>\n",
       "      <td>NaN</td>\n",
       "      <td>NaN</td>\n",
       "      <td>All residents asked to 'shelter in place' are ...</td>\n",
       "      <td>1</td>\n",
       "    </tr>\n",
       "    <tr>\n",
       "      <th>3</th>\n",
       "      <td>6</td>\n",
       "      <td>NaN</td>\n",
       "      <td>NaN</td>\n",
       "      <td>13,000 people receive #wildfires evacuation or...</td>\n",
       "      <td>1</td>\n",
       "    </tr>\n",
       "    <tr>\n",
       "      <th>4</th>\n",
       "      <td>7</td>\n",
       "      <td>NaN</td>\n",
       "      <td>NaN</td>\n",
       "      <td>Just got sent this photo from Ruby #Alaska as ...</td>\n",
       "      <td>1</td>\n",
       "    </tr>\n",
       "    <tr>\n",
       "      <th>...</th>\n",
       "      <td>...</td>\n",
       "      <td>...</td>\n",
       "      <td>...</td>\n",
       "      <td>...</td>\n",
       "      <td>...</td>\n",
       "    </tr>\n",
       "    <tr>\n",
       "      <th>7608</th>\n",
       "      <td>10869</td>\n",
       "      <td>NaN</td>\n",
       "      <td>NaN</td>\n",
       "      <td>Two giant cranes holding a bridge collapse int...</td>\n",
       "      <td>1</td>\n",
       "    </tr>\n",
       "    <tr>\n",
       "      <th>7609</th>\n",
       "      <td>10870</td>\n",
       "      <td>NaN</td>\n",
       "      <td>NaN</td>\n",
       "      <td>@aria_ahrary @TheTawniest The out of control w...</td>\n",
       "      <td>1</td>\n",
       "    </tr>\n",
       "    <tr>\n",
       "      <th>7610</th>\n",
       "      <td>10871</td>\n",
       "      <td>NaN</td>\n",
       "      <td>NaN</td>\n",
       "      <td>M1.94 [01:04 UTC]?5km S of Volcano Hawaii. htt...</td>\n",
       "      <td>1</td>\n",
       "    </tr>\n",
       "    <tr>\n",
       "      <th>7611</th>\n",
       "      <td>10872</td>\n",
       "      <td>NaN</td>\n",
       "      <td>NaN</td>\n",
       "      <td>Police investigating after an e-bike collided ...</td>\n",
       "      <td>1</td>\n",
       "    </tr>\n",
       "    <tr>\n",
       "      <th>7612</th>\n",
       "      <td>10873</td>\n",
       "      <td>NaN</td>\n",
       "      <td>NaN</td>\n",
       "      <td>The Latest: More Homes Razed by Northern Calif...</td>\n",
       "      <td>1</td>\n",
       "    </tr>\n",
       "  </tbody>\n",
       "</table>\n",
       "<p>7613 rows × 5 columns</p>\n",
       "</div>"
      ],
      "text/plain": [
       "         id keyword location  \\\n",
       "0         1     NaN      NaN   \n",
       "1         4     NaN      NaN   \n",
       "2         5     NaN      NaN   \n",
       "3         6     NaN      NaN   \n",
       "4         7     NaN      NaN   \n",
       "...     ...     ...      ...   \n",
       "7608  10869     NaN      NaN   \n",
       "7609  10870     NaN      NaN   \n",
       "7610  10871     NaN      NaN   \n",
       "7611  10872     NaN      NaN   \n",
       "7612  10873     NaN      NaN   \n",
       "\n",
       "                                                   text  target  \n",
       "0     Our Deeds are the Reason of this #earthquake M...       1  \n",
       "1                Forest fire near La Ronge Sask. Canada       1  \n",
       "2     All residents asked to 'shelter in place' are ...       1  \n",
       "3     13,000 people receive #wildfires evacuation or...       1  \n",
       "4     Just got sent this photo from Ruby #Alaska as ...       1  \n",
       "...                                                 ...     ...  \n",
       "7608  Two giant cranes holding a bridge collapse int...       1  \n",
       "7609  @aria_ahrary @TheTawniest The out of control w...       1  \n",
       "7610  M1.94 [01:04 UTC]?5km S of Volcano Hawaii. htt...       1  \n",
       "7611  Police investigating after an e-bike collided ...       1  \n",
       "7612  The Latest: More Homes Razed by Northern Calif...       1  \n",
       "\n",
       "[7613 rows x 5 columns]"
      ]
     },
     "execution_count": 3,
     "metadata": {},
     "output_type": "execute_result"
    }
   ],
   "source": [
    "# Visualiizng the dataset\n",
    "import pandas as pd\n",
    "train_df = pd.read_csv(\"train.csv\")\n",
    "test_df = pd.read_csv(\"test.csv\")\n",
    "train_df"
   ]
  },
  {
   "cell_type": "code",
   "execution_count": 4,
   "id": "7d73ac58-d33c-4e9f-bf6f-b9f5d0362608",
   "metadata": {
    "tags": []
   },
   "outputs": [
    {
     "data": {
      "text/html": [
       "<div>\n",
       "<style scoped>\n",
       "    .dataframe tbody tr th:only-of-type {\n",
       "        vertical-align: middle;\n",
       "    }\n",
       "\n",
       "    .dataframe tbody tr th {\n",
       "        vertical-align: top;\n",
       "    }\n",
       "\n",
       "    .dataframe thead th {\n",
       "        text-align: right;\n",
       "    }\n",
       "</style>\n",
       "<table border=\"1\" class=\"dataframe\">\n",
       "  <thead>\n",
       "    <tr style=\"text-align: right;\">\n",
       "      <th></th>\n",
       "      <th>id</th>\n",
       "      <th>keyword</th>\n",
       "      <th>location</th>\n",
       "      <th>text</th>\n",
       "      <th>target</th>\n",
       "    </tr>\n",
       "  </thead>\n",
       "  <tbody>\n",
       "    <tr>\n",
       "      <th>2644</th>\n",
       "      <td>3796</td>\n",
       "      <td>destruction</td>\n",
       "      <td>NaN</td>\n",
       "      <td>So you have a new weapon that can cause un-ima...</td>\n",
       "      <td>1</td>\n",
       "    </tr>\n",
       "    <tr>\n",
       "      <th>2227</th>\n",
       "      <td>3185</td>\n",
       "      <td>deluge</td>\n",
       "      <td>NaN</td>\n",
       "      <td>The f$&amp;amp;@ing things I do for #GISHWHES Just...</td>\n",
       "      <td>0</td>\n",
       "    </tr>\n",
       "    <tr>\n",
       "      <th>5448</th>\n",
       "      <td>7769</td>\n",
       "      <td>police</td>\n",
       "      <td>UK</td>\n",
       "      <td>DT @georgegalloway: RT @Galloway4Mayor: ÛÏThe...</td>\n",
       "      <td>1</td>\n",
       "    </tr>\n",
       "    <tr>\n",
       "      <th>132</th>\n",
       "      <td>191</td>\n",
       "      <td>aftershock</td>\n",
       "      <td>NaN</td>\n",
       "      <td>Aftershock back to school kick off was great. ...</td>\n",
       "      <td>0</td>\n",
       "    </tr>\n",
       "    <tr>\n",
       "      <th>6845</th>\n",
       "      <td>9810</td>\n",
       "      <td>trauma</td>\n",
       "      <td>Montgomery County, MD</td>\n",
       "      <td>in response to trauma Children of Addicts deve...</td>\n",
       "      <td>0</td>\n",
       "    </tr>\n",
       "    <tr>\n",
       "      <th>...</th>\n",
       "      <td>...</td>\n",
       "      <td>...</td>\n",
       "      <td>...</td>\n",
       "      <td>...</td>\n",
       "      <td>...</td>\n",
       "    </tr>\n",
       "    <tr>\n",
       "      <th>5226</th>\n",
       "      <td>7470</td>\n",
       "      <td>obliteration</td>\n",
       "      <td>Merica!</td>\n",
       "      <td>@Eganator2000 There aren't many Obliteration s...</td>\n",
       "      <td>0</td>\n",
       "    </tr>\n",
       "    <tr>\n",
       "      <th>5390</th>\n",
       "      <td>7691</td>\n",
       "      <td>panic</td>\n",
       "      <td>NaN</td>\n",
       "      <td>just had a panic attack bc I don't have enough...</td>\n",
       "      <td>0</td>\n",
       "    </tr>\n",
       "    <tr>\n",
       "      <th>860</th>\n",
       "      <td>1242</td>\n",
       "      <td>blood</td>\n",
       "      <td>NaN</td>\n",
       "      <td>Omron HEM-712C Automatic Blood Pressure Monito...</td>\n",
       "      <td>0</td>\n",
       "    </tr>\n",
       "    <tr>\n",
       "      <th>7603</th>\n",
       "      <td>10862</td>\n",
       "      <td>NaN</td>\n",
       "      <td>NaN</td>\n",
       "      <td>Officials say a quarantine is in place at an A...</td>\n",
       "      <td>1</td>\n",
       "    </tr>\n",
       "    <tr>\n",
       "      <th>7270</th>\n",
       "      <td>10409</td>\n",
       "      <td>whirlwind</td>\n",
       "      <td>Stamford &amp; Cork (&amp; Shropshire)</td>\n",
       "      <td>I moved to England five years ago today. What ...</td>\n",
       "      <td>1</td>\n",
       "    </tr>\n",
       "  </tbody>\n",
       "</table>\n",
       "<p>7613 rows × 5 columns</p>\n",
       "</div>"
      ],
      "text/plain": [
       "         id       keyword                        location  \\\n",
       "2644   3796   destruction                             NaN   \n",
       "2227   3185        deluge                             NaN   \n",
       "5448   7769        police                              UK   \n",
       "132     191    aftershock                             NaN   \n",
       "6845   9810        trauma           Montgomery County, MD   \n",
       "...     ...           ...                             ...   \n",
       "5226   7470  obliteration                         Merica!   \n",
       "5390   7691         panic                             NaN   \n",
       "860    1242         blood                             NaN   \n",
       "7603  10862           NaN                             NaN   \n",
       "7270  10409     whirlwind  Stamford & Cork (& Shropshire)   \n",
       "\n",
       "                                                   text  target  \n",
       "2644  So you have a new weapon that can cause un-ima...       1  \n",
       "2227  The f$&amp;@ing things I do for #GISHWHES Just...       0  \n",
       "5448  DT @georgegalloway: RT @Galloway4Mayor: ÛÏThe...       1  \n",
       "132   Aftershock back to school kick off was great. ...       0  \n",
       "6845  in response to trauma Children of Addicts deve...       0  \n",
       "...                                                 ...     ...  \n",
       "5226  @Eganator2000 There aren't many Obliteration s...       0  \n",
       "5390  just had a panic attack bc I don't have enough...       0  \n",
       "860   Omron HEM-712C Automatic Blood Pressure Monito...       0  \n",
       "7603  Officials say a quarantine is in place at an A...       1  \n",
       "7270  I moved to England five years ago today. What ...       1  \n",
       "\n",
       "[7613 rows x 5 columns]"
      ]
     },
     "execution_count": 4,
     "metadata": {},
     "output_type": "execute_result"
    }
   ],
   "source": [
    "train_df_shuffled = train_df.sample(frac=1, random_state=42)\n",
    "train_df_shuffled"
   ]
  },
  {
   "cell_type": "code",
   "execution_count": 5,
   "id": "34ac7ebe-ca96-4b2a-9c72-e15239297d56",
   "metadata": {
    "tags": []
   },
   "outputs": [
    {
     "data": {
      "text/html": [
       "<div>\n",
       "<style scoped>\n",
       "    .dataframe tbody tr th:only-of-type {\n",
       "        vertical-align: middle;\n",
       "    }\n",
       "\n",
       "    .dataframe tbody tr th {\n",
       "        vertical-align: top;\n",
       "    }\n",
       "\n",
       "    .dataframe thead th {\n",
       "        text-align: right;\n",
       "    }\n",
       "</style>\n",
       "<table border=\"1\" class=\"dataframe\">\n",
       "  <thead>\n",
       "    <tr style=\"text-align: right;\">\n",
       "      <th></th>\n",
       "      <th>id</th>\n",
       "      <th>keyword</th>\n",
       "      <th>location</th>\n",
       "      <th>text</th>\n",
       "    </tr>\n",
       "  </thead>\n",
       "  <tbody>\n",
       "    <tr>\n",
       "      <th>0</th>\n",
       "      <td>0</td>\n",
       "      <td>NaN</td>\n",
       "      <td>NaN</td>\n",
       "      <td>Just happened a terrible car crash</td>\n",
       "    </tr>\n",
       "    <tr>\n",
       "      <th>1</th>\n",
       "      <td>2</td>\n",
       "      <td>NaN</td>\n",
       "      <td>NaN</td>\n",
       "      <td>Heard about #earthquake is different cities, s...</td>\n",
       "    </tr>\n",
       "    <tr>\n",
       "      <th>2</th>\n",
       "      <td>3</td>\n",
       "      <td>NaN</td>\n",
       "      <td>NaN</td>\n",
       "      <td>there is a forest fire at spot pond, geese are...</td>\n",
       "    </tr>\n",
       "    <tr>\n",
       "      <th>3</th>\n",
       "      <td>9</td>\n",
       "      <td>NaN</td>\n",
       "      <td>NaN</td>\n",
       "      <td>Apocalypse lighting. #Spokane #wildfires</td>\n",
       "    </tr>\n",
       "    <tr>\n",
       "      <th>4</th>\n",
       "      <td>11</td>\n",
       "      <td>NaN</td>\n",
       "      <td>NaN</td>\n",
       "      <td>Typhoon Soudelor kills 28 in China and Taiwan</td>\n",
       "    </tr>\n",
       "  </tbody>\n",
       "</table>\n",
       "</div>"
      ],
      "text/plain": [
       "   id keyword location                                               text\n",
       "0   0     NaN      NaN                 Just happened a terrible car crash\n",
       "1   2     NaN      NaN  Heard about #earthquake is different cities, s...\n",
       "2   3     NaN      NaN  there is a forest fire at spot pond, geese are...\n",
       "3   9     NaN      NaN           Apocalypse lighting. #Spokane #wildfires\n",
       "4  11     NaN      NaN      Typhoon Soudelor kills 28 in China and Taiwan"
      ]
     },
     "execution_count": 5,
     "metadata": {},
     "output_type": "execute_result"
    }
   ],
   "source": [
    "test_df.head()"
   ]
  },
  {
   "cell_type": "code",
   "execution_count": 6,
   "id": "f28259c0-fae6-4197-bb8b-6260a971c0bd",
   "metadata": {
    "tags": []
   },
   "outputs": [
    {
     "data": {
      "text/plain": [
       "0    4342\n",
       "1    3271\n",
       "Name: target, dtype: int64"
      ]
     },
     "execution_count": 6,
     "metadata": {},
     "output_type": "execute_result"
    }
   ],
   "source": [
    "train_df.target.value_counts()"
   ]
  },
  {
   "cell_type": "code",
   "execution_count": 7,
   "id": "0b59fb56-e2f0-4588-bac8-9e520471e1d1",
   "metadata": {
    "tags": []
   },
   "outputs": [
    {
     "data": {
      "text/plain": [
       "(7613, 3263)"
      ]
     },
     "execution_count": 7,
     "metadata": {},
     "output_type": "execute_result"
    }
   ],
   "source": [
    "len(train_df), len(test_df)"
   ]
  },
  {
   "cell_type": "code",
   "execution_count": 8,
   "id": "fe5ec055-e000-4446-a3fd-39706cee79ad",
   "metadata": {
    "tags": []
   },
   "outputs": [
    {
     "name": "stdout",
     "output_type": "stream",
     "text": [
      "Target: 1 (real disaster)\n",
      "Text :\n",
      "#news Britons rescued amid Himalaya floods http://t.co/kEPznhXHXd\n",
      "\n",
      "---\n",
      "\n",
      "Target: 1 (real disaster)\n",
      "Text :\n",
      "DUNDEE NEWS: Army veteran fears loose rocks from Dundee landslide could kill him at any moment http://t.co/y7Rv0tiL1w\n",
      "\n",
      "---\n",
      "\n",
      "Target: 1 (real disaster)\n",
      "Text :\n",
      "Read ~ THE UNHEALED WOUNDS OF AN UNENDING CONFLICT #Kashmir #Pakistan #India http://t.co/sAF9MoSkSN #EndOccupation #EndConflict #FreeKashmir\n",
      "\n",
      "---\n",
      "\n",
      "Target: 1 (real disaster)\n",
      "Text :\n",
      "@todd_calfee so @mattburgener wanted to see that info on blight u got\n",
      "\n",
      "---\n",
      "\n",
      "Target: 0 (not real disaster)\n",
      "Text :\n",
      "I have the biggest crush on you &amp; I dont know if you'll ever know it ??\n",
      "\n",
      "---\n",
      "\n"
     ]
    }
   ],
   "source": [
    "import random\n",
    "random_index = random.randint(0, len(train_df)-5)\n",
    "for row in train_df_shuffled[[\"text\",\"target\"]][random_index:random_index+5].itertuples():\n",
    "    _,text,target = row\n",
    "    print(f\"Target: {target}\",\"(real disaster)\" if target >0 else \"(not real disaster)\")\n",
    "    print(f\"Text :\\n{text}\\n\")\n",
    "    print(\"---\\n\")"
   ]
  },
  {
   "cell_type": "code",
   "execution_count": 9,
   "id": "b91acf93-b422-443a-91d8-b23f42d6d096",
   "metadata": {
    "tags": []
   },
   "outputs": [],
   "source": [
    "#split data into training and validation data\n",
    "from sklearn.model_selection import train_test_split"
   ]
  },
  {
   "cell_type": "code",
   "execution_count": 10,
   "id": "ebad166a-d906-46d4-b6bb-d125aab2c9e1",
   "metadata": {
    "tags": []
   },
   "outputs": [],
   "source": [
    "train_sen ,val_sen ,train_lab ,val_lab  = train_test_split(train_df_shuffled[\"text\"].to_numpy(),\n",
    "                                                           train_df_shuffled[\"target\"].to_numpy(),\n",
    "                                                           test_size=0.1, random_state=42)"
   ]
  },
  {
   "cell_type": "code",
   "execution_count": 11,
   "id": "8066e28d-a2e4-4022-bc60-81352114b664",
   "metadata": {
    "tags": []
   },
   "outputs": [
    {
     "data": {
      "text/plain": [
       "6851"
      ]
     },
     "execution_count": 11,
     "metadata": {},
     "output_type": "execute_result"
    }
   ],
   "source": [
    "len(train_sen)"
   ]
  },
  {
   "cell_type": "code",
   "execution_count": 12,
   "id": "7e49e93d-05f7-4363-8bee-578c87baf9ff",
   "metadata": {
    "tags": []
   },
   "outputs": [
    {
     "data": {
      "text/plain": [
       "(array(['@mogacola @zamtriossu i screamed after hitting tweet',\n",
       "        'Imagine getting flattened by Kurt Zouma',\n",
       "        '@Gurmeetramrahim #MSGDoing111WelfareWorks Green S welfare force ke appx 65000 members har time disaster victim ki help ke liye tyar hai....',\n",
       "        \"@shakjn @C7 @Magnums im shaking in fear he's gonna hack the planet\",\n",
       "        'Somehow find you and I collide http://t.co/Ee8RpOahPk',\n",
       "        '@EvaHanderek @MarleyKnysh great times until the bus driver held us hostage in the mall parking lot lmfao',\n",
       "        'destroy the free fandom honestly',\n",
       "        'Weapons stolen from National Guard Armory in New Albany still missing #Gunsense http://t.co/lKNU8902JE',\n",
       "        '@wfaaweather Pete when will the heat wave pass? Is it really going to be mid month? Frisco Boy Scouts have a canoe trip in Okla.',\n",
       "        'Patient-reported outcomes in long-term survivors of metastatic colorectal cancer - British Journal of Surgery http://t.co/5Yl4DC1Tqt'],\n",
       "       dtype=object),\n",
       " array([0, 0, 1, 0, 0, 1, 1, 0, 1, 1], dtype=int64))"
      ]
     },
     "execution_count": 12,
     "metadata": {},
     "output_type": "execute_result"
    }
   ],
   "source": [
    "train_sen[:10],train_lab[:10]"
   ]
  },
  {
   "cell_type": "code",
   "execution_count": 13,
   "id": "fe7f6913-d296-4a4f-83e8-e6d483bcdd91",
   "metadata": {
    "tags": []
   },
   "outputs": [],
   "source": [
    "#converting text to numbers\n",
    "import tensorflow as tf\n",
    "from tensorflow.keras.layers.experimental.preprocessing import TextVectorization"
   ]
  },
  {
   "cell_type": "code",
   "execution_count": 14,
   "id": "ef455de8-b6a7-4f26-a1b5-7d0af6b3c842",
   "metadata": {
    "tags": []
   },
   "outputs": [],
   "source": [
    "text_vectorizer = TextVectorization(max_tokens=10000, \n",
    "                                    standardize=\"lower_and_strip_punctuation\",\n",
    "                                    split = \"whitespace\",\n",
    "                                    ngrams=None,output_mode = \"int\", output_sequence_length = None, pad_to_max_tokens=True)"
   ]
  },
  {
   "cell_type": "code",
   "execution_count": 15,
   "id": "6f397eae-5149-463e-8bb3-c070d6d42461",
   "metadata": {
    "tags": []
   },
   "outputs": [
    {
     "data": {
      "text/plain": [
       "15"
      ]
     },
     "execution_count": 15,
     "metadata": {},
     "output_type": "execute_result"
    }
   ],
   "source": [
    "# Find the average number of tokens (words) in the training \n",
    "round(sum([len(i.split()) for i in train_sen])/(len(train_sen)))"
   ]
  },
  {
   "cell_type": "code",
   "execution_count": 16,
   "id": "d0690dce-d843-44d9-80d2-33e80f9ff25f",
   "metadata": {
    "tags": []
   },
   "outputs": [],
   "source": [
    "max_vocab_length = 10000\n",
    "max_length=15\n",
    "\n",
    "text_vectorizer = TextVectorization(max_tokens=max_vocab_length,\n",
    "                                   output_mode=\"int\",\n",
    "                                   output_sequence_length=max_length)"
   ]
  },
  {
   "cell_type": "code",
   "execution_count": 17,
   "id": "681a6015-279d-4a08-8717-f11223bf8760",
   "metadata": {
    "tags": []
   },
   "outputs": [],
   "source": [
    "#Fit the text vectorizer to the training text\n",
    "text_vectorizer.adapt(train_sen)"
   ]
  },
  {
   "cell_type": "code",
   "execution_count": 18,
   "id": "338c1062-dc24-4a11-9302-88d4b8ebcfb5",
   "metadata": {
    "tags": []
   },
   "outputs": [
    {
     "data": {
      "text/plain": [
       "<tf.Tensor: shape=(1, 15), dtype=int64, numpy=\n",
       "array([[ 264,    3,  232,    4,   13,  698,    7, 1693, 1552,    0,    0,\n",
       "           0,    0,    0,    0]], dtype=int64)>"
      ]
     },
     "execution_count": 18,
     "metadata": {},
     "output_type": "execute_result"
    }
   ],
   "source": [
    "#create a sample sentence and tokenie it\n",
    "sample = \"There's a flood in my street and crying babies!\"\n",
    "text_vectorizer([sample])"
   ]
  },
  {
   "cell_type": "code",
   "execution_count": 19,
   "id": "2121c6b4-3568-4f70-8ba6-fa14efcafe09",
   "metadata": {
    "tags": []
   },
   "outputs": [
    {
     "name": "stdout",
     "output_type": "stream",
     "text": [
      "Original text:  First Responders Convene for National Summit and Awards on GIS Technology http://t.co/0T9yd557rY #gisuserPR #geoTech\n",
      "\n",
      "Vetorized version: [[  97  500    1   10  372 4503    7    1   11    1 1354    1    1    1\n",
      "     0]]\n"
     ]
    }
   ],
   "source": [
    "random_sen = random.choice(train_sen)\n",
    "print(f\"Original text:  {random_sen}\\n\\nVetorized version: {text_vectorizer([random_sen])}\")"
   ]
  },
  {
   "cell_type": "code",
   "execution_count": 20,
   "id": "adf603eb-4ef6-4c78-ae1d-c50ae7839e01",
   "metadata": {
    "tags": []
   },
   "outputs": [],
   "source": [
    "words_in_vocab = text_vectorizer.get_vocabulary()\n",
    "top_5_words = words_in_vocab[:5]\n",
    "bottom_5_words = words_in_vocab[-6:]"
   ]
  },
  {
   "cell_type": "code",
   "execution_count": 21,
   "id": "6ab890cb-2cdb-4aa6-9d2a-3a2c1be7f1ef",
   "metadata": {
    "tags": []
   },
   "outputs": [
    {
     "data": {
      "text/plain": [
       "(['', '[UNK]', 'the', 'a', 'in'],\n",
       " ['pageshi', 'pages', 'paeds', 'pads', 'padres', 'paddytomlinson1'],\n",
       " 10000)"
      ]
     },
     "execution_count": 21,
     "metadata": {},
     "output_type": "execute_result"
    }
   ],
   "source": [
    "top_5_words, bottom_5_words, len(words_in_vocab)"
   ]
  },
  {
   "cell_type": "code",
   "execution_count": 22,
   "id": "0e69c258-b2b9-4bf6-bfbe-d28ac0325c4c",
   "metadata": {
    "tags": []
   },
   "outputs": [
    {
     "data": {
      "text/plain": [
       "<keras.src.layers.core.embedding.Embedding at 0x11ef6be6cd0>"
      ]
     },
     "execution_count": 22,
     "metadata": {},
     "output_type": "execute_result"
    }
   ],
   "source": [
    "#Embedding\n",
    "from tensorflow.keras import layers\n",
    "\n",
    "embedding = layers.Embedding(input_dim=max_vocab_length, # set the input shape\n",
    "                             output_dim=128, # set the size of the embedding vector\n",
    "                             embeddings_initializer=\"uniform\", # default, initialize embedding vectors randomly\n",
    "                             input_length=max_length # how long is each input\n",
    "                             )\n",
    "\n",
    "embedding"
   ]
  },
  {
   "cell_type": "code",
   "execution_count": 23,
   "id": "c5470461-b839-40a7-afe4-1f336c17c9d0",
   "metadata": {
    "tags": []
   },
   "outputs": [
    {
     "name": "stdout",
     "output_type": "stream",
     "text": [
      "OG : School Bus Hijacker Given Parole After 39 Years http://t.co/HmRt98OydJ\n",
      "\n",
      " Embedded version [[[-0.00432712  0.02528455 -0.00360793 ...  0.04674398  0.00397493\n",
      "   -0.03547771]\n",
      "  [-0.00072353  0.02940002 -0.03765257 ...  0.01642177  0.00799607\n",
      "   -0.03238576]\n",
      "  [-0.00969696  0.04320544 -0.02060688 ... -0.00923405  0.02051778\n",
      "    0.02912415]\n",
      "  ...\n",
      "  [-0.03778795  0.00511803  0.02292657 ...  0.04168104 -0.02324869\n",
      "    0.02620133]\n",
      "  [-0.03778795  0.00511803  0.02292657 ...  0.04168104 -0.02324869\n",
      "    0.02620133]\n",
      "  [-0.03778795  0.00511803  0.02292657 ...  0.04168104 -0.02324869\n",
      "    0.02620133]]]\n"
     ]
    }
   ],
   "source": [
    "#get a sandom sentence\n",
    "random_sentences = random.choice(train_sen)\n",
    "print(f\"OG : {random_sentences}\\n\\n Embedded version {embedding(text_vectorizer([random_sentences]))}\")"
   ]
  },
  {
   "cell_type": "code",
   "execution_count": 24,
   "id": "efe10738-c834-4806-9db6-e453730ba157",
   "metadata": {
    "tags": []
   },
   "outputs": [
    {
     "data": {
      "text/plain": [
       "<tf.Tensor: shape=(1, 15, 128), dtype=float32, numpy=\n",
       "array([[[-0.00432712,  0.02528455, -0.00360793, ...,  0.04674398,\n",
       "          0.00397493, -0.03547771],\n",
       "        [-0.00072353,  0.02940002, -0.03765257, ...,  0.01642177,\n",
       "          0.00799607, -0.03238576],\n",
       "        [-0.00969696,  0.04320544, -0.02060688, ..., -0.00923405,\n",
       "          0.02051778,  0.02912415],\n",
       "        ...,\n",
       "        [-0.03778795,  0.00511803,  0.02292657, ...,  0.04168104,\n",
       "         -0.02324869,  0.02620133],\n",
       "        [-0.03778795,  0.00511803,  0.02292657, ...,  0.04168104,\n",
       "         -0.02324869,  0.02620133],\n",
       "        [-0.03778795,  0.00511803,  0.02292657, ...,  0.04168104,\n",
       "         -0.02324869,  0.02620133]]], dtype=float32)>"
      ]
     },
     "execution_count": 24,
     "metadata": {},
     "output_type": "execute_result"
    }
   ],
   "source": [
    "sample_embed = embedding(text_vectorizer([random_sentences]))\n",
    "sample_embed"
   ]
  },
  {
   "cell_type": "code",
   "execution_count": 25,
   "id": "e0f4976a-92dd-42ad-a602-46f9ab391c37",
   "metadata": {
    "tags": []
   },
   "outputs": [
    {
     "data": {
      "text/plain": [
       "<tf.Tensor: shape=(128,), dtype=float32, numpy=\n",
       "array([-4.32711840e-03,  2.52845548e-02, -3.60792875e-03, -9.28663090e-03,\n",
       "        4.57354896e-02,  3.80276106e-02, -1.42740831e-02, -2.75385510e-02,\n",
       "        8.18821043e-03, -2.66489629e-02, -2.30656620e-02,  8.14259052e-04,\n",
       "       -4.51580994e-02, -2.60297786e-02, -5.93341887e-04, -2.91297324e-02,\n",
       "       -3.11367046e-02, -1.40660405e-02, -1.49463899e-02,  3.98890711e-02,\n",
       "        1.34660713e-02,  1.10484958e-02,  8.07460397e-03, -2.30584033e-02,\n",
       "        9.08187777e-03, -1.64429434e-02,  1.74031295e-02, -4.36180495e-02,\n",
       "        2.11856514e-03, -3.96692529e-02, -2.97542457e-02, -4.52653281e-02,\n",
       "       -3.93780582e-02, -3.56684700e-02, -3.37594748e-02,  4.75694984e-03,\n",
       "        4.55620773e-02, -4.09781933e-03, -4.83779311e-02, -4.85792011e-03,\n",
       "        1.68720633e-03,  3.91234793e-02,  2.39169635e-02, -6.41245767e-03,\n",
       "       -3.00841462e-02,  3.97855081e-02,  2.65534781e-02, -9.39518213e-03,\n",
       "        1.04487538e-02, -2.45954636e-02,  4.92783673e-02, -3.26834694e-02,\n",
       "       -4.12681215e-02,  2.17749514e-02, -3.15307155e-02, -2.29865555e-02,\n",
       "        4.94299568e-02,  4.05098908e-02,  4.78262044e-02,  2.80968212e-02,\n",
       "       -4.85233441e-02, -4.92264517e-02,  1.11462362e-02, -4.39183600e-02,\n",
       "       -4.58382256e-02,  1.88387558e-03,  1.79144852e-02,  5.46377897e-03,\n",
       "        7.91473314e-03,  1.59531496e-02, -4.61435579e-02,  2.09801458e-02,\n",
       "       -1.03180408e-02, -1.00814179e-03,  4.05311920e-02, -3.35994735e-02,\n",
       "       -6.31419569e-03,  4.04468291e-02, -2.67640240e-02, -3.15691233e-02,\n",
       "        1.39413364e-02, -3.16271186e-02, -2.37108357e-02, -2.03016885e-02,\n",
       "       -3.70007157e-02,  1.39509514e-03,  4.68092822e-02, -3.10437754e-03,\n",
       "       -1.89669263e-02,  3.59630696e-02, -1.33815780e-02,  4.00840901e-02,\n",
       "       -4.55310196e-03, -4.80449460e-02, -4.23525684e-02,  1.83876194e-02,\n",
       "       -4.19886224e-02, -1.03565939e-02,  4.97882478e-02,  1.00385658e-02,\n",
       "        1.17637403e-02,  4.49525379e-02,  4.78113033e-02, -2.19610091e-02,\n",
       "       -5.18449396e-03,  2.89555825e-02, -7.31694698e-03, -5.61315939e-03,\n",
       "        4.17013653e-02, -4.45772521e-02, -2.02320348e-02,  3.22459824e-02,\n",
       "        1.85403340e-02,  4.13471572e-02,  1.37681887e-03, -4.59085368e-02,\n",
       "        2.99231671e-02, -2.19502095e-02, -2.29297522e-02,  2.23236345e-02,\n",
       "        1.58213638e-02,  2.21508481e-02, -4.91961837e-05, -2.66750213e-02,\n",
       "        1.39102973e-02,  4.67439778e-02,  3.97492573e-03, -3.54777090e-02],\n",
       "      dtype=float32)>"
      ]
     },
     "execution_count": 25,
     "metadata": {},
     "output_type": "execute_result"
    }
   ],
   "source": [
    "sample_embed[0][0]"
   ]
  },
  {
   "cell_type": "markdown",
   "id": "77c851c3-a3db-476b-ba21-2c84e46dd2a9",
   "metadata": {},
   "source": [
    "# MODELLING "
   ]
  },
  {
   "cell_type": "code",
   "execution_count": 26,
   "id": "30ac4301-2c4c-4d0f-b187-d6a52c0072c9",
   "metadata": {
    "tags": []
   },
   "outputs": [
    {
     "data": {
      "text/html": [
       "<style>#sk-container-id-1 {color: black;}#sk-container-id-1 pre{padding: 0;}#sk-container-id-1 div.sk-toggleable {background-color: white;}#sk-container-id-1 label.sk-toggleable__label {cursor: pointer;display: block;width: 100%;margin-bottom: 0;padding: 0.3em;box-sizing: border-box;text-align: center;}#sk-container-id-1 label.sk-toggleable__label-arrow:before {content: \"▸\";float: left;margin-right: 0.25em;color: #696969;}#sk-container-id-1 label.sk-toggleable__label-arrow:hover:before {color: black;}#sk-container-id-1 div.sk-estimator:hover label.sk-toggleable__label-arrow:before {color: black;}#sk-container-id-1 div.sk-toggleable__content {max-height: 0;max-width: 0;overflow: hidden;text-align: left;background-color: #f0f8ff;}#sk-container-id-1 div.sk-toggleable__content pre {margin: 0.2em;color: black;border-radius: 0.25em;background-color: #f0f8ff;}#sk-container-id-1 input.sk-toggleable__control:checked~div.sk-toggleable__content {max-height: 200px;max-width: 100%;overflow: auto;}#sk-container-id-1 input.sk-toggleable__control:checked~label.sk-toggleable__label-arrow:before {content: \"▾\";}#sk-container-id-1 div.sk-estimator input.sk-toggleable__control:checked~label.sk-toggleable__label {background-color: #d4ebff;}#sk-container-id-1 div.sk-label input.sk-toggleable__control:checked~label.sk-toggleable__label {background-color: #d4ebff;}#sk-container-id-1 input.sk-hidden--visually {border: 0;clip: rect(1px 1px 1px 1px);clip: rect(1px, 1px, 1px, 1px);height: 1px;margin: -1px;overflow: hidden;padding: 0;position: absolute;width: 1px;}#sk-container-id-1 div.sk-estimator {font-family: monospace;background-color: #f0f8ff;border: 1px dotted black;border-radius: 0.25em;box-sizing: border-box;margin-bottom: 0.5em;}#sk-container-id-1 div.sk-estimator:hover {background-color: #d4ebff;}#sk-container-id-1 div.sk-parallel-item::after {content: \"\";width: 100%;border-bottom: 1px solid gray;flex-grow: 1;}#sk-container-id-1 div.sk-label:hover label.sk-toggleable__label {background-color: #d4ebff;}#sk-container-id-1 div.sk-serial::before {content: \"\";position: absolute;border-left: 1px solid gray;box-sizing: border-box;top: 0;bottom: 0;left: 50%;z-index: 0;}#sk-container-id-1 div.sk-serial {display: flex;flex-direction: column;align-items: center;background-color: white;padding-right: 0.2em;padding-left: 0.2em;position: relative;}#sk-container-id-1 div.sk-item {position: relative;z-index: 1;}#sk-container-id-1 div.sk-parallel {display: flex;align-items: stretch;justify-content: center;background-color: white;position: relative;}#sk-container-id-1 div.sk-item::before, #sk-container-id-1 div.sk-parallel-item::before {content: \"\";position: absolute;border-left: 1px solid gray;box-sizing: border-box;top: 0;bottom: 0;left: 50%;z-index: -1;}#sk-container-id-1 div.sk-parallel-item {display: flex;flex-direction: column;z-index: 1;position: relative;background-color: white;}#sk-container-id-1 div.sk-parallel-item:first-child::after {align-self: flex-end;width: 50%;}#sk-container-id-1 div.sk-parallel-item:last-child::after {align-self: flex-start;width: 50%;}#sk-container-id-1 div.sk-parallel-item:only-child::after {width: 0;}#sk-container-id-1 div.sk-dashed-wrapped {border: 1px dashed gray;margin: 0 0.4em 0.5em 0.4em;box-sizing: border-box;padding-bottom: 0.4em;background-color: white;}#sk-container-id-1 div.sk-label label {font-family: monospace;font-weight: bold;display: inline-block;line-height: 1.2em;}#sk-container-id-1 div.sk-label-container {text-align: center;}#sk-container-id-1 div.sk-container {/* jupyter's `normalize.less` sets `[hidden] { display: none; }` but bootstrap.min.css set `[hidden] { display: none !important; }` so we also need the `!important` here to be able to override the default hidden behavior on the sphinx rendered scikit-learn.org. See: https://github.com/scikit-learn/scikit-learn/issues/21755 */display: inline-block !important;position: relative;}#sk-container-id-1 div.sk-text-repr-fallback {display: none;}</style><div id=\"sk-container-id-1\" class=\"sk-top-container\"><div class=\"sk-text-repr-fallback\"><pre>Pipeline(steps=[(&#x27;tfidf&#x27;, TfidfVectorizer()), (&#x27;clf&#x27;, MultinomialNB())])</pre><b>In a Jupyter environment, please rerun this cell to show the HTML representation or trust the notebook. <br />On GitHub, the HTML representation is unable to render, please try loading this page with nbviewer.org.</b></div><div class=\"sk-container\" hidden><div class=\"sk-item sk-dashed-wrapped\"><div class=\"sk-label-container\"><div class=\"sk-label sk-toggleable\"><input class=\"sk-toggleable__control sk-hidden--visually\" id=\"sk-estimator-id-1\" type=\"checkbox\" ><label for=\"sk-estimator-id-1\" class=\"sk-toggleable__label sk-toggleable__label-arrow\">Pipeline</label><div class=\"sk-toggleable__content\"><pre>Pipeline(steps=[(&#x27;tfidf&#x27;, TfidfVectorizer()), (&#x27;clf&#x27;, MultinomialNB())])</pre></div></div></div><div class=\"sk-serial\"><div class=\"sk-item\"><div class=\"sk-estimator sk-toggleable\"><input class=\"sk-toggleable__control sk-hidden--visually\" id=\"sk-estimator-id-2\" type=\"checkbox\" ><label for=\"sk-estimator-id-2\" class=\"sk-toggleable__label sk-toggleable__label-arrow\">TfidfVectorizer</label><div class=\"sk-toggleable__content\"><pre>TfidfVectorizer()</pre></div></div></div><div class=\"sk-item\"><div class=\"sk-estimator sk-toggleable\"><input class=\"sk-toggleable__control sk-hidden--visually\" id=\"sk-estimator-id-3\" type=\"checkbox\" ><label for=\"sk-estimator-id-3\" class=\"sk-toggleable__label sk-toggleable__label-arrow\">MultinomialNB</label><div class=\"sk-toggleable__content\"><pre>MultinomialNB()</pre></div></div></div></div></div></div></div>"
      ],
      "text/plain": [
       "Pipeline(steps=[('tfidf', TfidfVectorizer()), ('clf', MultinomialNB())])"
      ]
     },
     "execution_count": 26,
     "metadata": {},
     "output_type": "execute_result"
    }
   ],
   "source": [
    "#Model 0 - baseline model\n",
    "from sklearn.feature_extraction.text import TfidfVectorizer\n",
    "from sklearn.naive_bayes import MultinomialNB\n",
    "from sklearn.pipeline import Pipeline\n",
    "\n",
    "model_0 = Pipeline([\n",
    "    (\"tfidf\",TfidfVectorizer()),\n",
    "    (\"clf\", MultinomialNB())\n",
    "])\n",
    "\n",
    "model_0.fit(train_sen, train_lab )"
   ]
  },
  {
   "cell_type": "code",
   "execution_count": 27,
   "id": "b1c8df65-90b5-4fb5-b6d7-ae64f62a0da8",
   "metadata": {
    "tags": []
   },
   "outputs": [
    {
     "data": {
      "text/plain": [
       "79.26509186351706"
      ]
     },
     "execution_count": 27,
     "metadata": {},
     "output_type": "execute_result"
    }
   ],
   "source": [
    "baseline_score = model_0.score(val_sen,  val_lab)\n",
    "baseline_score*100"
   ]
  },
  {
   "cell_type": "code",
   "execution_count": 28,
   "id": "f2a2066f-9269-44dc-b314-f2bc98fc5232",
   "metadata": {
    "tags": []
   },
   "outputs": [
    {
     "data": {
      "text/plain": [
       "array([1, 1, 1, 0, 0, 1, 1, 1, 1, 0, 0, 1, 0, 0, 0, 0, 0, 0, 0, 1],\n",
       "      dtype=int64)"
      ]
     },
     "execution_count": 28,
     "metadata": {},
     "output_type": "execute_result"
    }
   ],
   "source": [
    "baseline_preds = model_0.predict(val_sen)\n",
    "baseline_preds[:20]"
   ]
  },
  {
   "cell_type": "code",
   "execution_count": 29,
   "id": "ad796b08-6b12-46e5-8f75-db1801a690bc",
   "metadata": {
    "tags": []
   },
   "outputs": [
    {
     "data": {
      "text/plain": [
       "array([0, 0, 1, 0, 0, 1, 1, 0, 1, 1, 0, 0, 1, 0, 1, 0, 0, 0, 1, 0],\n",
       "      dtype=int64)"
      ]
     },
     "execution_count": 29,
     "metadata": {},
     "output_type": "execute_result"
    }
   ],
   "source": [
    "train_lab[:20]"
   ]
  },
  {
   "cell_type": "code",
   "execution_count": 30,
   "id": "5d7dea60-fef2-4da6-abf3-d89956312deb",
   "metadata": {
    "tags": []
   },
   "outputs": [],
   "source": [
    "from sklearn.metrics import accuracy_score,precision_recall_fscore_support\n",
    "\n",
    "def calculate_resuts(y_true,y_pred):\n",
    "    model_accuracy = accuracy_score(y_true, y_pred) *100\n",
    "    model_precision, model_recall, model_fscore , _ = precision_recall_fscore_support(y_true,y_pred,average=\"weighted\")\n",
    "    \n",
    "    model_results = {\"accuracy\": model_accuracy,\n",
    "                    \"precision\" : model_precision,\n",
    "                    \"recall\": model_recall,\n",
    "                     \"f1\" : model_fscore}\n",
    "    return model_results"
   ]
  },
  {
   "cell_type": "code",
   "execution_count": 31,
   "id": "72f8f224-b5c1-4499-b88d-7ecba4952d8e",
   "metadata": {
    "tags": []
   },
   "outputs": [
    {
     "data": {
      "text/plain": [
       "{'accuracy': 79.26509186351706,\n",
       " 'precision': 0.8111390004213173,\n",
       " 'recall': 0.7926509186351706,\n",
       " 'f1': 0.7862189758049549}"
      ]
     },
     "execution_count": 31,
     "metadata": {},
     "output_type": "execute_result"
    }
   ],
   "source": [
    "baseline_results = calculate_resuts(val_lab,baseline_preds)\n",
    "baseline_results"
   ]
  },
  {
   "cell_type": "code",
   "execution_count": 32,
   "id": "abfbf639-5db6-4e76-a056-470a5e37e3ef",
   "metadata": {
    "tags": []
   },
   "outputs": [],
   "source": [
    "#MODEL 1 - Dense Model\n",
    "\n",
    "#create a tensorboard callback\n",
    "from helper_functions import create_tensorboard_callback\n",
    "\n",
    "SAVE_DIR = \"model_logs\""
   ]
  },
  {
   "cell_type": "code",
   "execution_count": 33,
   "id": "736d103f-81b7-428c-8ee2-7a0adaf8d825",
   "metadata": {
    "tags": []
   },
   "outputs": [],
   "source": [
    "from tensorflow.keras import layers\n",
    "inputs = layers.Input(shape=(1,), dtype=tf.string)\n",
    "x = text_vectorizer(inputs)\n",
    "x = embedding(x)\n",
    "#x = layers.GlobalAveragePooling1D()(x)\n",
    "x = layers.GlobalMaxPooling1D()(x)\n",
    "outputs = layers.Dense(1, activation=\"sigmoid\")(x)\n",
    "\n",
    "model_1 = tf.keras.Model(inputs,outputs, name=\"model_1_dense\")"
   ]
  },
  {
   "cell_type": "code",
   "execution_count": 34,
   "id": "3c1dd712-5af0-43f9-a3bf-20583bc200e0",
   "metadata": {
    "tags": []
   },
   "outputs": [
    {
     "name": "stdout",
     "output_type": "stream",
     "text": [
      "Model: \"model_1_dense\"\n",
      "_________________________________________________________________\n",
      " Layer (type)                Output Shape              Param #   \n",
      "=================================================================\n",
      " input_1 (InputLayer)        [(None, 1)]               0         \n",
      "                                                                 \n",
      " text_vectorization_1 (Text  (None, 15)                0         \n",
      " Vectorization)                                                  \n",
      "                                                                 \n",
      " embedding (Embedding)       (None, 15, 128)           1280000   \n",
      "                                                                 \n",
      " global_max_pooling1d (Glob  (None, 128)               0         \n",
      " alMaxPooling1D)                                                 \n",
      "                                                                 \n",
      " dense (Dense)               (None, 1)                 129       \n",
      "                                                                 \n",
      "=================================================================\n",
      "Total params: 1280129 (4.88 MB)\n",
      "Trainable params: 1280129 (4.88 MB)\n",
      "Non-trainable params: 0 (0.00 Byte)\n",
      "_________________________________________________________________\n"
     ]
    }
   ],
   "source": [
    "model_1.summary()"
   ]
  },
  {
   "cell_type": "code",
   "execution_count": 35,
   "id": "ae773ccc-6b6d-44aa-8845-78c7618c667f",
   "metadata": {
    "tags": []
   },
   "outputs": [],
   "source": [
    "model_1.compile(loss=\"binary_crossentropy\",\n",
    "               optimizer = tf.keras.optimizers.Adam(),\n",
    "               metrics=[\"accuracy\"])"
   ]
  },
  {
   "cell_type": "code",
   "execution_count": 36,
   "id": "31205f98-5e69-47f1-bf47-e39dd7045b03",
   "metadata": {
    "tags": []
   },
   "outputs": [
    {
     "name": "stdout",
     "output_type": "stream",
     "text": [
      "Saving TensorBoard log files to: model_logs/model_1_Dense/20231011-172440\n",
      "Epoch 1/5\n",
      "215/215 [==============================] - 11s 37ms/step - loss: 0.6392 - accuracy: 0.6542 - val_loss: 0.5742 - val_accuracy: 0.7625\n",
      "Epoch 2/5\n",
      "215/215 [==============================] - 7s 35ms/step - loss: 0.4716 - accuracy: 0.8250 - val_loss: 0.4770 - val_accuracy: 0.7835\n",
      "Epoch 3/5\n",
      "215/215 [==============================] - 8s 36ms/step - loss: 0.3421 - accuracy: 0.8726 - val_loss: 0.4561 - val_accuracy: 0.7913\n",
      "Epoch 4/5\n",
      "215/215 [==============================] - 8s 35ms/step - loss: 0.2591 - accuracy: 0.9073 - val_loss: 0.4573 - val_accuracy: 0.7861\n",
      "Epoch 5/5\n",
      "215/215 [==============================] - 7s 33ms/step - loss: 0.1990 - accuracy: 0.9317 - val_loss: 0.4721 - val_accuracy: 0.7913\n"
     ]
    },
    {
     "data": {
      "text/plain": [
       "<keras.src.callbacks.History at 0x11ef71f4150>"
      ]
     },
     "execution_count": 36,
     "metadata": {},
     "output_type": "execute_result"
    }
   ],
   "source": [
    "model_1.fit(x=train_sen,y=train_lab,epochs=5,\n",
    "           validation_data=(val_sen,val_lab),callbacks=[create_tensorboard_callback(SAVE_DIR,\"model_1_Dense\")])"
   ]
  },
  {
   "cell_type": "code",
   "execution_count": 37,
   "id": "62e73ab2-c31c-44ae-9df6-f5aa8cec00db",
   "metadata": {
    "tags": []
   },
   "outputs": [
    {
     "name": "stdout",
     "output_type": "stream",
     "text": [
      "24/24 [==============================] - 0s 2ms/step - loss: 0.4721 - accuracy: 0.7913\n"
     ]
    },
    {
     "data": {
      "text/plain": [
       "[0.4721352458000183, 0.7913385629653931]"
      ]
     },
     "execution_count": 37,
     "metadata": {},
     "output_type": "execute_result"
    }
   ],
   "source": [
    "model_1.evaluate(val_sen,val_lab)"
   ]
  },
  {
   "cell_type": "code",
   "execution_count": 38,
   "id": "a13c73e2-47da-4c95-ac3a-4f0d5f364816",
   "metadata": {
    "tags": []
   },
   "outputs": [
    {
     "name": "stdout",
     "output_type": "stream",
     "text": [
      "24/24 [==============================] - 0s 1ms/step\n"
     ]
    },
    {
     "data": {
      "text/plain": [
       "((762, 1), array([0.306255], dtype=float32))"
      ]
     },
     "execution_count": 38,
     "metadata": {},
     "output_type": "execute_result"
    }
   ],
   "source": [
    "model_1_pred_probs = model_1.predict(val_sen)\n",
    "model_1_pred_probs.shape, model_1_pred_probs[0]"
   ]
  },
  {
   "cell_type": "code",
   "execution_count": 39,
   "id": "734e0c24-a289-4a74-9317-0c66a9d5c3bc",
   "metadata": {
    "tags": []
   },
   "outputs": [
    {
     "data": {
      "text/plain": [
       "<tf.Tensor: shape=(762,), dtype=float32, numpy=\n",
       "array([0., 1., 1., 0., 0., 1., 1., 1., 1., 0., 0., 1., 0., 0., 0., 0., 0.,\n",
       "       0., 0., 0., 1., 0., 0., 0., 1., 1., 0., 0., 0., 0., 1., 0., 0., 0.,\n",
       "       1., 0., 1., 0., 0., 1., 0., 0., 0., 0., 0., 1., 0., 1., 0., 1., 0.,\n",
       "       1., 0., 0., 0., 0., 0., 1., 0., 0., 0., 1., 1., 0., 1., 1., 1., 1.,\n",
       "       0., 0., 0., 0., 1., 0., 0., 0., 0., 0., 0., 1., 0., 0., 1., 0., 0.,\n",
       "       0., 0., 0., 1., 1., 1., 0., 0., 0., 1., 1., 1., 1., 1., 1., 1., 0.,\n",
       "       0., 1., 1., 0., 1., 1., 0., 1., 1., 0., 0., 0., 0., 0., 0., 1., 1.,\n",
       "       0., 1., 0., 0., 1., 0., 0., 1., 0., 0., 1., 0., 1., 1., 1., 1., 0.,\n",
       "       1., 0., 0., 0., 1., 0., 0., 1., 0., 0., 0., 0., 0., 1., 0., 0., 1.,\n",
       "       0., 0., 1., 1., 0., 1., 0., 1., 0., 0., 1., 0., 0., 1., 0., 1., 0.,\n",
       "       1., 1., 1., 0., 1., 0., 0., 0., 1., 1., 0., 1., 1., 1., 1., 1., 0.,\n",
       "       1., 0., 0., 0., 1., 0., 0., 0., 0., 0., 0., 1., 0., 0., 1., 1., 1.,\n",
       "       0., 1., 1., 1., 0., 1., 0., 1., 0., 0., 0., 0., 1., 1., 1., 0., 1.,\n",
       "       0., 0., 0., 1., 0., 0., 1., 1., 1., 0., 0., 1., 0., 1., 0., 0., 0.,\n",
       "       0., 0., 0., 0., 1., 1., 0., 0., 1., 0., 0., 0., 0., 0., 0., 1., 1.,\n",
       "       0., 1., 1., 0., 0., 0., 0., 0., 1., 1., 1., 1., 0., 0., 0., 0., 0.,\n",
       "       1., 0., 0., 1., 0., 0., 1., 0., 0., 0., 1., 1., 1., 1., 0., 0., 1.,\n",
       "       0., 1., 1., 0., 0., 0., 1., 0., 1., 0., 1., 0., 0., 0., 1., 0., 0.,\n",
       "       0., 0., 0., 0., 0., 1., 0., 0., 1., 0., 1., 0., 0., 0., 0., 0., 1.,\n",
       "       0., 1., 0., 0., 1., 0., 1., 0., 0., 1., 0., 0., 1., 0., 0., 0., 1.,\n",
       "       0., 0., 1., 1., 1., 0., 0., 0., 0., 0., 0., 1., 0., 0., 0., 0., 1.,\n",
       "       1., 1., 0., 0., 0., 0., 1., 0., 0., 0., 0., 0., 0., 0., 0., 0., 0.,\n",
       "       0., 0., 0., 0., 0., 1., 1., 1., 0., 0., 0., 1., 1., 0., 1., 0., 1.,\n",
       "       0., 0., 1., 1., 1., 0., 0., 0., 0., 1., 0., 1., 1., 0., 1., 0., 0.,\n",
       "       0., 1., 1., 0., 0., 0., 1., 1., 0., 0., 1., 0., 1., 1., 1., 1., 0.,\n",
       "       1., 0., 1., 1., 0., 0., 0., 0., 0., 0., 0., 0., 0., 1., 1., 0., 1.,\n",
       "       0., 0., 0., 1., 0., 0., 0., 1., 0., 1., 1., 1., 1., 1., 0., 0., 1.,\n",
       "       1., 1., 0., 0., 0., 1., 1., 0., 0., 1., 0., 0., 1., 0., 0., 1., 0.,\n",
       "       1., 1., 0., 0., 0., 0., 0., 1., 0., 0., 0., 0., 0., 0., 0., 1., 1.,\n",
       "       0., 0., 0., 0., 1., 0., 1., 1., 0., 1., 1., 0., 0., 0., 1., 0., 0.,\n",
       "       0., 0., 0., 0., 1., 0., 1., 1., 1., 1., 0., 0., 1., 1., 0., 0., 0.,\n",
       "       0., 1., 1., 1., 1., 0., 0., 1., 0., 0., 0., 1., 0., 0., 0., 1., 0.,\n",
       "       0., 0., 0., 1., 1., 0., 1., 1., 0., 1., 0., 1., 0., 0., 0., 0., 0.,\n",
       "       0., 1., 0., 1., 0., 1., 0., 0., 0., 1., 1., 1., 0., 0., 0., 0., 0.,\n",
       "       1., 0., 0., 0., 1., 0., 0., 1., 0., 0., 0., 0., 0., 0., 0., 0., 0.,\n",
       "       1., 0., 1., 1., 0., 0., 0., 1., 1., 1., 0., 1., 0., 0., 1., 0., 1.,\n",
       "       0., 0., 1., 0., 0., 0., 0., 1., 1., 0., 1., 0., 1., 0., 0., 0., 1.,\n",
       "       0., 0., 1., 1., 1., 1., 0., 0., 0., 0., 0., 1., 0., 1., 0., 0., 0.,\n",
       "       0., 0., 1., 1., 1., 0., 0., 0., 0., 0., 0., 1., 0., 0., 0., 0., 1.,\n",
       "       0., 1., 0., 0., 0., 1., 1., 0., 0., 0., 0., 1., 0., 1., 0., 0., 1.,\n",
       "       0., 0., 1., 0., 0., 1., 0., 0., 0., 0., 1., 1., 0., 0., 1., 0., 1.,\n",
       "       0., 1., 0., 0., 0., 1., 0., 1., 0., 0., 0., 0., 0., 0., 0., 1., 0.,\n",
       "       0., 0., 0., 0., 1., 0., 1., 0., 0., 1., 0., 0., 0., 0., 1., 0., 0.,\n",
       "       1., 1., 1., 1., 1., 0., 0., 0., 0., 1., 0., 0., 1., 1., 0., 0., 0.,\n",
       "       0., 0., 0., 1., 1., 0., 1., 1., 0., 0., 0., 1., 1., 0.],\n",
       "      dtype=float32)>"
      ]
     },
     "execution_count": 39,
     "metadata": {},
     "output_type": "execute_result"
    }
   ],
   "source": [
    "model_1_preds = tf.squeeze(tf.round(model_1_pred_probs))\n",
    "model_1_preds"
   ]
  },
  {
   "cell_type": "code",
   "execution_count": 40,
   "id": "e950ebb8-6662-4fef-9470-f690275e08a4",
   "metadata": {
    "tags": []
   },
   "outputs": [
    {
     "data": {
      "text/plain": [
       "{'accuracy': 79.13385826771653,\n",
       " 'precision': 0.796653347825067,\n",
       " 'recall': 0.7913385826771654,\n",
       " 'f1': 0.7883318764387541}"
      ]
     },
     "execution_count": 40,
     "metadata": {},
     "output_type": "execute_result"
    }
   ],
   "source": [
    "model_1_results = calculate_resuts(val_lab,model_1_preds)\n",
    "model_1_results"
   ]
  },
  {
   "cell_type": "code",
   "execution_count": 41,
   "id": "e830d27b-1ed5-426a-87b4-639910fd6f38",
   "metadata": {
    "tags": []
   },
   "outputs": [
    {
     "data": {
      "text/plain": [
       "{'accuracy': 79.26509186351706,\n",
       " 'precision': 0.8111390004213173,\n",
       " 'recall': 0.7926509186351706,\n",
       " 'f1': 0.7862189758049549}"
      ]
     },
     "execution_count": 41,
     "metadata": {},
     "output_type": "execute_result"
    }
   ],
   "source": [
    "baseline_results"
   ]
  },
  {
   "cell_type": "code",
   "execution_count": 42,
   "id": "7078d014-7c33-4bf1-9d42-ff5b8f255882",
   "metadata": {
    "tags": []
   },
   "outputs": [
    {
     "data": {
      "text/plain": [
       "['', '[UNK]', 'the', 'a', 'in', 'to', 'of', 'and', 'i', 'is']"
      ]
     },
     "execution_count": 42,
     "metadata": {},
     "output_type": "execute_result"
    }
   ],
   "source": [
    "words_in_vocab = text_vectorizer.get_vocabulary()\n",
    "words_in_vocab[:10]"
   ]
  },
  {
   "cell_type": "code",
   "execution_count": 43,
   "id": "63c83bfa-0b30-4f64-b3f4-9a73971f484e",
   "metadata": {
    "tags": []
   },
   "outputs": [
    {
     "name": "stdout",
     "output_type": "stream",
     "text": [
      "Model: \"model_1_dense\"\n",
      "_________________________________________________________________\n",
      " Layer (type)                Output Shape              Param #   \n",
      "=================================================================\n",
      " input_1 (InputLayer)        [(None, 1)]               0         \n",
      "                                                                 \n",
      " text_vectorization_1 (Text  (None, 15)                0         \n",
      " Vectorization)                                                  \n",
      "                                                                 \n",
      " embedding (Embedding)       (None, 15, 128)           1280000   \n",
      "                                                                 \n",
      " global_max_pooling1d (Glob  (None, 128)               0         \n",
      " alMaxPooling1D)                                                 \n",
      "                                                                 \n",
      " dense (Dense)               (None, 1)                 129       \n",
      "                                                                 \n",
      "=================================================================\n",
      "Total params: 1280129 (4.88 MB)\n",
      "Trainable params: 1280129 (4.88 MB)\n",
      "Non-trainable params: 0 (0.00 Byte)\n",
      "_________________________________________________________________\n"
     ]
    }
   ],
   "source": [
    "model_1.summary()"
   ]
  },
  {
   "cell_type": "code",
   "execution_count": 44,
   "id": "bdcc4f28-5dd5-48ad-909f-f379650c72a4",
   "metadata": {
    "tags": []
   },
   "outputs": [],
   "source": [
    "embed_weights = model_1.get_layer(\"embedding\").get_weights()"
   ]
  },
  {
   "cell_type": "code",
   "execution_count": 45,
   "id": "76ec2af1-1ec8-40f5-a993-55133a504a21",
   "metadata": {
    "tags": []
   },
   "outputs": [
    {
     "data": {
      "text/plain": [
       "(10000, 128)"
      ]
     },
     "execution_count": 45,
     "metadata": {},
     "output_type": "execute_result"
    }
   ],
   "source": [
    "embed_weights[0].shape"
   ]
  },
  {
   "cell_type": "code",
   "execution_count": 46,
   "id": "9f13895a-ec84-4215-91b2-ab08d45aa7de",
   "metadata": {
    "tags": []
   },
   "outputs": [],
   "source": [
    "import io\n",
    "\n",
    "# Code to save trained embeddings to file - we got this from here: https://www.tensorflow.org/tutorials/text/word_embeddings#retrieve_the_trained_word_embeddings_and_save_them_to_disk\n",
    "out_v = io.open('vectors.tsv', 'w', encoding='utf-8')\n",
    "out_m = io.open('metadata.tsv', 'w', encoding='utf-8')\n",
    "\n",
    "for index, word in enumerate(words_in_vocab):\n",
    "    #print(index)\n",
    "    if index == 0:\n",
    "        continue  # skip 0, it's padding.\n",
    "    vec = embed_weights[0][index]\n",
    "    out_v.write('\\t'.join([str(x) for x in vec]) + \"\\n\")\n",
    "    out_m.write(word + \"\\n\")\n",
    "out_v.close()\n",
    "out_m.close()"
   ]
  },
  {
   "cell_type": "code",
   "execution_count": 47,
   "id": "57ac6fb8-8876-4997-8e31-68993759bd41",
   "metadata": {
    "tags": []
   },
   "outputs": [
    {
     "data": {
      "text/plain": [
       "['', '[UNK]', 'the', 'a', 'in', 'to', 'of', 'and', 'i', 'is']"
      ]
     },
     "execution_count": 47,
     "metadata": {},
     "output_type": "execute_result"
    }
   ],
   "source": [
    "words_in_vocab[:10]"
   ]
  },
  {
   "cell_type": "code",
   "execution_count": 48,
   "id": "e921e59b-9cb6-4299-909d-4b02d971041e",
   "metadata": {
    "tags": []
   },
   "outputs": [],
   "source": [
    "try:\n",
    "    from google.colab import files\n",
    "    files.download('vectors.tsv')\n",
    "    files.download('metadata.tsv')\n",
    "except Exception:\n",
    "    pass"
   ]
  },
  {
   "cell_type": "code",
   "execution_count": 49,
   "id": "3d58451b-3d92-4cd9-b382-4c2e991d4245",
   "metadata": {
    "tags": []
   },
   "outputs": [],
   "source": [
    "#RNN - Recurrent Neural Network"
   ]
  },
  {
   "cell_type": "code",
   "execution_count": 50,
   "id": "ce361bd4-555a-425f-aa45-ed48b3648305",
   "metadata": {
    "tags": []
   },
   "outputs": [
    {
     "name": "stdout",
     "output_type": "stream",
     "text": [
      "(None, 15)\n",
      "(None, 15, 128)\n",
      "(None, 15, 64)\n",
      "(None, 64)\n"
     ]
    }
   ],
   "source": [
    "#MODEL 2 LSTM - Long Short Term Memory\n",
    "from tensorflow.keras import layers\n",
    "inputs = layers.Input(shape=(1,),dtype=\"string\")\n",
    "x = text_vectorizer(inputs)\n",
    "print(x.shape)\n",
    "x = embedding(x)\n",
    "print(x.shape)\n",
    "x = layers.LSTM(units=64,return_sequences=True)(x)\n",
    "print(x.shape)\n",
    "x = layers.LSTM(64)(x)\n",
    "print(x.shape)\n",
    "#x = layers.Dense(64, activation=\"relu\")(x)\n",
    "outputs = layers.Dense(1,activation = \"sigmoid\")(x)\n",
    "model_2 = tf.keras.Model(inputs, outputs, name=\"model_2_LSTM\")"
   ]
  },
  {
   "cell_type": "code",
   "execution_count": 51,
   "id": "c69750b5-341a-4c59-9236-3d45729c34f0",
   "metadata": {
    "tags": []
   },
   "outputs": [
    {
     "name": "stdout",
     "output_type": "stream",
     "text": [
      "Model: \"model_2_LSTM\"\n",
      "_________________________________________________________________\n",
      " Layer (type)                Output Shape              Param #   \n",
      "=================================================================\n",
      " input_2 (InputLayer)        [(None, 1)]               0         \n",
      "                                                                 \n",
      " text_vectorization_1 (Text  (None, 15)                0         \n",
      " Vectorization)                                                  \n",
      "                                                                 \n",
      " embedding (Embedding)       (None, 15, 128)           1280000   \n",
      "                                                                 \n",
      " lstm (LSTM)                 (None, 15, 64)            49408     \n",
      "                                                                 \n",
      " lstm_1 (LSTM)               (None, 64)                33024     \n",
      "                                                                 \n",
      " dense_1 (Dense)             (None, 1)                 65        \n",
      "                                                                 \n",
      "=================================================================\n",
      "Total params: 1362497 (5.20 MB)\n",
      "Trainable params: 1362497 (5.20 MB)\n",
      "Non-trainable params: 0 (0.00 Byte)\n",
      "_________________________________________________________________\n"
     ]
    }
   ],
   "source": [
    "model_2.summary()"
   ]
  },
  {
   "cell_type": "code",
   "execution_count": 52,
   "id": "4eb435ed-b2c7-4a11-b74d-3a2e8c5a17bf",
   "metadata": {
    "tags": []
   },
   "outputs": [],
   "source": [
    "model_2.compile(loss=\"binary_crossentropy\",\n",
    "               optimizer = tf.keras.optimizers.Adam(),\n",
    "               metrics = [\"accuracy\"])"
   ]
  },
  {
   "cell_type": "code",
   "execution_count": 53,
   "id": "f6e9b529-566a-4ca1-9855-75eaad47c81a",
   "metadata": {
    "tags": []
   },
   "outputs": [
    {
     "name": "stdout",
     "output_type": "stream",
     "text": [
      "Saving TensorBoard log files to: model_logs/model_2_LSTM/20231011-172525\n",
      "Epoch 1/5\n",
      "215/215 [==============================] - 18s 49ms/step - loss: 0.3662 - accuracy: 0.8386 - val_loss: 0.4895 - val_accuracy: 0.7913\n",
      "Epoch 2/5\n",
      "215/215 [==============================] - 10s 45ms/step - loss: 0.2395 - accuracy: 0.9041 - val_loss: 0.5240 - val_accuracy: 0.7861\n",
      "Epoch 3/5\n",
      "215/215 [==============================] - 9s 44ms/step - loss: 0.1711 - accuracy: 0.9397 - val_loss: 0.6371 - val_accuracy: 0.7769\n",
      "Epoch 4/5\n",
      "215/215 [==============================] - 9s 44ms/step - loss: 0.1274 - accuracy: 0.9533 - val_loss: 0.5850 - val_accuracy: 0.7717\n",
      "Epoch 5/5\n",
      "215/215 [==============================] - 9s 43ms/step - loss: 0.0982 - accuracy: 0.9599 - val_loss: 0.9488 - val_accuracy: 0.7703\n"
     ]
    }
   ],
   "source": [
    "model_2_history = model_2.fit(train_sen,train_lab,epochs=5,\n",
    "                             validation_data=(val_sen,val_lab),callbacks = [create_tensorboard_callback(SAVE_DIR,\"model_2_LSTM\")])"
   ]
  },
  {
   "cell_type": "code",
   "execution_count": 54,
   "id": "9252728a-69bc-45af-bce9-7c235fa48fa9",
   "metadata": {
    "tags": []
   },
   "outputs": [
    {
     "name": "stdout",
     "output_type": "stream",
     "text": [
      "24/24 [==============================] - 1s 5ms/step\n"
     ]
    },
    {
     "data": {
      "text/plain": [
       "array([[2.4820169e+01],\n",
       "       [7.2538628e+01],\n",
       "       [9.9976509e+01],\n",
       "       [1.1587957e+01],\n",
       "       [9.7120322e-02],\n",
       "       [9.9983742e+01],\n",
       "       [9.0247383e+01],\n",
       "       [9.9985413e+01],\n",
       "       [9.9983879e+01],\n",
       "       [5.2240234e+01]], dtype=float32)"
      ]
     },
     "execution_count": 54,
     "metadata": {},
     "output_type": "execute_result"
    }
   ],
   "source": [
    "#make predictions \n",
    "model_2_pred_probs = model_2.predict(val_sen)\n",
    "model_2_pred_probs[:10]*100"
   ]
  },
  {
   "cell_type": "code",
   "execution_count": 55,
   "id": "c562e304-6766-46dd-a5e1-46318f2e2854",
   "metadata": {
    "tags": []
   },
   "outputs": [
    {
     "data": {
      "text/plain": [
       "array([0, 0, 1, 1, 1, 1, 1, 1, 1, 0], dtype=int64)"
      ]
     },
     "execution_count": 55,
     "metadata": {},
     "output_type": "execute_result"
    }
   ],
   "source": [
    "val_lab[:10]"
   ]
  },
  {
   "cell_type": "code",
   "execution_count": 56,
   "id": "c84d6b49-c090-400a-ba94-58bb886c9ecf",
   "metadata": {
    "tags": []
   },
   "outputs": [],
   "source": [
    "model_2_preds = tf.squeeze(tf.round(model_2_pred_probs))\n",
    "model_2_results = calculate_resuts(val_lab,model_2_preds)"
   ]
  },
  {
   "cell_type": "code",
   "execution_count": 57,
   "id": "8e9c9b89-efc2-4439-a146-aac2ee6db3fd",
   "metadata": {
    "tags": []
   },
   "outputs": [
    {
     "data": {
      "text/plain": [
       "{'accuracy': 77.03412073490814,\n",
       " 'precision': 0.770394799562429,\n",
       " 'recall': 0.7703412073490814,\n",
       " 'f1': 0.7692343337606365}"
      ]
     },
     "execution_count": 57,
     "metadata": {},
     "output_type": "execute_result"
    }
   ],
   "source": [
    "model_2_results"
   ]
  },
  {
   "cell_type": "code",
   "execution_count": 58,
   "id": "22167bc5-f88f-4672-98a1-aefbbb33f82b",
   "metadata": {
    "tags": []
   },
   "outputs": [],
   "source": [
    "from tensorflow.keras import layers\n",
    "inputs = layers.Input(shape=(1,),dtype=\"string\")\n",
    "x = text_vectorizer(inputs)\n",
    "x = embedding(x)\n",
    "#x = layers.LSTM(units=128,return_sequences=True)(x)\n",
    "#x = layers.LSTM(units=64,return_sequences=True)(x)\n",
    "#x = layers.LSTM(64)(x)\n",
    "#x = layers.Dense(64, activation=\"tanh\")(x)\n",
    "outputs = layers.Dense(1,activation = \"sigmoid\")(x)\n",
    "model_2_1 = tf.keras.Model(inputs, outputs, name=\"model_2_LSTM\")"
   ]
  },
  {
   "cell_type": "code",
   "execution_count": 59,
   "id": "e195bae1-8214-44ab-ab4d-27825e225041",
   "metadata": {
    "tags": []
   },
   "outputs": [],
   "source": [
    "model_2_1.compile(loss=\"binary_crossentropy\",\n",
    "               optimizer = tf.keras.optimizers.Adam(),\n",
    "               metrics = [\"accuracy\"])"
   ]
  },
  {
   "cell_type": "code",
   "execution_count": 60,
   "id": "b6868a75-41f4-4530-bd45-ff54f42eb6ff",
   "metadata": {
    "tags": []
   },
   "outputs": [
    {
     "name": "stdout",
     "output_type": "stream",
     "text": [
      "Saving TensorBoard log files to: model_logs/model_2_LSTM/20231011-172623\n",
      "Epoch 1/5\n",
      "215/215 [==============================] - 9s 37ms/step - loss: 0.0711 - accuracy: 0.9721 - val_loss: 1.0213 - val_accuracy: 0.7808\n",
      "Epoch 2/5\n",
      "215/215 [==============================] - 8s 39ms/step - loss: 0.0588 - accuracy: 0.9739 - val_loss: 1.2025 - val_accuracy: 0.7743\n",
      "Epoch 3/5\n",
      "215/215 [==============================] - 9s 42ms/step - loss: 0.0557 - accuracy: 0.9737 - val_loss: 1.0140 - val_accuracy: 0.7651\n",
      "Epoch 4/5\n",
      "215/215 [==============================] - 9s 41ms/step - loss: 0.0548 - accuracy: 0.9736 - val_loss: 1.1386 - val_accuracy: 0.7559\n",
      "Epoch 5/5\n",
      "215/215 [==============================] - 8s 37ms/step - loss: 0.0489 - accuracy: 0.9769 - val_loss: 1.1912 - val_accuracy: 0.7651\n"
     ]
    }
   ],
   "source": [
    "model_2_1_history = model_2.fit(train_sen,train_lab,epochs=5,\n",
    "                             validation_data=(val_sen,val_lab),callbacks = [create_tensorboard_callback(SAVE_DIR,\"model_2_LSTM\")])"
   ]
  },
  {
   "cell_type": "code",
   "execution_count": 61,
   "id": "44a6ab83-fb14-4805-97db-5f9ed8d4e7c0",
   "metadata": {
    "tags": []
   },
   "outputs": [],
   "source": [
    "#MODEL 3 GRU - Gated Recurrent Unit\n",
    "\n",
    "inputs = layers.Input(shape=(1,),dtype=tf.string)\n",
    "x = text_vectorizer(inputs)\n",
    "x = embedding(x)\n",
    "x = layers.GRU(64,return_sequences=True)(x)\n",
    "#x = layers.LSTM(42,return_sequences=True)(x)\n",
    "#x = layers.GRU(99)(x)\n",
    "#x = layers.Dense(64,activation=\"relu\")(x)\n",
    "x = layers.GlobalAveragePooling1D()(x)\n",
    "outputs = layers.Dense(1,activation=\"sigmoid\")(x)\n",
    "model_3 = tf.keras.Model(inputs, outputs, name=\"model_3_GRU\")"
   ]
  },
  {
   "cell_type": "code",
   "execution_count": 62,
   "id": "60603416-33a0-4264-b2e3-8e04609d92f5",
   "metadata": {
    "tags": []
   },
   "outputs": [
    {
     "name": "stdout",
     "output_type": "stream",
     "text": [
      "Model: \"model_3_GRU\"\n",
      "_________________________________________________________________\n",
      " Layer (type)                Output Shape              Param #   \n",
      "=================================================================\n",
      " input_4 (InputLayer)        [(None, 1)]               0         \n",
      "                                                                 \n",
      " text_vectorization_1 (Text  (None, 15)                0         \n",
      " Vectorization)                                                  \n",
      "                                                                 \n",
      " embedding (Embedding)       (None, 15, 128)           1280000   \n",
      "                                                                 \n",
      " gru (GRU)                   (None, 15, 64)            37248     \n",
      "                                                                 \n",
      " global_average_pooling1d (  (None, 64)                0         \n",
      " GlobalAveragePooling1D)                                         \n",
      "                                                                 \n",
      " dense_3 (Dense)             (None, 1)                 65        \n",
      "                                                                 \n",
      "=================================================================\n",
      "Total params: 1317313 (5.03 MB)\n",
      "Trainable params: 1317313 (5.03 MB)\n",
      "Non-trainable params: 0 (0.00 Byte)\n",
      "_________________________________________________________________\n"
     ]
    }
   ],
   "source": [
    "model_3.summary()"
   ]
  },
  {
   "cell_type": "code",
   "execution_count": 63,
   "id": "f2c7e158-a837-4d7d-bf70-ccbb6419e028",
   "metadata": {
    "tags": []
   },
   "outputs": [],
   "source": [
    "model_3.compile(loss=\"binary_crossentropy\",\n",
    "               optimizer = \"Adam\",\n",
    "               metrics=[\"accuracy\"])"
   ]
  },
  {
   "cell_type": "code",
   "execution_count": 64,
   "id": "9675fafb-d5bd-4b7d-9b8d-17a9fd72d9bf",
   "metadata": {
    "tags": []
   },
   "outputs": [
    {
     "name": "stdout",
     "output_type": "stream",
     "text": [
      "Epoch 1/5\n",
      "215/215 [==============================] - 10s 33ms/step - loss: 0.2088 - accuracy: 0.9183 - val_loss: 0.6062 - val_accuracy: 0.7625\n",
      "Epoch 2/5\n",
      "215/215 [==============================] - 7s 32ms/step - loss: 0.0987 - accuracy: 0.9661 - val_loss: 0.7900 - val_accuracy: 0.7717\n",
      "Epoch 3/5\n",
      "215/215 [==============================] - 6s 29ms/step - loss: 0.0746 - accuracy: 0.9730 - val_loss: 0.8439 - val_accuracy: 0.7638\n",
      "Epoch 4/5\n",
      "215/215 [==============================] - 6s 27ms/step - loss: 0.0619 - accuracy: 0.9740 - val_loss: 0.9832 - val_accuracy: 0.7585\n",
      "Epoch 5/5\n",
      "215/215 [==============================] - 6s 27ms/step - loss: 0.0555 - accuracy: 0.9747 - val_loss: 1.3220 - val_accuracy: 0.7520\n"
     ]
    }
   ],
   "source": [
    "model_3_history = model_3.fit(train_sen,train_lab,epochs=5, validation_data = (val_sen,val_lab))"
   ]
  },
  {
   "cell_type": "code",
   "execution_count": 65,
   "id": "10aae1af-bbc2-4207-bcc8-feef52387c93",
   "metadata": {
    "tags": []
   },
   "outputs": [
    {
     "name": "stdout",
     "output_type": "stream",
     "text": [
      "24/24 [==============================] - 0s 2ms/step\n"
     ]
    },
    {
     "data": {
      "text/plain": [
       "array([[0.00296897],\n",
       "       [0.73259705],\n",
       "       [0.99968606],\n",
       "       [0.04248943],\n",
       "       [0.0014174 ],\n",
       "       [0.999977  ],\n",
       "       [0.98078835],\n",
       "       [0.9999931 ],\n",
       "       [0.9999837 ],\n",
       "       [0.17274754]], dtype=float32)"
      ]
     },
     "execution_count": 65,
     "metadata": {},
     "output_type": "execute_result"
    }
   ],
   "source": [
    "model_3_pred_prob = model_3.predict(val_sen)\n",
    "model_3_pred_prob[:10]"
   ]
  },
  {
   "cell_type": "code",
   "execution_count": 66,
   "id": "cd5c163e-13dc-41a5-b49b-5c6a62d4c423",
   "metadata": {
    "tags": []
   },
   "outputs": [
    {
     "data": {
      "text/plain": [
       "<tf.Tensor: shape=(10,), dtype=float32, numpy=array([0., 1., 1., 0., 0., 1., 1., 1., 1., 0.], dtype=float32)>"
      ]
     },
     "execution_count": 66,
     "metadata": {},
     "output_type": "execute_result"
    }
   ],
   "source": [
    "model_3_pred = tf.squeeze(tf.round(model_3_pred_prob))\n",
    "model_3_pred[:10]"
   ]
  },
  {
   "cell_type": "code",
   "execution_count": 67,
   "id": "6c88f6f7-034c-4930-a07f-b8ddd76bf49b",
   "metadata": {
    "tags": []
   },
   "outputs": [],
   "source": [
    "model_3_results = calculate_resuts(val_lab, model_3_pred)"
   ]
  },
  {
   "cell_type": "code",
   "execution_count": 68,
   "id": "9941a24a-17ae-414d-99ef-f01a6c49ba17",
   "metadata": {
    "tags": []
   },
   "outputs": [
    {
     "data": {
      "text/plain": [
       "{'accuracy': 75.19685039370079,\n",
       " 'precision': 0.7517049354144483,\n",
       " 'recall': 0.7519685039370079,\n",
       " 'f1': 0.7508796708412393}"
      ]
     },
     "execution_count": 68,
     "metadata": {},
     "output_type": "execute_result"
    }
   ],
   "source": [
    "model_3_results"
   ]
  },
  {
   "cell_type": "code",
   "execution_count": 69,
   "id": "b735d4b2-a58c-43df-9654-6454dcb5b3b5",
   "metadata": {
    "tags": []
   },
   "outputs": [],
   "source": [
    "#MODEL4 BiDirectional\n",
    "inputs = layers.Input(shape=(1,),dtype=\"string\")\n",
    "x = text_vectorizer(inputs)\n",
    "x = embedding(x)\n",
    "#x = layers.Bidirectional(layers.LSTM(64, return_sequences=True))(x)\n",
    "x = layers.Bidirectional(layers.GRU(64))(x)\n",
    "outputs = layers.Dense(1,activation=\"sigmoid\")(x)\n",
    "model_4 = tf.keras.Model(inputs, outputs,name=\"model_4_bidirectional\")"
   ]
  },
  {
   "cell_type": "code",
   "execution_count": 70,
   "id": "a5864446-cf56-4598-8b65-4893c449e24e",
   "metadata": {
    "tags": []
   },
   "outputs": [
    {
     "name": "stdout",
     "output_type": "stream",
     "text": [
      "Model: \"model_4_bidirectional\"\n",
      "_________________________________________________________________\n",
      " Layer (type)                Output Shape              Param #   \n",
      "=================================================================\n",
      " input_5 (InputLayer)        [(None, 1)]               0         \n",
      "                                                                 \n",
      " text_vectorization_1 (Text  (None, 15)                0         \n",
      " Vectorization)                                                  \n",
      "                                                                 \n",
      " embedding (Embedding)       (None, 15, 128)           1280000   \n",
      "                                                                 \n",
      " bidirectional (Bidirection  (None, 128)               74496     \n",
      " al)                                                             \n",
      "                                                                 \n",
      " dense_4 (Dense)             (None, 1)                 129       \n",
      "                                                                 \n",
      "=================================================================\n",
      "Total params: 1354625 (5.17 MB)\n",
      "Trainable params: 1354625 (5.17 MB)\n",
      "Non-trainable params: 0 (0.00 Byte)\n",
      "_________________________________________________________________\n"
     ]
    }
   ],
   "source": [
    "model_4.summary()"
   ]
  },
  {
   "cell_type": "code",
   "execution_count": 71,
   "id": "735b66f9-1d40-4a5e-a6fa-bc144504754f",
   "metadata": {
    "tags": []
   },
   "outputs": [],
   "source": [
    "model_4.compile(loss=\"binary_crossentropy\",\n",
    "               optimizer = \"Adam\",\n",
    "               metrics=[\"accuracy\"])"
   ]
  },
  {
   "cell_type": "code",
   "execution_count": 72,
   "id": "ee8b2188-be88-4e27-91dd-c64dfda02d5b",
   "metadata": {
    "tags": []
   },
   "outputs": [
    {
     "name": "stdout",
     "output_type": "stream",
     "text": [
      "Epoch 1/6\n",
      "215/215 [==============================] - 11s 32ms/step - loss: 0.1495 - accuracy: 0.9460 - val_loss: 0.8638 - val_accuracy: 0.7690\n",
      "Epoch 2/6\n",
      "215/215 [==============================] - 6s 28ms/step - loss: 0.0606 - accuracy: 0.9746 - val_loss: 0.9634 - val_accuracy: 0.7664\n",
      "Epoch 3/6\n",
      "215/215 [==============================] - 6s 30ms/step - loss: 0.0481 - accuracy: 0.9785 - val_loss: 1.2489 - val_accuracy: 0.7533\n",
      "Epoch 4/6\n",
      "215/215 [==============================] - 6s 30ms/step - loss: 0.0418 - accuracy: 0.9790 - val_loss: 1.2599 - val_accuracy: 0.7651\n",
      "Epoch 5/6\n",
      "215/215 [==============================] - 6s 29ms/step - loss: 0.0402 - accuracy: 0.9800 - val_loss: 1.3676 - val_accuracy: 0.7533\n",
      "Epoch 6/6\n",
      "215/215 [==============================] - 6s 29ms/step - loss: 0.0369 - accuracy: 0.9820 - val_loss: 1.3919 - val_accuracy: 0.7651\n"
     ]
    }
   ],
   "source": [
    "model_4_history = model_4.fit(train_sen,train_lab,epochs=6, validation_data=(val_sen,val_lab))"
   ]
  },
  {
   "cell_type": "code",
   "execution_count": 73,
   "id": "40962940-bcc5-42ae-a9da-c45791026ff0",
   "metadata": {
    "tags": []
   },
   "outputs": [
    {
     "name": "stdout",
     "output_type": "stream",
     "text": [
      "24/24 [==============================] - 1s 3ms/step\n"
     ]
    },
    {
     "data": {
      "text/plain": [
       "array([[2.6064253e-04],\n",
       "       [5.5944788e-01],\n",
       "       [9.9986732e-01],\n",
       "       [6.4195774e-02],\n",
       "       [6.9407244e-05],\n",
       "       [9.9892271e-01],\n",
       "       [2.8287494e-01],\n",
       "       [9.9996245e-01],\n",
       "       [9.9994129e-01],\n",
       "       [4.7619438e-01]], dtype=float32)"
      ]
     },
     "execution_count": 73,
     "metadata": {},
     "output_type": "execute_result"
    }
   ],
   "source": [
    "model_4_pred_probs = model_4.predict(val_sen)\n",
    "model_4_pred_probs[:10]"
   ]
  },
  {
   "cell_type": "code",
   "execution_count": 74,
   "id": "f6883bc0-2bce-4d48-a6d9-e7a47e43d4b8",
   "metadata": {
    "tags": []
   },
   "outputs": [
    {
     "data": {
      "text/plain": [
       "<tf.Tensor: shape=(10,), dtype=float32, numpy=array([0., 1., 1., 0., 0., 1., 0., 1., 1., 0.], dtype=float32)>"
      ]
     },
     "execution_count": 74,
     "metadata": {},
     "output_type": "execute_result"
    }
   ],
   "source": [
    "model_4_pred = tf.squeeze(tf.round(model_4_pred_probs))\n",
    "model_4_pred[:10]"
   ]
  },
  {
   "cell_type": "code",
   "execution_count": 75,
   "id": "9887ec6a-af05-43ab-9629-147127b6303f",
   "metadata": {
    "tags": []
   },
   "outputs": [],
   "source": [
    "model_4_results = calculate_resuts(val_lab,model_4_pred)"
   ]
  },
  {
   "cell_type": "code",
   "execution_count": 76,
   "id": "b6582e51-db75-410e-9b8b-388c71609db2",
   "metadata": {
    "tags": []
   },
   "outputs": [
    {
     "data": {
      "text/plain": [
       "{'accuracy': 76.50918635170603,\n",
       " 'precision': 0.7704883663735582,\n",
       " 'recall': 0.7650918635170604,\n",
       " 'f1': 0.7612012245248878}"
      ]
     },
     "execution_count": 76,
     "metadata": {},
     "output_type": "execute_result"
    }
   ],
   "source": [
    "model_4_results"
   ]
  },
  {
   "cell_type": "code",
   "execution_count": 77,
   "id": "3b01d71b-62cb-47d9-a931-154d72a71595",
   "metadata": {
    "tags": []
   },
   "outputs": [
    {
     "data": {
      "text/plain": [
       "(TensorShape([1, 15, 128]), TensorShape([1, 11, 32]), TensorShape([1, 32]))"
      ]
     },
     "execution_count": 77,
     "metadata": {},
     "output_type": "execute_result"
    }
   ],
   "source": [
    "#MODEL 5 Conv1D\n",
    "\n",
    "embedding_test = embedding(text_vectorizer([\"this is a test sentence\"]))\n",
    "conv_1d = layers.Conv1D(filters=32,kernel_size=5,activation=\"relu\",padding=\"valid\")\n",
    "conv_1d_output = conv_1d(embedding_test)\n",
    "max_pool = layers.GlobalMaxPool1D()\n",
    "max_pool_output = max_pool(conv_1d_output)\n",
    "\n",
    "embedding_test.shape, conv_1d_output.shape, max_pool_output.shape"
   ]
  },
  {
   "cell_type": "code",
   "execution_count": 78,
   "id": "884c475c-8e81-47cd-929e-29a346207c57",
   "metadata": {
    "tags": []
   },
   "outputs": [
    {
     "data": {
      "text/plain": [
       "(<tf.Tensor: shape=(1, 15, 128), dtype=float32, numpy=\n",
       " array([[[-0.05326369,  0.09651525, -0.04827995, ..., -0.02194922,\n",
       "          -0.02277794, -0.05082595],\n",
       "         [-0.01248452, -0.03483346, -0.05039557, ..., -0.0701517 ,\n",
       "          -0.08290595, -0.05239974],\n",
       "         [-0.0354166 , -0.02295767, -0.01307888, ..., -0.0640467 ,\n",
       "          -0.06537181, -0.06016057],\n",
       "         ...,\n",
       "         [-0.04994678, -0.03556789, -0.01663362, ...,  0.14812982,\n",
       "          -0.07925215, -0.02649225],\n",
       "         [-0.04994678, -0.03556789, -0.01663362, ...,  0.14812982,\n",
       "          -0.07925215, -0.02649225],\n",
       "         [-0.04994678, -0.03556789, -0.01663362, ...,  0.14812982,\n",
       "          -0.07925215, -0.02649225]]], dtype=float32)>,\n",
       " <tf.Tensor: shape=(1, 11, 32), dtype=float32, numpy=\n",
       " array([[[0.05550951, 0.        , 0.11276352, 0.        , 0.09654839,\n",
       "          0.        , 0.26095498, 0.        , 0.        , 0.        ,\n",
       "          0.02423744, 0.        , 0.        , 0.03924184, 0.11764123,\n",
       "          0.        , 0.01248436, 0.05682147, 0.00949996, 0.0516898 ,\n",
       "          0.06754902, 0.03767845, 0.        , 0.        , 0.06011241,\n",
       "          0.        , 0.        , 0.02041979, 0.07562195, 0.        ,\n",
       "          0.04028542, 0.        ],\n",
       "         [0.        , 0.        , 0.        , 0.        , 0.01617502,\n",
       "          0.        , 0.09091665, 0.        , 0.        , 0.        ,\n",
       "          0.03166787, 0.        , 0.        , 0.09298958, 0.02891661,\n",
       "          0.06601803, 0.        , 0.        , 0.        , 0.01237071,\n",
       "          0.        , 0.0235163 , 0.        , 0.04759292, 0.        ,\n",
       "          0.        , 0.        , 0.09830493, 0.        , 0.        ,\n",
       "          0.        , 0.        ],\n",
       "         [0.02874387, 0.01794823, 0.        , 0.        , 0.06989503,\n",
       "          0.03380552, 0.142122  , 0.02208381, 0.        , 0.        ,\n",
       "          0.02098653, 0.        , 0.        , 0.08824516, 0.        ,\n",
       "          0.07726825, 0.        , 0.        , 0.02960623, 0.        ,\n",
       "          0.        , 0.01054639, 0.02143184, 0.        , 0.0295769 ,\n",
       "          0.01808257, 0.        , 0.11511529, 0.        , 0.        ,\n",
       "          0.03795818, 0.        ],\n",
       "         [0.00651864, 0.        , 0.        , 0.        , 0.06608123,\n",
       "          0.        , 0.15476032, 0.04823374, 0.        , 0.        ,\n",
       "          0.03358893, 0.        , 0.        , 0.00719569, 0.03790462,\n",
       "          0.081407  , 0.        , 0.00441306, 0.08585826, 0.06836057,\n",
       "          0.02633453, 0.007377  , 0.        , 0.        , 0.02780744,\n",
       "          0.        , 0.        , 0.05667312, 0.00955497, 0.        ,\n",
       "          0.02696748, 0.        ],\n",
       "         [0.        , 0.        , 0.        , 0.        , 0.15364555,\n",
       "          0.        , 0.14781196, 0.        , 0.        , 0.        ,\n",
       "          0.1161778 , 0.        , 0.        , 0.08390535, 0.04628437,\n",
       "          0.03800713, 0.        , 0.03318385, 0.01070467, 0.06432787,\n",
       "          0.07140693, 0.        , 0.        , 0.        , 0.05756183,\n",
       "          0.        , 0.        , 0.06434792, 0.00143759, 0.        ,\n",
       "          0.        , 0.        ],\n",
       "         [0.01293955, 0.00373259, 0.        , 0.        , 0.12259597,\n",
       "          0.        , 0.11829266, 0.        , 0.        , 0.        ,\n",
       "          0.08794712, 0.        , 0.        , 0.08306041, 0.        ,\n",
       "          0.0764944 , 0.        , 0.01166111, 0.02203968, 0.06935155,\n",
       "          0.02244125, 0.04614655, 0.        , 0.        , 0.08394621,\n",
       "          0.        , 0.        , 0.0608169 , 0.04562373, 0.        ,\n",
       "          0.        , 0.        ],\n",
       "         [0.01293955, 0.00373259, 0.        , 0.        , 0.12259597,\n",
       "          0.        , 0.11829266, 0.        , 0.        , 0.        ,\n",
       "          0.08794712, 0.        , 0.        , 0.08306041, 0.        ,\n",
       "          0.0764944 , 0.        , 0.01166111, 0.02203968, 0.06935155,\n",
       "          0.02244125, 0.04614655, 0.        , 0.        , 0.08394621,\n",
       "          0.        , 0.        , 0.0608169 , 0.04562373, 0.        ,\n",
       "          0.        , 0.        ],\n",
       "         [0.01293955, 0.00373259, 0.        , 0.        , 0.12259597,\n",
       "          0.        , 0.11829266, 0.        , 0.        , 0.        ,\n",
       "          0.08794712, 0.        , 0.        , 0.08306041, 0.        ,\n",
       "          0.0764944 , 0.        , 0.01166111, 0.02203968, 0.06935155,\n",
       "          0.02244125, 0.04614655, 0.        , 0.        , 0.08394621,\n",
       "          0.        , 0.        , 0.0608169 , 0.04562373, 0.        ,\n",
       "          0.        , 0.        ],\n",
       "         [0.01293955, 0.00373259, 0.        , 0.        , 0.12259597,\n",
       "          0.        , 0.11829266, 0.        , 0.        , 0.        ,\n",
       "          0.08794712, 0.        , 0.        , 0.08306041, 0.        ,\n",
       "          0.0764944 , 0.        , 0.01166111, 0.02203968, 0.06935155,\n",
       "          0.02244125, 0.04614655, 0.        , 0.        , 0.08394621,\n",
       "          0.        , 0.        , 0.0608169 , 0.04562373, 0.        ,\n",
       "          0.        , 0.        ],\n",
       "         [0.01293955, 0.00373259, 0.        , 0.        , 0.12259597,\n",
       "          0.        , 0.11829266, 0.        , 0.        , 0.        ,\n",
       "          0.08794712, 0.        , 0.        , 0.08306041, 0.        ,\n",
       "          0.0764944 , 0.        , 0.01166111, 0.02203968, 0.06935155,\n",
       "          0.02244125, 0.04614655, 0.        , 0.        , 0.08394621,\n",
       "          0.        , 0.        , 0.0608169 , 0.04562373, 0.        ,\n",
       "          0.        , 0.        ],\n",
       "         [0.01293955, 0.00373259, 0.        , 0.        , 0.12259597,\n",
       "          0.        , 0.11829266, 0.        , 0.        , 0.        ,\n",
       "          0.08794712, 0.        , 0.        , 0.08306041, 0.        ,\n",
       "          0.0764944 , 0.        , 0.01166111, 0.02203968, 0.06935155,\n",
       "          0.02244125, 0.04614655, 0.        , 0.        , 0.08394621,\n",
       "          0.        , 0.        , 0.0608169 , 0.04562373, 0.        ,\n",
       "          0.        , 0.        ]]], dtype=float32)>)"
      ]
     },
     "execution_count": 78,
     "metadata": {},
     "output_type": "execute_result"
    }
   ],
   "source": [
    "embedding_test, conv_1d_output"
   ]
  },
  {
   "cell_type": "code",
   "execution_count": 79,
   "id": "c20dfe86-d0ae-4d64-bff9-560e58f768f8",
   "metadata": {},
   "outputs": [
    {
     "name": "stdout",
     "output_type": "stream",
     "text": [
      "Model: \"model_5_Conv1D\"\n",
      "_________________________________________________________________\n",
      " Layer (type)                Output Shape              Param #   \n",
      "=================================================================\n",
      " input_5 (InputLayer)        [(None, 1)]               0         \n",
      "                                                                 \n",
      " text_vectorization_1 (Text  (None, 15)                0         \n",
      " Vectorization)                                                  \n",
      "                                                                 \n",
      " embedding (Embedding)       (None, 15, 128)           1280000   \n",
      "                                                                 \n",
      " conv1d_1 (Conv1D)           (None, 11, 64)            41024     \n",
      "                                                                 \n",
      " global_max_pooling1d_2 (Gl  (None, 64)                0         \n",
      " obalMaxPooling1D)                                               \n",
      "                                                                 \n",
      " dense_5 (Dense)             (None, 1)                 65        \n",
      "                                                                 \n",
      "=================================================================\n",
      "Total params: 1321089 (5.04 MB)\n",
      "Trainable params: 1321089 (5.04 MB)\n",
      "Non-trainable params: 0 (0.00 Byte)\n",
      "_________________________________________________________________\n"
     ]
    }
   ],
   "source": [
    "from tensorflow.keras import layers\n",
    "input = layers.Input(shape=(1,),dtype=tf.string)\n",
    "x = text_vectorizer(inputs)\n",
    "x = embedding(x)\n",
    "x = layers.Conv1D(filters=64, kernel_size=5, strides = 1, activation=\"relu\", padding = \"valid\")(x)\n",
    "x = layers.GlobalMaxPool1D()(x)\n",
    "#x = layers.Dense(64,activation=\"sigmoid\")(x)\n",
    "outputs = layers.Dense(1,activation=\"sigmoid\")(x)\n",
    "model_5 = tf.keras.Model(inputs,outputs, name=\"model_5_Conv1D\")\n",
    "\n",
    "#Compilation\n",
    "model_5.compile(loss=\"binary_crossentropy\",\n",
    "                  optimizer = tf.keras.optimizers.Adam(),\n",
    "                  metrics = [\"accuracy\"])\n",
    "\n",
    "#Summary\n",
    "model_5.summary()"
   ]
  },
  {
   "cell_type": "code",
   "execution_count": 80,
   "id": "2b656f8c-f6c3-4b74-83a0-81a6a446285b",
   "metadata": {
    "tags": []
   },
   "outputs": [
    {
     "name": "stdout",
     "output_type": "stream",
     "text": [
      "Saving TensorBoard log files to: model_logs/Conv1D/20231011-172828\n",
      "Epoch 1/5\n",
      "215/215 [==============================] - 7s 27ms/step - loss: 0.1495 - accuracy: 0.9558 - val_loss: 0.8491 - val_accuracy: 0.7625\n",
      "Epoch 2/5\n",
      "215/215 [==============================] - 6s 26ms/step - loss: 0.0677 - accuracy: 0.9764 - val_loss: 1.0346 - val_accuracy: 0.7546\n",
      "Epoch 3/5\n",
      "215/215 [==============================] - 6s 30ms/step - loss: 0.0597 - accuracy: 0.9774 - val_loss: 1.0851 - val_accuracy: 0.7572\n",
      "Epoch 4/5\n",
      "215/215 [==============================] - 6s 27ms/step - loss: 0.0513 - accuracy: 0.9799 - val_loss: 1.1298 - val_accuracy: 0.7428\n",
      "Epoch 5/5\n",
      "215/215 [==============================] - 6s 28ms/step - loss: 0.0482 - accuracy: 0.9810 - val_loss: 1.1685 - val_accuracy: 0.7533\n"
     ]
    }
   ],
   "source": [
    "#fitting\n",
    "model_5_history = model_5.fit(train_sen,train_lab,epochs=5,validation_data=(val_sen,val_lab),callbacks=[create_tensorboard_callback(SAVE_DIR,\"Conv1D\")])"
   ]
  },
  {
   "cell_type": "code",
   "execution_count": 81,
   "id": "14cfe76a-d3a2-4eb6-a275-19860f39d8bb",
   "metadata": {
    "tags": []
   },
   "outputs": [
    {
     "name": "stdout",
     "output_type": "stream",
     "text": [
      "24/24 [==============================] - 0s 2ms/step\n"
     ]
    }
   ],
   "source": [
    "#predictions\n",
    "model_5_pred_probs = model_5.predict(val_sen)"
   ]
  },
  {
   "cell_type": "code",
   "execution_count": 82,
   "id": "db537c16-22d2-4323-9d41-a024b907b00b",
   "metadata": {
    "tags": []
   },
   "outputs": [],
   "source": [
    "model_5_preds = tf.squeeze(tf.round(model_5_pred_probs))"
   ]
  },
  {
   "cell_type": "code",
   "execution_count": 83,
   "id": "88714b5f-8260-4883-9033-0265af027dff",
   "metadata": {
    "tags": []
   },
   "outputs": [
    {
     "data": {
      "text/plain": [
       "{'accuracy': 75.32808398950131,\n",
       " 'precision': 0.7546715751440161,\n",
       " 'recall': 0.7532808398950132,\n",
       " 'f1': 0.7509025222684302}"
      ]
     },
     "execution_count": 83,
     "metadata": {},
     "output_type": "execute_result"
    }
   ],
   "source": [
    "model_5_results = calculate_resuts(y_true = val_lab, y_pred = model_5_preds)\n",
    "model_5_results"
   ]
  },
  {
   "cell_type": "code",
   "execution_count": 84,
   "id": "cb72fd85-c014-4f86-aa09-07ebd266b49a",
   "metadata": {
    "tags": []
   },
   "outputs": [
    {
     "name": "stdout",
     "output_type": "stream",
     "text": [
      "Saving TensorBoard log files to: model_logs/Conv1D/20231011-172859\n",
      "Epoch 1/5\n",
      "215/215 [==============================] - 7s 25ms/step - loss: 0.1377 - accuracy: 0.9507 - val_loss: 0.8368 - val_accuracy: 0.7572\n",
      "Epoch 2/5\n",
      "215/215 [==============================] - 5s 25ms/step - loss: 0.0589 - accuracy: 0.9810 - val_loss: 0.9088 - val_accuracy: 0.7454\n",
      "Epoch 3/5\n",
      "215/215 [==============================] - 7s 32ms/step - loss: 0.0510 - accuracy: 0.9815 - val_loss: 0.9191 - val_accuracy: 0.7533\n",
      "Epoch 4/5\n",
      "215/215 [==============================] - 6s 27ms/step - loss: 0.0453 - accuracy: 0.9829 - val_loss: 0.9913 - val_accuracy: 0.7441\n",
      "Epoch 5/5\n",
      "215/215 [==============================] - 7s 32ms/step - loss: 0.0419 - accuracy: 0.9825 - val_loss: 1.0222 - val_accuracy: 0.7336\n"
     ]
    }
   ],
   "source": [
    "from tensorflow.keras import layers\n",
    "input = layers.Input(shape=(1,),dtype=tf.string)\n",
    "x = text_vectorizer(inputs)\n",
    "x = embedding(x)\n",
    "x = layers.Conv1D(filters=64, kernel_size=6, strides = 1, activation=\"relu\", padding = \"valid\")(x)\n",
    "x = layers.GlobalMaxPool1D()(x)\n",
    "x = layers.Dense(64,activation=\"sigmoid\")(x)\n",
    "outputs = layers.Dense(1,activation=\"sigmoid\")(x)\n",
    "model_5_1 = tf.keras.Model(inputs,outputs, name=\"model_5_Conv1D\")\n",
    "\n",
    "#Compilation\n",
    "model_5_1.compile(loss=\"binary_crossentropy\",\n",
    "                  optimizer = tf.keras.optimizers.Adam(),\n",
    "                  metrics = [\"accuracy\"])\n",
    "\n",
    "model_5_1_history = model_5_1.fit(train_sen,train_lab,epochs=5,validation_data=(val_sen,val_lab),callbacks=[create_tensorboard_callback(SAVE_DIR,\"Conv1D\")])"
   ]
  },
  {
   "cell_type": "code",
   "execution_count": 85,
   "id": "b49c9d4a-7c85-4bea-807c-af469266fde6",
   "metadata": {
    "tags": []
   },
   "outputs": [
    {
     "name": "stdout",
     "output_type": "stream",
     "text": [
      "Saving TensorBoard log files to: model_logs/Conv1D/20231011-172931\n",
      "Epoch 1/5\n",
      "215/215 [==============================] - 10s 41ms/step - loss: 0.1057 - accuracy: 0.9604 - val_loss: 0.9977 - val_accuracy: 0.7533\n",
      "Epoch 2/5\n",
      "215/215 [==============================] - 10s 46ms/step - loss: 0.0482 - accuracy: 0.9800 - val_loss: 1.1648 - val_accuracy: 0.7559\n",
      "Epoch 3/5\n",
      "215/215 [==============================] - 9s 42ms/step - loss: 0.0401 - accuracy: 0.9804 - val_loss: 1.2809 - val_accuracy: 0.7441\n",
      "Epoch 4/5\n",
      "215/215 [==============================] - 9s 43ms/step - loss: 0.0443 - accuracy: 0.9820 - val_loss: 1.1782 - val_accuracy: 0.7507\n",
      "Epoch 5/5\n",
      "215/215 [==============================] - 9s 41ms/step - loss: 0.0376 - accuracy: 0.9812 - val_loss: 1.2987 - val_accuracy: 0.7546\n"
     ]
    }
   ],
   "source": [
    "from tensorflow.keras import layers\n",
    "input = layers.Input(shape=(1,),dtype=tf.string)\n",
    "x = text_vectorizer(inputs)\n",
    "x = embedding(x)\n",
    "x = layers.Conv1D(filters=512, kernel_size=6, strides = 2, activation=\"tanh\")(x)\n",
    "x = layers.Conv1D(filters=128, kernel_size=4, strides = 1, activation=\"relu\", padding = \"valid\")(x)\n",
    "x = layers.GlobalMaxPool1D()(x)\n",
    "x = layers.Dense(64,activation=\"sigmoid\")(x)\n",
    "outputs = layers.Dense(1,activation=\"sigmoid\")(x)\n",
    "model_5_2 = tf.keras.Model(inputs,outputs, name=\"model_5_Conv1D\")\n",
    "\n",
    "#Compilation\n",
    "model_5_2.compile(loss=\"binary_crossentropy\",\n",
    "                  optimizer = tf.keras.optimizers.Adam(),\n",
    "                  metrics = [\"accuracy\"])\n",
    "\n",
    "model_5_2_history = model_5_2.fit(train_sen,train_lab,epochs=5,validation_data=(val_sen,val_lab),callbacks=[create_tensorboard_callback(SAVE_DIR,\"Conv1D\")])"
   ]
  },
  {
   "cell_type": "code",
   "execution_count": 86,
   "id": "ade80c10-a932-4703-91eb-911fe921012b",
   "metadata": {
    "tags": []
   },
   "outputs": [
    {
     "name": "stderr",
     "output_type": "stream",
     "text": [
      "WARNING:absl:`lr` is deprecated in Keras optimizer, please use `learning_rate` or use the legacy optimizer, e.g.,tf.keras.optimizers.legacy.Adam.\n"
     ]
    },
    {
     "name": "stdout",
     "output_type": "stream",
     "text": [
      "Saving TensorBoard log files to: model_logs/Conv1D/20231011-173019\n",
      "Epoch 1/5\n",
      "215/215 [==============================] - 10s 42ms/step - loss: 0.1024 - accuracy: 0.9591 - val_loss: 0.9935 - val_accuracy: 0.7480\n",
      "Epoch 2/5\n",
      "215/215 [==============================] - 9s 43ms/step - loss: 0.0454 - accuracy: 0.9803 - val_loss: 1.1128 - val_accuracy: 0.7467\n",
      "Epoch 3/5\n",
      "215/215 [==============================] - 9s 43ms/step - loss: 0.0342 - accuracy: 0.9841 - val_loss: 1.2774 - val_accuracy: 0.7336\n",
      "Epoch 4/5\n",
      "215/215 [==============================] - 11s 50ms/step - loss: 0.0365 - accuracy: 0.9825 - val_loss: 1.3252 - val_accuracy: 0.7454\n",
      "Epoch 5/5\n",
      "215/215 [==============================] - 9s 43ms/step - loss: 0.0339 - accuracy: 0.9844 - val_loss: 1.3913 - val_accuracy: 0.7454\n"
     ]
    }
   ],
   "source": [
    "from tensorflow.keras import layers\n",
    "input = layers.Input(shape=(1,),dtype=tf.string)\n",
    "x = text_vectorizer(inputs)\n",
    "x = embedding(x)\n",
    "x = layers.Conv1D(filters=512, kernel_size=6, strides = 2, activation=\"tanh\")(x)\n",
    "x = layers.Conv1D(filters=128, kernel_size=4, strides = 1, activation=\"relu\", padding = \"valid\")(x)\n",
    "x = layers.GlobalMaxPool1D()(x)\n",
    "x = layers.Dense(64,activation=\"sigmoid\")(x)\n",
    "outputs = layers.Dense(1,activation=\"sigmoid\")(x)\n",
    "model_5_3 = tf.keras.Model(inputs,outputs, name=\"model_5_Conv1D\")\n",
    "\n",
    "#Compilation\n",
    "model_5_3.compile(loss=\"binary_crossentropy\",\n",
    "                  optimizer = tf.keras.optimizers.Adam(lr=0.0001),\n",
    "                  metrics = [\"accuracy\"])\n",
    "\n",
    "model_5_3_history = model_5_3.fit(train_sen,train_lab,epochs=5,validation_data=(val_sen,val_lab),callbacks=[create_tensorboard_callback(SAVE_DIR,\"Conv1D\")])"
   ]
  },
  {
   "cell_type": "code",
   "execution_count": 87,
   "id": "d65bce52-4903-4e54-8d18-99f6dd240c89",
   "metadata": {
    "tags": []
   },
   "outputs": [
    {
     "name": "stderr",
     "output_type": "stream",
     "text": [
      "WARNING:absl:`lr` is deprecated in Keras optimizer, please use `learning_rate` or use the legacy optimizer, e.g.,tf.keras.optimizers.legacy.Adam.\n"
     ]
    },
    {
     "name": "stdout",
     "output_type": "stream",
     "text": [
      "Saving TensorBoard log files to: model_logs/Conv1D/20231011-173108\n",
      "Epoch 1/5\n",
      "215/215 [==============================] - 14s 57ms/step - loss: 0.1370 - accuracy: 0.9524 - val_loss: 0.8146 - val_accuracy: 0.7428\n",
      "Epoch 2/5\n",
      "215/215 [==============================] - 13s 62ms/step - loss: 0.0518 - accuracy: 0.9819 - val_loss: 0.9545 - val_accuracy: 0.7572\n",
      "Epoch 3/5\n",
      "215/215 [==============================] - 12s 57ms/step - loss: 0.0428 - accuracy: 0.9822 - val_loss: 1.1102 - val_accuracy: 0.7520\n",
      "Epoch 4/5\n",
      "215/215 [==============================] - 14s 64ms/step - loss: 0.0381 - accuracy: 0.9839 - val_loss: 1.1413 - val_accuracy: 0.7507\n",
      "Epoch 5/5\n",
      "215/215 [==============================] - 14s 64ms/step - loss: 0.0341 - accuracy: 0.9834 - val_loss: 1.2025 - val_accuracy: 0.7625\n"
     ]
    }
   ],
   "source": [
    "from tensorflow.keras import layers\n",
    "input = layers.Input(shape=(1,),dtype=tf.string)\n",
    "x = text_vectorizer(inputs)\n",
    "x = embedding(x)\n",
    "x = layers.Conv1D(filters=512, kernel_size=6, strides = 1, activation=\"relu\")(x)\n",
    "#x = layers.GlobalMaxPool1D()(x)\n",
    "x = layers.Conv1D(filters=64, kernel_size=4, strides = 1, activation=\"relu\",padding=\"valid\")(x)\n",
    "#x = layers.GlobalMaxPool1D()(x)\n",
    "x = layers.Conv1D(filters=64, kernel_size=4, strides = 1, activation=\"relu\", padding = \"valid\")(x)\n",
    "x = layers.GlobalMaxPool1D()(x)\n",
    "x = layers.Dense(128,activation=\"sigmoid\")(x)\n",
    "x = layers.Dense(32,activation=\"sigmoid\")(x)\n",
    "outputs = layers.Dense(1,activation=\"sigmoid\")(x)\n",
    "model_5_4 = tf.keras.Model(inputs,outputs, name=\"model_5_Conv1D\")\n",
    "\n",
    "#Compilation\n",
    "model_5_4.compile(loss=\"binary_crossentropy\",\n",
    "                  optimizer = tf.keras.optimizers.Adam(lr=0.01),\n",
    "                  metrics = [\"accuracy\"])\n",
    "\n",
    "model_5_4_history = model_5_4.fit(train_sen,train_lab,epochs=5,validation_data=(val_sen,val_lab),callbacks=[create_tensorboard_callback(SAVE_DIR,\"Conv1D\")])"
   ]
  },
  {
   "cell_type": "code",
   "execution_count": 88,
   "id": "8f27d9a9-d36e-4337-bb32-cadf89d3d21a",
   "metadata": {
    "tags": []
   },
   "outputs": [
    {
     "name": "stdout",
     "output_type": "stream",
     "text": [
      "Model: \"model_5_Conv1D\"\n",
      "_________________________________________________________________\n",
      " Layer (type)                Output Shape              Param #   \n",
      "=================================================================\n",
      " input_5 (InputLayer)        [(None, 1)]               0         \n",
      "                                                                 \n",
      " text_vectorization_1 (Text  (None, 15)                0         \n",
      " Vectorization)                                                  \n",
      "                                                                 \n",
      " embedding (Embedding)       (None, 15, 128)           1280000   \n",
      "                                                                 \n",
      " conv1d_7 (Conv1D)           (None, 10, 512)           393728    \n",
      "                                                                 \n",
      " conv1d_8 (Conv1D)           (None, 7, 64)             131136    \n",
      "                                                                 \n",
      " conv1d_9 (Conv1D)           (None, 4, 64)             16448     \n",
      "                                                                 \n",
      " global_max_pooling1d_6 (Gl  (None, 64)                0         \n",
      " obalMaxPooling1D)                                               \n",
      "                                                                 \n",
      " dense_12 (Dense)            (None, 128)               8320      \n",
      "                                                                 \n",
      " dense_13 (Dense)            (None, 32)                4128      \n",
      "                                                                 \n",
      " dense_14 (Dense)            (None, 1)                 33        \n",
      "                                                                 \n",
      "=================================================================\n",
      "Total params: 1833793 (7.00 MB)\n",
      "Trainable params: 1833793 (7.00 MB)\n",
      "Non-trainable params: 0 (0.00 Byte)\n",
      "_________________________________________________________________\n"
     ]
    }
   ],
   "source": [
    "model_5_4.summary()"
   ]
  },
  {
   "cell_type": "code",
   "execution_count": 89,
   "id": "2887416a-0c89-4181-aa54-afbff7d4414f",
   "metadata": {
    "tags": []
   },
   "outputs": [],
   "source": [
    "import tensorflow_hub as hub\n",
    "#embed = hub.load(\"https://tfhub.dev/google/universal-sentence-encoder/4\")"
   ]
  },
  {
   "cell_type": "code",
   "execution_count": 90,
   "id": "a86338a4-6c7b-41e9-bafe-ca5f7cf91f5a",
   "metadata": {
    "tags": []
   },
   "outputs": [],
   "source": [
    "#embed_samples = embed([sample,\"When you can the universal sentence encoder on a sentence, it turns it into numbers\"])\n",
    "#print(embed_samples[0][:50])"
   ]
  },
  {
   "cell_type": "code",
   "execution_count": 91,
   "id": "15239ae7-55e4-4759-a033-7557708a7cd8",
   "metadata": {
    "tags": []
   },
   "outputs": [],
   "source": [
    "#Model 6\n",
    "#Create keras layer\n",
    "\n",
    "sentence_encoder_layer = hub.KerasLayer(\"https://tfhub.dev/google/universal-sentence-encoder/4\",\n",
    "                                       input_shape=[],dtype = tf.string,\n",
    "                                       trainable=False,\n",
    "                                       name=\"USE\")"
   ]
  },
  {
   "cell_type": "code",
   "execution_count": 92,
   "id": "163978ce-8b14-4ee9-b400-aa133fd101b1",
   "metadata": {
    "tags": []
   },
   "outputs": [
    {
     "name": "stdout",
     "output_type": "stream",
     "text": [
      "Epoch 1/7\n",
      "215/215 [==============================] - 8s 8ms/step - loss: 0.6518 - accuracy: 0.7233 - val_loss: 0.6153 - val_accuracy: 0.7874\n",
      "Epoch 2/7\n",
      "215/215 [==============================] - 1s 6ms/step - loss: 0.5841 - accuracy: 0.7878 - val_loss: 0.5651 - val_accuracy: 0.7927\n",
      "Epoch 3/7\n",
      "215/215 [==============================] - 1s 6ms/step - loss: 0.5403 - accuracy: 0.7957 - val_loss: 0.5323 - val_accuracy: 0.7861\n",
      "Epoch 4/7\n",
      "215/215 [==============================] - 1s 6ms/step - loss: 0.5109 - accuracy: 0.8003 - val_loss: 0.5107 - val_accuracy: 0.7940\n",
      "Epoch 5/7\n",
      "215/215 [==============================] - 1s 6ms/step - loss: 0.4906 - accuracy: 0.8003 - val_loss: 0.4959 - val_accuracy: 0.7966\n",
      "Epoch 6/7\n",
      "215/215 [==============================] - 1s 6ms/step - loss: 0.4755 - accuracy: 0.8018 - val_loss: 0.4858 - val_accuracy: 0.7966\n",
      "Epoch 7/7\n",
      "215/215 [==============================] - 1s 6ms/step - loss: 0.4642 - accuracy: 0.8041 - val_loss: 0.4776 - val_accuracy: 0.8005\n"
     ]
    }
   ],
   "source": [
    "#create model\n",
    "model_6 = tf.keras.Sequential([\n",
    "    sentence_encoder_layer,\n",
    "    #layers.Dense(64,activation=\"relu\"),\n",
    "    layers.Dense(1,activation=\"sigmoid\")    \n",
    "], name=\"model_6_USE\")\n",
    "model_6.compile(loss=\"binary_crossentropy\",\n",
    "               optimizer = tf.keras.optimizers.Adam(),\n",
    "               metrics=[\"accuracy\"])\n",
    "history_6 = model_6.fit(train_sen,train_lab,epochs=7,validation_data = (val_sen,val_lab))"
   ]
  },
  {
   "cell_type": "code",
   "execution_count": 93,
   "id": "f40b46e5-1901-4856-921c-b78252d0b600",
   "metadata": {
    "tags": []
   },
   "outputs": [
    {
     "name": "stdout",
     "output_type": "stream",
     "text": [
      "Epoch 1/7\n",
      "215/215 [==============================] - 3s 9ms/step - loss: 0.4691 - accuracy: 0.7952 - val_loss: 0.4304 - val_accuracy: 0.8163\n",
      "Epoch 2/7\n",
      "215/215 [==============================] - 1s 6ms/step - loss: 0.3918 - accuracy: 0.8282 - val_loss: 0.4293 - val_accuracy: 0.8123\n",
      "Epoch 3/7\n",
      "215/215 [==============================] - 1s 6ms/step - loss: 0.3689 - accuracy: 0.8429 - val_loss: 0.4330 - val_accuracy: 0.8097\n",
      "Epoch 4/7\n",
      "215/215 [==============================] - 1s 6ms/step - loss: 0.3360 - accuracy: 0.8577 - val_loss: 0.4204 - val_accuracy: 0.8202\n",
      "Epoch 5/7\n",
      "215/215 [==============================] - 1s 6ms/step - loss: 0.2946 - accuracy: 0.8796 - val_loss: 0.4549 - val_accuracy: 0.8215\n",
      "Epoch 6/7\n",
      "215/215 [==============================] - 1s 6ms/step - loss: 0.2454 - accuracy: 0.9050 - val_loss: 0.4604 - val_accuracy: 0.8136\n",
      "Epoch 7/7\n",
      "215/215 [==============================] - 1s 6ms/step - loss: 0.1912 - accuracy: 0.9327 - val_loss: 0.5187 - val_accuracy: 0.8084\n"
     ]
    }
   ],
   "source": [
    "#create model\n",
    "model_6_1 = tf.keras.Sequential([\n",
    "    sentence_encoder_layer,\n",
    "    layers.Dense(128,activation=\"relu\"),\n",
    "    layers.Dense(64,activation=\"relu\"),\n",
    "    layers.Dense(1,activation=\"sigmoid\")    \n",
    "], name=\"model_6_USE\")\n",
    "model_6_1.compile(loss=\"binary_crossentropy\",\n",
    "               optimizer = tf.keras.optimizers.Adam(),\n",
    "               metrics=[\"accuracy\"])\n",
    "history_6_1 = model_6_1.fit(train_sen,train_lab,epochs=7,validation_data = (val_sen,val_lab))"
   ]
  },
  {
   "cell_type": "code",
   "execution_count": 94,
   "id": "09aa15f3-6e70-4e37-b1ed-d40b4ddfc5bf",
   "metadata": {
    "tags": []
   },
   "outputs": [
    {
     "name": "stdout",
     "output_type": "stream",
     "text": [
      "Model: \"model_6_USE\"\n",
      "_________________________________________________________________\n",
      " Layer (type)                Output Shape              Param #   \n",
      "=================================================================\n",
      " USE (KerasLayer)            (None, 512)               256797824 \n",
      "                                                                 \n",
      " dense_16 (Dense)            (None, 128)               65664     \n",
      "                                                                 \n",
      " dense_17 (Dense)            (None, 64)                8256      \n",
      "                                                                 \n",
      " dense_18 (Dense)            (None, 1)                 65        \n",
      "                                                                 \n",
      "=================================================================\n",
      "Total params: 256871809 (979.89 MB)\n",
      "Trainable params: 73985 (289.00 KB)\n",
      "Non-trainable params: 256797824 (979.61 MB)\n",
      "_________________________________________________________________\n"
     ]
    }
   ],
   "source": [
    "model_6_1.summary()"
   ]
  },
  {
   "cell_type": "code",
   "execution_count": 95,
   "id": "58456284-ccc2-4553-bfae-a93b0a8a6bba",
   "metadata": {
    "tags": []
   },
   "outputs": [
    {
     "name": "stdout",
     "output_type": "stream",
     "text": [
      "Model: \"model_6_USE\"\n",
      "_________________________________________________________________\n",
      " Layer (type)                Output Shape              Param #   \n",
      "=================================================================\n",
      " USE (KerasLayer)            (None, 512)               256797824 \n",
      "                                                                 \n",
      " dense_15 (Dense)            (None, 1)                 513       \n",
      "                                                                 \n",
      "=================================================================\n",
      "Total params: 256798337 (979.61 MB)\n",
      "Trainable params: 513 (2.00 KB)\n",
      "Non-trainable params: 256797824 (979.61 MB)\n",
      "_________________________________________________________________\n"
     ]
    }
   ],
   "source": [
    "model_6.summary()"
   ]
  },
  {
   "cell_type": "code",
   "execution_count": 96,
   "id": "7b8d6504-d810-4128-9137-171375c7b5b5",
   "metadata": {
    "tags": []
   },
   "outputs": [
    {
     "name": "stderr",
     "output_type": "stream",
     "text": [
      "WARNING:absl:`lr` is deprecated in Keras optimizer, please use `learning_rate` or use the legacy optimizer, e.g.,tf.keras.optimizers.legacy.Adam.\n"
     ]
    },
    {
     "name": "stdout",
     "output_type": "stream",
     "text": [
      "Epoch 1/6\n",
      "215/215 [==============================] - 4s 12ms/step - loss: 0.4498 - accuracy: 0.8000 - val_loss: 0.4357 - val_accuracy: 0.8058\n",
      "Epoch 2/6\n",
      "215/215 [==============================] - 2s 10ms/step - loss: 0.3779 - accuracy: 0.8390 - val_loss: 0.4368 - val_accuracy: 0.8176\n",
      "Epoch 3/6\n",
      "215/215 [==============================] - 2s 10ms/step - loss: 0.3329 - accuracy: 0.8621 - val_loss: 0.4389 - val_accuracy: 0.8110\n",
      "Epoch 4/6\n",
      "215/215 [==============================] - 2s 9ms/step - loss: 0.2694 - accuracy: 0.8908 - val_loss: 0.4466 - val_accuracy: 0.8215\n",
      "Epoch 5/6\n",
      "215/215 [==============================] - 2s 9ms/step - loss: 0.1960 - accuracy: 0.9291 - val_loss: 0.5277 - val_accuracy: 0.8110\n",
      "Epoch 6/6\n",
      "215/215 [==============================] - 2s 9ms/step - loss: 0.1425 - accuracy: 0.9526 - val_loss: 0.6169 - val_accuracy: 0.8018\n"
     ]
    }
   ],
   "source": [
    "#create model\n",
    "model_6_2 = tf.keras.Sequential([\n",
    "    sentence_encoder_layer,\n",
    "    layers.Dense(512,activation=\"relu\"),\n",
    "    layers.Dense(64,activation=\"relu\"),\n",
    "    layers.Dense(1,activation=\"sigmoid\")    \n",
    "], name=\"model_6_USE\")\n",
    "model_6_2.compile(loss=\"binary_crossentropy\",\n",
    "               optimizer = tf.keras.optimizers.Adam(lr=0.1),\n",
    "               metrics=[\"accuracy\"])\n",
    "history_6_2 = model_6_2.fit(train_sen,train_lab,epochs=6,validation_data = (val_sen,val_lab))"
   ]
  },
  {
   "cell_type": "code",
   "execution_count": 97,
   "id": "d5c07708-558d-4c58-800a-d77024e3790b",
   "metadata": {
    "tags": []
   },
   "outputs": [
    {
     "name": "stdout",
     "output_type": "stream",
     "text": [
      "24/24 [==============================] - 0s 6ms/step\n"
     ]
    }
   ],
   "source": [
    "model_6_pred=tf.squeeze(tf.round(model_6.predict(val_sen)))"
   ]
  },
  {
   "cell_type": "code",
   "execution_count": 98,
   "id": "261364a5-ecf3-4c28-a321-86efaf7c1bf2",
   "metadata": {
    "tags": []
   },
   "outputs": [
    {
     "data": {
      "text/plain": [
       "{'accuracy': 80.0524934383202,\n",
       " 'precision': 0.8008876082231801,\n",
       " 'recall': 0.800524934383202,\n",
       " 'f1': 0.7996067618975016}"
      ]
     },
     "execution_count": 98,
     "metadata": {},
     "output_type": "execute_result"
    }
   ],
   "source": [
    "model_6_results = calculate_resuts(val_lab,model_6_pred)\n",
    "model_6_results"
   ]
  },
  {
   "cell_type": "code",
   "execution_count": 99,
   "id": "671ce5ac-14fe-48df-a293-b693db7a53d3",
   "metadata": {
    "tags": []
   },
   "outputs": [
    {
     "name": "stdout",
     "output_type": "stream",
     "text": [
      "24/24 [==============================] - 0s 6ms/step - loss: 0.5187 - accuracy: 0.8084\n"
     ]
    },
    {
     "data": {
      "text/plain": [
       "[0.5187485814094543, 0.808398962020874]"
      ]
     },
     "execution_count": 99,
     "metadata": {},
     "output_type": "execute_result"
    }
   ],
   "source": [
    "#model_6_1_results = calculate_resuts(val_lab,tf.squeeze(tf.round(model_6_1.predict(val_sen))))\n",
    "model_6_1.evaluate(val_sen,val_lab,)"
   ]
  },
  {
   "cell_type": "code",
   "execution_count": 100,
   "id": "ec9341d0-6215-4776-b9e5-b47fce7fad7f",
   "metadata": {
    "tags": []
   },
   "outputs": [
    {
     "data": {
      "text/html": [
       "<div>\n",
       "<style scoped>\n",
       "    .dataframe tbody tr th:only-of-type {\n",
       "        vertical-align: middle;\n",
       "    }\n",
       "\n",
       "    .dataframe tbody tr th {\n",
       "        vertical-align: top;\n",
       "    }\n",
       "\n",
       "    .dataframe thead th {\n",
       "        text-align: right;\n",
       "    }\n",
       "</style>\n",
       "<table border=\"1\" class=\"dataframe\">\n",
       "  <thead>\n",
       "    <tr style=\"text-align: right;\">\n",
       "      <th></th>\n",
       "      <th>text</th>\n",
       "      <th>target</th>\n",
       "    </tr>\n",
       "  </thead>\n",
       "  <tbody>\n",
       "    <tr>\n",
       "      <th>4955</th>\n",
       "      <td>DFR EP016 Monthly Meltdown - On Dnbheaven 2015...</td>\n",
       "      <td>0</td>\n",
       "    </tr>\n",
       "    <tr>\n",
       "      <th>584</th>\n",
       "      <td>FedEx no longer to transport bioterror germs i...</td>\n",
       "      <td>0</td>\n",
       "    </tr>\n",
       "    <tr>\n",
       "      <th>7411</th>\n",
       "      <td>Gunmen kill four in El Salvador bus attack: Su...</td>\n",
       "      <td>1</td>\n",
       "    </tr>\n",
       "    <tr>\n",
       "      <th>5950</th>\n",
       "      <td>@camilacabello97 Internally and externally scr...</td>\n",
       "      <td>1</td>\n",
       "    </tr>\n",
       "    <tr>\n",
       "      <th>5541</th>\n",
       "      <td>Radiation emergency #preparedness starts with ...</td>\n",
       "      <td>1</td>\n",
       "    </tr>\n",
       "  </tbody>\n",
       "</table>\n",
       "</div>"
      ],
      "text/plain": [
       "                                                   text  target\n",
       "4955  DFR EP016 Monthly Meltdown - On Dnbheaven 2015...       0\n",
       "584   FedEx no longer to transport bioterror germs i...       0\n",
       "7411  Gunmen kill four in El Salvador bus attack: Su...       1\n",
       "5950  @camilacabello97 Internally and externally scr...       1\n",
       "5541  Radiation emergency #preparedness starts with ...       1"
      ]
     },
     "execution_count": 100,
     "metadata": {},
     "output_type": "execute_result"
    }
   ],
   "source": [
    "#MODEL_7\n",
    "train_10 = train_df_shuffled[[\"text\",\"target\"]].sample(frac=0.1,random_state=42)\n",
    "train_10.head()"
   ]
  },
  {
   "cell_type": "code",
   "execution_count": 101,
   "id": "1f657533-17c8-4be3-92c1-e2f77e370953",
   "metadata": {
    "tags": []
   },
   "outputs": [
    {
     "data": {
      "text/html": [
       "<div>\n",
       "<style scoped>\n",
       "    .dataframe tbody tr th:only-of-type {\n",
       "        vertical-align: middle;\n",
       "    }\n",
       "\n",
       "    .dataframe tbody tr th {\n",
       "        vertical-align: top;\n",
       "    }\n",
       "\n",
       "    .dataframe thead th {\n",
       "        text-align: right;\n",
       "    }\n",
       "</style>\n",
       "<table border=\"1\" class=\"dataframe\">\n",
       "  <thead>\n",
       "    <tr style=\"text-align: right;\">\n",
       "      <th></th>\n",
       "      <th>text</th>\n",
       "      <th>target</th>\n",
       "    </tr>\n",
       "  </thead>\n",
       "  <tbody>\n",
       "    <tr>\n",
       "      <th>4955</th>\n",
       "      <td>DFR EP016 Monthly Meltdown - On Dnbheaven 2015...</td>\n",
       "      <td>0</td>\n",
       "    </tr>\n",
       "    <tr>\n",
       "      <th>584</th>\n",
       "      <td>FedEx no longer to transport bioterror germs i...</td>\n",
       "      <td>0</td>\n",
       "    </tr>\n",
       "    <tr>\n",
       "      <th>7411</th>\n",
       "      <td>Gunmen kill four in El Salvador bus attack: Su...</td>\n",
       "      <td>1</td>\n",
       "    </tr>\n",
       "    <tr>\n",
       "      <th>5950</th>\n",
       "      <td>@camilacabello97 Internally and externally scr...</td>\n",
       "      <td>1</td>\n",
       "    </tr>\n",
       "    <tr>\n",
       "      <th>5541</th>\n",
       "      <td>Radiation emergency #preparedness starts with ...</td>\n",
       "      <td>1</td>\n",
       "    </tr>\n",
       "    <tr>\n",
       "      <th>...</th>\n",
       "      <td>...</td>\n",
       "      <td>...</td>\n",
       "    </tr>\n",
       "    <tr>\n",
       "      <th>7593</th>\n",
       "      <td>I just heard a really loud bang and everyone i...</td>\n",
       "      <td>0</td>\n",
       "    </tr>\n",
       "    <tr>\n",
       "      <th>2638</th>\n",
       "      <td>That's the ultimate road to destruction</td>\n",
       "      <td>0</td>\n",
       "    </tr>\n",
       "    <tr>\n",
       "      <th>859</th>\n",
       "      <td>@SetZorah dad why dont you claim me that mean ...</td>\n",
       "      <td>0</td>\n",
       "    </tr>\n",
       "    <tr>\n",
       "      <th>578</th>\n",
       "      <td>FedEx will no longer transport bioterror patho...</td>\n",
       "      <td>0</td>\n",
       "    </tr>\n",
       "    <tr>\n",
       "      <th>7445</th>\n",
       "      <td>Crack in the path where I wiped out this morni...</td>\n",
       "      <td>0</td>\n",
       "    </tr>\n",
       "  </tbody>\n",
       "</table>\n",
       "<p>761 rows × 2 columns</p>\n",
       "</div>"
      ],
      "text/plain": [
       "                                                   text  target\n",
       "4955  DFR EP016 Monthly Meltdown - On Dnbheaven 2015...       0\n",
       "584   FedEx no longer to transport bioterror germs i...       0\n",
       "7411  Gunmen kill four in El Salvador bus attack: Su...       1\n",
       "5950  @camilacabello97 Internally and externally scr...       1\n",
       "5541  Radiation emergency #preparedness starts with ...       1\n",
       "...                                                 ...     ...\n",
       "7593  I just heard a really loud bang and everyone i...       0\n",
       "2638            That's the ultimate road to destruction       0\n",
       "859   @SetZorah dad why dont you claim me that mean ...       0\n",
       "578   FedEx will no longer transport bioterror patho...       0\n",
       "7445  Crack in the path where I wiped out this morni...       0\n",
       "\n",
       "[761 rows x 2 columns]"
      ]
     },
     "execution_count": 101,
     "metadata": {},
     "output_type": "execute_result"
    }
   ],
   "source": [
    "train_10"
   ]
  },
  {
   "cell_type": "code",
   "execution_count": 102,
   "id": "4a76e7a4-90ea-44d3-8391-49010002634c",
   "metadata": {
    "tags": []
   },
   "outputs": [],
   "source": [
    "train_10_text = train_10[\"text\"].to_list()"
   ]
  },
  {
   "cell_type": "code",
   "execution_count": 103,
   "id": "090bf8c3-c46b-4f4e-b04d-7ab7b9fc9572",
   "metadata": {
    "tags": []
   },
   "outputs": [
    {
     "data": {
      "text/plain": [
       "['DFR EP016 Monthly Meltdown - On Dnbheaven 2015.08.06 http://t.co/EjKRf8N8A8 #Drum and Bass #heavy #nasty http://t.co/SPHWE6wFI5',\n",
       " 'FedEx no longer to transport bioterror germs in wake of anthrax lab mishaps http://t.co/qZQc8WWwcN via @usatoday',\n",
       " 'Gunmen kill four in El Salvador bus attack: Suspected Salvadoran gang members killed four people and wounded s... http://t.co/CNtwB6ScZj',\n",
       " '@camilacabello97 Internally and externally screaming',\n",
       " 'Radiation emergency #preparedness starts with knowing to: get inside stay inside and stay tuned http://t.co/RFFPqBAz2F via @CDCgov']"
      ]
     },
     "execution_count": 103,
     "metadata": {},
     "output_type": "execute_result"
    }
   ],
   "source": [
    "train_10_text[:5]"
   ]
  },
  {
   "cell_type": "code",
   "execution_count": 104,
   "id": "fae322d8-2198-459c-856b-569eb23ade9a",
   "metadata": {
    "tags": []
   },
   "outputs": [],
   "source": [
    "train_10_target = train_10[\"target\"].to_list()"
   ]
  },
  {
   "cell_type": "code",
   "execution_count": 105,
   "id": "72efc6ec-f8a9-414e-9a8a-e5fe85b4b24d",
   "metadata": {
    "tags": []
   },
   "outputs": [
    {
     "data": {
      "text/plain": [
       "[0, 0, 1, 1, 1]"
      ]
     },
     "execution_count": 105,
     "metadata": {},
     "output_type": "execute_result"
    }
   ],
   "source": [
    "train_10_target[:5]"
   ]
  },
  {
   "cell_type": "code",
   "execution_count": 106,
   "id": "986a8117-9849-476a-be47-444147f08d16",
   "metadata": {
    "tags": []
   },
   "outputs": [
    {
     "data": {
      "text/plain": [
       "0    413\n",
       "1    348\n",
       "Name: target, dtype: int64"
      ]
     },
     "execution_count": 106,
     "metadata": {},
     "output_type": "execute_result"
    }
   ],
   "source": [
    "train_10[\"target\"].value_counts()"
   ]
  },
  {
   "cell_type": "code",
   "execution_count": 107,
   "id": "181d90df-1a1c-41b2-8744-5031b07d8ff5",
   "metadata": {
    "tags": []
   },
   "outputs": [
    {
     "data": {
      "text/plain": [
       "0    4342\n",
       "1    3271\n",
       "Name: target, dtype: int64"
      ]
     },
     "execution_count": 107,
     "metadata": {},
     "output_type": "execute_result"
    }
   ],
   "source": [
    "train_df_shuffled[\"target\"].value_counts()"
   ]
  },
  {
   "cell_type": "code",
   "execution_count": 108,
   "id": "b4934638-1e90-4264-8f85-fe8c61c76443",
   "metadata": {
    "tags": []
   },
   "outputs": [
    {
     "name": "stderr",
     "output_type": "stream",
     "text": [
      "WARNING:absl:`lr` is deprecated in Keras optimizer, please use `learning_rate` or use the legacy optimizer, e.g.,tf.keras.optimizers.legacy.Adam.\n"
     ]
    },
    {
     "name": "stdout",
     "output_type": "stream",
     "text": [
      "Epoch 1/6\n",
      "24/24 [==============================] - 2s 38ms/step - loss: 0.6150 - accuracy: 0.7346 - val_loss: 0.4666 - val_accuracy: 0.8110\n",
      "Epoch 2/6\n",
      "24/24 [==============================] - 0s 17ms/step - loss: 0.4209 - accuracy: 0.8160 - val_loss: 0.3351 - val_accuracy: 0.8675\n",
      "Epoch 3/6\n",
      "24/24 [==============================] - 0s 17ms/step - loss: 0.3293 - accuracy: 0.8699 - val_loss: 0.2637 - val_accuracy: 0.8976\n",
      "Epoch 4/6\n",
      "24/24 [==============================] - 0s 16ms/step - loss: 0.2532 - accuracy: 0.9054 - val_loss: 0.1983 - val_accuracy: 0.9436\n",
      "Epoch 5/6\n",
      "24/24 [==============================] - 0s 18ms/step - loss: 0.1890 - accuracy: 0.9409 - val_loss: 0.1263 - val_accuracy: 0.9672\n",
      "Epoch 6/6\n",
      "24/24 [==============================] - 0s 16ms/step - loss: 0.1192 - accuracy: 0.9698 - val_loss: 0.0740 - val_accuracy: 0.9829\n"
     ]
    }
   ],
   "source": [
    "#create model\n",
    "model_7_1 = tf.keras.Sequential([\n",
    "    sentence_encoder_layer,\n",
    "    layers.Dense(512,activation=\"relu\"),\n",
    "    layers.Dense(64,activation=\"relu\"),\n",
    "    layers.Dense(1,activation=\"sigmoid\")    \n",
    "], name=\"model_6_USE\")\n",
    "model_7_1.compile(loss=\"binary_crossentropy\",\n",
    "               optimizer = tf.keras.optimizers.Adam(lr=0.1),\n",
    "               metrics=[\"accuracy\"])\n",
    "history_7_1 = model_7_1.fit(train_10_text,train_10_target,epochs=6,validation_data = (val_sen,val_lab))"
   ]
  },
  {
   "cell_type": "code",
   "execution_count": 109,
   "id": "32094cfc-a10e-4676-a446-e829ddff5d66",
   "metadata": {
    "tags": []
   },
   "outputs": [
    {
     "name": "stdout",
     "output_type": "stream",
     "text": [
      "24/24 [==============================] - 1s 7ms/step\n"
     ]
    }
   ],
   "source": [
    "model_7_1_results = calculate_resuts(val_lab,tf.squeeze(tf.round(model_7_1.predict(val_sen))))"
   ]
  },
  {
   "cell_type": "code",
   "execution_count": 110,
   "id": "fefea96c-e4f1-4a8f-a2d9-f4a47ab5ae7a",
   "metadata": {
    "tags": []
   },
   "outputs": [
    {
     "data": {
      "text/plain": [
       "{'accuracy': 98.29396325459318,\n",
       " 'precision': 0.9830040545014674,\n",
       " 'recall': 0.9829396325459318,\n",
       " 'f1': 0.9829291106576752}"
      ]
     },
     "execution_count": 110,
     "metadata": {},
     "output_type": "execute_result"
    }
   ],
   "source": [
    "model_7_1_results"
   ]
  },
  {
   "cell_type": "code",
   "execution_count": 111,
   "id": "65e2c352-1ea0-4411-bec2-e98d97b8adcb",
   "metadata": {
    "tags": []
   },
   "outputs": [
    {
     "name": "stdout",
     "output_type": "stream",
     "text": [
      "Epoch 1/5\n",
      "24/24 [==============================] - 7s 59ms/step - loss: 0.6637 - accuracy: 0.6873 - val_loss: 0.5949 - val_accuracy: 0.8228\n",
      "Epoch 2/5\n",
      "24/24 [==============================] - 0s 13ms/step - loss: 0.5231 - accuracy: 0.8095 - val_loss: 0.4358 - val_accuracy: 0.8241\n",
      "Epoch 3/5\n",
      "24/24 [==============================] - 0s 15ms/step - loss: 0.4090 - accuracy: 0.8265 - val_loss: 0.3537 - val_accuracy: 0.8517\n",
      "Epoch 4/5\n",
      "24/24 [==============================] - 0s 12ms/step - loss: 0.3481 - accuracy: 0.8647 - val_loss: 0.3062 - val_accuracy: 0.8727\n",
      "Epoch 5/5\n",
      "24/24 [==============================] - 0s 12ms/step - loss: 0.2971 - accuracy: 0.8844 - val_loss: 0.2511 - val_accuracy: 0.9121\n"
     ]
    },
    {
     "data": {
      "text/plain": [
       "<keras.src.callbacks.History at 0x11f16047b10>"
      ]
     },
     "execution_count": 111,
     "metadata": {},
     "output_type": "execute_result"
    }
   ],
   "source": [
    "#model7\n",
    "#recreating model 6\n",
    "model_7 = tf.keras.models.clone_model(model_6_1)\n",
    "\n",
    "model_7.compile(loss=\"binary_crossentropy\",\n",
    "               optimizer = tf.keras.optimizers.Adam(),\n",
    "               metrics = [\"accuracy\"])\n",
    "\n",
    "model_7.fit(train_10_text,train_10_target, epochs=5, validation_data=(val_sen,val_lab))"
   ]
  },
  {
   "cell_type": "code",
   "execution_count": 112,
   "id": "1b4f4b29-863e-47ae-a8bb-5f87f69c11b4",
   "metadata": {
    "tags": []
   },
   "outputs": [
    {
     "name": "stdout",
     "output_type": "stream",
     "text": [
      "Epoch 1/5\n",
      "24/24 [==============================] - 2s 40ms/step - loss: 0.6696 - accuracy: 0.6899 - val_loss: 0.6293 - val_accuracy: 0.7835\n",
      "Epoch 2/5\n",
      "24/24 [==============================] - 0s 14ms/step - loss: 0.5956 - accuracy: 0.7740 - val_loss: 0.5483 - val_accuracy: 0.7861\n",
      "Epoch 3/5\n",
      "24/24 [==============================] - 0s 13ms/step - loss: 0.5184 - accuracy: 0.7871 - val_loss: 0.4814 - val_accuracy: 0.8084\n",
      "Epoch 4/5\n",
      "24/24 [==============================] - 0s 13ms/step - loss: 0.4646 - accuracy: 0.8029 - val_loss: 0.4373 - val_accuracy: 0.8163\n",
      "Epoch 5/5\n",
      "24/24 [==============================] - 0s 13ms/step - loss: 0.4285 - accuracy: 0.8134 - val_loss: 0.4081 - val_accuracy: 0.8202\n"
     ]
    }
   ],
   "source": [
    "#model7\n",
    "#recreating model 6\n",
    "model_7_2 = tf.keras.Sequential([\n",
    "    sentence_encoder_layer,\n",
    "    #layers.Dense(128,activation=\"relu\"),\n",
    "    layers.Dense(64,activation=\"relu\"),\n",
    "    layers.Dense(1,activation=\"sigmoid\")    \n",
    "], name=\"model_6_USE\")\n",
    "\n",
    "model_7_2.compile(loss=\"binary_crossentropy\",\n",
    "               optimizer = tf.keras.optimizers.Adam(),\n",
    "               metrics = [\"accuracy\"])\n",
    "\n",
    "history_7 = model_7_2.fit(train_10_text,train_10_target, epochs=5, validation_data=(val_sen,val_lab))"
   ]
  },
  {
   "cell_type": "code",
   "execution_count": 113,
   "id": "a57c5818-0dab-4d8e-8510-d495d56c4a78",
   "metadata": {
    "tags": []
   },
   "outputs": [
    {
     "name": "stdout",
     "output_type": "stream",
     "text": [
      "24/24 [==============================] - 1s 7ms/step\n"
     ]
    }
   ],
   "source": [
    "model_7_2_results = calculate_resuts(val_lab,tf.squeeze(tf.round(model_7_2.predict(val_sen))))"
   ]
  },
  {
   "cell_type": "code",
   "execution_count": 114,
   "id": "cc745fde-719b-408c-9e62-6725dbac977b",
   "metadata": {
    "tags": []
   },
   "outputs": [
    {
     "name": "stdout",
     "output_type": "stream",
     "text": [
      "Epoch 1/5\n",
      "24/24 [==============================] - 2s 33ms/step - loss: 0.6914 - accuracy: 0.5440 - val_loss: 0.6841 - val_accuracy: 0.6234\n",
      "Epoch 2/5\n",
      "24/24 [==============================] - 0s 12ms/step - loss: 0.6789 - accuracy: 0.6662 - val_loss: 0.6723 - val_accuracy: 0.7257\n",
      "Epoch 3/5\n",
      "24/24 [==============================] - 0s 12ms/step - loss: 0.6673 - accuracy: 0.7398 - val_loss: 0.6611 - val_accuracy: 0.7612\n",
      "Epoch 4/5\n",
      "24/24 [==============================] - 0s 12ms/step - loss: 0.6563 - accuracy: 0.7648 - val_loss: 0.6504 - val_accuracy: 0.7743\n",
      "Epoch 5/5\n",
      "24/24 [==============================] - 0s 15ms/step - loss: 0.6458 - accuracy: 0.7832 - val_loss: 0.6403 - val_accuracy: 0.7848\n"
     ]
    },
    {
     "data": {
      "text/plain": [
       "<keras.src.callbacks.History at 0x11f0e9232d0>"
      ]
     },
     "execution_count": 114,
     "metadata": {},
     "output_type": "execute_result"
    }
   ],
   "source": [
    "#model7\n",
    "#recreating model 6\n",
    "model_7_3 = tf.keras.Sequential([\n",
    "    sentence_encoder_layer,\n",
    "    #layers.Dense(128,activation=\"relu\"),\n",
    "    #layers.Dense(64,activation=\"relu\"),\n",
    "    layers.Dense(1,activation=\"sigmoid\")    \n",
    "], name=\"model_6_USE\")\n",
    "\n",
    "model_7_3.compile(loss=\"binary_crossentropy\",\n",
    "               optimizer = tf.keras.optimizers.Adam(),\n",
    "               metrics = [\"accuracy\"])\n",
    "\n",
    "model_7_3.fit(train_10_text,train_10_target, epochs=5, validation_data=(val_sen,val_lab))"
   ]
  },
  {
   "cell_type": "code",
   "execution_count": 115,
   "id": "8286595f-5f9c-4cce-83ed-68bcb6cf3430",
   "metadata": {
    "tags": []
   },
   "outputs": [
    {
     "data": {
      "text/plain": [
       "{'accuracy': 82.02099737532808,\n",
       " 'precision': 0.820151643009001,\n",
       " 'recall': 0.8202099737532809,\n",
       " 'f1': 0.819767827319639}"
      ]
     },
     "execution_count": 115,
     "metadata": {},
     "output_type": "execute_result"
    }
   ],
   "source": [
    "model_7_2_results"
   ]
  },
  {
   "cell_type": "code",
   "execution_count": 116,
   "id": "a40764ab-f1c9-4079-8eae-c17ed2f024d9",
   "metadata": {
    "tags": []
   },
   "outputs": [],
   "source": [
    "train_sen_10 = train_sen[:int(len(train_sen)/10)]"
   ]
  },
  {
   "cell_type": "code",
   "execution_count": 117,
   "id": "da9577be-ac76-4fc2-8635-d673604de3d7",
   "metadata": {
    "tags": []
   },
   "outputs": [
    {
     "data": {
      "text/plain": [
       "685"
      ]
     },
     "execution_count": 117,
     "metadata": {},
     "output_type": "execute_result"
    }
   ],
   "source": [
    "len(train_sen_10)"
   ]
  },
  {
   "cell_type": "code",
   "execution_count": 118,
   "id": "bd7dd47c-f30a-4408-ba95-13a0ebd2e55e",
   "metadata": {
    "tags": []
   },
   "outputs": [],
   "source": [
    "train_lab_10 = train_lab[:int(len(train_sen)/10)]"
   ]
  },
  {
   "cell_type": "code",
   "execution_count": 119,
   "id": "93fffad5-b69d-4e27-87ed-b83fb003a516",
   "metadata": {
    "tags": []
   },
   "outputs": [
    {
     "data": {
      "text/plain": [
       "685"
      ]
     },
     "execution_count": 119,
     "metadata": {},
     "output_type": "execute_result"
    }
   ],
   "source": [
    "len(train_lab_10)"
   ]
  },
  {
   "cell_type": "code",
   "execution_count": 120,
   "id": "e0143972-2038-44db-b58b-ecdfcab73409",
   "metadata": {
    "tags": []
   },
   "outputs": [
    {
     "data": {
      "text/plain": [
       "0    406\n",
       "1    279\n",
       "dtype: int64"
      ]
     },
     "execution_count": 120,
     "metadata": {},
     "output_type": "execute_result"
    }
   ],
   "source": [
    "pd.Series(train_lab_10).value_counts()"
   ]
  },
  {
   "cell_type": "code",
   "execution_count": 121,
   "id": "6842797c-173e-4d1e-a1b4-03f6185b9808",
   "metadata": {
    "tags": []
   },
   "outputs": [
    {
     "name": "stderr",
     "output_type": "stream",
     "text": [
      "WARNING:absl:`lr` is deprecated in Keras optimizer, please use `learning_rate` or use the legacy optimizer, e.g.,tf.keras.optimizers.legacy.Adam.\n"
     ]
    },
    {
     "name": "stdout",
     "output_type": "stream",
     "text": [
      "Epoch 1/5\n",
      "22/22 [==============================] - 21s 180ms/step - loss: 0.6114 - accuracy: 0.7635 - val_loss: 0.5248 - val_accuracy: 0.7690\n",
      "Epoch 2/5\n",
      "22/22 [==============================] - 1s 24ms/step - loss: 0.4090 - accuracy: 0.8190 - val_loss: 0.5183 - val_accuracy: 0.7717\n",
      "Epoch 3/5\n",
      "22/22 [==============================] - 1s 37ms/step - loss: 0.3197 - accuracy: 0.8774 - val_loss: 0.5098 - val_accuracy: 0.7730\n",
      "Epoch 4/5\n",
      "22/22 [==============================] - 0s 18ms/step - loss: 0.2435 - accuracy: 0.9226 - val_loss: 0.5403 - val_accuracy: 0.7690\n",
      "Epoch 5/5\n",
      "22/22 [==============================] - 0s 16ms/step - loss: 0.1837 - accuracy: 0.9489 - val_loss: 0.5935 - val_accuracy: 0.7598\n"
     ]
    }
   ],
   "source": [
    "#model8\n",
    "#recreating model 7 with corrected data\n",
    "model_8 = tf.keras.models.clone_model(model_7_1)\n",
    "\n",
    "model_8.compile(loss=\"binary_crossentropy\",\n",
    "               optimizer = tf.keras.optimizers.Adam(lr=0.01),\n",
    "               metrics = [\"accuracy\"])\n",
    "\n",
    "history_8 = model_8.fit(train_sen_10,train_lab_10, epochs=5, validation_data=(val_sen,val_lab))"
   ]
  },
  {
   "cell_type": "code",
   "execution_count": 122,
   "id": "0426f2c6-ffbc-48ac-b8c8-8ee87167d4a8",
   "metadata": {
    "tags": []
   },
   "outputs": [
    {
     "name": "stdout",
     "output_type": "stream",
     "text": [
      "24/24 [==============================] - 1s 15ms/step\n"
     ]
    }
   ],
   "source": [
    "model_8_results = calculate_resuts(val_lab,tf.squeeze(tf.round(model_8.predict(val_sen))))"
   ]
  },
  {
   "cell_type": "code",
   "execution_count": 123,
   "id": "fda21165-0a4d-487d-9995-bbf84137bd5e",
   "metadata": {
    "tags": []
   },
   "outputs": [
    {
     "data": {
      "text/html": [
       "<div>\n",
       "<style scoped>\n",
       "    .dataframe tbody tr th:only-of-type {\n",
       "        vertical-align: middle;\n",
       "    }\n",
       "\n",
       "    .dataframe tbody tr th {\n",
       "        vertical-align: top;\n",
       "    }\n",
       "\n",
       "    .dataframe thead th {\n",
       "        text-align: right;\n",
       "    }\n",
       "</style>\n",
       "<table border=\"1\" class=\"dataframe\">\n",
       "  <thead>\n",
       "    <tr style=\"text-align: right;\">\n",
       "      <th></th>\n",
       "      <th>accuracy</th>\n",
       "      <th>precision</th>\n",
       "      <th>recall</th>\n",
       "      <th>f1</th>\n",
       "    </tr>\n",
       "  </thead>\n",
       "  <tbody>\n",
       "    <tr>\n",
       "      <th>0_baseline</th>\n",
       "      <td>79.265092</td>\n",
       "      <td>0.811139</td>\n",
       "      <td>0.792651</td>\n",
       "      <td>0.786219</td>\n",
       "    </tr>\n",
       "    <tr>\n",
       "      <th>1_simple_dense</th>\n",
       "      <td>79.133858</td>\n",
       "      <td>0.796653</td>\n",
       "      <td>0.791339</td>\n",
       "      <td>0.788332</td>\n",
       "    </tr>\n",
       "    <tr>\n",
       "      <th>2_lstm</th>\n",
       "      <td>77.034121</td>\n",
       "      <td>0.770395</td>\n",
       "      <td>0.770341</td>\n",
       "      <td>0.769234</td>\n",
       "    </tr>\n",
       "    <tr>\n",
       "      <th>3_gru</th>\n",
       "      <td>75.196850</td>\n",
       "      <td>0.751705</td>\n",
       "      <td>0.751969</td>\n",
       "      <td>0.750880</td>\n",
       "    </tr>\n",
       "    <tr>\n",
       "      <th>4_bidirectional</th>\n",
       "      <td>76.509186</td>\n",
       "      <td>0.770488</td>\n",
       "      <td>0.765092</td>\n",
       "      <td>0.761201</td>\n",
       "    </tr>\n",
       "    <tr>\n",
       "      <th>5_conv1d</th>\n",
       "      <td>75.328084</td>\n",
       "      <td>0.754672</td>\n",
       "      <td>0.753281</td>\n",
       "      <td>0.750903</td>\n",
       "    </tr>\n",
       "    <tr>\n",
       "      <th>6_tf_hub_use_encoder</th>\n",
       "      <td>80.052493</td>\n",
       "      <td>0.800888</td>\n",
       "      <td>0.800525</td>\n",
       "      <td>0.799607</td>\n",
       "    </tr>\n",
       "    <tr>\n",
       "      <th>7_tf_hub_use_encoder_10_percent</th>\n",
       "      <td>98.293963</td>\n",
       "      <td>0.983004</td>\n",
       "      <td>0.982940</td>\n",
       "      <td>0.982929</td>\n",
       "    </tr>\n",
       "    <tr>\n",
       "      <th>8_tf_hub_use_encoder_10_percent_corrected</th>\n",
       "      <td>75.984252</td>\n",
       "      <td>0.759545</td>\n",
       "      <td>0.759843</td>\n",
       "      <td>0.759629</td>\n",
       "    </tr>\n",
       "  </tbody>\n",
       "</table>\n",
       "</div>"
      ],
      "text/plain": [
       "                                            accuracy  precision    recall  \\\n",
       "0_baseline                                 79.265092   0.811139  0.792651   \n",
       "1_simple_dense                             79.133858   0.796653  0.791339   \n",
       "2_lstm                                     77.034121   0.770395  0.770341   \n",
       "3_gru                                      75.196850   0.751705  0.751969   \n",
       "4_bidirectional                            76.509186   0.770488  0.765092   \n",
       "5_conv1d                                   75.328084   0.754672  0.753281   \n",
       "6_tf_hub_use_encoder                       80.052493   0.800888  0.800525   \n",
       "7_tf_hub_use_encoder_10_percent            98.293963   0.983004  0.982940   \n",
       "8_tf_hub_use_encoder_10_percent_corrected  75.984252   0.759545  0.759843   \n",
       "\n",
       "                                                 f1  \n",
       "0_baseline                                 0.786219  \n",
       "1_simple_dense                             0.788332  \n",
       "2_lstm                                     0.769234  \n",
       "3_gru                                      0.750880  \n",
       "4_bidirectional                            0.761201  \n",
       "5_conv1d                                   0.750903  \n",
       "6_tf_hub_use_encoder                       0.799607  \n",
       "7_tf_hub_use_encoder_10_percent            0.982929  \n",
       "8_tf_hub_use_encoder_10_percent_corrected  0.759629  "
      ]
     },
     "execution_count": 123,
     "metadata": {},
     "output_type": "execute_result"
    }
   ],
   "source": [
    "#compare the models\n",
    "# Combine model results into a DataFrame\n",
    "\n",
    "all_model_results = pd.DataFrame({\"0_baseline\": baseline_results,\n",
    "                                  \"1_simple_dense\": model_1_results,\n",
    "                                  \"2_lstm\": model_2_results,\n",
    "                                  \"3_gru\": model_3_results,\n",
    "                                  \"4_bidirectional\": model_4_results,\n",
    "                                  \"5_conv1d\": model_5_results,\n",
    "                                  \"6_tf_hub_use_encoder\": model_6_results,\n",
    "                                  \"6_tf_hub_use_encoder\": model_6_results,\n",
    "                                  \"7_tf_hub_use_encoder_10_percent\": model_7_1_results,\n",
    "                                  \"8_tf_hub_use_encoder_10_percent_corrected\": model_8_results})\n",
    "all_model_results = all_model_results.transpose()\n",
    "all_model_results"
   ]
  },
  {
   "cell_type": "code",
   "execution_count": 124,
   "id": "46dd460c-f71d-4730-b9c1-cb8b3e0909fc",
   "metadata": {
    "tags": []
   },
   "outputs": [],
   "source": [
    "all_model_results[\"accuracy\"] = all_model_results[\"accuracy\"]/100"
   ]
  },
  {
   "cell_type": "code",
   "execution_count": 125,
   "id": "8ec7c4a3-ec4e-4467-895b-7dcc9a456cd1",
   "metadata": {
    "tags": []
   },
   "outputs": [
    {
     "data": {
      "image/png": "[encoded data removed]",
      "text/plain": [
       "<Figure size 1000x700 with 1 Axes>"
      ]
     },
     "metadata": {},
     "output_type": "display_data"
    }
   ],
   "source": [
    "all_model_results.plot(kind=\"bar\", figsize=(10, 7)).legend(bbox_to_anchor=(1.0, 1.0));"
   ]
  },
  {
   "cell_type": "code",
   "execution_count": 126,
   "id": "03cfda80-7470-4422-80bf-1238883ac66f",
   "metadata": {
    "tags": []
   },
   "outputs": [
    {
     "data": {
      "text/plain": [
       "<Axes: >"
      ]
     },
     "execution_count": 126,
     "metadata": {},
     "output_type": "execute_result"
    },
    {
     "data": {
      "image/png": "[encoded data removed]",
      "text/plain": [
       "<Figure size 1000x700 with 1 Axes>"
      ]
     },
     "metadata": {},
     "output_type": "display_data"
    }
   ],
   "source": [
    "#sort model result by f1-score\n",
    "all_model_results.sort_values(\"f1\",ascending=False)[\"f1\"].plot(kind=\"bar\",figsize=(10,7))"
   ]
  },
  {
   "cell_type": "code",
   "execution_count": 127,
   "id": "8a51ea8b-84fb-45dc-82fb-39fb8193aca2",
   "metadata": {
    "tags": []
   },
   "outputs": [
    {
     "name": "stderr",
     "output_type": "stream",
     "text": [
      "C:\\Users\\rishu.nand\\AppData\\Local\\anaconda3\\Lib\\site-packages\\keras\\src\\engine\\training.py:3000: UserWarning: You are saving your model as an HDF5 file via `model.save()`. This file format is considered legacy. We recommend using instead the native Keras format, e.g. `model.save('my_model.keras')`.\n",
      "  saving_api.save_model(\n"
     ]
    }
   ],
   "source": [
    "model_6_2.save(\"model_6_2.h5\")"
   ]
  },
  {
   "cell_type": "code",
   "execution_count": 128,
   "id": "86934cdb-a09f-4fd4-995c-545cf5423f51",
   "metadata": {
    "tags": []
   },
   "outputs": [],
   "source": [
    "#Load model with custome hub layer\n",
    "import tensorflow_hub as hub\n",
    "#loaded_model_6_2 = tf.keras.models.load_model(\"model_6_2.h5\",custom_objects={\"kerasLayer\":hub.KerasLayer})\n",
    "loaded_model_6 = tf.keras.models.load_model(\"model_6_2.h5\",\n",
    "                                            custom_objects={\"KerasLayer\": hub.KerasLayer})"
   ]
  },
  {
   "cell_type": "code",
   "execution_count": 129,
   "id": "9608e43c-e3ab-495c-99b6-69a4575a11e2",
   "metadata": {
    "tags": []
   },
   "outputs": [
    {
     "name": "stdout",
     "output_type": "stream",
     "text": [
      "24/24 [==============================] - 14s 95ms/step - loss: 0.6169 - accuracy: 0.8018\n"
     ]
    },
    {
     "data": {
      "text/plain": [
       "[0.6169169545173645, 0.8018372654914856]"
      ]
     },
     "execution_count": 129,
     "metadata": {},
     "output_type": "execute_result"
    }
   ],
   "source": [
    "#loaded model evaluation\n",
    "loaded_model_6.evaluate(val_sen,val_lab)"
   ]
  },
  {
   "cell_type": "code",
   "execution_count": 130,
   "id": "085591c5-c50c-4e7c-9b23-d2ceb5de1670",
   "metadata": {
    "tags": []
   },
   "outputs": [
    {
     "name": "stdout",
     "output_type": "stream",
     "text": [
      "24/24 [==============================] - 17s 565ms/step - loss: 0.6169 - accuracy: 0.8018\n"
     ]
    },
    {
     "data": {
      "text/plain": [
       "[0.6169169545173645, 0.8018372654914856]"
      ]
     },
     "execution_count": 130,
     "metadata": {},
     "output_type": "execute_result"
    }
   ],
   "source": [
    "model_6_2.evaluate(val_sen,val_lab)"
   ]
  },
  {
   "cell_type": "code",
   "execution_count": 131,
   "id": "c6617ab4-de33-4517-9962-705f4f51f143",
   "metadata": {
    "tags": []
   },
   "outputs": [
    {
     "name": "stdout",
     "output_type": "stream",
     "text": [
      "INFO:tensorflow:Assets written to: model_6_SavedModel_format\\assets\n"
     ]
    },
    {
     "name": "stderr",
     "output_type": "stream",
     "text": [
      "INFO:tensorflow:Assets written to: model_6_SavedModel_format\\assets\n"
     ]
    }
   ],
   "source": [
    "model_6_2.save(\"model_6_SavedModel_format\")"
   ]
  },
  {
   "cell_type": "markdown",
   "id": "b424edac-dc4f-413f-ae45-05815ec4e8b3",
   "metadata": {},
   "source": [
    "RANDOM PREDICTIONS"
   ]
  },
  {
   "cell_type": "code",
   "execution_count": 135,
   "id": "ed0f8ca7-a9c9-44bd-9acd-f147f806cd2e",
   "metadata": {
    "tags": []
   },
   "outputs": [],
   "source": [
    "tweet_1 = \"Life like an ensemble: take the best choices from others and make your own\""
   ]
  },
  {
   "cell_type": "code",
   "execution_count": 136,
   "id": "cee5e283-9b74-4673-a8a0-0f3bf7ae0f15",
   "metadata": {
    "tags": []
   },
   "outputs": [],
   "source": [
    "def predict_on_sentence(model, sentence):\n",
    "    pred_prob = model.predict([sentence])\n",
    "    pred_label = tf.squeeze(tf.round(pred_prob)).numpy()\n",
    "    print(f\"Pred: {pred_label}\", \"(real disaster)\" if pred_label > 0 else \"(not real disaster)\", f\"Prob: {pred_prob[0][0]}\")\n",
    "    print(f\"Text:\\n{sentence}\")"
   ]
  },
  {
   "cell_type": "code",
   "execution_count": 140,
   "id": "a36bd871-268c-49fa-a98f-1390ba3fb624",
   "metadata": {
    "tags": []
   },
   "outputs": [
    {
     "name": "stdout",
     "output_type": "stream",
     "text": [
      "1/1 [==============================] - 0s 74ms/step\n",
      "Pred: 0.0 (not real disaster) Prob: 0.11318046599626541\n",
      "Text:\n",
      "Life like an ensemble: take the best choices from others and make your own\n"
     ]
    }
   ],
   "source": [
    "predict_on_sentence(model=model_6, \n",
    "                    sentence=tweet_1)"
   ]
  },
  {
   "cell_type": "code",
   "execution_count": 138,
   "id": "a01733fe-a6c7-4254-a8a5-68bb855b9561",
   "metadata": {
    "tags": []
   },
   "outputs": [
    {
     "name": "stdout",
     "output_type": "stream",
     "text": [
      "1/1 [==============================] - 1s 841ms/step\n",
      "Pred: 1.0 (real disaster) Prob: 0.7620930075645447\n",
      "Text:\n",
      "Reports that the smoke in Beirut sky contains nitric acid, which is toxic. Please share and refrain from stepping outside unless urgent. #Lebanon\n"
     ]
    }
   ],
   "source": [
    "# Source - https://twitter.com/BeirutCityGuide/status/1290696551376007168\n",
    "beirut_tweet_1 = \"Reports that the smoke in Beirut sky contains nitric acid, which is toxic. Please share and refrain from stepping outside unless urgent. #Lebanon\"\n",
    "\n",
    "# Source - https://twitter.com/BeirutCityGuide/status/1290773498743476224\n",
    "beirut_tweet_2 = \"#Beirut declared a “devastated city”, two-week state of emergency officially declared. #Lebanon\"\n",
    "\n",
    "# Predict on diaster Tweet 1\n",
    "predict_on_sentence(model=model_6, \n",
    "                    sentence=beirut_tweet_1)"
   ]
  },
  {
   "cell_type": "code",
   "execution_count": 139,
   "id": "c23e8557-7f08-457b-a810-16aa4e0bc807",
   "metadata": {
    "tags": []
   },
   "outputs": [
    {
     "name": "stdout",
     "output_type": "stream",
     "text": [
      "1/1 [==============================] - 0s 248ms/step\n",
      "Pred: 1.0 (real disaster) Prob: 0.8164536952972412\n",
      "Text:\n",
      "#Beirut declared a “devastated city”, two-week state of emergency officially declared. #Lebanon\n"
     ]
    }
   ],
   "source": [
    "predict_on_sentence(model=model_6, \n",
    "                    sentence=beirut_tweet_2)"
   ]
  },
  {
   "cell_type": "code",
   "execution_count": null,
   "id": "9f6d85a4-6370-4f2f-bab2-61c2bf132f64",
   "metadata": {},
   "outputs": [],
   "source": []
  }
 ],
 "metadata": {
  "kernelspec": {
   "display_name": "Python 3 (ipykernel)",
   "language": "python",
   "name": "python3"
  },
  "language_info": {
   "codemirror_mode": {
    "name": "ipython",
    "version": 3
   },
   "file_extension": ".py",
   "mimetype": "text/x-python",
   "name": "python",
   "nbconvert_exporter": "python",
   "pygments_lexer": "ipython3",
   "version": "3.11.4"
  }
 },
 "nbformat": 4,
 "nbformat_minor": 5
}
